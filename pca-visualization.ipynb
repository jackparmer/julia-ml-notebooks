{
 "cells": [
  {
   "cell_type": "markdown",
   "id": "e5b6c9a1",
   "metadata": {},
   "source": [
    "# PCA Visualization in Julia\n",
    "\n",
    "**Packages Used:** PlotlyJS, DataFrames, Tables, MLJ, MultivariateStats, MLJMultivariateStatsInterface\n",
    "\n",
    "**Note:** The examples below are encapsulated in functions since it is best practice in Julia."
   ]
  },
  {
   "cell_type": "markdown",
   "id": "41307775",
   "metadata": {},
   "source": [
    "## Visualize all the original dimensions with a Scatter Plot Matrix\n",
    "For datasets with more than 3 dimensions, it is convenient to use **PlotlyJS**'s `splom` trace.\n",
    "We can see all the dimensions here.\n",
    "We pull the iris dataset with **PlotlyJS**'s `dataset` and plot with `splom`."
   ]
  },
  {
   "cell_type": "code",
   "execution_count": 1,
   "id": "865e1f61",
   "metadata": {},
   "outputs": [
    {
     "data": {
      "application/vnd.webio.node+json": {
       "children": [],
       "instanceArgs": {
        "namespace": "html",
        "tag": "div"
       },
       "nodeType": "DOM",
       "props": {},
       "type": "node"
      },
      "text/html": [
       "<div style=\"padding: 1em; background-color: #f8d6da; border: 1px solid #f5c6cb; font-weight: bold;\">\n",
       "<p>The WebIO Jupyter extension was not detected. See the\n",
       "<a href=\"https://juliagizmos.github.io/WebIO.jl/latest/providers/ijulia/\" target=\"_blank\">\n",
       "    WebIO Jupyter integration documentation\n",
       "</a>\n",
       "for more information.\n",
       "</div>\n"
      ],
      "text/plain": [
       "WebIO._IJuliaInit()"
      ]
     },
     "metadata": {
      "application/vnd.webio.node+json": {
       "kernelId": "443f4432-67c8-4b20-bbbc-0fcba7052fd1"
      }
     },
     "output_type": "display_data"
    },
    {
     "data": {
      "application/vnd.plotly.v1+json": {
       "config": {
        "editable": false,
        "responsive": true,
        "scrollZoom": true,
        "showLink": false,
        "staticPlot": false
       },
       "data": [
        {
         "diagonal": {
          "visible": false
         },
         "dimensions": [
          {
           "axis": {
            "matches": true
           },
           "label": "petal_length",
           "values": [
            1.4,
            1.4,
            1.3,
            1.5,
            1.4,
            1.7,
            1.4,
            1.5,
            1.4,
            1.5,
            1.5,
            1.6,
            1.4,
            1.1,
            1.2,
            1.5,
            1.3,
            1.4,
            1.7,
            1.5,
            1.7,
            1.5,
            1,
            1.7,
            1.9,
            1.6,
            1.6,
            1.5,
            1.4,
            1.6,
            1.6,
            1.5,
            1.5,
            1.4,
            1.5,
            1.2,
            1.3,
            1.5,
            1.3,
            1.5,
            1.3,
            1.3,
            1.3,
            1.6,
            1.9,
            1.4,
            1.6,
            1.4,
            1.5,
            1.4
           ]
          },
          {
           "axis": {
            "matches": true
           },
           "label": "petal_width",
           "values": [
            0.2,
            0.2,
            0.2,
            0.2,
            0.2,
            0.4,
            0.3,
            0.2,
            0.2,
            0.1,
            0.2,
            0.2,
            0.1,
            0.1,
            0.2,
            0.4,
            0.4,
            0.3,
            0.3,
            0.3,
            0.2,
            0.4,
            0.2,
            0.5,
            0.2,
            0.2,
            0.4,
            0.2,
            0.2,
            0.2,
            0.2,
            0.4,
            0.1,
            0.2,
            0.1,
            0.2,
            0.2,
            0.1,
            0.2,
            0.2,
            0.3,
            0.3,
            0.2,
            0.6,
            0.4,
            0.3,
            0.2,
            0.2,
            0.2,
            0.2
           ]
          },
          {
           "axis": {
            "matches": true
           },
           "label": "sepal_length",
           "values": [
            5.1,
            4.9,
            4.7,
            4.6,
            5,
            5.4,
            4.6,
            5,
            4.4,
            4.9,
            5.4,
            4.8,
            4.8,
            4.3,
            5.8,
            5.7,
            5.4,
            5.1,
            5.7,
            5.1,
            5.4,
            5.1,
            4.6,
            5.1,
            4.8,
            5,
            5,
            5.2,
            5.2,
            4.7,
            4.8,
            5.4,
            5.2,
            5.5,
            4.9,
            5,
            5.5,
            4.9,
            4.4,
            5.1,
            5,
            4.5,
            4.4,
            5,
            5.1,
            4.8,
            5.1,
            4.6,
            5.3,
            5
           ]
          },
          {
           "axis": {
            "matches": true
           },
           "label": "sepal_width",
           "values": [
            3.5,
            3,
            3.2,
            3.1,
            3.6,
            3.9,
            3.4,
            3.4,
            2.9,
            3.1,
            3.7,
            3.4,
            3,
            3,
            4,
            4.4,
            3.9,
            3.5,
            3.8,
            3.8,
            3.4,
            3.7,
            3.6,
            3.3,
            3.4,
            3,
            3.4,
            3.5,
            3.4,
            3.2,
            3.1,
            3.4,
            4.1,
            4.2,
            3.1,
            3.2,
            3.5,
            3.1,
            3,
            3.4,
            3.5,
            2.3,
            3.2,
            3.5,
            3.8,
            3,
            3.8,
            3.2,
            3.7,
            3.3
           ]
          }
         ],
         "legendgroup": "setosa",
         "marker": {
          "color": "#636efa"
         },
         "name": "setosa",
         "opacity": 0.65,
         "showlegend": true,
         "type": "splom",
         "xaxis": "x",
         "yaxis": "y"
        },
        {
         "diagonal": {
          "visible": false
         },
         "dimensions": [
          {
           "axis": {
            "matches": true
           },
           "label": "petal_length",
           "values": [
            4.7,
            4.5,
            4.9,
            4,
            4.6,
            4.5,
            4.7,
            3.3,
            4.6,
            3.9,
            3.5,
            4.2,
            4,
            4.7,
            3.6,
            4.4,
            4.5,
            4.1,
            4.5,
            3.9,
            4.8,
            4,
            4.9,
            4.7,
            4.3,
            4.4,
            4.8,
            5,
            4.5,
            3.5,
            3.8,
            3.7,
            3.9,
            5.1,
            4.5,
            4.5,
            4.7,
            4.4,
            4.1,
            4,
            4.4,
            4.6,
            4,
            3.3,
            4.2,
            4.2,
            4.2,
            4.3,
            3,
            4.1
           ]
          },
          {
           "axis": {
            "matches": true
           },
           "label": "petal_width",
           "values": [
            1.4,
            1.5,
            1.5,
            1.3,
            1.5,
            1.3,
            1.6,
            1,
            1.3,
            1.4,
            1,
            1.5,
            1,
            1.4,
            1.3,
            1.4,
            1.5,
            1,
            1.5,
            1.1,
            1.8,
            1.3,
            1.5,
            1.2,
            1.3,
            1.4,
            1.4,
            1.7,
            1.5,
            1,
            1.1,
            1,
            1.2,
            1.6,
            1.5,
            1.6,
            1.5,
            1.3,
            1.3,
            1.3,
            1.2,
            1.4,
            1.2,
            1,
            1.3,
            1.2,
            1.3,
            1.3,
            1.1,
            1.3
           ]
          },
          {
           "axis": {
            "matches": true
           },
           "label": "sepal_length",
           "values": [
            7,
            6.4,
            6.9,
            5.5,
            6.5,
            5.7,
            6.3,
            4.9,
            6.6,
            5.2,
            5,
            5.9,
            6,
            6.1,
            5.6,
            6.7,
            5.6,
            5.8,
            6.2,
            5.6,
            5.9,
            6.1,
            6.3,
            6.1,
            6.4,
            6.6,
            6.8,
            6.7,
            6,
            5.7,
            5.5,
            5.5,
            5.8,
            6,
            5.4,
            6,
            6.7,
            6.3,
            5.6,
            5.5,
            5.5,
            6.1,
            5.8,
            5,
            5.6,
            5.7,
            5.7,
            6.2,
            5.1,
            5.7
           ]
          },
          {
           "axis": {
            "matches": true
           },
           "label": "sepal_width",
           "values": [
            3.2,
            3.2,
            3.1,
            2.3,
            2.8,
            2.8,
            3.3,
            2.4,
            2.9,
            2.7,
            2,
            3,
            2.2,
            2.9,
            2.9,
            3.1,
            3,
            2.7,
            2.2,
            2.5,
            3.2,
            2.8,
            2.5,
            2.8,
            2.9,
            3,
            2.8,
            3,
            2.9,
            2.6,
            2.4,
            2.4,
            2.7,
            2.7,
            3,
            3.4,
            3.1,
            2.3,
            3,
            2.5,
            2.6,
            3,
            2.6,
            2.3,
            2.7,
            3,
            2.9,
            2.9,
            2.5,
            2.8
           ]
          }
         ],
         "legendgroup": "versicolor",
         "marker": {
          "color": "#EF553B"
         },
         "name": "versicolor",
         "opacity": 0.65,
         "showlegend": true,
         "type": "splom",
         "xaxis": "x",
         "yaxis": "y"
        },
        {
         "diagonal": {
          "visible": false
         },
         "dimensions": [
          {
           "axis": {
            "matches": true
           },
           "label": "petal_length",
           "values": [
            6,
            5.1,
            5.9,
            5.6,
            5.8,
            6.6,
            4.5,
            6.3,
            5.8,
            6.1,
            5.1,
            5.3,
            5.5,
            5,
            5.1,
            5.3,
            5.5,
            6.7,
            6.9,
            5,
            5.7,
            4.9,
            6.7,
            4.9,
            5.7,
            6,
            4.8,
            4.9,
            5.6,
            5.8,
            6.1,
            6.4,
            5.6,
            5.1,
            5.6,
            6.1,
            5.6,
            5.5,
            4.8,
            5.4,
            5.6,
            5.1,
            5.1,
            5.9,
            5.7,
            5.2,
            5,
            5.2,
            5.4,
            5.1
           ]
          },
          {
           "axis": {
            "matches": true
           },
           "label": "petal_width",
           "values": [
            2.5,
            1.9,
            2.1,
            1.8,
            2.2,
            2.1,
            1.7,
            1.8,
            1.8,
            2.5,
            2,
            1.9,
            2.1,
            2,
            2.4,
            2.3,
            1.8,
            2.2,
            2.3,
            1.5,
            2.3,
            2,
            2,
            1.8,
            2.1,
            1.8,
            1.8,
            1.8,
            2.1,
            1.6,
            1.9,
            2,
            2.2,
            1.5,
            1.4,
            2.3,
            2.4,
            1.8,
            1.8,
            2.1,
            2.4,
            2.3,
            1.9,
            2.3,
            2.5,
            2.3,
            1.9,
            2,
            2.3,
            1.8
           ]
          },
          {
           "axis": {
            "matches": true
           },
           "label": "sepal_length",
           "values": [
            6.3,
            5.8,
            7.1,
            6.3,
            6.5,
            7.6,
            4.9,
            7.3,
            6.7,
            7.2,
            6.5,
            6.4,
            6.8,
            5.7,
            5.8,
            6.4,
            6.5,
            7.7,
            7.7,
            6,
            6.9,
            5.6,
            7.7,
            6.3,
            6.7,
            7.2,
            6.2,
            6.1,
            6.4,
            7.2,
            7.4,
            7.9,
            6.4,
            6.3,
            6.1,
            7.7,
            6.3,
            6.4,
            6,
            6.9,
            6.7,
            6.9,
            5.8,
            6.8,
            6.7,
            6.7,
            6.3,
            6.5,
            6.2,
            5.9
           ]
          },
          {
           "axis": {
            "matches": true
           },
           "label": "sepal_width",
           "values": [
            3.3,
            2.7,
            3,
            2.9,
            3,
            3,
            2.5,
            2.9,
            2.5,
            3.6,
            3.2,
            2.7,
            3,
            2.5,
            2.8,
            3.2,
            3,
            3.8,
            2.6,
            2.2,
            3.2,
            2.8,
            2.8,
            2.7,
            3.3,
            3.2,
            2.8,
            3,
            2.8,
            3,
            2.8,
            3.8,
            2.8,
            2.8,
            2.6,
            3,
            3.4,
            3.1,
            3,
            3.1,
            3.1,
            3.1,
            2.7,
            3.2,
            3.3,
            3,
            2.5,
            3,
            3.4,
            3
           ]
          }
         ],
         "legendgroup": "virginica",
         "marker": {
          "color": "#00cc96"
         },
         "name": "virginica",
         "opacity": 0.65,
         "showlegend": true,
         "type": "splom",
         "xaxis": "x",
         "yaxis": "y"
        }
       ],
       "frames": [],
       "layout": {
        "dragmode": "select",
        "font": {
         "color": "Black",
         "family": "Courier New",
         "size": 9
        },
        "legend": {
         "title": {
          "text": "species"
         },
         "tracegroupgap": 0
        },
        "margin": {
         "b": 50,
         "l": 50,
         "r": 50,
         "t": 60
        },
        "template": {
         "data": {
          "bar": [
           {
            "error_x": {
             "color": "#2a3f5f"
            },
            "error_y": {
             "color": "#2a3f5f"
            },
            "marker": {
             "line": {
              "color": "#E5ECF6",
              "width": 0.5
             }
            },
            "type": "bar"
           }
          ],
          "barpolar": [
           {
            "marker": {
             "line": {
              "color": "#E5ECF6",
              "width": 0.5
             }
            },
            "type": "barpolar"
           }
          ],
          "carpet": [
           {
            "aaxis": {
             "endlinecolor": "#2a3f5f",
             "gridcolor": "white",
             "linecolor": "white",
             "minorgridcolor": "white",
             "startlinecolor": "#2a3f5f"
            },
            "baxis": {
             "endlinecolor": "#2a3f5f",
             "gridcolor": "white",
             "linecolor": "white",
             "minorgridcolor": "white",
             "startlinecolor": "#2a3f5f"
            },
            "type": "carpet"
           }
          ],
          "choropleth": [
           {
            "colorbar": {
             "outlinewidth": 0,
             "ticks": ""
            },
            "type": "choropleth"
           }
          ],
          "contour": [
           {
            "colorbar": {
             "outlinewidth": 0,
             "ticks": ""
            },
            "colorscale": [
             [
              0,
              "#0d0887"
             ],
             [
              0.1111111111111111,
              "#46039f"
             ],
             [
              0.2222222222222222,
              "#7201a8"
             ],
             [
              0.3333333333333333,
              "#9c179e"
             ],
             [
              0.4444444444444444,
              "#bd3786"
             ],
             [
              0.5555555555555556,
              "#d8576b"
             ],
             [
              0.6666666666666666,
              "#ed7953"
             ],
             [
              0.7777777777777778,
              "#fb9f3a"
             ],
             [
              0.8888888888888888,
              "#fdca26"
             ],
             [
              1,
              "#f0f921"
             ]
            ],
            "type": "contour"
           }
          ],
          "contourcarpet": [
           {
            "colorbar": {
             "outlinewidth": 0,
             "ticks": ""
            },
            "type": "contourcarpet"
           }
          ],
          "heatmap": [
           {
            "colorbar": {
             "outlinewidth": 0,
             "ticks": ""
            },
            "colorscale": [
             [
              0,
              "#0d0887"
             ],
             [
              0.1111111111111111,
              "#46039f"
             ],
             [
              0.2222222222222222,
              "#7201a8"
             ],
             [
              0.3333333333333333,
              "#9c179e"
             ],
             [
              0.4444444444444444,
              "#bd3786"
             ],
             [
              0.5555555555555556,
              "#d8576b"
             ],
             [
              0.6666666666666666,
              "#ed7953"
             ],
             [
              0.7777777777777778,
              "#fb9f3a"
             ],
             [
              0.8888888888888888,
              "#fdca26"
             ],
             [
              1,
              "#f0f921"
             ]
            ],
            "type": "heatmap"
           }
          ],
          "heatmapgl": [
           {
            "colorbar": {
             "outlinewidth": 0,
             "ticks": ""
            },
            "colorscale": [
             [
              0,
              "#0d0887"
             ],
             [
              0.1111111111111111,
              "#46039f"
             ],
             [
              0.2222222222222222,
              "#7201a8"
             ],
             [
              0.3333333333333333,
              "#9c179e"
             ],
             [
              0.4444444444444444,
              "#bd3786"
             ],
             [
              0.5555555555555556,
              "#d8576b"
             ],
             [
              0.6666666666666666,
              "#ed7953"
             ],
             [
              0.7777777777777778,
              "#fb9f3a"
             ],
             [
              0.8888888888888888,
              "#fdca26"
             ],
             [
              1,
              "#f0f921"
             ]
            ],
            "type": "heatmapgl"
           }
          ],
          "histogram": [
           {
            "marker": {
             "colorbar": {
              "outlinewidth": 0,
              "ticks": ""
             }
            },
            "type": "histogram"
           }
          ],
          "histogram2d": [
           {
            "colorbar": {
             "outlinewidth": 0,
             "ticks": ""
            },
            "colorscale": [
             [
              0,
              "#0d0887"
             ],
             [
              0.1111111111111111,
              "#46039f"
             ],
             [
              0.2222222222222222,
              "#7201a8"
             ],
             [
              0.3333333333333333,
              "#9c179e"
             ],
             [
              0.4444444444444444,
              "#bd3786"
             ],
             [
              0.5555555555555556,
              "#d8576b"
             ],
             [
              0.6666666666666666,
              "#ed7953"
             ],
             [
              0.7777777777777778,
              "#fb9f3a"
             ],
             [
              0.8888888888888888,
              "#fdca26"
             ],
             [
              1,
              "#f0f921"
             ]
            ],
            "type": "histogram2d"
           }
          ],
          "histogram2dcontour": [
           {
            "colorbar": {
             "outlinewidth": 0,
             "ticks": ""
            },
            "colorscale": [
             [
              0,
              "#0d0887"
             ],
             [
              0.1111111111111111,
              "#46039f"
             ],
             [
              0.2222222222222222,
              "#7201a8"
             ],
             [
              0.3333333333333333,
              "#9c179e"
             ],
             [
              0.4444444444444444,
              "#bd3786"
             ],
             [
              0.5555555555555556,
              "#d8576b"
             ],
             [
              0.6666666666666666,
              "#ed7953"
             ],
             [
              0.7777777777777778,
              "#fb9f3a"
             ],
             [
              0.8888888888888888,
              "#fdca26"
             ],
             [
              1,
              "#f0f921"
             ]
            ],
            "type": "histogram2dcontour"
           }
          ],
          "mesh3d": [
           {
            "colorbar": {
             "outlinewidth": 0,
             "ticks": ""
            },
            "type": "mesh3d"
           }
          ],
          "parcoords": [
           {
            "line": {
             "colorbar": {
              "outlinewidth": 0,
              "ticks": ""
             }
            },
            "type": "parcoords"
           }
          ],
          "pie": [
           {
            "automargin": true,
            "type": "pie"
           }
          ],
          "scatter": [
           {
            "marker": {
             "colorbar": {
              "outlinewidth": 0,
              "ticks": ""
             }
            },
            "type": "scatter"
           }
          ],
          "scatter3d": [
           {
            "line": {
             "colorbar": {
              "outlinewidth": 0,
              "ticks": ""
             }
            },
            "marker": {
             "colorbar": {
              "outlinewidth": 0,
              "ticks": ""
             }
            },
            "type": "scatter3d"
           }
          ],
          "scattercarpet": [
           {
            "marker": {
             "colorbar": {
              "outlinewidth": 0,
              "ticks": ""
             }
            },
            "type": "scattercarpet"
           }
          ],
          "scattergeo": [
           {
            "marker": {
             "colorbar": {
              "outlinewidth": 0,
              "ticks": ""
             }
            },
            "type": "scattergeo"
           }
          ],
          "scattergl": [
           {
            "marker": {
             "colorbar": {
              "outlinewidth": 0,
              "ticks": ""
             }
            },
            "type": "scattergl"
           }
          ],
          "scattermapbox": [
           {
            "marker": {
             "colorbar": {
              "outlinewidth": 0,
              "ticks": ""
             }
            },
            "type": "scattermapbox"
           }
          ],
          "scatterpolar": [
           {
            "marker": {
             "colorbar": {
              "outlinewidth": 0,
              "ticks": ""
             }
            },
            "type": "scatterpolar"
           }
          ],
          "scatterpolargl": [
           {
            "marker": {
             "colorbar": {
              "outlinewidth": 0,
              "ticks": ""
             }
            },
            "type": "scatterpolargl"
           }
          ],
          "scatterternary": [
           {
            "marker": {
             "colorbar": {
              "outlinewidth": 0,
              "ticks": ""
             }
            },
            "type": "scatterternary"
           }
          ],
          "surface": [
           {
            "colorbar": {
             "outlinewidth": 0,
             "ticks": ""
            },
            "colorscale": [
             [
              0,
              "#0d0887"
             ],
             [
              0.1111111111111111,
              "#46039f"
             ],
             [
              0.2222222222222222,
              "#7201a8"
             ],
             [
              0.3333333333333333,
              "#9c179e"
             ],
             [
              0.4444444444444444,
              "#bd3786"
             ],
             [
              0.5555555555555556,
              "#d8576b"
             ],
             [
              0.6666666666666666,
              "#ed7953"
             ],
             [
              0.7777777777777778,
              "#fb9f3a"
             ],
             [
              0.8888888888888888,
              "#fdca26"
             ],
             [
              1,
              "#f0f921"
             ]
            ],
            "type": "surface"
           }
          ],
          "table": [
           {
            "cells": {
             "fill": {
              "color": "#EBF0F8"
             },
             "line": {
              "color": "white"
             }
            },
            "header": {
             "fill": {
              "color": "#C8D4E3"
             },
             "line": {
              "color": "white"
             }
            },
            "type": "table"
           }
          ]
         },
         "layout": {
          "annotationdefaults": {
           "arrowcolor": "#2a3f5f",
           "arrowhead": 0,
           "arrowwidth": 1
          },
          "autotypenumbers": "strict",
          "coloraxis": {
           "colorbar": {
            "outlinewidth": 0,
            "ticks": ""
           }
          },
          "colorscale": {
           "diverging": [
            [
             0,
             "#8e0152"
            ],
            [
             0.1,
             "#c51b7d"
            ],
            [
             0.2,
             "#de77ae"
            ],
            [
             0.3,
             "#f1b6da"
            ],
            [
             0.4,
             "#fde0ef"
            ],
            [
             0.5,
             "#f7f7f7"
            ],
            [
             0.6,
             "#e6f5d0"
            ],
            [
             0.7,
             "#b8e186"
            ],
            [
             0.8,
             "#7fbc41"
            ],
            [
             0.9,
             "#4d9221"
            ],
            [
             1,
             "#276419"
            ]
           ],
           "sequential": [
            [
             0,
             "#0d0887"
            ],
            [
             0.1111111111111111,
             "#46039f"
            ],
            [
             0.2222222222222222,
             "#7201a8"
            ],
            [
             0.3333333333333333,
             "#9c179e"
            ],
            [
             0.4444444444444444,
             "#bd3786"
            ],
            [
             0.5555555555555556,
             "#d8576b"
            ],
            [
             0.6666666666666666,
             "#ed7953"
            ],
            [
             0.7777777777777778,
             "#fb9f3a"
            ],
            [
             0.8888888888888888,
             "#fdca26"
            ],
            [
             1,
             "#f0f921"
            ]
           ],
           "sequentialminus": [
            [
             0,
             "#0d0887"
            ],
            [
             0.1111111111111111,
             "#46039f"
            ],
            [
             0.2222222222222222,
             "#7201a8"
            ],
            [
             0.3333333333333333,
             "#9c179e"
            ],
            [
             0.4444444444444444,
             "#bd3786"
            ],
            [
             0.5555555555555556,
             "#d8576b"
            ],
            [
             0.6666666666666666,
             "#ed7953"
            ],
            [
             0.7777777777777778,
             "#fb9f3a"
            ],
            [
             0.8888888888888888,
             "#fdca26"
            ],
            [
             1,
             "#f0f921"
            ]
           ]
          },
          "colorway": [
           "#636efa",
           "#EF553B",
           "#00cc96",
           "#ab63fa",
           "#FFA15A",
           "#19d3f3",
           "#FF6692",
           "#B6E880",
           "#FF97FF",
           "#FECB52"
          ],
          "font": {
           "color": "#2a3f5f"
          },
          "geo": {
           "bgcolor": "white",
           "lakecolor": "white",
           "landcolor": "#E5ECF6",
           "showlakes": true,
           "showland": true,
           "subunitcolor": "white"
          },
          "hoverlabel": {
           "align": "left"
          },
          "hovermode": "closest",
          "mapbox": {
           "style": "light"
          },
          "paper_bgcolor": "white",
          "plot_bgcolor": "#E5ECF6",
          "polar": {
           "angularaxis": {
            "gridcolor": "white",
            "linecolor": "white",
            "ticks": ""
           },
           "bgcolor": "#E5ECF6",
           "radialaxis": {
            "gridcolor": "white",
            "linecolor": "white",
            "ticks": ""
           }
          },
          "scene": {
           "xaxis": {
            "backgroundcolor": "#E5ECF6",
            "gridcolor": "white",
            "gridwidth": 2,
            "linecolor": "white",
            "showbackground": true,
            "ticks": "",
            "zerolinecolor": "white"
           },
           "yaxis": {
            "backgroundcolor": "#E5ECF6",
            "gridcolor": "white",
            "gridwidth": 2,
            "linecolor": "white",
            "showbackground": true,
            "ticks": "",
            "zerolinecolor": "white"
           },
           "zaxis": {
            "backgroundcolor": "#E5ECF6",
            "gridcolor": "white",
            "gridwidth": 2,
            "linecolor": "white",
            "showbackground": true,
            "ticks": "",
            "zerolinecolor": "white"
           }
          },
          "shapedefaults": {
           "line": {
            "color": "#2a3f5f"
           }
          },
          "ternary": {
           "aaxis": {
            "gridcolor": "white",
            "linecolor": "white",
            "ticks": ""
           },
           "baxis": {
            "gridcolor": "white",
            "linecolor": "white",
            "ticks": ""
           },
           "bgcolor": "#E5ECF6",
           "caxis": {
            "gridcolor": "white",
            "linecolor": "white",
            "ticks": ""
           }
          },
          "title": {
           "x": 0.05
          },
          "xaxis": {
           "automargin": true,
           "gridcolor": "white",
           "linecolor": "white",
           "ticks": "",
           "title": {
            "standoff": 15
           },
           "zerolinecolor": "white",
           "zerolinewidth": 2
          },
          "yaxis": {
           "automargin": true,
           "gridcolor": "white",
           "linecolor": "white",
           "ticks": "",
           "title": {
            "standoff": 15
           },
           "zerolinecolor": "white",
           "zerolinewidth": 2
          }
         }
        }
       }
      },
      "text/html": [
       "<html>\n",
       "<head><meta chartset=\"utf-8\" /></head>\n",
       "<body>\n",
       "<div>\n",
       "    <script src=\"https://cdnjs.cloudflare.com/ajax/libs/mathjax/2.7.5/MathJax.js?config=TeX-AMS-MML_SVG\"></script>\n",
       "    <script type=\"text/javascript\">\n",
       "window.PlotlyConfig = {MathJaxConfig: 'local'};\n",
       "</script>\n",
       "<script type=\"text/javascript\">\n",
       "if (window.MathJax) {MathJax.Hub.Config({SVG: {font: \"STIX-Web\"}});}\n",
       "</script>\n",
       "<script type=\"text/javascript\">\n",
       "    if (typeof require !== 'undefined') {\n",
       "        require.undef(\"plotly\");\n",
       "        requirejs.config({\n",
       "            paths: {\n",
       "                'plotly': ['https://cdn.plot.ly/plotly-2.3.0.min']\n",
       "            }\n",
       "        });\n",
       "        require(['plotly'], function(Plotly) {\n",
       "            window._Plotly = Plotly;\n",
       "        });\n",
       "    }\n",
       "</script>\n",
       "\n",
       "    <div\n",
       "        id=b85d2e94-4884-4ad1-b32e-240e43bf50d3\n",
       "        class=\"plotly-graph-div\"\n",
       "        style=\"height:100%; width:100%;\">\n",
       "    </div>\n",
       "    <script type=\"text/javascript\">\n",
       "        require([\"plotly\"], function(Plotly) {\n",
       "        window.PLOTLYENV = window.PLOTLYENV || {}\n",
       "        \n",
       "        if (document.getElementById('b85d2e94-4884-4ad1-b32e-240e43bf50d3')) {\n",
       "    Plotly.newPlot(\n",
       "        'b85d2e94-4884-4ad1-b32e-240e43bf50d3',\n",
       "        [{\"showlegend\":true,\"xaxis\":\"x\",\"type\":\"splom\",\"name\":\"setosa\",\"opacity\":0.65,\"yaxis\":\"y\",\"legendgroup\":\"setosa\",\"dimensions\":[{\"values\":[1.4,1.4,1.3,1.5,1.4,1.7,1.4,1.5,1.4,1.5,1.5,1.6,1.4,1.1,1.2,1.5,1.3,1.4,1.7,1.5,1.7,1.5,1,1.7,1.9,1.6,1.6,1.5,1.4,1.6,1.6,1.5,1.5,1.4,1.5,1.2,1.3,1.5,1.3,1.5,1.3,1.3,1.3,1.6,1.9,1.4,1.6,1.4,1.5,1.4],\"label\":\"petal_length\",\"axis\":{\"matches\":true}},{\"values\":[0.2,0.2,0.2,0.2,0.2,0.4,0.3,0.2,0.2,0.1,0.2,0.2,0.1,0.1,0.2,0.4,0.4,0.3,0.3,0.3,0.2,0.4,0.2,0.5,0.2,0.2,0.4,0.2,0.2,0.2,0.2,0.4,0.1,0.2,0.1,0.2,0.2,0.1,0.2,0.2,0.3,0.3,0.2,0.6,0.4,0.3,0.2,0.2,0.2,0.2],\"label\":\"petal_width\",\"axis\":{\"matches\":true}},{\"values\":[5.1,4.9,4.7,4.6,5,5.4,4.6,5,4.4,4.9,5.4,4.8,4.8,4.3,5.8,5.7,5.4,5.1,5.7,5.1,5.4,5.1,4.6,5.1,4.8,5,5,5.2,5.2,4.7,4.8,5.4,5.2,5.5,4.9,5,5.5,4.9,4.4,5.1,5,4.5,4.4,5,5.1,4.8,5.1,4.6,5.3,5],\"label\":\"sepal_length\",\"axis\":{\"matches\":true}},{\"values\":[3.5,3,3.2,3.1,3.6,3.9,3.4,3.4,2.9,3.1,3.7,3.4,3,3,4,4.4,3.9,3.5,3.8,3.8,3.4,3.7,3.6,3.3,3.4,3,3.4,3.5,3.4,3.2,3.1,3.4,4.1,4.2,3.1,3.2,3.5,3.1,3,3.4,3.5,2.3,3.2,3.5,3.8,3,3.8,3.2,3.7,3.3],\"label\":\"sepal_width\",\"axis\":{\"matches\":true}}],\"diagonal\":{\"visible\":false},\"marker\":{\"color\":\"#636efa\"}},{\"showlegend\":true,\"xaxis\":\"x\",\"type\":\"splom\",\"name\":\"versicolor\",\"opacity\":0.65,\"yaxis\":\"y\",\"legendgroup\":\"versicolor\",\"dimensions\":[{\"values\":[4.7,4.5,4.9,4,4.6,4.5,4.7,3.3,4.6,3.9,3.5,4.2,4,4.7,3.6,4.4,4.5,4.1,4.5,3.9,4.8,4,4.9,4.7,4.3,4.4,4.8,5,4.5,3.5,3.8,3.7,3.9,5.1,4.5,4.5,4.7,4.4,4.1,4,4.4,4.6,4,3.3,4.2,4.2,4.2,4.3,3,4.1],\"label\":\"petal_length\",\"axis\":{\"matches\":true}},{\"values\":[1.4,1.5,1.5,1.3,1.5,1.3,1.6,1,1.3,1.4,1,1.5,1,1.4,1.3,1.4,1.5,1,1.5,1.1,1.8,1.3,1.5,1.2,1.3,1.4,1.4,1.7,1.5,1,1.1,1,1.2,1.6,1.5,1.6,1.5,1.3,1.3,1.3,1.2,1.4,1.2,1,1.3,1.2,1.3,1.3,1.1,1.3],\"label\":\"petal_width\",\"axis\":{\"matches\":true}},{\"values\":[7,6.4,6.9,5.5,6.5,5.7,6.3,4.9,6.6,5.2,5,5.9,6,6.1,5.6,6.7,5.6,5.8,6.2,5.6,5.9,6.1,6.3,6.1,6.4,6.6,6.8,6.7,6,5.7,5.5,5.5,5.8,6,5.4,6,6.7,6.3,5.6,5.5,5.5,6.1,5.8,5,5.6,5.7,5.7,6.2,5.1,5.7],\"label\":\"sepal_length\",\"axis\":{\"matches\":true}},{\"values\":[3.2,3.2,3.1,2.3,2.8,2.8,3.3,2.4,2.9,2.7,2,3,2.2,2.9,2.9,3.1,3,2.7,2.2,2.5,3.2,2.8,2.5,2.8,2.9,3,2.8,3,2.9,2.6,2.4,2.4,2.7,2.7,3,3.4,3.1,2.3,3,2.5,2.6,3,2.6,2.3,2.7,3,2.9,2.9,2.5,2.8],\"label\":\"sepal_width\",\"axis\":{\"matches\":true}}],\"diagonal\":{\"visible\":false},\"marker\":{\"color\":\"#EF553B\"}},{\"showlegend\":true,\"xaxis\":\"x\",\"type\":\"splom\",\"name\":\"virginica\",\"opacity\":0.65,\"yaxis\":\"y\",\"legendgroup\":\"virginica\",\"dimensions\":[{\"values\":[6,5.1,5.9,5.6,5.8,6.6,4.5,6.3,5.8,6.1,5.1,5.3,5.5,5,5.1,5.3,5.5,6.7,6.9,5,5.7,4.9,6.7,4.9,5.7,6,4.8,4.9,5.6,5.8,6.1,6.4,5.6,5.1,5.6,6.1,5.6,5.5,4.8,5.4,5.6,5.1,5.1,5.9,5.7,5.2,5,5.2,5.4,5.1],\"label\":\"petal_length\",\"axis\":{\"matches\":true}},{\"values\":[2.5,1.9,2.1,1.8,2.2,2.1,1.7,1.8,1.8,2.5,2,1.9,2.1,2,2.4,2.3,1.8,2.2,2.3,1.5,2.3,2,2,1.8,2.1,1.8,1.8,1.8,2.1,1.6,1.9,2,2.2,1.5,1.4,2.3,2.4,1.8,1.8,2.1,2.4,2.3,1.9,2.3,2.5,2.3,1.9,2,2.3,1.8],\"label\":\"petal_width\",\"axis\":{\"matches\":true}},{\"values\":[6.3,5.8,7.1,6.3,6.5,7.6,4.9,7.3,6.7,7.2,6.5,6.4,6.8,5.7,5.8,6.4,6.5,7.7,7.7,6,6.9,5.6,7.7,6.3,6.7,7.2,6.2,6.1,6.4,7.2,7.4,7.9,6.4,6.3,6.1,7.7,6.3,6.4,6,6.9,6.7,6.9,5.8,6.8,6.7,6.7,6.3,6.5,6.2,5.9],\"label\":\"sepal_length\",\"axis\":{\"matches\":true}},{\"values\":[3.3,2.7,3,2.9,3,3,2.5,2.9,2.5,3.6,3.2,2.7,3,2.5,2.8,3.2,3,3.8,2.6,2.2,3.2,2.8,2.8,2.7,3.3,3.2,2.8,3,2.8,3,2.8,3.8,2.8,2.8,2.6,3,3.4,3.1,3,3.1,3.1,3.1,2.7,3.2,3.3,3,2.5,3,3.4,3],\"label\":\"sepal_width\",\"axis\":{\"matches\":true}}],\"diagonal\":{\"visible\":false},\"marker\":{\"color\":\"#00cc96\"}}],\n",
       "        {\"font\":{\"color\":\"Black\",\"family\":\"Courier New\",\"size\":9},\"template\":{\"layout\":{\"coloraxis\":{\"colorbar\":{\"ticks\":\"\",\"outlinewidth\":0}},\"xaxis\":{\"gridcolor\":\"white\",\"zerolinewidth\":2,\"title\":{\"standoff\":15},\"ticks\":\"\",\"zerolinecolor\":\"white\",\"automargin\":true,\"linecolor\":\"white\"},\"hovermode\":\"closest\",\"paper_bgcolor\":\"white\",\"geo\":{\"showlakes\":true,\"showland\":true,\"landcolor\":\"#E5ECF6\",\"bgcolor\":\"white\",\"subunitcolor\":\"white\",\"lakecolor\":\"white\"},\"colorscale\":{\"sequential\":[[0.0,\"#0d0887\"],[0.1111111111111111,\"#46039f\"],[0.2222222222222222,\"#7201a8\"],[0.3333333333333333,\"#9c179e\"],[0.4444444444444444,\"#bd3786\"],[0.5555555555555556,\"#d8576b\"],[0.6666666666666666,\"#ed7953\"],[0.7777777777777778,\"#fb9f3a\"],[0.8888888888888888,\"#fdca26\"],[1.0,\"#f0f921\"]],\"diverging\":[[0,\"#8e0152\"],[0.1,\"#c51b7d\"],[0.2,\"#de77ae\"],[0.3,\"#f1b6da\"],[0.4,\"#fde0ef\"],[0.5,\"#f7f7f7\"],[0.6,\"#e6f5d0\"],[0.7,\"#b8e186\"],[0.8,\"#7fbc41\"],[0.9,\"#4d9221\"],[1,\"#276419\"]],\"sequentialminus\":[[0.0,\"#0d0887\"],[0.1111111111111111,\"#46039f\"],[0.2222222222222222,\"#7201a8\"],[0.3333333333333333,\"#9c179e\"],[0.4444444444444444,\"#bd3786\"],[0.5555555555555556,\"#d8576b\"],[0.6666666666666666,\"#ed7953\"],[0.7777777777777778,\"#fb9f3a\"],[0.8888888888888888,\"#fdca26\"],[1.0,\"#f0f921\"]]},\"yaxis\":{\"gridcolor\":\"white\",\"zerolinewidth\":2,\"title\":{\"standoff\":15},\"ticks\":\"\",\"zerolinecolor\":\"white\",\"automargin\":true,\"linecolor\":\"white\"},\"shapedefaults\":{\"line\":{\"color\":\"#2a3f5f\"}},\"hoverlabel\":{\"align\":\"left\"},\"mapbox\":{\"style\":\"light\"},\"polar\":{\"angularaxis\":{\"gridcolor\":\"white\",\"ticks\":\"\",\"linecolor\":\"white\"},\"bgcolor\":\"#E5ECF6\",\"radialaxis\":{\"gridcolor\":\"white\",\"ticks\":\"\",\"linecolor\":\"white\"}},\"autotypenumbers\":\"strict\",\"font\":{\"color\":\"#2a3f5f\"},\"ternary\":{\"baxis\":{\"gridcolor\":\"white\",\"ticks\":\"\",\"linecolor\":\"white\"},\"bgcolor\":\"#E5ECF6\",\"caxis\":{\"gridcolor\":\"white\",\"ticks\":\"\",\"linecolor\":\"white\"},\"aaxis\":{\"gridcolor\":\"white\",\"ticks\":\"\",\"linecolor\":\"white\"}},\"annotationdefaults\":{\"arrowhead\":0,\"arrowwidth\":1,\"arrowcolor\":\"#2a3f5f\"},\"plot_bgcolor\":\"#E5ECF6\",\"title\":{\"x\":0.05},\"scene\":{\"xaxis\":{\"gridcolor\":\"white\",\"gridwidth\":2,\"backgroundcolor\":\"#E5ECF6\",\"ticks\":\"\",\"showbackground\":true,\"zerolinecolor\":\"white\",\"linecolor\":\"white\"},\"zaxis\":{\"gridcolor\":\"white\",\"gridwidth\":2,\"backgroundcolor\":\"#E5ECF6\",\"ticks\":\"\",\"showbackground\":true,\"zerolinecolor\":\"white\",\"linecolor\":\"white\"},\"yaxis\":{\"gridcolor\":\"white\",\"gridwidth\":2,\"backgroundcolor\":\"#E5ECF6\",\"ticks\":\"\",\"showbackground\":true,\"zerolinecolor\":\"white\",\"linecolor\":\"white\"}},\"colorway\":[\"#636efa\",\"#EF553B\",\"#00cc96\",\"#ab63fa\",\"#FFA15A\",\"#19d3f3\",\"#FF6692\",\"#B6E880\",\"#FF97FF\",\"#FECB52\"]},\"data\":{\"barpolar\":[{\"type\":\"barpolar\",\"marker\":{\"line\":{\"color\":\"#E5ECF6\",\"width\":0.5}}}],\"carpet\":[{\"aaxis\":{\"gridcolor\":\"white\",\"endlinecolor\":\"#2a3f5f\",\"minorgridcolor\":\"white\",\"startlinecolor\":\"#2a3f5f\",\"linecolor\":\"white\"},\"type\":\"carpet\",\"baxis\":{\"gridcolor\":\"white\",\"endlinecolor\":\"#2a3f5f\",\"minorgridcolor\":\"white\",\"startlinecolor\":\"#2a3f5f\",\"linecolor\":\"white\"}}],\"scatterpolar\":[{\"type\":\"scatterpolar\",\"marker\":{\"colorbar\":{\"ticks\":\"\",\"outlinewidth\":0}}}],\"parcoords\":[{\"line\":{\"colorbar\":{\"ticks\":\"\",\"outlinewidth\":0}},\"type\":\"parcoords\"}],\"scatter\":[{\"type\":\"scatter\",\"marker\":{\"colorbar\":{\"ticks\":\"\",\"outlinewidth\":0}}}],\"histogram2dcontour\":[{\"colorbar\":{\"ticks\":\"\",\"outlinewidth\":0},\"type\":\"histogram2dcontour\",\"colorscale\":[[0.0,\"#0d0887\"],[0.1111111111111111,\"#46039f\"],[0.2222222222222222,\"#7201a8\"],[0.3333333333333333,\"#9c179e\"],[0.4444444444444444,\"#bd3786\"],[0.5555555555555556,\"#d8576b\"],[0.6666666666666666,\"#ed7953\"],[0.7777777777777778,\"#fb9f3a\"],[0.8888888888888888,\"#fdca26\"],[1.0,\"#f0f921\"]]}],\"contour\":[{\"colorbar\":{\"ticks\":\"\",\"outlinewidth\":0},\"type\":\"contour\",\"colorscale\":[[0.0,\"#0d0887\"],[0.1111111111111111,\"#46039f\"],[0.2222222222222222,\"#7201a8\"],[0.3333333333333333,\"#9c179e\"],[0.4444444444444444,\"#bd3786\"],[0.5555555555555556,\"#d8576b\"],[0.6666666666666666,\"#ed7953\"],[0.7777777777777778,\"#fb9f3a\"],[0.8888888888888888,\"#fdca26\"],[1.0,\"#f0f921\"]]}],\"scattercarpet\":[{\"type\":\"scattercarpet\",\"marker\":{\"colorbar\":{\"ticks\":\"\",\"outlinewidth\":0}}}],\"mesh3d\":[{\"colorbar\":{\"ticks\":\"\",\"outlinewidth\":0},\"type\":\"mesh3d\"}],\"surface\":[{\"colorbar\":{\"ticks\":\"\",\"outlinewidth\":0},\"type\":\"surface\",\"colorscale\":[[0.0,\"#0d0887\"],[0.1111111111111111,\"#46039f\"],[0.2222222222222222,\"#7201a8\"],[0.3333333333333333,\"#9c179e\"],[0.4444444444444444,\"#bd3786\"],[0.5555555555555556,\"#d8576b\"],[0.6666666666666666,\"#ed7953\"],[0.7777777777777778,\"#fb9f3a\"],[0.8888888888888888,\"#fdca26\"],[1.0,\"#f0f921\"]]}],\"scattermapbox\":[{\"type\":\"scattermapbox\",\"marker\":{\"colorbar\":{\"ticks\":\"\",\"outlinewidth\":0}}}],\"scattergeo\":[{\"type\":\"scattergeo\",\"marker\":{\"colorbar\":{\"ticks\":\"\",\"outlinewidth\":0}}}],\"histogram\":[{\"type\":\"histogram\",\"marker\":{\"colorbar\":{\"ticks\":\"\",\"outlinewidth\":0}}}],\"pie\":[{\"type\":\"pie\",\"automargin\":true}],\"choropleth\":[{\"colorbar\":{\"ticks\":\"\",\"outlinewidth\":0},\"type\":\"choropleth\"}],\"heatmapgl\":[{\"colorbar\":{\"ticks\":\"\",\"outlinewidth\":0},\"type\":\"heatmapgl\",\"colorscale\":[[0.0,\"#0d0887\"],[0.1111111111111111,\"#46039f\"],[0.2222222222222222,\"#7201a8\"],[0.3333333333333333,\"#9c179e\"],[0.4444444444444444,\"#bd3786\"],[0.5555555555555556,\"#d8576b\"],[0.6666666666666666,\"#ed7953\"],[0.7777777777777778,\"#fb9f3a\"],[0.8888888888888888,\"#fdca26\"],[1.0,\"#f0f921\"]]}],\"bar\":[{\"type\":\"bar\",\"error_y\":{\"color\":\"#2a3f5f\"},\"error_x\":{\"color\":\"#2a3f5f\"},\"marker\":{\"line\":{\"color\":\"#E5ECF6\",\"width\":0.5}}}],\"heatmap\":[{\"colorbar\":{\"ticks\":\"\",\"outlinewidth\":0},\"type\":\"heatmap\",\"colorscale\":[[0.0,\"#0d0887\"],[0.1111111111111111,\"#46039f\"],[0.2222222222222222,\"#7201a8\"],[0.3333333333333333,\"#9c179e\"],[0.4444444444444444,\"#bd3786\"],[0.5555555555555556,\"#d8576b\"],[0.6666666666666666,\"#ed7953\"],[0.7777777777777778,\"#fb9f3a\"],[0.8888888888888888,\"#fdca26\"],[1.0,\"#f0f921\"]]}],\"contourcarpet\":[{\"colorbar\":{\"ticks\":\"\",\"outlinewidth\":0},\"type\":\"contourcarpet\"}],\"table\":[{\"type\":\"table\",\"header\":{\"line\":{\"color\":\"white\"},\"fill\":{\"color\":\"#C8D4E3\"}},\"cells\":{\"line\":{\"color\":\"white\"},\"fill\":{\"color\":\"#EBF0F8\"}}}],\"scatter3d\":[{\"line\":{\"colorbar\":{\"ticks\":\"\",\"outlinewidth\":0}},\"type\":\"scatter3d\",\"marker\":{\"colorbar\":{\"ticks\":\"\",\"outlinewidth\":0}}}],\"scattergl\":[{\"type\":\"scattergl\",\"marker\":{\"colorbar\":{\"ticks\":\"\",\"outlinewidth\":0}}}],\"histogram2d\":[{\"colorbar\":{\"ticks\":\"\",\"outlinewidth\":0},\"type\":\"histogram2d\",\"colorscale\":[[0.0,\"#0d0887\"],[0.1111111111111111,\"#46039f\"],[0.2222222222222222,\"#7201a8\"],[0.3333333333333333,\"#9c179e\"],[0.4444444444444444,\"#bd3786\"],[0.5555555555555556,\"#d8576b\"],[0.6666666666666666,\"#ed7953\"],[0.7777777777777778,\"#fb9f3a\"],[0.8888888888888888,\"#fdca26\"],[1.0,\"#f0f921\"]]}],\"scatterternary\":[{\"type\":\"scatterternary\",\"marker\":{\"colorbar\":{\"ticks\":\"\",\"outlinewidth\":0}}}],\"scatterpolargl\":[{\"type\":\"scatterpolargl\",\"marker\":{\"colorbar\":{\"ticks\":\"\",\"outlinewidth\":0}}}]}},\"legend\":{\"tracegroupgap\":0,\"title\":{\"text\":\"species\"}},\"margin\":{\"l\":50,\"b\":50,\"r\":50,\"t\":60},\"dragmode\":\"select\"},\n",
       "        {\"editable\":false,\"responsive\":true,\"staticPlot\":false,\"scrollZoom\":true},\n",
       "    )\n",
       "}\n",
       "\n",
       "        });\n",
       "    </script>\n",
       "</div>\n",
       "\n",
       "</body>\n",
       "</html>"
      ],
      "text/plain": [
       "data: [\n",
       "  \"splom with fields diagonal, dimensions, legendgroup, marker, name, opacity, showlegend, type, xaxis, and yaxis\",\n",
       "  \"splom with fields diagonal, dimensions, legendgroup, marker, name, opacity, showlegend, type, xaxis, and yaxis\",\n",
       "  \"splom with fields diagonal, dimensions, legendgroup, marker, name, opacity, showlegend, type, xaxis, and yaxis\"\n",
       "]\n",
       "\n",
       "layout: \"layout with fields dragmode, font, legend, margin, and template\"\n",
       "\n"
      ]
     },
     "execution_count": 1,
     "metadata": {},
     "output_type": "execute_result"
    }
   ],
   "source": [
    "using PlotlyJS\n",
    "using DataFrames: DataFrame\n",
    "\n",
    "function display_iris_all_dimensions()\n",
    "    df = DataFrame(dataset(\"iris\"))\n",
    "    axes = [:petal_length, :petal_width, :sepal_length, :sepal_width]\n",
    "    \n",
    "    layout = Layout(font=attr(family=\"Courier New\", size=9,color=\"Black\"))\n",
    "    Plot(df, layout; dimensions=axes, color=:species, kind=\"splom\", opacity=0.65)\n",
    "end\n",
    "\n",
    "display_iris_all_dimensions()"
   ]
  },
  {
   "cell_type": "markdown",
   "id": "0365511c",
   "metadata": {},
   "source": [
    "# Visualize all the principal components\n",
    "To see the effects of PCA, we plot a `splom` of the iris dataset.\n",
    "For the PCA model, we will use the **MultivariateStats**. \n",
    "**MLJ** interfaces with **MultivariateStats** via a special package, **MLJMultivariateStatsInterface**, so note the `@load` macro used to load the PCA model.\n",
    "Nevertheless, we use the `machine` binding of `MLJ` to set up the model and fit it.\n",
    "The `pratio` is a hyperparameter of **PCA** that determines the amount of variance to explain.\n",
    "Of course the output dimension of the iris dataset from PCA is ridiculous (the output dimensions is the same as the feature dimension), but one can see that for `x3` and `x4` dimensions, one cane see that the PCA lacks predictive power."
   ]
  },
  {
   "cell_type": "code",
   "execution_count": 2,
   "id": "075544d7",
   "metadata": {},
   "outputs": [
    {
     "name": "stderr",
     "output_type": "stream",
     "text": [
      "┌ Info: Training Machine{PCA,…}.\n",
      "└ @ MLJBase /home/markus/.julia/packages/MLJBase/HZmTU/src/machines.jl:403\n"
     ]
    },
    {
     "data": {
      "application/vnd.plotly.v1+json": {
       "config": {
        "editable": false,
        "responsive": true,
        "scrollZoom": true,
        "showLink": false,
        "staticPlot": false
       },
       "data": [
        {
         "diagonal": {
          "visible": false
         },
         "dimensions": [
          {
           "axis": {
            "matches": true
           },
           "label": "x1",
           "values": [
            2.6842071251039514,
            2.7153906156341336,
            2.8898195396179194,
            2.7464371973087376,
            2.728592981831318,
            2.2798973610096,
            2.820890682180633,
            2.6264819933238224,
            2.887958565335637,
            2.6738446867191237,
            2.5065267893389063,
            2.613142718271059,
            2.7874339759971,
            3.2252004462749833,
            2.6435432169411492,
            2.383869323799378,
            2.6225262031258114,
            2.6483227324791296,
            2.199077961430765,
            2.587346188917741,
            2.310531701313136,
            2.5432349073036984,
            3.2158576949001088,
            2.3031285376638846,
            2.3561710866839007,
            2.507917226837883,
            2.469055997545126,
            2.5623909468367536,
            2.639821268376585,
            2.6328479080307607,
            2.5884620513033942,
            2.410077337121599,
            2.6476366733969035,
            2.5971594770759214,
            2.6738446867191237,
            2.8669998469325373,
            2.6252284646804243,
            2.6738446867191237,
            2.9818426648539114,
            2.5903230255856773,
            2.7701389107463275,
            2.852211081566395,
            2.998296442832354,
            2.4055141012847043,
            2.2088329541767084,
            2.715665190747457,
            2.5375733710135098,
            2.8403212968270117,
            2.542685757077052,
            2.7039123148636532
           ]
          },
          {
           "axis": {
            "matches": true
           },
           "label": "x2",
           "values": [
            0.3266073147643875,
            -0.16955684755602707,
            -0.13734560960502812,
            -0.311124315751992,
            0.33392456356845457,
            0.7477827132251331,
            -0.08210451102468086,
            0.17040534896028953,
            -0.5707980263315919,
            -0.1066917037527392,
            0.6519350136725713,
            0.02152063196025794,
            -0.22774018887110709,
            -0.5032799094854262,
            1.1861948994134481,
            1.344754344559862,
            0.8180896745965945,
            0.31913666775088406,
            0.8792440880917356,
            0.5204736388059679,
            0.39786782158889106,
            0.4400317546598151,
            0.14161557162558353,
            0.10552267842998153,
            -0.031209589068337984,
            -0.13905633991317495,
            0.13788731459041736,
            0.3746845627501055,
            0.31929006596032095,
            -0.19007583063362415,
            -0.19739307943769133,
            0.418080008247615,
            0.8199826325595072,
            1.1000219280072683,
            -0.1066917037527392,
            0.07719309572358606,
            0.606800008421585,
            -0.1066917037527392,
            -0.48025004885607675,
            0.2360593372888723,
            0.2710594197651666,
            -0.9328653674695462,
            -0.33430757459077703,
            0.19591725769606044,
            0.44269603042100325,
            -0.24268148289811386,
            0.5103675454766059,
            -0.22057633827647682,
            0.586281025343988,
            0.115010852170505
           ]
          },
          {
           "axis": {
            "matches": true
           },
           "label": "x3",
           "values": [
            0.021511837001963685,
            0.20352142500549025,
            -0.024709240998956897,
            -0.037671975285300724,
            -0.09622969977460755,
            -0.1743256190164007,
            -0.26425108519069557,
            0.01580151026431631,
            -0.027335406114507688,
            0.1915332997356455,
            0.06927499581393304,
            -0.10765035324990285,
            0.20032778809538948,
            -0.06841362917233078,
            0.14450570400963725,
            -0.28373066393977386,
            -0.14531598882161706,
            -0.033394254070697627,
            0.11452146479835507,
            -0.2195720880008229,
            0.233695607097971,
            -0.21483637027967445,
            -0.2996189815108705,
            -0.04568004127448777,
            -0.12940757589599045,
            0.24711633789085974,
            -0.10126307942970203,
            0.07235915743602961,
            0.13925337377853547,
            -0.04646646364504471,
            0.07127507313152662,
            0.13838824005004036,
            -0.23058560425416819,
            -0.16358191262365895,
            0.1915332997356455,
            0.15684235049802359,
            0.26116315648170607,
            0.1915332997356455,
            -0.07972480735962166,
            0.07390123824707767,
            -0.08424157450476305,
            0.3409614911071476,
            -0.19900842494724147,
            -0.2707170703688342,
            -0.3034878092682676,
            0.0905156059500671,
            -0.17191840447685763,
            -0.0900613765304147,
            0.011175267831171176,
            0.08269572660682217
           ]
          },
          {
           "axis": {
            "matches": true
           },
           "label": "x4",
           "values": [
            -0.0010061572415442366,
            -0.09960242401682091,
            -0.019304542832511436,
            0.07595527410853446,
            0.0631287327171075,
            0.02714680369789918,
            0.05009962506285018,
            0.04628176096650713,
            0.026615414325655208,
            0.05589096599605185,
            0.01660824782447995,
            0.15770456913321076,
            0.0072350867381154975,
            0.02194666412340655,
            -0.15698096151652935,
            -0.0019261817096672407,
            -0.16474079123407742,
            -0.07611821327962592,
            -0.025326939656380304,
            0.06908199117875952,
            0.015323739565076738,
            -0.03843950010111921,
            -0.001857043347450238,
            -0.1472454996404013,
            0.3016202653321929,
            -0.03538408126768723,
            -0.05597045237666201,
            0.015240286774594936,
            -0.06514104720019626,
            0.12461115336647105,
            0.06047626340781935,
            -0.230844169977075,
            0.2848089542634593,
            0.09895807058361716,
            0.05589096599605185,
            -0.16245280571606935,
            -0.17587987484195725,
            0.05589096599605185,
            0.011052950834458158,
            0.014556306249652595,
            -0.09236465729576562,
            -0.3226506066130582,
            0.07587182131805253,
            -0.1737851292110281,
            0.1858575300726542,
            -0.14298902533804778,
            0.19216594594983544,
            0.06039281061733764,
            0.04833370254133476,
            -0.03409957300828406
           ]
          }
         ],
         "legendgroup": "setosa",
         "marker": {
          "color": "#636efa"
         },
         "name": "setosa",
         "opacity": 0.65,
         "showlegend": true,
         "type": "splom",
         "xaxis": "x",
         "yaxis": "y"
        },
        {
         "diagonal": {
          "visible": false
         },
         "dimensions": [
          {
           "axis": {
            "matches": true
           },
           "label": "x1",
           "values": [
            -1.2847945878450686,
            -0.9324107529829146,
            -1.4640613227790722,
            -0.1809672063476957,
            -1.087134487206998,
            -0.6404367495231422,
            -1.0952237099384752,
            0.75146714064823,
            -1.0432977807062782,
            0.010190070727856364,
            0.5110861958950936,
            -0.5110980606834744,
            -0.2623357561531773,
            -0.9840445451694279,
            0.17486400196569918,
            -0.9275729420326968,
            -0.6595927890561973,
            -0.23454058625983248,
            -0.9423617073988391,
            -0.04324640032870165,
            -1.1162407237538126,
            -0.35678656783045826,
            -1.2964688502855308,
            -0.9205026489090061,
            -0.7140082136428302,
            -0.8996408632837732,
            -1.3310414188547168,
            -1.557396272070699,
            -0.8124555489979989,
            0.3073347556634073,
            0.07034288894927461,
            0.19188449210314867,
            -0.1349949504513703,
            -1.3787369827755798,
            -0.5872748535799076,
            -0.8072054966767133,
            -1.2204289662446766,
            -0.8128677903690669,
            -0.24519516169034286,
            -0.16451342836925278,
            -0.463030988871421,
            -0.8901604456511533,
            -0.2288790499696446,
            0.7070812839208636,
            -0.3555330391870604,
            -0.33112694733271963,
            -0.37523822894676273,
            -0.6416902781665401,
            0.9084633331234981,
            -0.29780790740693097
           ]
          },
          {
           "axis": {
            "matches": true
           },
           "label": "x2",
           "values": [
            0.685439186132919,
            0.31919808983364845,
            0.5041898329724522,
            -0.8256039435761139,
            0.07539038928876651,
            -0.4173234829700254,
            0.28389121093848046,
            -1.0011075129743943,
            0.22895690877700597,
            -0.7205748667019014,
            -1.2624919538621413,
            -0.1022841050459704,
            -0.5478932980253381,
            -0.12436042022227793,
            -0.25181557108017094,
            0.4682362050431162,
            -0.35197629106031586,
            -0.3319218293621206,
            -0.5418222581500156,
            -0.5814894466123592,
            -0.08421401387837275,
            -0.06682382794136704,
            -0.32756151979494497,
            -0.182390363327921,
            0.15037915314843636,
            0.32961097958188296,
            0.24466952060228814,
            0.26739258481276423,
            -0.16233157487863342,
            -0.3650866127661613,
            -0.7025379317307265,
            -0.6774905443743579,
            -0.31170964270339674,
            -0.4212051382146281,
            -0.4832842677174814,
            0.19505396377111212,
            0.40803533700101685,
            -0.3706789983189113,
            -0.26672803566184766,
            -0.6796614693108141,
            -0.6695265465361222,
            -0.033812442746762664,
            -0.402257620178912,
            -1.0084247617784614,
            -0.5032184874026624,
            -0.21118014066262636,
            -0.2916220248087796,
            0.0190711764912702,
            -0.7515687251694863,
            -0.347016521598564
           ]
          },
          {
           "axis": {
            "matches": true
           },
           "label": "x3",
           "values": [
            0.40612955307696463,
            0.017129909205126095,
            0.33826072771796023,
            0.17708285639336252,
            0.30654446481443126,
            -0.04118876935364299,
            -0.1700225337414984,
            -0.015672194238161852,
            0.414814566148705,
            -0.2834372462541269,
            0.26648995382244717,
            -0.13232789047497423,
            0.6919415783189635,
            0.06215742761354015,
            -0.0936586381919518,
            0.3132294005685776,
            -0.32838429706934696,
            0.2702806708356951,
            0.49734854117770144,
            0.23296355648252223,
            -0.4598442265727529,
            0.2274721803208824,
            0.3475132125842497,
            0.2316114185526724,
            0.3203723328292699,
            0.3147714813796257,
            0.5212449247379852,
            0.1646384908522287,
            -0.03634357634449062,
            0.315337196938919,
            0.2417580448422667,
            0.3039165434636238,
            0.17497330378776454,
            -0.015480495121707571,
            -0.4445837530348697,
            -0.38945871138620114,
            0.2365660868498288,
            0.6128710500606713,
            -0.18956248472924114,
            0.05779923880574267,
            0.024053890889810442,
            0.009768026368426178,
            0.2273627050328786,
            0.10206934253840949,
            -0.017889465896507556,
            -0.08380907322251395,
            -0.07907335550136527,
            0.2041728768637467,
            0.007736584506977451,
            -0.012179139158859431
           ]
          },
          {
           "axis": {
            "matches": true
           },
           "label": "x4",
           "values": [
            -0.019290116855348767,
            6.757941709088777e-06,
            0.0008576440476151699,
            -0.09578444837158065,
            -0.11338453900934031,
            0.24267131206866635,
            0.08497338932826753,
            0.016510592154630604,
            0.03752355359176563,
            0.005945701975096335,
            -0.04890880606342424,
            -0.05010053515659424,
            -0.06148498908340594,
            0.16901066987095173,
            -0.1249408865696286,
            -0.10043888414556428,
            0.18899152519295223,
            0.21198499529228315,
            -0.2606366850425531,
            0.03956118073832829,
            0.07721355961071956,
            -0.1240900004637227,
            -0.003246239102039694,
            0.2868253467053179,
            -0.042941233173507475,
            -0.10112286467050659,
            -0.037505049655834205,
            -0.07035309510364203,
            0.029680271083736283,
            -0.07653037763062395,
            -0.009094698519608452,
            0.018045458785479335,
            -0.03418291424986823,
            0.17758073696002474,
            0.2524424346266613,
            0.11661539125464035,
            -0.03163524398466376,
            -0.1577004911744413,
            0.1473280423371389,
            -0.03096557788798629,
            0.26844350832386926,
            0.15344820637975456,
            -0.018620450758671275,
            -0.04762429780402114,
            0.09807163534474184,
            0.23868654239136014,
            0.13116505111148125,
            0.0205096762602019,
            -0.23355863427434526,
            0.05078371713668969
           ]
          }
         ],
         "legendgroup": "versicolor",
         "marker": {
          "color": "#EF553B"
         },
         "name": "versicolor",
         "opacity": 0.65,
         "showlegend": true,
         "type": "splom",
         "xaxis": "x",
         "yaxis": "y"
        },
        {
         "diagonal": {
          "visible": false
         },
         "dimensions": [
          {
           "axis": {
            "matches": true
           },
           "label": "x1",
           "values": [
            -2.5317269804395552,
            -1.4140722251737545,
            -2.6164846082840407,
            -1.9708149459064788,
            -2.3497579839509397,
            -3.396879920678135,
            -0.519383245084933,
            -2.9320050969912983,
            -2.3196727938740502,
            -2.918134233644248,
            -1.6619349470194835,
            -1.80234045266073,
            -2.1653788629533945,
            -1.3445942175098216,
            -1.5852672993086407,
            -1.904743578213909,
            -1.9492487818644948,
            -3.4887653796563827,
            -3.7946868612099673,
            -1.2983298245678128,
            -2.428167259020846,
            -1.1980973722749595,
            -3.499265484298954,
            -1.3876682501815527,
            -2.2758536493056916,
            -2.6141938306983312,
            -1.2576251829251333,
            -1.2906696477375983,
            -2.12285398050831,
            -2.387564402369025,
            -2.8409609252853807,
            -3.2323428982958715,
            -2.1587383731331315,
            -1.4431026043759716,
            -1.7796401068985668,
            -3.076521621020659,
            -2.1449868567093007,
            -1.9048629251371285,
            -1.1688534694704003,
            -2.107653731173266,
            -2.3143033946295457,
            -1.9224508848357498,
            -1.4140722251737545,
            -2.563322712340806,
            -2.419391219804978,
            -1.9440170488777344,
            -1.5256636313138694,
            -1.76404593552698,
            -1.9016290752882294,
            -1.3896661333194136
           ]
          },
          {
           "axis": {
            "matches": true
           },
           "label": "x2",
           "values": [
            -0.01184223664029932,
            -0.5749250559123045,
            0.34193528698729425,
            -0.18112569470491324,
            -0.041882549654841575,
            0.547168046230152,
            -1.1913516890506521,
            0.35237700618085954,
            -0.2455481706069107,
            0.7803806293720323,
            0.24203840103752233,
            -0.21615460662653674,
            0.21528028337300675,
            -0.776415425176825,
            -0.5393070538471718,
            0.11881899098269864,
            0.04073025942776802,
            1.1715445442635648,
            0.2532655709725335,
            -0.7610139365215085,
            0.3767819712541524,
            -0.6055789617645939,
            0.45677346696407367,
            -0.20403098657015545,
            0.33338652575664257,
            0.5583669502788222,
            -0.17913699742322325,
            -0.11642525182937234,
            -0.21085488454948992,
            0.46251925072626004,
            0.37274259104902036,
            1.370524035976334,
            -0.21832553156299328,
            -0.14380128908272632,
            -0.501464794706015,
            0.6857644422460553,
            0.13890660887731537,
            0.0480475082318351,
            -0.1645024998150897,
            0.37148224917710526,
            0.18260885079369846,
            0.40927117617869463,
            -0.5749250559123045,
            0.27597450223983827,
            0.303503937702629,
            0.18741522204601319,
            -0.37502084819182385,
            0.07851918642935717,
            0.11587674824796651,
            -0.28288670917226844
           ]
          },
          {
           "axis": {
            "matches": true
           },
           "label": "x3",
           "values": [
            -0.7584586515284953,
            -0.2963982243052143,
            0.11214137055436697,
            -0.10653914864984432,
            -0.2841106808661675,
            0.3518731576273035,
            -0.5466855311249507,
            0.4236912783369,
            0.34992218335904973,
            -0.4217389336137668,
            -0.24281526346759363,
            0.037695328493963676,
            -0.03314818319913408,
            -0.28286801822432117,
            -0.6305704884623295,
            -0.48013807976573025,
            -0.04272909392943518,
            -0.12932008336177042,
            0.516970715993895,
            0.3448870474686988,
            -0.21864907004670597,
            -0.5126407650398166,
            0.5769101867216506,
            0.06351132177864638,
            -0.28467815266071667,
            0.20842334661879663,
            -0.04697780744922869,
            -0.23161356056830634,
            -0.15351588509125602,
            0.45202396144913054,
            0.5010315391382025,
            0.11844877739516274,
            -0.20842197616391722,
            0.15408297110542857,
            0.17581118605670668,
            0.33642274120822274,
            -0.7341847390548604,
            -0.16047063070600645,
            -0.28246088100237177,
            -0.027437856461486193,
            -0.32286040074238453,
            -0.11549281596072067,
            -0.2963982243052143,
            -0.2912536131268596,
            -0.5043025169513613,
            -0.17930287068112993,
            0.12063644074490926,
            -0.13078405342866978,
            -0.7228735608675689,
            -0.3623178316312208
           ]
          },
          {
           "axis": {
            "matches": true
           },
           "label": "x4",
           "values": [
            0.03259956851445578,
            0.015695478279489278,
            -0.06595604952644003,
            0.2368586248818623,
            0.001312724003611692,
            0.11121996802024496,
            0.09879841992578556,
            0.25540736884427456,
            0.07626286251324324,
            -0.10772931947885073,
            -0.11944758456758942,
            -0.07871345255565049,
            -0.1626672803078528,
            -0.14048189225832625,
            -0.327455366669122,
            -0.21711450049899134,
            0.15784525195695612,
            0.31162983793268006,
            -0.056451643540978924,
            0.04267371805612674,
            -0.18385417915128804,
            -0.05950003054907389,
            0.1377595975908719,
            -0.1637635367326903,
            0.062230277600381495,
            0.24044543308753835,
            -0.1476005455070331,
            -0.0030843215735895137,
            -0.052612433191034674,
            0.22990687721411898,
            0.020216625381552694,
            0.25448734437615184,
            -0.12772448922911636,
            0.18992586408933956,
            0.5035294527425072,
            -0.3105890924377435,
            -0.051766535137641734,
            0.2219801419156079,
            -0.019330765589729366,
            -0.20995519851590433,
            -0.2758966597304519,
            -0.5040950067910502,
            0.015695478279489278,
            -0.056184926968444855,
            -0.23821794655194514,
            -0.42508163386614356,
            -0.2557225645213723,
            -0.13629455631818935,
            -0.0408728218486934,
            0.1563103853261074
           ]
          }
         ],
         "legendgroup": "virginica",
         "marker": {
          "color": "#00cc96"
         },
         "name": "virginica",
         "opacity": 0.65,
         "showlegend": true,
         "type": "splom",
         "xaxis": "x",
         "yaxis": "y"
        }
       ],
       "frames": [],
       "layout": {
        "dragmode": "select",
        "font": {
         "color": "Black",
         "family": "Courier New",
         "size": 14
        },
        "legend": {
         "title": {
          "text": "species"
         },
         "tracegroupgap": 0
        },
        "margin": {
         "b": 50,
         "l": 50,
         "r": 50,
         "t": 60
        },
        "template": {
         "data": {
          "bar": [
           {
            "error_x": {
             "color": "#2a3f5f"
            },
            "error_y": {
             "color": "#2a3f5f"
            },
            "marker": {
             "line": {
              "color": "#E5ECF6",
              "width": 0.5
             }
            },
            "type": "bar"
           }
          ],
          "barpolar": [
           {
            "marker": {
             "line": {
              "color": "#E5ECF6",
              "width": 0.5
             }
            },
            "type": "barpolar"
           }
          ],
          "carpet": [
           {
            "aaxis": {
             "endlinecolor": "#2a3f5f",
             "gridcolor": "white",
             "linecolor": "white",
             "minorgridcolor": "white",
             "startlinecolor": "#2a3f5f"
            },
            "baxis": {
             "endlinecolor": "#2a3f5f",
             "gridcolor": "white",
             "linecolor": "white",
             "minorgridcolor": "white",
             "startlinecolor": "#2a3f5f"
            },
            "type": "carpet"
           }
          ],
          "choropleth": [
           {
            "colorbar": {
             "outlinewidth": 0,
             "ticks": ""
            },
            "type": "choropleth"
           }
          ],
          "contour": [
           {
            "colorbar": {
             "outlinewidth": 0,
             "ticks": ""
            },
            "colorscale": [
             [
              0,
              "#0d0887"
             ],
             [
              0.1111111111111111,
              "#46039f"
             ],
             [
              0.2222222222222222,
              "#7201a8"
             ],
             [
              0.3333333333333333,
              "#9c179e"
             ],
             [
              0.4444444444444444,
              "#bd3786"
             ],
             [
              0.5555555555555556,
              "#d8576b"
             ],
             [
              0.6666666666666666,
              "#ed7953"
             ],
             [
              0.7777777777777778,
              "#fb9f3a"
             ],
             [
              0.8888888888888888,
              "#fdca26"
             ],
             [
              1,
              "#f0f921"
             ]
            ],
            "type": "contour"
           }
          ],
          "contourcarpet": [
           {
            "colorbar": {
             "outlinewidth": 0,
             "ticks": ""
            },
            "type": "contourcarpet"
           }
          ],
          "heatmap": [
           {
            "colorbar": {
             "outlinewidth": 0,
             "ticks": ""
            },
            "colorscale": [
             [
              0,
              "#0d0887"
             ],
             [
              0.1111111111111111,
              "#46039f"
             ],
             [
              0.2222222222222222,
              "#7201a8"
             ],
             [
              0.3333333333333333,
              "#9c179e"
             ],
             [
              0.4444444444444444,
              "#bd3786"
             ],
             [
              0.5555555555555556,
              "#d8576b"
             ],
             [
              0.6666666666666666,
              "#ed7953"
             ],
             [
              0.7777777777777778,
              "#fb9f3a"
             ],
             [
              0.8888888888888888,
              "#fdca26"
             ],
             [
              1,
              "#f0f921"
             ]
            ],
            "type": "heatmap"
           }
          ],
          "heatmapgl": [
           {
            "colorbar": {
             "outlinewidth": 0,
             "ticks": ""
            },
            "colorscale": [
             [
              0,
              "#0d0887"
             ],
             [
              0.1111111111111111,
              "#46039f"
             ],
             [
              0.2222222222222222,
              "#7201a8"
             ],
             [
              0.3333333333333333,
              "#9c179e"
             ],
             [
              0.4444444444444444,
              "#bd3786"
             ],
             [
              0.5555555555555556,
              "#d8576b"
             ],
             [
              0.6666666666666666,
              "#ed7953"
             ],
             [
              0.7777777777777778,
              "#fb9f3a"
             ],
             [
              0.8888888888888888,
              "#fdca26"
             ],
             [
              1,
              "#f0f921"
             ]
            ],
            "type": "heatmapgl"
           }
          ],
          "histogram": [
           {
            "marker": {
             "colorbar": {
              "outlinewidth": 0,
              "ticks": ""
             }
            },
            "type": "histogram"
           }
          ],
          "histogram2d": [
           {
            "colorbar": {
             "outlinewidth": 0,
             "ticks": ""
            },
            "colorscale": [
             [
              0,
              "#0d0887"
             ],
             [
              0.1111111111111111,
              "#46039f"
             ],
             [
              0.2222222222222222,
              "#7201a8"
             ],
             [
              0.3333333333333333,
              "#9c179e"
             ],
             [
              0.4444444444444444,
              "#bd3786"
             ],
             [
              0.5555555555555556,
              "#d8576b"
             ],
             [
              0.6666666666666666,
              "#ed7953"
             ],
             [
              0.7777777777777778,
              "#fb9f3a"
             ],
             [
              0.8888888888888888,
              "#fdca26"
             ],
             [
              1,
              "#f0f921"
             ]
            ],
            "type": "histogram2d"
           }
          ],
          "histogram2dcontour": [
           {
            "colorbar": {
             "outlinewidth": 0,
             "ticks": ""
            },
            "colorscale": [
             [
              0,
              "#0d0887"
             ],
             [
              0.1111111111111111,
              "#46039f"
             ],
             [
              0.2222222222222222,
              "#7201a8"
             ],
             [
              0.3333333333333333,
              "#9c179e"
             ],
             [
              0.4444444444444444,
              "#bd3786"
             ],
             [
              0.5555555555555556,
              "#d8576b"
             ],
             [
              0.6666666666666666,
              "#ed7953"
             ],
             [
              0.7777777777777778,
              "#fb9f3a"
             ],
             [
              0.8888888888888888,
              "#fdca26"
             ],
             [
              1,
              "#f0f921"
             ]
            ],
            "type": "histogram2dcontour"
           }
          ],
          "mesh3d": [
           {
            "colorbar": {
             "outlinewidth": 0,
             "ticks": ""
            },
            "type": "mesh3d"
           }
          ],
          "parcoords": [
           {
            "line": {
             "colorbar": {
              "outlinewidth": 0,
              "ticks": ""
             }
            },
            "type": "parcoords"
           }
          ],
          "pie": [
           {
            "automargin": true,
            "type": "pie"
           }
          ],
          "scatter": [
           {
            "marker": {
             "colorbar": {
              "outlinewidth": 0,
              "ticks": ""
             }
            },
            "type": "scatter"
           }
          ],
          "scatter3d": [
           {
            "line": {
             "colorbar": {
              "outlinewidth": 0,
              "ticks": ""
             }
            },
            "marker": {
             "colorbar": {
              "outlinewidth": 0,
              "ticks": ""
             }
            },
            "type": "scatter3d"
           }
          ],
          "scattercarpet": [
           {
            "marker": {
             "colorbar": {
              "outlinewidth": 0,
              "ticks": ""
             }
            },
            "type": "scattercarpet"
           }
          ],
          "scattergeo": [
           {
            "marker": {
             "colorbar": {
              "outlinewidth": 0,
              "ticks": ""
             }
            },
            "type": "scattergeo"
           }
          ],
          "scattergl": [
           {
            "marker": {
             "colorbar": {
              "outlinewidth": 0,
              "ticks": ""
             }
            },
            "type": "scattergl"
           }
          ],
          "scattermapbox": [
           {
            "marker": {
             "colorbar": {
              "outlinewidth": 0,
              "ticks": ""
             }
            },
            "type": "scattermapbox"
           }
          ],
          "scatterpolar": [
           {
            "marker": {
             "colorbar": {
              "outlinewidth": 0,
              "ticks": ""
             }
            },
            "type": "scatterpolar"
           }
          ],
          "scatterpolargl": [
           {
            "marker": {
             "colorbar": {
              "outlinewidth": 0,
              "ticks": ""
             }
            },
            "type": "scatterpolargl"
           }
          ],
          "scatterternary": [
           {
            "marker": {
             "colorbar": {
              "outlinewidth": 0,
              "ticks": ""
             }
            },
            "type": "scatterternary"
           }
          ],
          "surface": [
           {
            "colorbar": {
             "outlinewidth": 0,
             "ticks": ""
            },
            "colorscale": [
             [
              0,
              "#0d0887"
             ],
             [
              0.1111111111111111,
              "#46039f"
             ],
             [
              0.2222222222222222,
              "#7201a8"
             ],
             [
              0.3333333333333333,
              "#9c179e"
             ],
             [
              0.4444444444444444,
              "#bd3786"
             ],
             [
              0.5555555555555556,
              "#d8576b"
             ],
             [
              0.6666666666666666,
              "#ed7953"
             ],
             [
              0.7777777777777778,
              "#fb9f3a"
             ],
             [
              0.8888888888888888,
              "#fdca26"
             ],
             [
              1,
              "#f0f921"
             ]
            ],
            "type": "surface"
           }
          ],
          "table": [
           {
            "cells": {
             "fill": {
              "color": "#EBF0F8"
             },
             "line": {
              "color": "white"
             }
            },
            "header": {
             "fill": {
              "color": "#C8D4E3"
             },
             "line": {
              "color": "white"
             }
            },
            "type": "table"
           }
          ]
         },
         "layout": {
          "annotationdefaults": {
           "arrowcolor": "#2a3f5f",
           "arrowhead": 0,
           "arrowwidth": 1
          },
          "autotypenumbers": "strict",
          "coloraxis": {
           "colorbar": {
            "outlinewidth": 0,
            "ticks": ""
           }
          },
          "colorscale": {
           "diverging": [
            [
             0,
             "#8e0152"
            ],
            [
             0.1,
             "#c51b7d"
            ],
            [
             0.2,
             "#de77ae"
            ],
            [
             0.3,
             "#f1b6da"
            ],
            [
             0.4,
             "#fde0ef"
            ],
            [
             0.5,
             "#f7f7f7"
            ],
            [
             0.6,
             "#e6f5d0"
            ],
            [
             0.7,
             "#b8e186"
            ],
            [
             0.8,
             "#7fbc41"
            ],
            [
             0.9,
             "#4d9221"
            ],
            [
             1,
             "#276419"
            ]
           ],
           "sequential": [
            [
             0,
             "#0d0887"
            ],
            [
             0.1111111111111111,
             "#46039f"
            ],
            [
             0.2222222222222222,
             "#7201a8"
            ],
            [
             0.3333333333333333,
             "#9c179e"
            ],
            [
             0.4444444444444444,
             "#bd3786"
            ],
            [
             0.5555555555555556,
             "#d8576b"
            ],
            [
             0.6666666666666666,
             "#ed7953"
            ],
            [
             0.7777777777777778,
             "#fb9f3a"
            ],
            [
             0.8888888888888888,
             "#fdca26"
            ],
            [
             1,
             "#f0f921"
            ]
           ],
           "sequentialminus": [
            [
             0,
             "#0d0887"
            ],
            [
             0.1111111111111111,
             "#46039f"
            ],
            [
             0.2222222222222222,
             "#7201a8"
            ],
            [
             0.3333333333333333,
             "#9c179e"
            ],
            [
             0.4444444444444444,
             "#bd3786"
            ],
            [
             0.5555555555555556,
             "#d8576b"
            ],
            [
             0.6666666666666666,
             "#ed7953"
            ],
            [
             0.7777777777777778,
             "#fb9f3a"
            ],
            [
             0.8888888888888888,
             "#fdca26"
            ],
            [
             1,
             "#f0f921"
            ]
           ]
          },
          "colorway": [
           "#636efa",
           "#EF553B",
           "#00cc96",
           "#ab63fa",
           "#FFA15A",
           "#19d3f3",
           "#FF6692",
           "#B6E880",
           "#FF97FF",
           "#FECB52"
          ],
          "font": {
           "color": "#2a3f5f"
          },
          "geo": {
           "bgcolor": "white",
           "lakecolor": "white",
           "landcolor": "#E5ECF6",
           "showlakes": true,
           "showland": true,
           "subunitcolor": "white"
          },
          "hoverlabel": {
           "align": "left"
          },
          "hovermode": "closest",
          "mapbox": {
           "style": "light"
          },
          "paper_bgcolor": "white",
          "plot_bgcolor": "#E5ECF6",
          "polar": {
           "angularaxis": {
            "gridcolor": "white",
            "linecolor": "white",
            "ticks": ""
           },
           "bgcolor": "#E5ECF6",
           "radialaxis": {
            "gridcolor": "white",
            "linecolor": "white",
            "ticks": ""
           }
          },
          "scene": {
           "xaxis": {
            "backgroundcolor": "#E5ECF6",
            "gridcolor": "white",
            "gridwidth": 2,
            "linecolor": "white",
            "showbackground": true,
            "ticks": "",
            "zerolinecolor": "white"
           },
           "yaxis": {
            "backgroundcolor": "#E5ECF6",
            "gridcolor": "white",
            "gridwidth": 2,
            "linecolor": "white",
            "showbackground": true,
            "ticks": "",
            "zerolinecolor": "white"
           },
           "zaxis": {
            "backgroundcolor": "#E5ECF6",
            "gridcolor": "white",
            "gridwidth": 2,
            "linecolor": "white",
            "showbackground": true,
            "ticks": "",
            "zerolinecolor": "white"
           }
          },
          "shapedefaults": {
           "line": {
            "color": "#2a3f5f"
           }
          },
          "ternary": {
           "aaxis": {
            "gridcolor": "white",
            "linecolor": "white",
            "ticks": ""
           },
           "baxis": {
            "gridcolor": "white",
            "linecolor": "white",
            "ticks": ""
           },
           "bgcolor": "#E5ECF6",
           "caxis": {
            "gridcolor": "white",
            "linecolor": "white",
            "ticks": ""
           }
          },
          "title": {
           "x": 0.05
          },
          "xaxis": {
           "automargin": true,
           "gridcolor": "white",
           "linecolor": "white",
           "ticks": "",
           "title": {
            "standoff": 15
           },
           "zerolinecolor": "white",
           "zerolinewidth": 2
          },
          "yaxis": {
           "automargin": true,
           "gridcolor": "white",
           "linecolor": "white",
           "ticks": "",
           "title": {
            "standoff": 15
           },
           "zerolinecolor": "white",
           "zerolinewidth": 2
          }
         }
        }
       }
      },
      "text/html": [
       "<html>\n",
       "<head><meta chartset=\"utf-8\" /></head>\n",
       "<body>\n",
       "<div>\n",
       "    <script src=\"https://cdnjs.cloudflare.com/ajax/libs/mathjax/2.7.5/MathJax.js?config=TeX-AMS-MML_SVG\"></script>\n",
       "    <script type=\"text/javascript\">\n",
       "window.PlotlyConfig = {MathJaxConfig: 'local'};\n",
       "</script>\n",
       "<script type=\"text/javascript\">\n",
       "if (window.MathJax) {MathJax.Hub.Config({SVG: {font: \"STIX-Web\"}});}\n",
       "</script>\n",
       "<script type=\"text/javascript\">\n",
       "    if (typeof require !== 'undefined') {\n",
       "        require.undef(\"plotly\");\n",
       "        requirejs.config({\n",
       "            paths: {\n",
       "                'plotly': ['https://cdn.plot.ly/plotly-2.3.0.min']\n",
       "            }\n",
       "        });\n",
       "        require(['plotly'], function(Plotly) {\n",
       "            window._Plotly = Plotly;\n",
       "        });\n",
       "    }\n",
       "</script>\n",
       "\n",
       "    <div\n",
       "        id=30fcd9af-fdae-49e0-848d-9e2f2ffe6733\n",
       "        class=\"plotly-graph-div\"\n",
       "        style=\"height:100%; width:100%;\">\n",
       "    </div>\n",
       "    <script type=\"text/javascript\">\n",
       "        require([\"plotly\"], function(Plotly) {\n",
       "        window.PLOTLYENV = window.PLOTLYENV || {}\n",
       "        \n",
       "        if (document.getElementById('30fcd9af-fdae-49e0-848d-9e2f2ffe6733')) {\n",
       "    Plotly.newPlot(\n",
       "        '30fcd9af-fdae-49e0-848d-9e2f2ffe6733',\n",
       "        [{\"showlegend\":true,\"xaxis\":\"x\",\"type\":\"splom\",\"name\":\"setosa\",\"opacity\":0.65,\"yaxis\":\"y\",\"legendgroup\":\"setosa\",\"dimensions\":[{\"values\":[2.6842071251039514,2.7153906156341336,2.8898195396179194,2.7464371973087376,2.728592981831318,2.2798973610096,2.820890682180633,2.6264819933238224,2.887958565335637,2.6738446867191237,2.5065267893389063,2.613142718271059,2.7874339759971,3.2252004462749833,2.6435432169411492,2.383869323799378,2.6225262031258114,2.6483227324791296,2.199077961430765,2.587346188917741,2.310531701313136,2.5432349073036984,3.2158576949001088,2.3031285376638846,2.3561710866839007,2.507917226837883,2.469055997545126,2.5623909468367536,2.639821268376585,2.6328479080307607,2.5884620513033942,2.410077337121599,2.6476366733969035,2.5971594770759214,2.6738446867191237,2.8669998469325373,2.6252284646804243,2.6738446867191237,2.9818426648539114,2.5903230255856773,2.7701389107463275,2.852211081566395,2.998296442832354,2.4055141012847043,2.2088329541767084,2.715665190747457,2.5375733710135098,2.8403212968270117,2.542685757077052,2.7039123148636532],\"label\":\"x1\",\"axis\":{\"matches\":true}},{\"values\":[0.3266073147643875,-0.16955684755602707,-0.13734560960502812,-0.311124315751992,0.33392456356845457,0.7477827132251331,-0.08210451102468086,0.17040534896028953,-0.5707980263315919,-0.1066917037527392,0.6519350136725713,0.02152063196025794,-0.22774018887110709,-0.5032799094854262,1.1861948994134481,1.344754344559862,0.8180896745965945,0.31913666775088406,0.8792440880917356,0.5204736388059679,0.39786782158889106,0.4400317546598151,0.14161557162558353,0.10552267842998153,-0.031209589068337984,-0.13905633991317495,0.13788731459041736,0.3746845627501055,0.31929006596032095,-0.19007583063362415,-0.19739307943769133,0.418080008247615,0.8199826325595072,1.1000219280072683,-0.1066917037527392,0.07719309572358606,0.606800008421585,-0.1066917037527392,-0.48025004885607675,0.2360593372888723,0.2710594197651666,-0.9328653674695462,-0.33430757459077703,0.19591725769606044,0.44269603042100325,-0.24268148289811386,0.5103675454766059,-0.22057633827647682,0.586281025343988,0.115010852170505],\"label\":\"x2\",\"axis\":{\"matches\":true}},{\"values\":[0.021511837001963685,0.20352142500549025,-0.024709240998956897,-0.037671975285300724,-0.09622969977460755,-0.1743256190164007,-0.26425108519069557,0.01580151026431631,-0.027335406114507688,0.1915332997356455,0.06927499581393304,-0.10765035324990285,0.20032778809538948,-0.06841362917233078,0.14450570400963725,-0.28373066393977386,-0.14531598882161706,-0.033394254070697627,0.11452146479835507,-0.2195720880008229,0.233695607097971,-0.21483637027967445,-0.2996189815108705,-0.04568004127448777,-0.12940757589599045,0.24711633789085974,-0.10126307942970203,0.07235915743602961,0.13925337377853547,-0.04646646364504471,0.07127507313152662,0.13838824005004036,-0.23058560425416819,-0.16358191262365895,0.1915332997356455,0.15684235049802359,0.26116315648170607,0.1915332997356455,-0.07972480735962166,0.07390123824707767,-0.08424157450476305,0.3409614911071476,-0.19900842494724147,-0.2707170703688342,-0.3034878092682676,0.0905156059500671,-0.17191840447685763,-0.0900613765304147,0.011175267831171176,0.08269572660682217],\"label\":\"x3\",\"axis\":{\"matches\":true}},{\"values\":[-0.0010061572415442366,-0.09960242401682091,-0.019304542832511436,0.07595527410853446,0.0631287327171075,0.02714680369789918,0.05009962506285018,0.04628176096650713,0.026615414325655208,0.05589096599605185,0.01660824782447995,0.15770456913321076,0.0072350867381154975,0.02194666412340655,-0.15698096151652935,-0.0019261817096672407,-0.16474079123407742,-0.07611821327962592,-0.025326939656380304,0.06908199117875952,0.015323739565076738,-0.03843950010111921,-0.001857043347450238,-0.1472454996404013,0.3016202653321929,-0.03538408126768723,-0.05597045237666201,0.015240286774594936,-0.06514104720019626,0.12461115336647105,0.06047626340781935,-0.230844169977075,0.2848089542634593,0.09895807058361716,0.05589096599605185,-0.16245280571606935,-0.17587987484195725,0.05589096599605185,0.011052950834458158,0.014556306249652595,-0.09236465729576562,-0.3226506066130582,0.07587182131805253,-0.1737851292110281,0.1858575300726542,-0.14298902533804778,0.19216594594983544,0.06039281061733764,0.04833370254133476,-0.03409957300828406],\"label\":\"x4\",\"axis\":{\"matches\":true}}],\"diagonal\":{\"visible\":false},\"marker\":{\"color\":\"#636efa\"}},{\"showlegend\":true,\"xaxis\":\"x\",\"type\":\"splom\",\"name\":\"versicolor\",\"opacity\":0.65,\"yaxis\":\"y\",\"legendgroup\":\"versicolor\",\"dimensions\":[{\"values\":[-1.2847945878450686,-0.9324107529829146,-1.4640613227790722,-0.1809672063476957,-1.087134487206998,-0.6404367495231422,-1.0952237099384752,0.75146714064823,-1.0432977807062782,0.010190070727856364,0.5110861958950936,-0.5110980606834744,-0.2623357561531773,-0.9840445451694279,0.17486400196569918,-0.9275729420326968,-0.6595927890561973,-0.23454058625983248,-0.9423617073988391,-0.04324640032870165,-1.1162407237538126,-0.35678656783045826,-1.2964688502855308,-0.9205026489090061,-0.7140082136428302,-0.8996408632837732,-1.3310414188547168,-1.557396272070699,-0.8124555489979989,0.3073347556634073,0.07034288894927461,0.19188449210314867,-0.1349949504513703,-1.3787369827755798,-0.5872748535799076,-0.8072054966767133,-1.2204289662446766,-0.8128677903690669,-0.24519516169034286,-0.16451342836925278,-0.463030988871421,-0.8901604456511533,-0.2288790499696446,0.7070812839208636,-0.3555330391870604,-0.33112694733271963,-0.37523822894676273,-0.6416902781665401,0.9084633331234981,-0.29780790740693097],\"label\":\"x1\",\"axis\":{\"matches\":true}},{\"values\":[0.685439186132919,0.31919808983364845,0.5041898329724522,-0.8256039435761139,0.07539038928876651,-0.4173234829700254,0.28389121093848046,-1.0011075129743943,0.22895690877700597,-0.7205748667019014,-1.2624919538621413,-0.1022841050459704,-0.5478932980253381,-0.12436042022227793,-0.25181557108017094,0.4682362050431162,-0.35197629106031586,-0.3319218293621206,-0.5418222581500156,-0.5814894466123592,-0.08421401387837275,-0.06682382794136704,-0.32756151979494497,-0.182390363327921,0.15037915314843636,0.32961097958188296,0.24466952060228814,0.26739258481276423,-0.16233157487863342,-0.3650866127661613,-0.7025379317307265,-0.6774905443743579,-0.31170964270339674,-0.4212051382146281,-0.4832842677174814,0.19505396377111212,0.40803533700101685,-0.3706789983189113,-0.26672803566184766,-0.6796614693108141,-0.6695265465361222,-0.033812442746762664,-0.402257620178912,-1.0084247617784614,-0.5032184874026624,-0.21118014066262636,-0.2916220248087796,0.0190711764912702,-0.7515687251694863,-0.347016521598564],\"label\":\"x2\",\"axis\":{\"matches\":true}},{\"values\":[0.40612955307696463,0.017129909205126095,0.33826072771796023,0.17708285639336252,0.30654446481443126,-0.04118876935364299,-0.1700225337414984,-0.015672194238161852,0.414814566148705,-0.2834372462541269,0.26648995382244717,-0.13232789047497423,0.6919415783189635,0.06215742761354015,-0.0936586381919518,0.3132294005685776,-0.32838429706934696,0.2702806708356951,0.49734854117770144,0.23296355648252223,-0.4598442265727529,0.2274721803208824,0.3475132125842497,0.2316114185526724,0.3203723328292699,0.3147714813796257,0.5212449247379852,0.1646384908522287,-0.03634357634449062,0.315337196938919,0.2417580448422667,0.3039165434636238,0.17497330378776454,-0.015480495121707571,-0.4445837530348697,-0.38945871138620114,0.2365660868498288,0.6128710500606713,-0.18956248472924114,0.05779923880574267,0.024053890889810442,0.009768026368426178,0.2273627050328786,0.10206934253840949,-0.017889465896507556,-0.08380907322251395,-0.07907335550136527,0.2041728768637467,0.007736584506977451,-0.012179139158859431],\"label\":\"x3\",\"axis\":{\"matches\":true}},{\"values\":[-0.019290116855348767,6.757941709088777e-6,0.0008576440476151699,-0.09578444837158065,-0.11338453900934031,0.24267131206866635,0.08497338932826753,0.016510592154630604,0.03752355359176563,0.005945701975096335,-0.04890880606342424,-0.05010053515659424,-0.06148498908340594,0.16901066987095173,-0.1249408865696286,-0.10043888414556428,0.18899152519295223,0.21198499529228315,-0.2606366850425531,0.03956118073832829,0.07721355961071956,-0.1240900004637227,-0.003246239102039694,0.2868253467053179,-0.042941233173507475,-0.10112286467050659,-0.037505049655834205,-0.07035309510364203,0.029680271083736283,-0.07653037763062395,-0.009094698519608452,0.018045458785479335,-0.03418291424986823,0.17758073696002474,0.2524424346266613,0.11661539125464035,-0.03163524398466376,-0.1577004911744413,0.1473280423371389,-0.03096557788798629,0.26844350832386926,0.15344820637975456,-0.018620450758671275,-0.04762429780402114,0.09807163534474184,0.23868654239136014,0.13116505111148125,0.0205096762602019,-0.23355863427434526,0.05078371713668969],\"label\":\"x4\",\"axis\":{\"matches\":true}}],\"diagonal\":{\"visible\":false},\"marker\":{\"color\":\"#EF553B\"}},{\"showlegend\":true,\"xaxis\":\"x\",\"type\":\"splom\",\"name\":\"virginica\",\"opacity\":0.65,\"yaxis\":\"y\",\"legendgroup\":\"virginica\",\"dimensions\":[{\"values\":[-2.5317269804395552,-1.4140722251737545,-2.6164846082840407,-1.9708149459064788,-2.3497579839509397,-3.396879920678135,-0.519383245084933,-2.9320050969912983,-2.3196727938740502,-2.918134233644248,-1.6619349470194835,-1.80234045266073,-2.1653788629533945,-1.3445942175098216,-1.5852672993086407,-1.904743578213909,-1.9492487818644948,-3.4887653796563827,-3.7946868612099673,-1.2983298245678128,-2.428167259020846,-1.1980973722749595,-3.499265484298954,-1.3876682501815527,-2.2758536493056916,-2.6141938306983312,-1.2576251829251333,-1.2906696477375983,-2.12285398050831,-2.387564402369025,-2.8409609252853807,-3.2323428982958715,-2.1587383731331315,-1.4431026043759716,-1.7796401068985668,-3.076521621020659,-2.1449868567093007,-1.9048629251371285,-1.1688534694704003,-2.107653731173266,-2.3143033946295457,-1.9224508848357498,-1.4140722251737545,-2.563322712340806,-2.419391219804978,-1.9440170488777344,-1.5256636313138694,-1.76404593552698,-1.9016290752882294,-1.3896661333194136],\"label\":\"x1\",\"axis\":{\"matches\":true}},{\"values\":[-0.01184223664029932,-0.5749250559123045,0.34193528698729425,-0.18112569470491324,-0.041882549654841575,0.547168046230152,-1.1913516890506521,0.35237700618085954,-0.2455481706069107,0.7803806293720323,0.24203840103752233,-0.21615460662653674,0.21528028337300675,-0.776415425176825,-0.5393070538471718,0.11881899098269864,0.04073025942776802,1.1715445442635648,0.2532655709725335,-0.7610139365215085,0.3767819712541524,-0.6055789617645939,0.45677346696407367,-0.20403098657015545,0.33338652575664257,0.5583669502788222,-0.17913699742322325,-0.11642525182937234,-0.21085488454948992,0.46251925072626004,0.37274259104902036,1.370524035976334,-0.21832553156299328,-0.14380128908272632,-0.501464794706015,0.6857644422460553,0.13890660887731537,0.0480475082318351,-0.1645024998150897,0.37148224917710526,0.18260885079369846,0.40927117617869463,-0.5749250559123045,0.27597450223983827,0.303503937702629,0.18741522204601319,-0.37502084819182385,0.07851918642935717,0.11587674824796651,-0.28288670917226844],\"label\":\"x2\",\"axis\":{\"matches\":true}},{\"values\":[-0.7584586515284953,-0.2963982243052143,0.11214137055436697,-0.10653914864984432,-0.2841106808661675,0.3518731576273035,-0.5466855311249507,0.4236912783369,0.34992218335904973,-0.4217389336137668,-0.24281526346759363,0.037695328493963676,-0.03314818319913408,-0.28286801822432117,-0.6305704884623295,-0.48013807976573025,-0.04272909392943518,-0.12932008336177042,0.516970715993895,0.3448870474686988,-0.21864907004670597,-0.5126407650398166,0.5769101867216506,0.06351132177864638,-0.28467815266071667,0.20842334661879663,-0.04697780744922869,-0.23161356056830634,-0.15351588509125602,0.45202396144913054,0.5010315391382025,0.11844877739516274,-0.20842197616391722,0.15408297110542857,0.17581118605670668,0.33642274120822274,-0.7341847390548604,-0.16047063070600645,-0.28246088100237177,-0.027437856461486193,-0.32286040074238453,-0.11549281596072067,-0.2963982243052143,-0.2912536131268596,-0.5043025169513613,-0.17930287068112993,0.12063644074490926,-0.13078405342866978,-0.7228735608675689,-0.3623178316312208],\"label\":\"x3\",\"axis\":{\"matches\":true}},{\"values\":[0.03259956851445578,0.015695478279489278,-0.06595604952644003,0.2368586248818623,0.001312724003611692,0.11121996802024496,0.09879841992578556,0.25540736884427456,0.07626286251324324,-0.10772931947885073,-0.11944758456758942,-0.07871345255565049,-0.1626672803078528,-0.14048189225832625,-0.327455366669122,-0.21711450049899134,0.15784525195695612,0.31162983793268006,-0.056451643540978924,0.04267371805612674,-0.18385417915128804,-0.05950003054907389,0.1377595975908719,-0.1637635367326903,0.062230277600381495,0.24044543308753835,-0.1476005455070331,-0.0030843215735895137,-0.052612433191034674,0.22990687721411898,0.020216625381552694,0.25448734437615184,-0.12772448922911636,0.18992586408933956,0.5035294527425072,-0.3105890924377435,-0.051766535137641734,0.2219801419156079,-0.019330765589729366,-0.20995519851590433,-0.2758966597304519,-0.5040950067910502,0.015695478279489278,-0.056184926968444855,-0.23821794655194514,-0.42508163386614356,-0.2557225645213723,-0.13629455631818935,-0.0408728218486934,0.1563103853261074],\"label\":\"x4\",\"axis\":{\"matches\":true}}],\"diagonal\":{\"visible\":false},\"marker\":{\"color\":\"#00cc96\"}}],\n",
       "        {\"font\":{\"color\":\"Black\",\"family\":\"Courier New\",\"size\":14},\"template\":{\"layout\":{\"coloraxis\":{\"colorbar\":{\"ticks\":\"\",\"outlinewidth\":0}},\"xaxis\":{\"gridcolor\":\"white\",\"zerolinewidth\":2,\"title\":{\"standoff\":15},\"ticks\":\"\",\"zerolinecolor\":\"white\",\"automargin\":true,\"linecolor\":\"white\"},\"hovermode\":\"closest\",\"paper_bgcolor\":\"white\",\"geo\":{\"showlakes\":true,\"showland\":true,\"landcolor\":\"#E5ECF6\",\"bgcolor\":\"white\",\"subunitcolor\":\"white\",\"lakecolor\":\"white\"},\"colorscale\":{\"sequential\":[[0.0,\"#0d0887\"],[0.1111111111111111,\"#46039f\"],[0.2222222222222222,\"#7201a8\"],[0.3333333333333333,\"#9c179e\"],[0.4444444444444444,\"#bd3786\"],[0.5555555555555556,\"#d8576b\"],[0.6666666666666666,\"#ed7953\"],[0.7777777777777778,\"#fb9f3a\"],[0.8888888888888888,\"#fdca26\"],[1.0,\"#f0f921\"]],\"diverging\":[[0,\"#8e0152\"],[0.1,\"#c51b7d\"],[0.2,\"#de77ae\"],[0.3,\"#f1b6da\"],[0.4,\"#fde0ef\"],[0.5,\"#f7f7f7\"],[0.6,\"#e6f5d0\"],[0.7,\"#b8e186\"],[0.8,\"#7fbc41\"],[0.9,\"#4d9221\"],[1,\"#276419\"]],\"sequentialminus\":[[0.0,\"#0d0887\"],[0.1111111111111111,\"#46039f\"],[0.2222222222222222,\"#7201a8\"],[0.3333333333333333,\"#9c179e\"],[0.4444444444444444,\"#bd3786\"],[0.5555555555555556,\"#d8576b\"],[0.6666666666666666,\"#ed7953\"],[0.7777777777777778,\"#fb9f3a\"],[0.8888888888888888,\"#fdca26\"],[1.0,\"#f0f921\"]]},\"yaxis\":{\"gridcolor\":\"white\",\"zerolinewidth\":2,\"title\":{\"standoff\":15},\"ticks\":\"\",\"zerolinecolor\":\"white\",\"automargin\":true,\"linecolor\":\"white\"},\"shapedefaults\":{\"line\":{\"color\":\"#2a3f5f\"}},\"hoverlabel\":{\"align\":\"left\"},\"mapbox\":{\"style\":\"light\"},\"polar\":{\"angularaxis\":{\"gridcolor\":\"white\",\"ticks\":\"\",\"linecolor\":\"white\"},\"bgcolor\":\"#E5ECF6\",\"radialaxis\":{\"gridcolor\":\"white\",\"ticks\":\"\",\"linecolor\":\"white\"}},\"autotypenumbers\":\"strict\",\"font\":{\"color\":\"#2a3f5f\"},\"ternary\":{\"baxis\":{\"gridcolor\":\"white\",\"ticks\":\"\",\"linecolor\":\"white\"},\"bgcolor\":\"#E5ECF6\",\"caxis\":{\"gridcolor\":\"white\",\"ticks\":\"\",\"linecolor\":\"white\"},\"aaxis\":{\"gridcolor\":\"white\",\"ticks\":\"\",\"linecolor\":\"white\"}},\"annotationdefaults\":{\"arrowhead\":0,\"arrowwidth\":1,\"arrowcolor\":\"#2a3f5f\"},\"plot_bgcolor\":\"#E5ECF6\",\"title\":{\"x\":0.05},\"scene\":{\"xaxis\":{\"gridcolor\":\"white\",\"gridwidth\":2,\"backgroundcolor\":\"#E5ECF6\",\"ticks\":\"\",\"showbackground\":true,\"zerolinecolor\":\"white\",\"linecolor\":\"white\"},\"zaxis\":{\"gridcolor\":\"white\",\"gridwidth\":2,\"backgroundcolor\":\"#E5ECF6\",\"ticks\":\"\",\"showbackground\":true,\"zerolinecolor\":\"white\",\"linecolor\":\"white\"},\"yaxis\":{\"gridcolor\":\"white\",\"gridwidth\":2,\"backgroundcolor\":\"#E5ECF6\",\"ticks\":\"\",\"showbackground\":true,\"zerolinecolor\":\"white\",\"linecolor\":\"white\"}},\"colorway\":[\"#636efa\",\"#EF553B\",\"#00cc96\",\"#ab63fa\",\"#FFA15A\",\"#19d3f3\",\"#FF6692\",\"#B6E880\",\"#FF97FF\",\"#FECB52\"]},\"data\":{\"barpolar\":[{\"type\":\"barpolar\",\"marker\":{\"line\":{\"color\":\"#E5ECF6\",\"width\":0.5}}}],\"carpet\":[{\"aaxis\":{\"gridcolor\":\"white\",\"endlinecolor\":\"#2a3f5f\",\"minorgridcolor\":\"white\",\"startlinecolor\":\"#2a3f5f\",\"linecolor\":\"white\"},\"type\":\"carpet\",\"baxis\":{\"gridcolor\":\"white\",\"endlinecolor\":\"#2a3f5f\",\"minorgridcolor\":\"white\",\"startlinecolor\":\"#2a3f5f\",\"linecolor\":\"white\"}}],\"scatterpolar\":[{\"type\":\"scatterpolar\",\"marker\":{\"colorbar\":{\"ticks\":\"\",\"outlinewidth\":0}}}],\"parcoords\":[{\"line\":{\"colorbar\":{\"ticks\":\"\",\"outlinewidth\":0}},\"type\":\"parcoords\"}],\"scatter\":[{\"type\":\"scatter\",\"marker\":{\"colorbar\":{\"ticks\":\"\",\"outlinewidth\":0}}}],\"histogram2dcontour\":[{\"colorbar\":{\"ticks\":\"\",\"outlinewidth\":0},\"type\":\"histogram2dcontour\",\"colorscale\":[[0.0,\"#0d0887\"],[0.1111111111111111,\"#46039f\"],[0.2222222222222222,\"#7201a8\"],[0.3333333333333333,\"#9c179e\"],[0.4444444444444444,\"#bd3786\"],[0.5555555555555556,\"#d8576b\"],[0.6666666666666666,\"#ed7953\"],[0.7777777777777778,\"#fb9f3a\"],[0.8888888888888888,\"#fdca26\"],[1.0,\"#f0f921\"]]}],\"contour\":[{\"colorbar\":{\"ticks\":\"\",\"outlinewidth\":0},\"type\":\"contour\",\"colorscale\":[[0.0,\"#0d0887\"],[0.1111111111111111,\"#46039f\"],[0.2222222222222222,\"#7201a8\"],[0.3333333333333333,\"#9c179e\"],[0.4444444444444444,\"#bd3786\"],[0.5555555555555556,\"#d8576b\"],[0.6666666666666666,\"#ed7953\"],[0.7777777777777778,\"#fb9f3a\"],[0.8888888888888888,\"#fdca26\"],[1.0,\"#f0f921\"]]}],\"scattercarpet\":[{\"type\":\"scattercarpet\",\"marker\":{\"colorbar\":{\"ticks\":\"\",\"outlinewidth\":0}}}],\"mesh3d\":[{\"colorbar\":{\"ticks\":\"\",\"outlinewidth\":0},\"type\":\"mesh3d\"}],\"surface\":[{\"colorbar\":{\"ticks\":\"\",\"outlinewidth\":0},\"type\":\"surface\",\"colorscale\":[[0.0,\"#0d0887\"],[0.1111111111111111,\"#46039f\"],[0.2222222222222222,\"#7201a8\"],[0.3333333333333333,\"#9c179e\"],[0.4444444444444444,\"#bd3786\"],[0.5555555555555556,\"#d8576b\"],[0.6666666666666666,\"#ed7953\"],[0.7777777777777778,\"#fb9f3a\"],[0.8888888888888888,\"#fdca26\"],[1.0,\"#f0f921\"]]}],\"scattermapbox\":[{\"type\":\"scattermapbox\",\"marker\":{\"colorbar\":{\"ticks\":\"\",\"outlinewidth\":0}}}],\"scattergeo\":[{\"type\":\"scattergeo\",\"marker\":{\"colorbar\":{\"ticks\":\"\",\"outlinewidth\":0}}}],\"histogram\":[{\"type\":\"histogram\",\"marker\":{\"colorbar\":{\"ticks\":\"\",\"outlinewidth\":0}}}],\"pie\":[{\"type\":\"pie\",\"automargin\":true}],\"choropleth\":[{\"colorbar\":{\"ticks\":\"\",\"outlinewidth\":0},\"type\":\"choropleth\"}],\"heatmapgl\":[{\"colorbar\":{\"ticks\":\"\",\"outlinewidth\":0},\"type\":\"heatmapgl\",\"colorscale\":[[0.0,\"#0d0887\"],[0.1111111111111111,\"#46039f\"],[0.2222222222222222,\"#7201a8\"],[0.3333333333333333,\"#9c179e\"],[0.4444444444444444,\"#bd3786\"],[0.5555555555555556,\"#d8576b\"],[0.6666666666666666,\"#ed7953\"],[0.7777777777777778,\"#fb9f3a\"],[0.8888888888888888,\"#fdca26\"],[1.0,\"#f0f921\"]]}],\"bar\":[{\"type\":\"bar\",\"error_y\":{\"color\":\"#2a3f5f\"},\"error_x\":{\"color\":\"#2a3f5f\"},\"marker\":{\"line\":{\"color\":\"#E5ECF6\",\"width\":0.5}}}],\"heatmap\":[{\"colorbar\":{\"ticks\":\"\",\"outlinewidth\":0},\"type\":\"heatmap\",\"colorscale\":[[0.0,\"#0d0887\"],[0.1111111111111111,\"#46039f\"],[0.2222222222222222,\"#7201a8\"],[0.3333333333333333,\"#9c179e\"],[0.4444444444444444,\"#bd3786\"],[0.5555555555555556,\"#d8576b\"],[0.6666666666666666,\"#ed7953\"],[0.7777777777777778,\"#fb9f3a\"],[0.8888888888888888,\"#fdca26\"],[1.0,\"#f0f921\"]]}],\"contourcarpet\":[{\"colorbar\":{\"ticks\":\"\",\"outlinewidth\":0},\"type\":\"contourcarpet\"}],\"table\":[{\"type\":\"table\",\"header\":{\"line\":{\"color\":\"white\"},\"fill\":{\"color\":\"#C8D4E3\"}},\"cells\":{\"line\":{\"color\":\"white\"},\"fill\":{\"color\":\"#EBF0F8\"}}}],\"scatter3d\":[{\"line\":{\"colorbar\":{\"ticks\":\"\",\"outlinewidth\":0}},\"type\":\"scatter3d\",\"marker\":{\"colorbar\":{\"ticks\":\"\",\"outlinewidth\":0}}}],\"scattergl\":[{\"type\":\"scattergl\",\"marker\":{\"colorbar\":{\"ticks\":\"\",\"outlinewidth\":0}}}],\"histogram2d\":[{\"colorbar\":{\"ticks\":\"\",\"outlinewidth\":0},\"type\":\"histogram2d\",\"colorscale\":[[0.0,\"#0d0887\"],[0.1111111111111111,\"#46039f\"],[0.2222222222222222,\"#7201a8\"],[0.3333333333333333,\"#9c179e\"],[0.4444444444444444,\"#bd3786\"],[0.5555555555555556,\"#d8576b\"],[0.6666666666666666,\"#ed7953\"],[0.7777777777777778,\"#fb9f3a\"],[0.8888888888888888,\"#fdca26\"],[1.0,\"#f0f921\"]]}],\"scatterternary\":[{\"type\":\"scatterternary\",\"marker\":{\"colorbar\":{\"ticks\":\"\",\"outlinewidth\":0}}}],\"scatterpolargl\":[{\"type\":\"scatterpolargl\",\"marker\":{\"colorbar\":{\"ticks\":\"\",\"outlinewidth\":0}}}]}},\"legend\":{\"tracegroupgap\":0,\"title\":{\"text\":\"species\"}},\"margin\":{\"l\":50,\"b\":50,\"r\":50,\"t\":60},\"dragmode\":\"select\"},\n",
       "        {\"editable\":false,\"responsive\":true,\"staticPlot\":false,\"scrollZoom\":true},\n",
       "    )\n",
       "}\n",
       "\n",
       "        });\n",
       "    </script>\n",
       "</div>\n",
       "\n",
       "</body>\n",
       "</html>"
      ],
      "text/plain": [
       "data: [\n",
       "  \"splom with fields diagonal, dimensions, legendgroup, marker, name, opacity, showlegend, type, xaxis, and yaxis\",\n",
       "  \"splom with fields diagonal, dimensions, legendgroup, marker, name, opacity, showlegend, type, xaxis, and yaxis\",\n",
       "  \"splom with fields diagonal, dimensions, legendgroup, marker, name, opacity, showlegend, type, xaxis, and yaxis\"\n",
       "]\n",
       "\n",
       "layout: \"layout with fields dragmode, font, legend, margin, and template\"\n",
       "\n"
      ]
     },
     "execution_count": 2,
     "metadata": {},
     "output_type": "execute_result"
    }
   ],
   "source": [
    "using PlotlyJS, MLJ\n",
    "using DataFrames: DataFrame, insertcols!\n",
    "\n",
    "PCA = @load PCA pkg=\"MultivariateStats\" verbosity=0\n",
    "\n",
    "function display_iris_all_pca_components()\n",
    "    df = DataFrame(dataset(\"iris\"))\n",
    "    axes = [:petal_length, :petal_width, :sepal_length, :sepal_width]\n",
    "    X, = unpack(df, ∈(axes))\n",
    "    coerce!(X, Any => Continuous)\n",
    "    \n",
    "    mach = machine(PCA(pratio=0.999), X)\n",
    "    fit!(mach)\n",
    "    \n",
    "    Xpca = transform(mach, X)\n",
    "    insertcols!(Xpca, :species=>df[!,:species])\n",
    "    \n",
    "    axes_pca = Symbol.(filter!(∋('x'), names(Xpca)))\n",
    "    \n",
    "    layout = Layout(font=attr(family=\"Courier New\", size=14,color=\"Black\"))\n",
    "    Plot(Xpca, layout; dimensions=axes_pca, color=:species, kind=\"splom\", opacity=0.65)\n",
    "end\n",
    "\n",
    "display_iris_all_pca_components()"
   ]
  },
  {
   "cell_type": "markdown",
   "id": "dc1e08f4",
   "metadata": {},
   "source": [
    "# Visualize a subset of the principal components\n",
    "Here we use PCA on the Boston dataset from **MLJ**'s `@load_boston` macro. \n",
    "Using the same model as before, set the variance to be explained to 99.9%. \n",
    "Nevertheless, one is able to select the subset of dimensions to visualize the PCA projects components of interest.\n",
    "This is done by manual choosing `axes_pca`."
   ]
  },
  {
   "cell_type": "code",
   "execution_count": 3,
   "id": "9c505316",
   "metadata": {},
   "outputs": [
    {
     "name": "stderr",
     "output_type": "stream",
     "text": [
      "┌ Info: Training Machine{PCA,…}.\n",
      "└ @ MLJBase /home/markus/.julia/packages/MLJBase/HZmTU/src/machines.jl:403\n"
     ]
    },
    {
     "data": {
      "application/vnd.plotly.v1+json": {
       "config": {
        "editable": false,
        "responsive": true,
        "scrollZoom": true,
        "showLink": false,
        "staticPlot": false
       },
       "data": [
        {
         "diagonal": {
          "visible": false
         },
         "dimensions": [
          {
           "axis": {
            "matches": true
           },
           "label": "x1",
           "values": [
            -119.81884673108141,
            -168.89015955652968,
            -169.31171157094445,
            -190.23064642595293,
            -190.13345517374884,
            -188.9505807052423,
            -104.33600054203879,
            -102.09431230562971,
            -98.5282753404634,
            -100.03015895824589,
            -100.93997471215374,
            -103.33559784306037,
            -105.08279487356066,
            -108.4491265829297,
            -101.5873090973821,
            -108.51337110185916,
            -108.26520249646862,
            -103.67445657921282,
            -79.04098665397302,
            -105.99405820573162,
            -99.17536292063112,
            -104.74609192788479,
            -105.68626868575338,
            -104.28576163306732,
            -104.80928589866603,
            -79.02965108090972,
            -100.08353484899905,
            -79.61186692525655,
            -103.00397397789233,
            -101.36336239287176,
            -94.7042294807418,
            -99.24618745888114,
            -58.43935708035542,
            -94.3152108885443,
            -61.929425460395656,
            -134.50861045010618,
            -129.40449397732226,
            -136.76570629021586,
            -136.6658191608434,
            -167.25017775826015,
            -167.8030810564454,
            -180.5079349894229,
            -179.58103593324256,
            -182.7811407113871,
            -178.45543598226672,
            -181.13992133001057,
            -181.09096641049632,
            -175.41008930648215,
            -175.5261265442353,
            -178.6489919872281,
            -171.10922508698027,
            -169.29306564051814,
            -173.7459606104538,
            -173.64811067632422,
            40.90524701507331,
            -192.64912144676725,
            -109.0639676274973,
            -162.18440178479122,
            -132.27723091520804,
            -132.5245112055289,
            -130.32438371243833,
            -123.0574391498733,
            -130.861127549685,
            -132.458663838565,
            -195.06858413660507,
            -87.3992536525037,
            -86.15831199125067,
            -76.1842444754963,
            -74.98013403962172,
            -75.39715429183941,
            -111.11987575989214,
            -108.15579686838774,
            -113.13748622631358,
            -109.22078263125884,
            -25.995348697752675,
            -19.28092648792983,
            -13.95410506189457,
            -20.267111234466352,
            -19.402895415099238,
            -23.715959423586547,
            -136.79399278131143,
            -133.29355718766166,
            -136.86954394575187,
            -133.81557787328117,
            -166.7369447019884,
            -164.78864397163875,
            -166.6373509969702,
            -165.51071375723458,
            -141.85540051608683,
            -143.54662900388044,
            -142.09174012508984,
            -141.85256803901322,
            -144.7789413380863,
            -147.2739579113471,
            -143.29089006917522,
            -127.19165167953842,
            -135.95458311020178,
            -137.06144923041307,
            -139.3656499798135,
            -138.14584201602665,
            -33.10147230284196,
            -34.1012540717596,
            61.73256025005902,
            -32.29458722467918,
            -31.584455713363823,
            -31.322956704713423,
            -32.14546112194394,
            -30.48766491867653,
            -31.735417104964565,
            -30.982291701610485,
            -34.78271551739593,
            12.471555867471148,
            13.745523761176944,
            13.408331231377817,
            14.69501948770815,
            27.915366231853014,
            12.421699360936758,
            12.874738521849132,
            28.47118034879095,
            12.372103704109193,
            -218.01531212431462,
            -213.46977737150976,
            -212.7707404267265,
            -209.98780722146054,
            -212.9111193273471,
            -215.23400408145085,
            -206.8447661824891,
            19.876619919543757,
            18.675480113028094,
            18.41637854645465,
            19.15988710697088,
            18.53420028118546,
            21.750858910354292,
            20.77029673728431,
            57.76648095489205,
            19.315701047807288,
            23.697568299386024,
            19.44542467045373,
            20.17607514327499,
            18.67833545483248,
            21.01095104964398,
            19.25450155430391,
            -13.217659772539735,
            -13.204759936676385,
            -13.360417804165424,
            52.00578088944135,
            52.80337320036995,
            -12.031943335258305,
            -2.1093594598269187,
            -0.6667686465676558,
            -6.768492700401059,
            2.520838185646806,
            0.990877334783026,
            25.66709367448318,
            8.217498200449619,
            75.01348270611852,
            75.78124911249239,
            -4.2650698181976,
            -1.221876224882502,
            -4.23239530328766,
            2.4949218410212093,
            -8.080300190049583,
            -11.867721128794685,
            -11.868097918268168,
            -13.769924013446865,
            31.433349636579848,
            -6.074514915068775,
            33.95386133864259,
            15.12581966232704,
            5.4631528673022,
            16.44097844060663,
            0.3827383769230228,
            -116.61133756696357,
            -116.70395229607422,
            -117.31700564414686,
            -119.7363299007689,
            -119.11054677802169,
            -117.69643340741115,
            -116.33501035202609,
            -217.30735507106053,
            -214.77693177044316,
            -216.8855496074702,
            -213.67438863866843,
            -214.17989457587146,
            -212.75665239815106,
            -213.4023788985067,
            -216.4823051460638,
            -25.00105739222304,
            -22.844623519659272,
            -26.102471662059397,
            -21.97920486092503,
            -24.714562393025975,
            -25.359820108695846,
            -154.68198020021967,
            -149.09793213867988,
            -163.44001305241085,
            -93.81512931148669,
            -81.0987132420337,
            -92.03692111300852,
            -26.633087991396863,
            -23.083934369041398,
            -74.49684307507047,
            -76.96536542467058,
            -192.9252349863765,
            -192.40652987985615,
            -140.1384424333625,
            -137.01970309244462,
            -133.58211997118778,
            -132.43873301842453,
            -133.349876203734,
            -133.08955161804425,
            -133.799904570439,
            -135.64554891395645,
            -136.10712426135996,
            -126.77813355247989,
            -137.5357789605301,
            -136.88615049494223,
            -134.53642242726036,
            -134.8143216349337,
            -134.18489686512837,
            -104.56063905492228,
            -105.0866432745649,
            -105.07216910925482,
            -106.76215029324939,
            -103.6078978173477,
            -102.30969816223288,
            -103.62370133296385,
            -99.64402215622444,
            -106.54687478847046,
            -107.00117489142285,
            -102.33342697201753,
            -101.10453700007709,
            -104.31348869680227,
            -102.50100341477058,
            -97.26757125245702,
            -102.443169413825,
            -104.62498807149456,
            -105.61802982460105,
            -115.02852824527278,
            -114.29571528714743,
            -115.36783911281978,
            -115.42187383550932,
            -110.1053185357497,
            -114.58564777890548,
            -79.10228971748113,
            -84.33876094016495,
            -87.80707603958105,
            -79.99502172939357,
            -82.11008620575261,
            -90.36226914007229,
            -91.49184531276272,
            -86.29121544674531,
            -89.10939161913389,
            -92.11654111143076,
            -106.0368169745961,
            -107.72119361126455,
            -171.78552757602293,
            -146.1384263196558,
            -143.11234703285533,
            -145.64928380951852,
            -147.36755868586346,
            -145.4960311138231,
            -144.914045140867,
            -146.43945396199717,
            -145.15076985601652,
            -148.81114484837408,
            -144.46446207174972,
            -146.25142008605434,
            -149.23445776787392,
            -187.4839176322997,
            -188.33511713170796,
            -193.0469469360805,
            -188.90814769682396,
            -188.29254872770454,
            -163.13623562365842,
            -162.32107878786258,
            -159.5079332491569,
            -162.56542550388033,
            -163.11857493343135,
            -198.43594304290116,
            -192.97699169993396,
            -196.67651683036294,
            -191.2523404585851,
            -219.10446303234787,
            -136.42008556564548,
            -119.73087958250582,
            -161.32026651919753,
            -126.65981478126952,
            -125.45321386719817,
            -119.97536991914086,
            -173.89023997681605,
            -173.9007405826026,
            -174.23485569429636,
            -129.0525707615389,
            -127.01185284257288,
            -128.04570315141677,
            -125.17832761330585,
            -125.57737101757425,
            -58.47471689251874,
            -60.298441000448044,
            -62.75486007107032,
            -90.43714005417729,
            -88.75893956286112,
            -90.89136143686929,
            -191.50186182046335,
            -189.9360224549098,
            -189.86780267586607,
            -189.97793053163662,
            -109.61286755407866,
            -109.78317681705171,
            -99.56839930089791,
            -112.04998959780796,
            -108.61558647350628,
            -108.49427166793632,
            -108.75571612906835,
            -109.7248833421809,
            -107.44112554314809,
            -110.26550427947679,
            -110.2705516276541,
            -111.2163546583642,
            -128.26017629919684,
            -128.10001218342336,
            -128.44478390985253,
            -124.63268296439388,
            -129.3013748184233,
            -130.52075490304046,
            -130.24292343764247,
            -128.8543643143727,
            9.426919919939799,
            10.752328091815361,
            13.97593155121746,
            -114.92930110701685,
            -106.21019552264299,
            -187.29703220831473,
            -187.14913866706505,
            -189.63541461728525,
            -188.60248118992988,
            -186.8667334408866,
            -189.16096299090597,
            -188.67590839442883,
            -187.59042160314314,
            -132.68703776637375,
            2.256186817832059,
            -51.612155138985244,
            -51.44223982994406,
            -63.69481597544753,
            -57.202555450802876,
            -72.133529951715,
            -138.81916786996135,
            -84.26755228438826,
            -85.4891106638153,
            -7.168625327694539,
            -14.846233714242892,
            -225.17241916279838,
            -85.75530033976256,
            -84.0427395287851,
            242.72154986638492,
            237.97034855182716,
            236.14107895369585,
            237.33243201519457,
            242.50055616166856,
            249.85066853809997,
            241.40575081930933,
            249.00373350486288,
            247.8138895620017,
            248.27005806881132,
            259.95433137233255,
            314.71074307143044,
            243.14048019544515,
            242.95941830969392,
            238.15719826555434,
            246.139646208905,
            250.54790684326167,
            237.82023710820943,
            238.11130728569466,
            237.40053811454794,
            246.98114330510444,
            237.36840715150714,
            237.6124973360722,
            238.63753451474116,
            239.01724896900467,
            237.56633487745145,
            237.50429022071822,
            237.49164809429612,
            269.5968145687349,
            237.73550880936406,
            238.05895857334684,
            237.21254497444028,
            244.8002632013747,
            237.31806947100088,
            237.75613623505296,
            241.204484766433,
            237.37049808752465,
            236.67394851578845,
            237.01520741996882,
            238.6722255073773,
            236.97393487596338,
            238.3895091763756,
            238.5198039638383,
            252.92147551103653,
            238.04106418490963,
            237.57605888633518,
            243.49381130333256,
            237.53876324552132,
            256.95710727283426,
            242.6858868242286,
            245.610063360285,
            256.1978161260656,
            261.2969789703103,
            300.9213406157453,
            353.252024631058,
            342.9685880271634,
            345.2349823140399,
            292.1405104802986,
            328.76179978074975,
            345.5362031681191,
            346.13337593423415,
            315.6481264254112,
            350.11324013565786,
            337.06827637744965,
            260.1189974419582,
            259.2646043986828,
            267.01036451041773,
            351.03560069511224,
            349.4045625327373,
            350.6786898594598,
            342.44498027930774,
            346.45006124785186,
            322.9836276494647,
            335.050064446943,
            327.4630257326399,
            328.8584405050166,
            322.10552318615316,
            322.6189312563574,
            323.3054984186206,
            320.6923562193043,
            344.5451433017038,
            350.612754502076,
            332.36605769276025,
            236.98192929533266,
            238.796326652903,
            240.37399638511565,
            237.58912132280616,
            240.37613718959076,
            282.8685426879904,
            340.16263876697985,
            259.9550572834539,
            239.51281936645546,
            237.269006504912,
            264.20307642867346,
            352.15687687014105,
            249.2205449705489,
            239.9864748593563,
            243.37728522021837,
            350.540120902301,
            336.8688321838959,
            348.78022972619334,
            350.23204138371284,
            272.23319167295574,
            235.91741934268498,
            277.62394631611073,
            237.75335617406446,
            235.77937122919104,
            237.14340830653867,
            234.32305110148044,
            250.96945222545588,
            345.0840839100321,
            255.95235096858264,
            243.33207739330211,
            233.78562845649768,
            235.84636461865952,
            236.7758365731154,
            236.05511082131326,
            240.85050470949776,
            249.8624691408551,
            264.6268832519347,
            236.92475626686343,
            251.2859258988088,
            242.1354388246235,
            240.36226138220692,
            234.14544737568195,
            236.041666648453,
            235.55674782250364,
            233.16457653014214,
            239.81699008462164,
            235.41577418444143,
            236.73003545778698,
            235.70097273904273,
            279.13830123420456,
            294.6074664866141,
            302.17504120261094,
            281.0967141172436,
            277.73003084259267,
            -29.111136872386197,
            -30.02545180011694,
            -30.041676603650256,
            -27.319947518914102,
            -27.675537182392098,
            -28.143815188113116,
            -27.08013598009521,
            -26.90816736200444,
            -138.69793680861162,
            -139.5044432552248,
            -138.38716706068197,
            -137.5051773871509,
            -139.19033696854575
           ]
          },
          {
           "axis": {
            "matches": true
           },
           "label": "x2",
           "values": [
            -5.560063775911821,
            10.11620084809733,
            14.0805242804377,
            18.30245495666456,
            16.097939193900327,
            18.729154400893865,
            -8.735517047921938,
            -10.108036907713617,
            -0.24791634891353023,
            -0.3176753112319383,
            -5.901417439094898,
            -10.06655417977071,
            -3.6821872610219866,
            -8.824303348468703,
            7.197680791654659,
            -7.568983877687711,
            0.9643516141007155,
            0.8049061213263665,
            94.52177873846811,
            -3.1614379319051595,
            10.484399500356194,
            -4.769223959160398,
            -8.931248424529427,
            -6.717174573346412,
            -6.504700729581783,
            80.47145612304786,
            10.193339007531174,
            77.62879465268465,
            -0.4162289868996784,
            6.993342748826779,
            26.197162071308938,
            10.27551907812301,
            148.27754364646879,
            27.506131430285855,
            133.1296495503079,
            -0.6628911477325935,
            17.87872520630749,
            -0.5150707151436211,
            2.8760275136511253,
            8.804343359082893,
            8.834941283373949,
            24.13746192328924,
            26.07236531465279,
            15.478430164505705,
            20.1464357741063,
            13.004769284064027,
            13.030504272573685,
            16.736891246762077,
            12.772361277535952,
            12.878584010267895,
            11.337872280608499,
            12.735769925900032,
            10.150210808398603,
            10.166447843498755,
            -55.96132499742668,
            16.133586650974976,
            -10.282912700138526,
            10.165288032885904,
            4.038066359516743,
            -1.999503449403667,
            -0.3736589900321685,
            15.761972594549563,
            -2.131402380894247,
            -0.7131537576176721,
            21.3629138009106,
            -17.23851782364974,
            -17.2826340982908,
            -19.01866807334712,
            -19.73736616510437,
            -19.740362579839584,
            4.648506434580787,
            11.097125389292872,
            -2.2307637568732774,
            10.928720462905812,
            -33.258994456653475,
            -22.291760881586647,
            -13.292569776127342,
            -25.855474784985635,
            -25.353126752716076,
            -34.510791803156614,
            -1.0296341679507646,
            -0.015328869660722687,
            -1.0141336059277761,
            4.893080643295751,
            8.83621987533446,
            13.170490310721899,
            9.741372259789756,
            10.452049533763622,
            1.8834647834759037,
            2.820570690074806,
            6.530922590949204,
            5.172747504181437,
            3.849996894608011,
            2.7177640376929744,
            1.9211252975431,
            37.51568709200446,
            5.108282773179709,
            0.1834392597521316,
            3.625473726956856,
            0.2715242832999724,
            -29.40429965222859,
            -30.14942877164769,
            280.3358528114565,
            -29.14655987294905,
            -27.466411545585878,
            -28.78155454710595,
            -30.29018051628128,
            -22.648067172845256,
            -29.945608135617388,
            -26.05779083587725,
            -28.023847437067296,
            -44.24720720510876,
            -43.66528205918726,
            -45.53827180146572,
            -37.710617240271255,
            4.206658055498359,
            -41.994610629341906,
            -43.21934199761653,
            10.295344580395819,
            -40.22272180124514,
            33.30321385335338,
            44.19723205420552,
            43.76647408418931,
            51.22552931486074,
            42.51436571263231,
            37.14838309368914,
            61.78274495451033,
            -42.473387061882605,
            -47.0791752876145,
            -47.03522472940661,
            -45.31712651533017,
            -47.085023194299396,
            -36.444874456683316,
            -39.21151371652648,
            81.20052838557986,
            -44.9327848950212,
            -29.207513264066144,
            -44.38486990511356,
            -42.39526999184118,
            -47.055012056995054,
            -38.565722897444275,
            -46.9683081011772,
            -37.03962808485967,
            -37.03670221987228,
            -37.016577702513885,
            177.13492758347363,
            180.54947576159756,
            -32.04329182138458,
            1.1590599966902297,
            6.030748921665423,
            -14.064316307752557,
            15.746996611968207,
            14.19999035089073,
            91.93431371411496,
            35.45846498005177,
            258.3483528740987,
            257.68916166160426,
            -5.162818853019755,
            3.955309017203043,
            -6.001841953235923,
            18.30593379673302,
            -15.657699224971623,
            -30.211161236739102,
            -29.07115759364257,
            -35.37532639912632,
            112.77201697183473,
            -10.768198845164383,
            124.8569653596132,
            58.32221429598618,
            26.823566198870264,
            62.93233378819097,
            9.517286733952337,
            -5.704943403339728,
            -4.37368587379041,
            -2.1118027336896144,
            0.23787439361354132,
            -1.9857938824724877,
            -4.423983305104775,
            -0.285672368285397,
            24.55162581185351,
            25.705261917928272,
            24.55500022144307,
            27.01536029236125,
            24.342577399762547,
            30.064686373098866,
            33.89976668688392,
            28.659012234318155,
            -32.34818510610941,
            -21.744564361432,
            -35.239806880626304,
            -16.763480786532284,
            -28.322137631614943,
            -29.0524262712644,
            7.2430773161426725,
            23.12780715089221,
            9.219533439244456,
            -14.960060357017378,
            25.77546673127644,
            -10.47541830805171,
            -36.197284029071355,
            -24.142064928251305,
            -17.53393423278601,
            -18.967954518980235,
            19.674401977986367,
            21.808726422670162,
            0.17933701826820886,
            1.9490681271695385,
            7.075936373955092,
            14.888065083418535,
            -0.19305149030216534,
            3.307133730046937,
            1.4641250238017471,
            5.728078982800712,
            10.717766126760722,
            46.22729966245553,
            3.1834692939237725,
            4.194171968798595,
            4.025290174820113,
            0.08333463544501654,
            3.070429753994498,
            -4.014457264023787,
            -7.347485791432012,
            -2.6969003718888653,
            -8.952967520742835,
            2.370596540512866,
            5.264456573806051,
            0.09042336434457904,
            14.776263026381203,
            9.929559048487745,
            7.198009294214472,
            8.879604255044075,
            10.905525298748518,
            1.569355686493866,
            8.247778147779243,
            26.22234685639837,
            10.441474691997612,
            -0.8377599878591973,
            -2.386265149251809,
            10.22508029753163,
            5.916886956184837,
            -1.2716003696868943,
            -4.550189933327443,
            16.42480957674819,
            14.774179370984823,
            7.7453434535365115,
            -8.095171055529462,
            -8.949583211229895,
            4.2264845643738855,
            5.762215354718872,
            -12.269862205185861,
            -14.677188932590317,
            3.701653557282449,
            -4.911579510121981,
            -15.254601335728994,
            -7.01689691825624,
            -9.117444286173832,
            19.968881973167342,
            10.527550098519562,
            16.59697999641153,
            8.330262902155372,
            7.617438959715026,
            11.796476421604696,
            13.220786694165515,
            6.96344051374954,
            12.24761549073774,
            8.114429341948128,
            15.980437736230146,
            15.588547581780398,
            10.138271755421819,
            21.127148616254424,
            23.80808914966016,
            16.029497598625454,
            17.648041792131597,
            21.68858687841246,
            6.871767845371175,
            6.8123098900514405,
            14.109709873054097,
            10.204887892815085,
            6.897530623048399,
            17.985822299457816,
            26.963886858480766,
            22.4203795997793,
            36.835831693959214,
            24.731549747918848,
            0.09423081204843299,
            -4.390994660932334,
            63.70777230841821,
            -4.495893404880905,
            -4.574984839920983,
            19.642628516899833,
            9.581351602834204,
            9.584219864935628,
            9.614926744817806,
            -3.33005681774055,
            -3.456374677052134,
            -3.4153795572647163,
            0.34918285383255626,
            -3.5142409407911694,
            4.0028014226358515,
            0.8658228798503826,
            -17.77582607128274,
            -13.994819803202535,
            -2.2653333709437535,
            -8.80422501834173,
            19.26533075642328,
            19.485101481346536,
            16.00739841793437,
            16.02231681372612,
            -8.090282186915704,
            -7.3959729055342285,
            36.64020968741146,
            -7.910464341551785,
            -7.522309935727309,
            -4.718072756751779,
            -6.9341845269344535,
            -7.565422827723133,
            -2.087626641813237,
            -7.964445212449856,
            -6.3538414938103775,
            -7.266851375925002,
            -2.9322100859179714,
            -2.945483160673844,
            -2.914445574176049,
            2.485817850505741,
            -2.867407946211732,
            0.3501022981719795,
            -2.8031862697095304,
            -2.8500844983383207,
            -30.717023789496956,
            -23.76961579048931,
            -17.496302488505073,
            -4.89370746142497,
            25.486819301630884,
            22.446000034140482,
            22.746206042923315,
            15.60475602778271,
            15.547190576016684,
            17.474001951231706,
            16.31786344707439,
            15.552027057042585,
            15.474505092178301,
            0.1328112003728251,
            -35.7344444472336,
            -27.138401208953763,
            -18.45222693387501,
            -11.096848837337493,
            9.002385679797436,
            -17.10687063802445,
            5.072048850200648,
            -10.019978808456681,
            -16.81712833065262,
            -14.018909901177695,
            -34.51206698433594,
            38.421142252332636,
            -2.8895922194405754,
            3.5741434174036697,
            -95.78280314079565,
            -108.81879741848174,
            -112.6874134051668,
            -108.19039893744774,
            -92.78390279979399,
            -69.90728952671554,
            -98.78027562029864,
            -72.17567971879059,
            -73.64242871385295,
            -73.79871348174231,
            -36.80872726520801,
            139.7237198807975,
            -93.79519689674666,
            -93.58671861219051,
            -109.57664334509194,
            -84.77032511188145,
            -67.25171552838898,
            -114.01528173317574,
            -113.94784007812248,
            -114.0686596154268,
            -81.61946836546352,
            -114.09425581807034,
            -113.97319959940815,
            -111.02304089480957,
            -113.55010075325428,
            -114.05657903988683,
            -114.09213785689737,
            -114.09458968440066,
            -7.726067119204923,
            -113.98898737124604,
            -113.96410474453424,
            -113.89445854841196,
            -91.08835856679319,
            -114.10860785070875,
            -111.76528297400642,
            -96.3370149670361,
            -114.04714702967254,
            -114.1017103969027,
            -114.0755952783593,
            -109.42097664111131,
            -114.11539716235204,
            -110.4835871574943,
            -113.85740310999068,
            -57.75736427343009,
            -113.96793209755617,
            -114.0770910321285,
            -94.2290546147938,
            -113.98723548015987,
            -49.28629258874425,
            -102.29681596794883,
            -88.5065117073552,
            -52.169871610845846,
            -35.420465620676644,
            93.92880855791887,
            263.13181237515494,
            231.92089556186548,
            238.0134356672923,
            63.79990342026715,
            181.33448161726258,
            239.45118826349466,
            244.8679121409794,
            143.82833638377596,
            250.0988984278204,
            219.23654869447984,
            -39.403018609751115,
            -40.575552124935285,
            -13.323094393819943,
            263.0759428089128,
            262.0545138040802,
            258.14808695498715,
            242.0517353098068,
            247.6803569994507,
            173.0261360448692,
            207.3860477441213,
            185.66365761083821,
            187.66631962379873,
            171.81777208199406,
            169.61941838772282,
            169.2074613884886,
            160.42224117156962,
            239.17224360027237,
            256.56104812616906,
            199.64679162881433,
            -114.05990840698783,
            -108.76006825283687,
            -103.63495811236753,
            -112.9986648124334,
            -104.38948962936213,
            35.48026616980994,
            224.28512208669602,
            -38.69082342095682,
            -106.09578136450055,
            -114.11481952825943,
            -25.489315355116076,
            265.1010081345677,
            -74.3533138393063,
            -102.81599046236656,
            -94.02449147187914,
            259.0371382262451,
            216.7440100947667,
            255.4083088961102,
            262.1376087128206,
            5.175924982678534,
            -114.0695041128794,
            21.357389861096678,
            -108.8830459364014,
            -114.06647036058456,
            -111.1877223101258,
            -113.96225642475635,
            -54.128605254599464,
            244.3852653088147,
            -51.37007060949838,
            -86.98847396174617,
            -113.86890591464825,
            -114.07425597315638,
            -112.63314060570148,
            -110.66371903700559,
            -92.75866962015137,
            -71.72666438184096,
            -24.077719179235288,
            -113.4522997584356,
            -68.6880313975858,
            -97.65165044834805,
            -101.06432941886283,
            -113.98581757457539,
            -110.39993596461984,
            -112.52902730599735,
            -110.06241673193696,
            -88.84011113832835,
            -106.01043099238713,
            -110.01357737506292,
            -105.62307747255365,
            -125.4452031501443,
            -76.63953006154641,
            -52.10746972241219,
            -120.71836396128064,
            -127.15037488078872,
            -33.34448289536163,
            -33.26934607962814,
            -29.71605486068884,
            -33.39917573262162,
            -33.42657562826328,
            -33.403335794243205,
            -32.35777992942307,
            -33.477671206137146,
            5.781477186955175,
            1.0393810121258416,
            0.9380847233908367,
            4.2518176238236025,
            1.0090566008790327
           ]
          },
          {
           "axis": {
            "matches": true
           },
           "label": "x3",
           "values": [
            -3.1727664679833407,
            -30.781976472386955,
            -16.75371478418628,
            -6.534282087383344,
            -13.158608319925362,
            -16.486291771558463,
            -7.380867354418702,
            -30.31560746591763,
            -34.01962029253158,
            -22.147547180467534,
            -28.9546193147987,
            -19.78036014295483,
            13.291046130493601,
            -11.819348345973316,
            -28.775838245184772,
            -7.812544207147672,
            13.124617935952184,
            -27.238774440486413,
            9.407268840676142,
            -17.82288119300745,
            -40.01264865847206,
            -32.977932757412766,
            -35.42964194390155,
            -41.74880652462189,
            -36.934937288648634,
            -28.46316797882984,
            -33.5000547789104,
            -30.946827990683147,
            -36.68128511953273,
            -31.068375036183955,
            -36.72775665663199,
            -40.69354971426425,
            -25.063051370085248,
            -37.000900249050204,
            -36.02367284134267,
            -19.255641270811196,
            -13.820689940282701,
            1.035683593915262,
            9.52798867972605,
            61.64288724511387,
            66.39749468885111,
            26.539160466998347,
            23.697480188746713,
            23.36042846542306,
            -2.037653163201939,
            2.3801016795714087,
            2.392567157518171,
            -37.3699011409692,
            -45.98543891182011,
            -19.44773007322647,
            7.552535104244821,
            -5.112001539171583,
            26.876641664048076,
            26.355072168968395,
            61.466744516789916,
            68.88262302644442,
            63.399952288293534,
            64.1232869540811,
            27.20033218554396,
            13.188897965794785,
            -1.4833401317088795,
            -21.778834429731603,
            -2.135070254083765,
            16.11726726810959,
            -6.60368018436763,
            75.79028309609626,
            65.21774801858116,
            30.520204055070526,
            18.398177950670124,
            21.67110430833734,
            29.98887495450767,
            21.61363715682954,
            29.022352125110743,
            30.367625738112515,
            38.68521138011147,
            9.292676505343923,
            -13.081489231554944,
            8.45744789437957,
            2.3495894075045642,
            15.322939637047808,
            23.583242642021858,
            -4.457903018053304,
            24.431153019611195,
            13.544676172254757,
            -6.786933676869927,
            -12.528523568265818,
            -4.891934202481856,
            -13.335781860560687,
            -33.15319623528117,
            -15.615887405508612,
            -18.098355217178668,
            -23.96972019714588,
            8.064655385739433,
            26.8834565635005,
            -10.122640029570986,
            -10.193058188707713,
            -20.347345588410928,
            -24.63347467331168,
            5.058864012330967,
            -14.615624051038223,
            -18.44107476708232,
            -11.793334330305695,
            -15.082482552731106,
            -24.48276663919831,
            -26.315297412956333,
            -31.81153497815638,
            -28.42068934561777,
            -22.74628237125872,
            -31.734318576953513,
            -27.482389959697105,
            0.5289659530619961,
            -15.40353057334059,
            -24.510014180560336,
            -26.518826261586945,
            -17.25593086188895,
            -19.73212602953621,
            -8.646276452685829,
            -16.147651719468023,
            -8.133559764537619,
            -3.232756491486473,
            -30.980946543796243,
            -41.58770492224737,
            -48.5943985815319,
            -52.21209322659316,
            -50.78839169508746,
            -45.0716579162829,
            -51.07827413069488,
            -27.529265634637596,
            -29.58762480808281,
            -26.76503617194274,
            -29.346621635487907,
            -28.45538907213097,
            -28.22855852254574,
            -26.764110369008897,
            -26.28939037505379,
            -29.21698645123185,
            -25.277600646789317,
            -29.143083312823826,
            -29.578430895278824,
            -29.202671064208193,
            -26.273325798312065,
            -32.29882074025656,
            -34.52952564041948,
            -34.496929638707705,
            -33.09098282478965,
            -29.323986624912447,
            -28.19852957713941,
            -31.39364947888021,
            -29.0223100200877,
            -29.097735919540057,
            -30.70411071748824,
            -31.936402796021554,
            -22.794716450396553,
            -29.16345605370339,
            -28.587344226067547,
            -12.983505562314186,
            -21.711010927099696,
            -29.655035945291754,
            -31.577234506840817,
            -31.910815166869206,
            -25.541253794351405,
            -24.655975370492456,
            -30.624310079978283,
            -27.464937383438755,
            -26.815443734850124,
            -23.914418136237146,
            -28.80045315997203,
            -13.385829009456684,
            -27.718867162265663,
            -27.829405418374037,
            -26.75596650890175,
            -29.90410784534983,
            -33.30836443545279,
            -29.418266527937977,
            -17.780232030373767,
            9.60495977464291,
            -1.5334196496772943,
            -21.04737885978733,
            -21.775393732481362,
            -19.18956979917022,
            -38.213272895209066,
            -22.48575027354261,
            -44.65715860014454,
            -47.36874066035482,
            -43.61422266931,
            -27.556369256050377,
            -15.385300226147999,
            41.51896684249551,
            51.0795046630607,
            43.26715949718609,
            56.98405107768679,
            49.70836699057098,
            53.26220605762594,
            62.41595793980751,
            56.14107015424512,
            57.821196486796666,
            63.00646983182514,
            61.69889541793694,
            59.70675974787412,
            93.4900331440101,
            94.85626150850825,
            62.76407317681714,
            80.29227165261585,
            63.23030261796726,
            64.35283444345669,
            14.760480108570247,
            -8.0085855887321,
            -23.809854969970626,
            -13.025939954445443,
            -45.11371223027545,
            -38.51008766253431,
            -36.548876051968676,
            -9.402321787374444,
            7.603727842267905,
            23.58479260332381,
            -0.22468118838318324,
            -11.255223718595868,
            -32.878526327190464,
            -40.343349716691215,
            -38.49852900592835,
            -31.865336350667295,
            -35.15185496538003,
            -23.676454121843108,
            -25.957856619408005,
            -23.473559959464282,
            -26.99999434595267,
            -29.620127670304925,
            -24.57526854202379,
            23.07806494140097,
            19.69342052338559,
            -16.281387068843223,
            -22.279150074261548,
            -19.51956641864119,
            -17.306994737955687,
            -14.306477291667484,
            -11.181528677513255,
            -22.64800006279362,
            -18.5323713935372,
            40.242126316759915,
            22.131913465406505,
            12.445422662856876,
            4.1042888203121946,
            13.983501715438946,
            48.586415343671,
            -6.285383083513855,
            -2.4685943605858855,
            25.057198020929672,
            -8.186418028640844,
            14.648267355189903,
            38.36097404955173,
            41.74388481902656,
            45.508934613840935,
            46.96133369247307,
            45.49918084142426,
            62.99100158974556,
            72.43793102983739,
            61.346504310874344,
            -21.366068209165984,
            -31.367569090686622,
            -31.485542147031513,
            -17.991435746878945,
            -23.412491415430896,
            -24.827877183764713,
            -27.763798328034095,
            -25.15318489541964,
            -3.71643118670657,
            -20.38765825143296,
            -6.3916137729013975,
            4.771247635028127,
            -7.089866868525245,
            7.717970753061331,
            27.623299698535064,
            -4.506522963499087,
            0.9388916514882916,
            30.978249533932903,
            23.554815810890105,
            18.789019339907988,
            35.042801282307195,
            31.244421994906798,
            15.464604334127568,
            -8.589059756205213,
            11.873773641929283,
            2.930823307232371,
            64.13912870324943,
            74.79805097481065,
            45.68982443864938,
            57.18208289674387,
            43.68133846170486,
            32.83021111832097,
            50.405525401756584,
            59.406047018750286,
            59.536723344067774,
            62.679142827838824,
            18.854194917509464,
            0.619557372620982,
            9.49188779833851,
            -5.558075463625301,
            -11.717372215069522,
            70.51338246809733,
            78.09365055630239,
            49.24593243207227,
            28.141389522783008,
            45.13237783181983,
            45.85669946439839,
            17.479481096978454,
            4.4193519317027095,
            -5.875238323089979,
            -4.762903865075078,
            -27.586299324751298,
            -23.70201174757009,
            6.474884511646033,
            -5.307220423614036,
            -34.23206738771845,
            -28.043919198225584,
            -31.612021893349798,
            -24.566328296462355,
            -29.220185014014223,
            -20.4502708557272,
            -16.51252202909774,
            -10.388273199654584,
            -6.3318146812395355,
            -7.81330324676323,
            -4.559941897821738,
            -23.24289683271295,
            2.996079886917223,
            22.400539994355192,
            11.490233963030777,
            -0.3133225427328064,
            27.626746801659063,
            34.54387131942858,
            23.22899213709348,
            35.290872127757936,
            40.32312090826316,
            -0.9274676924317219,
            -1.321714285106583,
            1.3853966366441908,
            -7.734700306058547,
            -17.79151038106788,
            -0.8122429792284936,
            -7.067429465013657,
            -16.927617353404628,
            18.685624862194967,
            1.370287104856698,
            33.56815399384837,
            55.441928673346894,
            3.0215199191537163,
            0.44520615658206547,
            72.73322854912082,
            61.653150393266785,
            37.95655627873478,
            30.29653132698083,
            57.24602521942563,
            69.67353627146568,
            54.879191236022514,
            72.66736051226385,
            74.87150730732904,
            -6.471697940563247,
            -1.4758343340537416,
            4.331542114502067,
            5.919987264122144,
            1.6885232437888642,
            -0.6880396646660781,
            -4.892835579158827,
            0.7770151362748436,
            6.2429685198596605,
            2.2399669041529133,
            -0.11030008757513587,
            -2.3273031011343988,
            -7.047979790153914,
            -4.668031370613374,
            -5.534980357241439,
            -7.460482656320232,
            0.898947403703191,
            -10.55573280438819,
            -10.942947366003414,
            -7.068072227188808,
            -3.6548067512818774,
            -8.360693559921392,
            -6.782284536926565,
            -9.33716833687836,
            -3.6762879308116476,
            -8.635970857073543,
            -9.47549018647647,
            -9.553106091483418,
            -0.9963597661253907,
            -8.804391311289509,
            -10.093805469322646,
            -2.477073444320962,
            -9.623917827656854,
            -8.370895742601016,
            -6.505227470991295,
            4.711438921279438,
            -7.422258630244441,
            -3.0806640456902596,
            -4.833505241250858,
            -7.834574836120422,
            -6.012824763909615,
            -8.192081593598893,
            -10.463666620731642,
            8.086937890523325,
            -9.949299657604485,
            -9.225409261595274,
            -8.678121611979792,
            -6.271087169718523,
            2.4282230087954,
            -9.817339660376007,
            -8.979725545097114,
            -6.928199743005671,
            -6.194450755422021,
            -4.054025998037711,
            0.5798445772559128,
            -0.7810134440425132,
            -1.9173304120733619,
            -4.992357660501461,
            -3.8663380417949273,
            -1.3577683377770988,
            6.116840344708665,
            4.642008129071092,
            -0.9609378815310375,
            16.56320383125801,
            -6.842681836112215,
            -3.3367817471659262,
            3.24604883519331,
            11.155678751669594,
            22.6375315044926,
            3.039297455366606,
            30.47673686372687,
            16.065059786782154,
            14.383956088970365,
            1.7469194361280969,
            9.003431579415379,
            2.6508703898427095,
            17.754353201243806,
            7.425721102132207,
            2.0452498329244135,
            1.4075443281611406,
            4.771674566702137,
            -0.6584026534773695,
            6.3916939319552375,
            -4.789186681070738,
            -3.5977138707078957,
            -6.702799539729435,
            -8.733504473384139,
            -8.781478769578989,
            -3.264274342067,
            2.7628661152715948,
            -4.296955721341517,
            -6.0207207602488015,
            -7.95293664829593,
            -5.557741088728768,
            6.101925660781297,
            -6.5063400057372505,
            -2.3253682994830775,
            -7.755142540638976,
            4.675954734672089,
            9.482909634922052,
            9.300782733518762,
            15.370200172400402,
            6.5416243497850255,
            3.2234080760550543,
            2.1894231188820963,
            0.3637805984021041,
            4.351086372375678,
            -0.4347825438434489,
            17.722082312184497,
            32.16732837034109,
            11.643902539742397,
            -3.460219090847316,
            13.604475617272337,
            24.086512915899473,
            3.421190993138823,
            -1.2816932026539003,
            10.490366164309304,
            16.748533449566008,
            -4.396360662693238,
            -5.274992613073301,
            -4.078097996078041,
            -6.483397766599266,
            -6.040949077784081,
            0.8497498810776135,
            18.525703515371237,
            11.184209765366726,
            9.617357384416534,
            37.154876739579656,
            36.18588002298594,
            28.461218286044303,
            6.824298872236645,
            27.354143141743773,
            0.030066965394279332,
            -3.552274984233044,
            -3.2506784352830254,
            -4.459132692101965,
            7.394593584308404,
            1.4008748008239584,
            9.8708548485381,
            20.033306496911464,
            -13.716547031449121,
            -11.318114998753666,
            -7.2229004337590395,
            -13.598570764393815,
            -18.234000725137484,
            -20.97809891282535,
            -26.794237605476663,
            -37.28526970339584,
            -35.98842980602287,
            -29.77252026746731
           ]
          }
         ],
         "marker": {
          "color": [
           24,
           21.6,
           34.7,
           33.4,
           36.2,
           28.7,
           22.9,
           27.1,
           16.5,
           18.9,
           15,
           18.9,
           21.7,
           20.4,
           18.2,
           19.9,
           23.1,
           17.5,
           20.2,
           18.2,
           13.6,
           19.6,
           15.2,
           14.5,
           15.6,
           13.9,
           16.6,
           14.8,
           18.4,
           21,
           12.7,
           14.5,
           13.2,
           13.1,
           13.5,
           18.9,
           20,
           21,
           24.7,
           30.8,
           34.9,
           26.6,
           25.3,
           24.7,
           21.2,
           19.3,
           20,
           16.6,
           14.4,
           19.4,
           19.7,
           20.5,
           25,
           23.4,
           18.9,
           35.4,
           24.7,
           31.6,
           23.3,
           19.6,
           18.7,
           16,
           22.2,
           25,
           33,
           23.5,
           19.4,
           22,
           17.4,
           20.9,
           24.2,
           21.7,
           22.8,
           23.4,
           24.1,
           21.4,
           20,
           20.8,
           21.2,
           20.3,
           28,
           23.9,
           24.8,
           22.9,
           23.9,
           26.6,
           22.5,
           22.2,
           23.6,
           28.7,
           22.6,
           22,
           22.9,
           25,
           20.6,
           28.4,
           21.4,
           38.7,
           43.8,
           33.2,
           27.5,
           26.5,
           18.6,
           19.3,
           20.1,
           19.5,
           19.5,
           20.4,
           19.8,
           19.4,
           21.7,
           22.8,
           18.8,
           18.7,
           18.5,
           18.3,
           21.2,
           19.2,
           20.4,
           19.3,
           22,
           20.3,
           20.5,
           17.3,
           18.8,
           21.4,
           15.7,
           16.2,
           18,
           14.3,
           19.2,
           19.6,
           23,
           18.4,
           15.6,
           18.1,
           17.4,
           17.1,
           13.3,
           17.8,
           14,
           14.4,
           13.4,
           15.6,
           11.8,
           13.8,
           15.6,
           14.6,
           17.8,
           15.4,
           21.5,
           19.6,
           15.3,
           19.4,
           17,
           15.6,
           13.1,
           41.3,
           24.3,
           23.3,
           27,
           50,
           50,
           50,
           22.7,
           25,
           50,
           23.8,
           23.8,
           22.3,
           17.4,
           19.1,
           23.1,
           23.6,
           22.6,
           29.4,
           23.2,
           24.6,
           29.9,
           37.2,
           39.8,
           36.2,
           37.9,
           32.5,
           26.4,
           29.6,
           50,
           32,
           29.8,
           34.9,
           37,
           30.5,
           36.4,
           31.1,
           29.1,
           50,
           33.3,
           30.3,
           34.6,
           34.9,
           32.9,
           24.1,
           42.3,
           48.5,
           50,
           22.6,
           24.4,
           22.5,
           24.4,
           20,
           21.7,
           19.3,
           22.4,
           28.1,
           23.7,
           25,
           23.3,
           28.7,
           21.5,
           23,
           26.7,
           21.7,
           27.5,
           30.1,
           44.8,
           50,
           37.6,
           31.6,
           46.7,
           31.5,
           24.3,
           31.7,
           41.7,
           48.3,
           29,
           24,
           25.1,
           31.5,
           23.7,
           23.3,
           22,
           20.1,
           22.2,
           23.7,
           17.6,
           18.5,
           24.3,
           20.5,
           24.5,
           26.2,
           24.4,
           24.8,
           29.6,
           42.8,
           21.9,
           20.9,
           44,
           50,
           36,
           30.1,
           33.8,
           43.1,
           48.8,
           31,
           36.5,
           22.8,
           30.7,
           50,
           43.5,
           20.7,
           21.1,
           25.2,
           24.4,
           35.2,
           32.4,
           32,
           33.2,
           33.1,
           29.1,
           35.1,
           45.4,
           35.4,
           46,
           50,
           32.2,
           22,
           20.1,
           23.2,
           22.3,
           24.8,
           28.5,
           37.3,
           27.9,
           23.9,
           21.7,
           28.6,
           27.1,
           20.3,
           22.5,
           29,
           24.8,
           22,
           26.4,
           33.1,
           36.1,
           28.4,
           33.4,
           28.2,
           22.8,
           20.3,
           16.1,
           22.1,
           19.4,
           21.6,
           23.8,
           16.2,
           17.8,
           19.8,
           23.1,
           21,
           23.8,
           23.1,
           20.4,
           18.5,
           25,
           24.6,
           23,
           22.2,
           19.3,
           22.6,
           19.8,
           17.1,
           19.4,
           22.2,
           20.7,
           21.1,
           19.5,
           18.5,
           20.6,
           19,
           18.7,
           32.7,
           16.5,
           23.9,
           31.2,
           17.5,
           17.2,
           23.1,
           24.5,
           26.6,
           22.9,
           24.1,
           18.6,
           30.1,
           18.2,
           20.6,
           17.8,
           21.7,
           22.7,
           22.6,
           25,
           19.9,
           20.8,
           16.8,
           21.9,
           27.5,
           21.9,
           23.1,
           50,
           50,
           50,
           50,
           50,
           13.8,
           13.8,
           15,
           13.9,
           13.3,
           13.1,
           10.2,
           10.4,
           10.9,
           11.3,
           12.3,
           8.8,
           7.2,
           10.5,
           7.4,
           10.2,
           11.5,
           15.1,
           23.2,
           9.7,
           13.8,
           12.7,
           13.1,
           12.5,
           8.5,
           5,
           6.3,
           5.6,
           7.2,
           12.1,
           8.3,
           8.5,
           5,
           11.9,
           27.9,
           17.2,
           27.5,
           15,
           17.2,
           17.9,
           16.3,
           7,
           7.2,
           7.5,
           10.4,
           8.8,
           8.4,
           16.7,
           14.2,
           20.8,
           13.4,
           11.7,
           8.3,
           10.2,
           10.9,
           11,
           9.5,
           14.5,
           14.1,
           16.1,
           14.3,
           11.7,
           13.4,
           9.6,
           8.7,
           8.4,
           12.8,
           10.5,
           17.1,
           18.4,
           15.4,
           10.8,
           11.8,
           14.9,
           12.6,
           14.1,
           13,
           13.4,
           15.2,
           16.1,
           17.8,
           14.9,
           14.1,
           12.7,
           13.5,
           14.9,
           20,
           16.4,
           17.7,
           19.5,
           20.2,
           21.4,
           19.9,
           19,
           19.1,
           19.1,
           20.1,
           19.9,
           19.6,
           23.2,
           29.8,
           13.8,
           13.3,
           16.7,
           12,
           14.6,
           21.4,
           23,
           23.7,
           25,
           21.8,
           20.6,
           21.2,
           19.1,
           20.6,
           15.2,
           7,
           8.1,
           13.6,
           20.1,
           21.8,
           24.5,
           23.1,
           19.7,
           18.3,
           21.2,
           17.5,
           16.8,
           22.4,
           20.6,
           23.9,
           22,
           11.9
          ],
          "coloraxis": "coloraxis"
         },
         "opacity": 0.65,
         "type": "splom",
         "xaxis": "x",
         "yaxis": "y"
        }
       ],
       "frames": [],
       "layout": {
        "dragmode": "select",
        "font": {
         "color": "Black",
         "family": "Courier New",
         "size": 14
        },
        "legend": {
         "tracegroupgap": 0
        },
        "margin": {
         "b": 50,
         "l": 50,
         "r": 50,
         "t": 60
        },
        "template": {
         "data": {
          "bar": [
           {
            "error_x": {
             "color": "#2a3f5f"
            },
            "error_y": {
             "color": "#2a3f5f"
            },
            "marker": {
             "line": {
              "color": "#E5ECF6",
              "width": 0.5
             }
            },
            "type": "bar"
           }
          ],
          "barpolar": [
           {
            "marker": {
             "line": {
              "color": "#E5ECF6",
              "width": 0.5
             }
            },
            "type": "barpolar"
           }
          ],
          "carpet": [
           {
            "aaxis": {
             "endlinecolor": "#2a3f5f",
             "gridcolor": "white",
             "linecolor": "white",
             "minorgridcolor": "white",
             "startlinecolor": "#2a3f5f"
            },
            "baxis": {
             "endlinecolor": "#2a3f5f",
             "gridcolor": "white",
             "linecolor": "white",
             "minorgridcolor": "white",
             "startlinecolor": "#2a3f5f"
            },
            "type": "carpet"
           }
          ],
          "choropleth": [
           {
            "colorbar": {
             "outlinewidth": 0,
             "ticks": ""
            },
            "type": "choropleth"
           }
          ],
          "contour": [
           {
            "colorbar": {
             "outlinewidth": 0,
             "ticks": ""
            },
            "colorscale": [
             [
              0,
              "#0d0887"
             ],
             [
              0.1111111111111111,
              "#46039f"
             ],
             [
              0.2222222222222222,
              "#7201a8"
             ],
             [
              0.3333333333333333,
              "#9c179e"
             ],
             [
              0.4444444444444444,
              "#bd3786"
             ],
             [
              0.5555555555555556,
              "#d8576b"
             ],
             [
              0.6666666666666666,
              "#ed7953"
             ],
             [
              0.7777777777777778,
              "#fb9f3a"
             ],
             [
              0.8888888888888888,
              "#fdca26"
             ],
             [
              1,
              "#f0f921"
             ]
            ],
            "type": "contour"
           }
          ],
          "contourcarpet": [
           {
            "colorbar": {
             "outlinewidth": 0,
             "ticks": ""
            },
            "type": "contourcarpet"
           }
          ],
          "heatmap": [
           {
            "colorbar": {
             "outlinewidth": 0,
             "ticks": ""
            },
            "colorscale": [
             [
              0,
              "#0d0887"
             ],
             [
              0.1111111111111111,
              "#46039f"
             ],
             [
              0.2222222222222222,
              "#7201a8"
             ],
             [
              0.3333333333333333,
              "#9c179e"
             ],
             [
              0.4444444444444444,
              "#bd3786"
             ],
             [
              0.5555555555555556,
              "#d8576b"
             ],
             [
              0.6666666666666666,
              "#ed7953"
             ],
             [
              0.7777777777777778,
              "#fb9f3a"
             ],
             [
              0.8888888888888888,
              "#fdca26"
             ],
             [
              1,
              "#f0f921"
             ]
            ],
            "type": "heatmap"
           }
          ],
          "heatmapgl": [
           {
            "colorbar": {
             "outlinewidth": 0,
             "ticks": ""
            },
            "colorscale": [
             [
              0,
              "#0d0887"
             ],
             [
              0.1111111111111111,
              "#46039f"
             ],
             [
              0.2222222222222222,
              "#7201a8"
             ],
             [
              0.3333333333333333,
              "#9c179e"
             ],
             [
              0.4444444444444444,
              "#bd3786"
             ],
             [
              0.5555555555555556,
              "#d8576b"
             ],
             [
              0.6666666666666666,
              "#ed7953"
             ],
             [
              0.7777777777777778,
              "#fb9f3a"
             ],
             [
              0.8888888888888888,
              "#fdca26"
             ],
             [
              1,
              "#f0f921"
             ]
            ],
            "type": "heatmapgl"
           }
          ],
          "histogram": [
           {
            "marker": {
             "colorbar": {
              "outlinewidth": 0,
              "ticks": ""
             }
            },
            "type": "histogram"
           }
          ],
          "histogram2d": [
           {
            "colorbar": {
             "outlinewidth": 0,
             "ticks": ""
            },
            "colorscale": [
             [
              0,
              "#0d0887"
             ],
             [
              0.1111111111111111,
              "#46039f"
             ],
             [
              0.2222222222222222,
              "#7201a8"
             ],
             [
              0.3333333333333333,
              "#9c179e"
             ],
             [
              0.4444444444444444,
              "#bd3786"
             ],
             [
              0.5555555555555556,
              "#d8576b"
             ],
             [
              0.6666666666666666,
              "#ed7953"
             ],
             [
              0.7777777777777778,
              "#fb9f3a"
             ],
             [
              0.8888888888888888,
              "#fdca26"
             ],
             [
              1,
              "#f0f921"
             ]
            ],
            "type": "histogram2d"
           }
          ],
          "histogram2dcontour": [
           {
            "colorbar": {
             "outlinewidth": 0,
             "ticks": ""
            },
            "colorscale": [
             [
              0,
              "#0d0887"
             ],
             [
              0.1111111111111111,
              "#46039f"
             ],
             [
              0.2222222222222222,
              "#7201a8"
             ],
             [
              0.3333333333333333,
              "#9c179e"
             ],
             [
              0.4444444444444444,
              "#bd3786"
             ],
             [
              0.5555555555555556,
              "#d8576b"
             ],
             [
              0.6666666666666666,
              "#ed7953"
             ],
             [
              0.7777777777777778,
              "#fb9f3a"
             ],
             [
              0.8888888888888888,
              "#fdca26"
             ],
             [
              1,
              "#f0f921"
             ]
            ],
            "type": "histogram2dcontour"
           }
          ],
          "mesh3d": [
           {
            "colorbar": {
             "outlinewidth": 0,
             "ticks": ""
            },
            "type": "mesh3d"
           }
          ],
          "parcoords": [
           {
            "line": {
             "colorbar": {
              "outlinewidth": 0,
              "ticks": ""
             }
            },
            "type": "parcoords"
           }
          ],
          "pie": [
           {
            "automargin": true,
            "type": "pie"
           }
          ],
          "scatter": [
           {
            "marker": {
             "colorbar": {
              "outlinewidth": 0,
              "ticks": ""
             }
            },
            "type": "scatter"
           }
          ],
          "scatter3d": [
           {
            "line": {
             "colorbar": {
              "outlinewidth": 0,
              "ticks": ""
             }
            },
            "marker": {
             "colorbar": {
              "outlinewidth": 0,
              "ticks": ""
             }
            },
            "type": "scatter3d"
           }
          ],
          "scattercarpet": [
           {
            "marker": {
             "colorbar": {
              "outlinewidth": 0,
              "ticks": ""
             }
            },
            "type": "scattercarpet"
           }
          ],
          "scattergeo": [
           {
            "marker": {
             "colorbar": {
              "outlinewidth": 0,
              "ticks": ""
             }
            },
            "type": "scattergeo"
           }
          ],
          "scattergl": [
           {
            "marker": {
             "colorbar": {
              "outlinewidth": 0,
              "ticks": ""
             }
            },
            "type": "scattergl"
           }
          ],
          "scattermapbox": [
           {
            "marker": {
             "colorbar": {
              "outlinewidth": 0,
              "ticks": ""
             }
            },
            "type": "scattermapbox"
           }
          ],
          "scatterpolar": [
           {
            "marker": {
             "colorbar": {
              "outlinewidth": 0,
              "ticks": ""
             }
            },
            "type": "scatterpolar"
           }
          ],
          "scatterpolargl": [
           {
            "marker": {
             "colorbar": {
              "outlinewidth": 0,
              "ticks": ""
             }
            },
            "type": "scatterpolargl"
           }
          ],
          "scatterternary": [
           {
            "marker": {
             "colorbar": {
              "outlinewidth": 0,
              "ticks": ""
             }
            },
            "type": "scatterternary"
           }
          ],
          "surface": [
           {
            "colorbar": {
             "outlinewidth": 0,
             "ticks": ""
            },
            "colorscale": [
             [
              0,
              "#0d0887"
             ],
             [
              0.1111111111111111,
              "#46039f"
             ],
             [
              0.2222222222222222,
              "#7201a8"
             ],
             [
              0.3333333333333333,
              "#9c179e"
             ],
             [
              0.4444444444444444,
              "#bd3786"
             ],
             [
              0.5555555555555556,
              "#d8576b"
             ],
             [
              0.6666666666666666,
              "#ed7953"
             ],
             [
              0.7777777777777778,
              "#fb9f3a"
             ],
             [
              0.8888888888888888,
              "#fdca26"
             ],
             [
              1,
              "#f0f921"
             ]
            ],
            "type": "surface"
           }
          ],
          "table": [
           {
            "cells": {
             "fill": {
              "color": "#EBF0F8"
             },
             "line": {
              "color": "white"
             }
            },
            "header": {
             "fill": {
              "color": "#C8D4E3"
             },
             "line": {
              "color": "white"
             }
            },
            "type": "table"
           }
          ]
         },
         "layout": {
          "annotationdefaults": {
           "arrowcolor": "#2a3f5f",
           "arrowhead": 0,
           "arrowwidth": 1
          },
          "autotypenumbers": "strict",
          "coloraxis": {
           "colorbar": {
            "outlinewidth": 0,
            "ticks": ""
           }
          },
          "colorscale": {
           "diverging": [
            [
             0,
             "#8e0152"
            ],
            [
             0.1,
             "#c51b7d"
            ],
            [
             0.2,
             "#de77ae"
            ],
            [
             0.3,
             "#f1b6da"
            ],
            [
             0.4,
             "#fde0ef"
            ],
            [
             0.5,
             "#f7f7f7"
            ],
            [
             0.6,
             "#e6f5d0"
            ],
            [
             0.7,
             "#b8e186"
            ],
            [
             0.8,
             "#7fbc41"
            ],
            [
             0.9,
             "#4d9221"
            ],
            [
             1,
             "#276419"
            ]
           ],
           "sequential": [
            [
             0,
             "#0d0887"
            ],
            [
             0.1111111111111111,
             "#46039f"
            ],
            [
             0.2222222222222222,
             "#7201a8"
            ],
            [
             0.3333333333333333,
             "#9c179e"
            ],
            [
             0.4444444444444444,
             "#bd3786"
            ],
            [
             0.5555555555555556,
             "#d8576b"
            ],
            [
             0.6666666666666666,
             "#ed7953"
            ],
            [
             0.7777777777777778,
             "#fb9f3a"
            ],
            [
             0.8888888888888888,
             "#fdca26"
            ],
            [
             1,
             "#f0f921"
            ]
           ],
           "sequentialminus": [
            [
             0,
             "#0d0887"
            ],
            [
             0.1111111111111111,
             "#46039f"
            ],
            [
             0.2222222222222222,
             "#7201a8"
            ],
            [
             0.3333333333333333,
             "#9c179e"
            ],
            [
             0.4444444444444444,
             "#bd3786"
            ],
            [
             0.5555555555555556,
             "#d8576b"
            ],
            [
             0.6666666666666666,
             "#ed7953"
            ],
            [
             0.7777777777777778,
             "#fb9f3a"
            ],
            [
             0.8888888888888888,
             "#fdca26"
            ],
            [
             1,
             "#f0f921"
            ]
           ]
          },
          "colorway": [
           "#636efa",
           "#EF553B",
           "#00cc96",
           "#ab63fa",
           "#FFA15A",
           "#19d3f3",
           "#FF6692",
           "#B6E880",
           "#FF97FF",
           "#FECB52"
          ],
          "font": {
           "color": "#2a3f5f"
          },
          "geo": {
           "bgcolor": "white",
           "lakecolor": "white",
           "landcolor": "#E5ECF6",
           "showlakes": true,
           "showland": true,
           "subunitcolor": "white"
          },
          "hoverlabel": {
           "align": "left"
          },
          "hovermode": "closest",
          "mapbox": {
           "style": "light"
          },
          "paper_bgcolor": "white",
          "plot_bgcolor": "#E5ECF6",
          "polar": {
           "angularaxis": {
            "gridcolor": "white",
            "linecolor": "white",
            "ticks": ""
           },
           "bgcolor": "#E5ECF6",
           "radialaxis": {
            "gridcolor": "white",
            "linecolor": "white",
            "ticks": ""
           }
          },
          "scene": {
           "xaxis": {
            "backgroundcolor": "#E5ECF6",
            "gridcolor": "white",
            "gridwidth": 2,
            "linecolor": "white",
            "showbackground": true,
            "ticks": "",
            "zerolinecolor": "white"
           },
           "yaxis": {
            "backgroundcolor": "#E5ECF6",
            "gridcolor": "white",
            "gridwidth": 2,
            "linecolor": "white",
            "showbackground": true,
            "ticks": "",
            "zerolinecolor": "white"
           },
           "zaxis": {
            "backgroundcolor": "#E5ECF6",
            "gridcolor": "white",
            "gridwidth": 2,
            "linecolor": "white",
            "showbackground": true,
            "ticks": "",
            "zerolinecolor": "white"
           }
          },
          "shapedefaults": {
           "line": {
            "color": "#2a3f5f"
           }
          },
          "ternary": {
           "aaxis": {
            "gridcolor": "white",
            "linecolor": "white",
            "ticks": ""
           },
           "baxis": {
            "gridcolor": "white",
            "linecolor": "white",
            "ticks": ""
           },
           "bgcolor": "#E5ECF6",
           "caxis": {
            "gridcolor": "white",
            "linecolor": "white",
            "ticks": ""
           }
          },
          "title": {
           "x": 0.05
          },
          "xaxis": {
           "automargin": true,
           "gridcolor": "white",
           "linecolor": "white",
           "ticks": "",
           "title": {
            "standoff": 15
           },
           "zerolinecolor": "white",
           "zerolinewidth": 2
          },
          "yaxis": {
           "automargin": true,
           "gridcolor": "white",
           "linecolor": "white",
           "ticks": "",
           "title": {
            "standoff": 15
           },
           "zerolinecolor": "white",
           "zerolinewidth": 2
          }
         }
        }
       }
      },
      "text/html": [
       "<html>\n",
       "<head><meta chartset=\"utf-8\" /></head>\n",
       "<body>\n",
       "<div>\n",
       "    <script src=\"https://cdnjs.cloudflare.com/ajax/libs/mathjax/2.7.5/MathJax.js?config=TeX-AMS-MML_SVG\"></script>\n",
       "    <script type=\"text/javascript\">\n",
       "window.PlotlyConfig = {MathJaxConfig: 'local'};\n",
       "</script>\n",
       "<script type=\"text/javascript\">\n",
       "if (window.MathJax) {MathJax.Hub.Config({SVG: {font: \"STIX-Web\"}});}\n",
       "</script>\n",
       "<script type=\"text/javascript\">\n",
       "    if (typeof require !== 'undefined') {\n",
       "        require.undef(\"plotly\");\n",
       "        requirejs.config({\n",
       "            paths: {\n",
       "                'plotly': ['https://cdn.plot.ly/plotly-2.3.0.min']\n",
       "            }\n",
       "        });\n",
       "        require(['plotly'], function(Plotly) {\n",
       "            window._Plotly = Plotly;\n",
       "        });\n",
       "    }\n",
       "</script>\n",
       "\n",
       "    <div\n",
       "        id=ffd6d71f-c1e9-4b7c-bfb9-9d77f5071e20\n",
       "        class=\"plotly-graph-div\"\n",
       "        style=\"height:100%; width:100%;\">\n",
       "    </div>\n",
       "    <script type=\"text/javascript\">\n",
       "        require([\"plotly\"], function(Plotly) {\n",
       "        window.PLOTLYENV = window.PLOTLYENV || {}\n",
       "        \n",
       "        if (document.getElementById('ffd6d71f-c1e9-4b7c-bfb9-9d77f5071e20')) {\n",
       "    Plotly.newPlot(\n",
       "        'ffd6d71f-c1e9-4b7c-bfb9-9d77f5071e20',\n",
       "        [{\"xaxis\":\"x\",\"type\":\"splom\",\"opacity\":0.65,\"yaxis\":\"y\",\"diagonal\":{\"visible\":false},\"dimensions\":[{\"values\":[-119.81884673108141,-168.89015955652968,-169.31171157094445,-190.23064642595293,-190.13345517374884,-188.9505807052423,-104.33600054203879,-102.09431230562971,-98.5282753404634,-100.03015895824589,-100.93997471215374,-103.33559784306037,-105.08279487356066,-108.4491265829297,-101.5873090973821,-108.51337110185916,-108.26520249646862,-103.67445657921282,-79.04098665397302,-105.99405820573162,-99.17536292063112,-104.74609192788479,-105.68626868575338,-104.28576163306732,-104.80928589866603,-79.02965108090972,-100.08353484899905,-79.61186692525655,-103.00397397789233,-101.36336239287176,-94.7042294807418,-99.24618745888114,-58.43935708035542,-94.3152108885443,-61.929425460395656,-134.50861045010618,-129.40449397732226,-136.76570629021586,-136.6658191608434,-167.25017775826015,-167.8030810564454,-180.5079349894229,-179.58103593324256,-182.7811407113871,-178.45543598226672,-181.13992133001057,-181.09096641049632,-175.41008930648215,-175.5261265442353,-178.6489919872281,-171.10922508698027,-169.29306564051814,-173.7459606104538,-173.64811067632422,40.90524701507331,-192.64912144676725,-109.0639676274973,-162.18440178479122,-132.27723091520804,-132.5245112055289,-130.32438371243833,-123.0574391498733,-130.861127549685,-132.458663838565,-195.06858413660507,-87.3992536525037,-86.15831199125067,-76.1842444754963,-74.98013403962172,-75.39715429183941,-111.11987575989214,-108.15579686838774,-113.13748622631358,-109.22078263125884,-25.995348697752675,-19.28092648792983,-13.95410506189457,-20.267111234466352,-19.402895415099238,-23.715959423586547,-136.79399278131143,-133.29355718766166,-136.86954394575187,-133.81557787328117,-166.7369447019884,-164.78864397163875,-166.6373509969702,-165.51071375723458,-141.85540051608683,-143.54662900388044,-142.09174012508984,-141.85256803901322,-144.7789413380863,-147.2739579113471,-143.29089006917522,-127.19165167953842,-135.95458311020178,-137.06144923041307,-139.3656499798135,-138.14584201602665,-33.10147230284196,-34.1012540717596,61.73256025005902,-32.29458722467918,-31.584455713363823,-31.322956704713423,-32.14546112194394,-30.48766491867653,-31.735417104964565,-30.982291701610485,-34.78271551739593,12.471555867471148,13.745523761176944,13.408331231377817,14.69501948770815,27.915366231853014,12.421699360936758,12.874738521849132,28.47118034879095,12.372103704109193,-218.01531212431462,-213.46977737150976,-212.7707404267265,-209.98780722146054,-212.9111193273471,-215.23400408145085,-206.8447661824891,19.876619919543757,18.675480113028094,18.41637854645465,19.15988710697088,18.53420028118546,21.750858910354292,20.77029673728431,57.76648095489205,19.315701047807288,23.697568299386024,19.44542467045373,20.17607514327499,18.67833545483248,21.01095104964398,19.25450155430391,-13.217659772539735,-13.204759936676385,-13.360417804165424,52.00578088944135,52.80337320036995,-12.031943335258305,-2.1093594598269187,-0.6667686465676558,-6.768492700401059,2.520838185646806,0.990877334783026,25.66709367448318,8.217498200449619,75.01348270611852,75.78124911249239,-4.2650698181976,-1.221876224882502,-4.23239530328766,2.4949218410212093,-8.080300190049583,-11.867721128794685,-11.868097918268168,-13.769924013446865,31.433349636579848,-6.074514915068775,33.95386133864259,15.12581966232704,5.4631528673022,16.44097844060663,0.3827383769230228,-116.61133756696357,-116.70395229607422,-117.31700564414686,-119.7363299007689,-119.11054677802169,-117.69643340741115,-116.33501035202609,-217.30735507106053,-214.77693177044316,-216.8855496074702,-213.67438863866843,-214.17989457587146,-212.75665239815106,-213.4023788985067,-216.4823051460638,-25.00105739222304,-22.844623519659272,-26.102471662059397,-21.97920486092503,-24.714562393025975,-25.359820108695846,-154.68198020021967,-149.09793213867988,-163.44001305241085,-93.81512931148669,-81.0987132420337,-92.03692111300852,-26.633087991396863,-23.083934369041398,-74.49684307507047,-76.96536542467058,-192.9252349863765,-192.40652987985615,-140.1384424333625,-137.01970309244462,-133.58211997118778,-132.43873301842453,-133.349876203734,-133.08955161804425,-133.799904570439,-135.64554891395645,-136.10712426135996,-126.77813355247989,-137.5357789605301,-136.88615049494223,-134.53642242726036,-134.8143216349337,-134.18489686512837,-104.56063905492228,-105.0866432745649,-105.07216910925482,-106.76215029324939,-103.6078978173477,-102.30969816223288,-103.62370133296385,-99.64402215622444,-106.54687478847046,-107.00117489142285,-102.33342697201753,-101.10453700007709,-104.31348869680227,-102.50100341477058,-97.26757125245702,-102.443169413825,-104.62498807149456,-105.61802982460105,-115.02852824527278,-114.29571528714743,-115.36783911281978,-115.42187383550932,-110.1053185357497,-114.58564777890548,-79.10228971748113,-84.33876094016495,-87.80707603958105,-79.99502172939357,-82.11008620575261,-90.36226914007229,-91.49184531276272,-86.29121544674531,-89.10939161913389,-92.11654111143076,-106.0368169745961,-107.72119361126455,-171.78552757602293,-146.1384263196558,-143.11234703285533,-145.64928380951852,-147.36755868586346,-145.4960311138231,-144.914045140867,-146.43945396199717,-145.15076985601652,-148.81114484837408,-144.46446207174972,-146.25142008605434,-149.23445776787392,-187.4839176322997,-188.33511713170796,-193.0469469360805,-188.90814769682396,-188.29254872770454,-163.13623562365842,-162.32107878786258,-159.5079332491569,-162.56542550388033,-163.11857493343135,-198.43594304290116,-192.97699169993396,-196.67651683036294,-191.2523404585851,-219.10446303234787,-136.42008556564548,-119.73087958250582,-161.32026651919753,-126.65981478126952,-125.45321386719817,-119.97536991914086,-173.89023997681605,-173.9007405826026,-174.23485569429636,-129.0525707615389,-127.01185284257288,-128.04570315141677,-125.17832761330585,-125.57737101757425,-58.47471689251874,-60.298441000448044,-62.75486007107032,-90.43714005417729,-88.75893956286112,-90.89136143686929,-191.50186182046335,-189.9360224549098,-189.86780267586607,-189.97793053163662,-109.61286755407866,-109.78317681705171,-99.56839930089791,-112.04998959780796,-108.61558647350628,-108.49427166793632,-108.75571612906835,-109.7248833421809,-107.44112554314809,-110.26550427947679,-110.2705516276541,-111.2163546583642,-128.26017629919684,-128.10001218342336,-128.44478390985253,-124.63268296439388,-129.3013748184233,-130.52075490304046,-130.24292343764247,-128.8543643143727,9.426919919939799,10.752328091815361,13.97593155121746,-114.92930110701685,-106.21019552264299,-187.29703220831473,-187.14913866706505,-189.63541461728525,-188.60248118992988,-186.8667334408866,-189.16096299090597,-188.67590839442883,-187.59042160314314,-132.68703776637375,2.256186817832059,-51.612155138985244,-51.44223982994406,-63.69481597544753,-57.202555450802876,-72.133529951715,-138.81916786996135,-84.26755228438826,-85.4891106638153,-7.168625327694539,-14.846233714242892,-225.17241916279838,-85.75530033976256,-84.0427395287851,242.72154986638492,237.97034855182716,236.14107895369585,237.33243201519457,242.50055616166856,249.85066853809997,241.40575081930933,249.00373350486288,247.8138895620017,248.27005806881132,259.95433137233255,314.71074307143044,243.14048019544515,242.95941830969392,238.15719826555434,246.139646208905,250.54790684326167,237.82023710820943,238.11130728569466,237.40053811454794,246.98114330510444,237.36840715150714,237.6124973360722,238.63753451474116,239.01724896900467,237.56633487745145,237.50429022071822,237.49164809429612,269.5968145687349,237.73550880936406,238.05895857334684,237.21254497444028,244.8002632013747,237.31806947100088,237.75613623505296,241.204484766433,237.37049808752465,236.67394851578845,237.01520741996882,238.6722255073773,236.97393487596338,238.3895091763756,238.5198039638383,252.92147551103653,238.04106418490963,237.57605888633518,243.49381130333256,237.53876324552132,256.95710727283426,242.6858868242286,245.610063360285,256.1978161260656,261.2969789703103,300.9213406157453,353.252024631058,342.9685880271634,345.2349823140399,292.1405104802986,328.76179978074975,345.5362031681191,346.13337593423415,315.6481264254112,350.11324013565786,337.06827637744965,260.1189974419582,259.2646043986828,267.01036451041773,351.03560069511224,349.4045625327373,350.6786898594598,342.44498027930774,346.45006124785186,322.9836276494647,335.050064446943,327.4630257326399,328.8584405050166,322.10552318615316,322.6189312563574,323.3054984186206,320.6923562193043,344.5451433017038,350.612754502076,332.36605769276025,236.98192929533266,238.796326652903,240.37399638511565,237.58912132280616,240.37613718959076,282.8685426879904,340.16263876697985,259.9550572834539,239.51281936645546,237.269006504912,264.20307642867346,352.15687687014105,249.2205449705489,239.9864748593563,243.37728522021837,350.540120902301,336.8688321838959,348.78022972619334,350.23204138371284,272.23319167295574,235.91741934268498,277.62394631611073,237.75335617406446,235.77937122919104,237.14340830653867,234.32305110148044,250.96945222545588,345.0840839100321,255.95235096858264,243.33207739330211,233.78562845649768,235.84636461865952,236.7758365731154,236.05511082131326,240.85050470949776,249.8624691408551,264.6268832519347,236.92475626686343,251.2859258988088,242.1354388246235,240.36226138220692,234.14544737568195,236.041666648453,235.55674782250364,233.16457653014214,239.81699008462164,235.41577418444143,236.73003545778698,235.70097273904273,279.13830123420456,294.6074664866141,302.17504120261094,281.0967141172436,277.73003084259267,-29.111136872386197,-30.02545180011694,-30.041676603650256,-27.319947518914102,-27.675537182392098,-28.143815188113116,-27.08013598009521,-26.90816736200444,-138.69793680861162,-139.5044432552248,-138.38716706068197,-137.5051773871509,-139.19033696854575],\"label\":\"x1\",\"axis\":{\"matches\":true}},{\"values\":[-5.560063775911821,10.11620084809733,14.0805242804377,18.30245495666456,16.097939193900327,18.729154400893865,-8.735517047921938,-10.108036907713617,-0.24791634891353023,-0.3176753112319383,-5.901417439094898,-10.06655417977071,-3.6821872610219866,-8.824303348468703,7.197680791654659,-7.568983877687711,0.9643516141007155,0.8049061213263665,94.52177873846811,-3.1614379319051595,10.484399500356194,-4.769223959160398,-8.931248424529427,-6.717174573346412,-6.504700729581783,80.47145612304786,10.193339007531174,77.62879465268465,-0.4162289868996784,6.993342748826779,26.197162071308938,10.27551907812301,148.27754364646879,27.506131430285855,133.1296495503079,-0.6628911477325935,17.87872520630749,-0.5150707151436211,2.8760275136511253,8.804343359082893,8.834941283373949,24.13746192328924,26.07236531465279,15.478430164505705,20.1464357741063,13.004769284064027,13.030504272573685,16.736891246762077,12.772361277535952,12.878584010267895,11.337872280608499,12.735769925900032,10.150210808398603,10.166447843498755,-55.96132499742668,16.133586650974976,-10.282912700138526,10.165288032885904,4.038066359516743,-1.999503449403667,-0.3736589900321685,15.761972594549563,-2.131402380894247,-0.7131537576176721,21.3629138009106,-17.23851782364974,-17.2826340982908,-19.01866807334712,-19.73736616510437,-19.740362579839584,4.648506434580787,11.097125389292872,-2.2307637568732774,10.928720462905812,-33.258994456653475,-22.291760881586647,-13.292569776127342,-25.855474784985635,-25.353126752716076,-34.510791803156614,-1.0296341679507646,-0.015328869660722687,-1.0141336059277761,4.893080643295751,8.83621987533446,13.170490310721899,9.741372259789756,10.452049533763622,1.8834647834759037,2.820570690074806,6.530922590949204,5.172747504181437,3.849996894608011,2.7177640376929744,1.9211252975431,37.51568709200446,5.108282773179709,0.1834392597521316,3.625473726956856,0.2715242832999724,-29.40429965222859,-30.14942877164769,280.3358528114565,-29.14655987294905,-27.466411545585878,-28.78155454710595,-30.29018051628128,-22.648067172845256,-29.945608135617388,-26.05779083587725,-28.023847437067296,-44.24720720510876,-43.66528205918726,-45.53827180146572,-37.710617240271255,4.206658055498359,-41.994610629341906,-43.21934199761653,10.295344580395819,-40.22272180124514,33.30321385335338,44.19723205420552,43.76647408418931,51.22552931486074,42.51436571263231,37.14838309368914,61.78274495451033,-42.473387061882605,-47.0791752876145,-47.03522472940661,-45.31712651533017,-47.085023194299396,-36.444874456683316,-39.21151371652648,81.20052838557986,-44.9327848950212,-29.207513264066144,-44.38486990511356,-42.39526999184118,-47.055012056995054,-38.565722897444275,-46.9683081011772,-37.03962808485967,-37.03670221987228,-37.016577702513885,177.13492758347363,180.54947576159756,-32.04329182138458,1.1590599966902297,6.030748921665423,-14.064316307752557,15.746996611968207,14.19999035089073,91.93431371411496,35.45846498005177,258.3483528740987,257.68916166160426,-5.162818853019755,3.955309017203043,-6.001841953235923,18.30593379673302,-15.657699224971623,-30.211161236739102,-29.07115759364257,-35.37532639912632,112.77201697183473,-10.768198845164383,124.8569653596132,58.32221429598618,26.823566198870264,62.93233378819097,9.517286733952337,-5.704943403339728,-4.37368587379041,-2.1118027336896144,0.23787439361354132,-1.9857938824724877,-4.423983305104775,-0.285672368285397,24.55162581185351,25.705261917928272,24.55500022144307,27.01536029236125,24.342577399762547,30.064686373098866,33.89976668688392,28.659012234318155,-32.34818510610941,-21.744564361432,-35.239806880626304,-16.763480786532284,-28.322137631614943,-29.0524262712644,7.2430773161426725,23.12780715089221,9.219533439244456,-14.960060357017378,25.77546673127644,-10.47541830805171,-36.197284029071355,-24.142064928251305,-17.53393423278601,-18.967954518980235,19.674401977986367,21.808726422670162,0.17933701826820886,1.9490681271695385,7.075936373955092,14.888065083418535,-0.19305149030216534,3.307133730046937,1.4641250238017471,5.728078982800712,10.717766126760722,46.22729966245553,3.1834692939237725,4.194171968798595,4.025290174820113,0.08333463544501654,3.070429753994498,-4.014457264023787,-7.347485791432012,-2.6969003718888653,-8.952967520742835,2.370596540512866,5.264456573806051,0.09042336434457904,14.776263026381203,9.929559048487745,7.198009294214472,8.879604255044075,10.905525298748518,1.569355686493866,8.247778147779243,26.22234685639837,10.441474691997612,-0.8377599878591973,-2.386265149251809,10.22508029753163,5.916886956184837,-1.2716003696868943,-4.550189933327443,16.42480957674819,14.774179370984823,7.7453434535365115,-8.095171055529462,-8.949583211229895,4.2264845643738855,5.762215354718872,-12.269862205185861,-14.677188932590317,3.701653557282449,-4.911579510121981,-15.254601335728994,-7.01689691825624,-9.117444286173832,19.968881973167342,10.527550098519562,16.59697999641153,8.330262902155372,7.617438959715026,11.796476421604696,13.220786694165515,6.96344051374954,12.24761549073774,8.114429341948128,15.980437736230146,15.588547581780398,10.138271755421819,21.127148616254424,23.80808914966016,16.029497598625454,17.648041792131597,21.68858687841246,6.871767845371175,6.8123098900514405,14.109709873054097,10.204887892815085,6.897530623048399,17.985822299457816,26.963886858480766,22.4203795997793,36.835831693959214,24.731549747918848,0.09423081204843299,-4.390994660932334,63.70777230841821,-4.495893404880905,-4.574984839920983,19.642628516899833,9.581351602834204,9.584219864935628,9.614926744817806,-3.33005681774055,-3.456374677052134,-3.4153795572647163,0.34918285383255626,-3.5142409407911694,4.0028014226358515,0.8658228798503826,-17.77582607128274,-13.994819803202535,-2.2653333709437535,-8.80422501834173,19.26533075642328,19.485101481346536,16.00739841793437,16.02231681372612,-8.090282186915704,-7.3959729055342285,36.64020968741146,-7.910464341551785,-7.522309935727309,-4.718072756751779,-6.9341845269344535,-7.565422827723133,-2.087626641813237,-7.964445212449856,-6.3538414938103775,-7.266851375925002,-2.9322100859179714,-2.945483160673844,-2.914445574176049,2.485817850505741,-2.867407946211732,0.3501022981719795,-2.8031862697095304,-2.8500844983383207,-30.717023789496956,-23.76961579048931,-17.496302488505073,-4.89370746142497,25.486819301630884,22.446000034140482,22.746206042923315,15.60475602778271,15.547190576016684,17.474001951231706,16.31786344707439,15.552027057042585,15.474505092178301,0.1328112003728251,-35.7344444472336,-27.138401208953763,-18.45222693387501,-11.096848837337493,9.002385679797436,-17.10687063802445,5.072048850200648,-10.019978808456681,-16.81712833065262,-14.018909901177695,-34.51206698433594,38.421142252332636,-2.8895922194405754,3.5741434174036697,-95.78280314079565,-108.81879741848174,-112.6874134051668,-108.19039893744774,-92.78390279979399,-69.90728952671554,-98.78027562029864,-72.17567971879059,-73.64242871385295,-73.79871348174231,-36.80872726520801,139.7237198807975,-93.79519689674666,-93.58671861219051,-109.57664334509194,-84.77032511188145,-67.25171552838898,-114.01528173317574,-113.94784007812248,-114.0686596154268,-81.61946836546352,-114.09425581807034,-113.97319959940815,-111.02304089480957,-113.55010075325428,-114.05657903988683,-114.09213785689737,-114.09458968440066,-7.726067119204923,-113.98898737124604,-113.96410474453424,-113.89445854841196,-91.08835856679319,-114.10860785070875,-111.76528297400642,-96.3370149670361,-114.04714702967254,-114.1017103969027,-114.0755952783593,-109.42097664111131,-114.11539716235204,-110.4835871574943,-113.85740310999068,-57.75736427343009,-113.96793209755617,-114.0770910321285,-94.2290546147938,-113.98723548015987,-49.28629258874425,-102.29681596794883,-88.5065117073552,-52.169871610845846,-35.420465620676644,93.92880855791887,263.13181237515494,231.92089556186548,238.0134356672923,63.79990342026715,181.33448161726258,239.45118826349466,244.8679121409794,143.82833638377596,250.0988984278204,219.23654869447984,-39.403018609751115,-40.575552124935285,-13.323094393819943,263.0759428089128,262.0545138040802,258.14808695498715,242.0517353098068,247.6803569994507,173.0261360448692,207.3860477441213,185.66365761083821,187.66631962379873,171.81777208199406,169.61941838772282,169.2074613884886,160.42224117156962,239.17224360027237,256.56104812616906,199.64679162881433,-114.05990840698783,-108.76006825283687,-103.63495811236753,-112.9986648124334,-104.38948962936213,35.48026616980994,224.28512208669602,-38.69082342095682,-106.09578136450055,-114.11481952825943,-25.489315355116076,265.1010081345677,-74.3533138393063,-102.81599046236656,-94.02449147187914,259.0371382262451,216.7440100947667,255.4083088961102,262.1376087128206,5.175924982678534,-114.0695041128794,21.357389861096678,-108.8830459364014,-114.06647036058456,-111.1877223101258,-113.96225642475635,-54.128605254599464,244.3852653088147,-51.37007060949838,-86.98847396174617,-113.86890591464825,-114.07425597315638,-112.63314060570148,-110.66371903700559,-92.75866962015137,-71.72666438184096,-24.077719179235288,-113.4522997584356,-68.6880313975858,-97.65165044834805,-101.06432941886283,-113.98581757457539,-110.39993596461984,-112.52902730599735,-110.06241673193696,-88.84011113832835,-106.01043099238713,-110.01357737506292,-105.62307747255365,-125.4452031501443,-76.63953006154641,-52.10746972241219,-120.71836396128064,-127.15037488078872,-33.34448289536163,-33.26934607962814,-29.71605486068884,-33.39917573262162,-33.42657562826328,-33.403335794243205,-32.35777992942307,-33.477671206137146,5.781477186955175,1.0393810121258416,0.9380847233908367,4.2518176238236025,1.0090566008790327],\"label\":\"x2\",\"axis\":{\"matches\":true}},{\"values\":[-3.1727664679833407,-30.781976472386955,-16.75371478418628,-6.534282087383344,-13.158608319925362,-16.486291771558463,-7.380867354418702,-30.31560746591763,-34.01962029253158,-22.147547180467534,-28.9546193147987,-19.78036014295483,13.291046130493601,-11.819348345973316,-28.775838245184772,-7.812544207147672,13.124617935952184,-27.238774440486413,9.407268840676142,-17.82288119300745,-40.01264865847206,-32.977932757412766,-35.42964194390155,-41.74880652462189,-36.934937288648634,-28.46316797882984,-33.5000547789104,-30.946827990683147,-36.68128511953273,-31.068375036183955,-36.72775665663199,-40.69354971426425,-25.063051370085248,-37.000900249050204,-36.02367284134267,-19.255641270811196,-13.820689940282701,1.035683593915262,9.52798867972605,61.64288724511387,66.39749468885111,26.539160466998347,23.697480188746713,23.36042846542306,-2.037653163201939,2.3801016795714087,2.392567157518171,-37.3699011409692,-45.98543891182011,-19.44773007322647,7.552535104244821,-5.112001539171583,26.876641664048076,26.355072168968395,61.466744516789916,68.88262302644442,63.399952288293534,64.1232869540811,27.20033218554396,13.188897965794785,-1.4833401317088795,-21.778834429731603,-2.135070254083765,16.11726726810959,-6.60368018436763,75.79028309609626,65.21774801858116,30.520204055070526,18.398177950670124,21.67110430833734,29.98887495450767,21.61363715682954,29.022352125110743,30.367625738112515,38.68521138011147,9.292676505343923,-13.081489231554944,8.45744789437957,2.3495894075045642,15.322939637047808,23.583242642021858,-4.457903018053304,24.431153019611195,13.544676172254757,-6.786933676869927,-12.528523568265818,-4.891934202481856,-13.335781860560687,-33.15319623528117,-15.615887405508612,-18.098355217178668,-23.96972019714588,8.064655385739433,26.8834565635005,-10.122640029570986,-10.193058188707713,-20.347345588410928,-24.63347467331168,5.058864012330967,-14.615624051038223,-18.44107476708232,-11.793334330305695,-15.082482552731106,-24.48276663919831,-26.315297412956333,-31.81153497815638,-28.42068934561777,-22.74628237125872,-31.734318576953513,-27.482389959697105,0.5289659530619961,-15.40353057334059,-24.510014180560336,-26.518826261586945,-17.25593086188895,-19.73212602953621,-8.646276452685829,-16.147651719468023,-8.133559764537619,-3.232756491486473,-30.980946543796243,-41.58770492224737,-48.5943985815319,-52.21209322659316,-50.78839169508746,-45.0716579162829,-51.07827413069488,-27.529265634637596,-29.58762480808281,-26.76503617194274,-29.346621635487907,-28.45538907213097,-28.22855852254574,-26.764110369008897,-26.28939037505379,-29.21698645123185,-25.277600646789317,-29.143083312823826,-29.578430895278824,-29.202671064208193,-26.273325798312065,-32.29882074025656,-34.52952564041948,-34.496929638707705,-33.09098282478965,-29.323986624912447,-28.19852957713941,-31.39364947888021,-29.0223100200877,-29.097735919540057,-30.70411071748824,-31.936402796021554,-22.794716450396553,-29.16345605370339,-28.587344226067547,-12.983505562314186,-21.711010927099696,-29.655035945291754,-31.577234506840817,-31.910815166869206,-25.541253794351405,-24.655975370492456,-30.624310079978283,-27.464937383438755,-26.815443734850124,-23.914418136237146,-28.80045315997203,-13.385829009456684,-27.718867162265663,-27.829405418374037,-26.75596650890175,-29.90410784534983,-33.30836443545279,-29.418266527937977,-17.780232030373767,9.60495977464291,-1.5334196496772943,-21.04737885978733,-21.775393732481362,-19.18956979917022,-38.213272895209066,-22.48575027354261,-44.65715860014454,-47.36874066035482,-43.61422266931,-27.556369256050377,-15.385300226147999,41.51896684249551,51.0795046630607,43.26715949718609,56.98405107768679,49.70836699057098,53.26220605762594,62.41595793980751,56.14107015424512,57.821196486796666,63.00646983182514,61.69889541793694,59.70675974787412,93.4900331440101,94.85626150850825,62.76407317681714,80.29227165261585,63.23030261796726,64.35283444345669,14.760480108570247,-8.0085855887321,-23.809854969970626,-13.025939954445443,-45.11371223027545,-38.51008766253431,-36.548876051968676,-9.402321787374444,7.603727842267905,23.58479260332381,-0.22468118838318324,-11.255223718595868,-32.878526327190464,-40.343349716691215,-38.49852900592835,-31.865336350667295,-35.15185496538003,-23.676454121843108,-25.957856619408005,-23.473559959464282,-26.99999434595267,-29.620127670304925,-24.57526854202379,23.07806494140097,19.69342052338559,-16.281387068843223,-22.279150074261548,-19.51956641864119,-17.306994737955687,-14.306477291667484,-11.181528677513255,-22.64800006279362,-18.5323713935372,40.242126316759915,22.131913465406505,12.445422662856876,4.1042888203121946,13.983501715438946,48.586415343671,-6.285383083513855,-2.4685943605858855,25.057198020929672,-8.186418028640844,14.648267355189903,38.36097404955173,41.74388481902656,45.508934613840935,46.96133369247307,45.49918084142426,62.99100158974556,72.43793102983739,61.346504310874344,-21.366068209165984,-31.367569090686622,-31.485542147031513,-17.991435746878945,-23.412491415430896,-24.827877183764713,-27.763798328034095,-25.15318489541964,-3.71643118670657,-20.38765825143296,-6.3916137729013975,4.771247635028127,-7.089866868525245,7.717970753061331,27.623299698535064,-4.506522963499087,0.9388916514882916,30.978249533932903,23.554815810890105,18.789019339907988,35.042801282307195,31.244421994906798,15.464604334127568,-8.589059756205213,11.873773641929283,2.930823307232371,64.13912870324943,74.79805097481065,45.68982443864938,57.18208289674387,43.68133846170486,32.83021111832097,50.405525401756584,59.406047018750286,59.536723344067774,62.679142827838824,18.854194917509464,0.619557372620982,9.49188779833851,-5.558075463625301,-11.717372215069522,70.51338246809733,78.09365055630239,49.24593243207227,28.141389522783008,45.13237783181983,45.85669946439839,17.479481096978454,4.4193519317027095,-5.875238323089979,-4.762903865075078,-27.586299324751298,-23.70201174757009,6.474884511646033,-5.307220423614036,-34.23206738771845,-28.043919198225584,-31.612021893349798,-24.566328296462355,-29.220185014014223,-20.4502708557272,-16.51252202909774,-10.388273199654584,-6.3318146812395355,-7.81330324676323,-4.559941897821738,-23.24289683271295,2.996079886917223,22.400539994355192,11.490233963030777,-0.3133225427328064,27.626746801659063,34.54387131942858,23.22899213709348,35.290872127757936,40.32312090826316,-0.9274676924317219,-1.321714285106583,1.3853966366441908,-7.734700306058547,-17.79151038106788,-0.8122429792284936,-7.067429465013657,-16.927617353404628,18.685624862194967,1.370287104856698,33.56815399384837,55.441928673346894,3.0215199191537163,0.44520615658206547,72.73322854912082,61.653150393266785,37.95655627873478,30.29653132698083,57.24602521942563,69.67353627146568,54.879191236022514,72.66736051226385,74.87150730732904,-6.471697940563247,-1.4758343340537416,4.331542114502067,5.919987264122144,1.6885232437888642,-0.6880396646660781,-4.892835579158827,0.7770151362748436,6.2429685198596605,2.2399669041529133,-0.11030008757513587,-2.3273031011343988,-7.047979790153914,-4.668031370613374,-5.534980357241439,-7.460482656320232,0.898947403703191,-10.55573280438819,-10.942947366003414,-7.068072227188808,-3.6548067512818774,-8.360693559921392,-6.782284536926565,-9.33716833687836,-3.6762879308116476,-8.635970857073543,-9.47549018647647,-9.553106091483418,-0.9963597661253907,-8.804391311289509,-10.093805469322646,-2.477073444320962,-9.623917827656854,-8.370895742601016,-6.505227470991295,4.711438921279438,-7.422258630244441,-3.0806640456902596,-4.833505241250858,-7.834574836120422,-6.012824763909615,-8.192081593598893,-10.463666620731642,8.086937890523325,-9.949299657604485,-9.225409261595274,-8.678121611979792,-6.271087169718523,2.4282230087954,-9.817339660376007,-8.979725545097114,-6.928199743005671,-6.194450755422021,-4.054025998037711,0.5798445772559128,-0.7810134440425132,-1.9173304120733619,-4.992357660501461,-3.8663380417949273,-1.3577683377770988,6.116840344708665,4.642008129071092,-0.9609378815310375,16.56320383125801,-6.842681836112215,-3.3367817471659262,3.24604883519331,11.155678751669594,22.6375315044926,3.039297455366606,30.47673686372687,16.065059786782154,14.383956088970365,1.7469194361280969,9.003431579415379,2.6508703898427095,17.754353201243806,7.425721102132207,2.0452498329244135,1.4075443281611406,4.771674566702137,-0.6584026534773695,6.3916939319552375,-4.789186681070738,-3.5977138707078957,-6.702799539729435,-8.733504473384139,-8.781478769578989,-3.264274342067,2.7628661152715948,-4.296955721341517,-6.0207207602488015,-7.95293664829593,-5.557741088728768,6.101925660781297,-6.5063400057372505,-2.3253682994830775,-7.755142540638976,4.675954734672089,9.482909634922052,9.300782733518762,15.370200172400402,6.5416243497850255,3.2234080760550543,2.1894231188820963,0.3637805984021041,4.351086372375678,-0.4347825438434489,17.722082312184497,32.16732837034109,11.643902539742397,-3.460219090847316,13.604475617272337,24.086512915899473,3.421190993138823,-1.2816932026539003,10.490366164309304,16.748533449566008,-4.396360662693238,-5.274992613073301,-4.078097996078041,-6.483397766599266,-6.040949077784081,0.8497498810776135,18.525703515371237,11.184209765366726,9.617357384416534,37.154876739579656,36.18588002298594,28.461218286044303,6.824298872236645,27.354143141743773,0.030066965394279332,-3.552274984233044,-3.2506784352830254,-4.459132692101965,7.394593584308404,1.4008748008239584,9.8708548485381,20.033306496911464,-13.716547031449121,-11.318114998753666,-7.2229004337590395,-13.598570764393815,-18.234000725137484,-20.97809891282535,-26.794237605476663,-37.28526970339584,-35.98842980602287,-29.77252026746731],\"label\":\"x3\",\"axis\":{\"matches\":true}}],\"marker\":{\"color\":[24.0,21.6,34.7,33.4,36.2,28.7,22.9,27.1,16.5,18.9,15.0,18.9,21.7,20.4,18.2,19.9,23.1,17.5,20.2,18.2,13.6,19.6,15.2,14.5,15.6,13.9,16.6,14.8,18.4,21.0,12.7,14.5,13.2,13.1,13.5,18.9,20.0,21.0,24.7,30.8,34.9,26.6,25.3,24.7,21.2,19.3,20.0,16.6,14.4,19.4,19.7,20.5,25.0,23.4,18.9,35.4,24.7,31.6,23.3,19.6,18.7,16.0,22.2,25.0,33.0,23.5,19.4,22.0,17.4,20.9,24.2,21.7,22.8,23.4,24.1,21.4,20.0,20.8,21.2,20.3,28.0,23.9,24.8,22.9,23.9,26.6,22.5,22.2,23.6,28.7,22.6,22.0,22.9,25.0,20.6,28.4,21.4,38.7,43.8,33.2,27.5,26.5,18.6,19.3,20.1,19.5,19.5,20.4,19.8,19.4,21.7,22.8,18.8,18.7,18.5,18.3,21.2,19.2,20.4,19.3,22.0,20.3,20.5,17.3,18.8,21.4,15.7,16.2,18.0,14.3,19.2,19.6,23.0,18.4,15.6,18.1,17.4,17.1,13.3,17.8,14.0,14.4,13.4,15.6,11.8,13.8,15.6,14.6,17.8,15.4,21.5,19.6,15.3,19.4,17.0,15.6,13.1,41.3,24.3,23.3,27.0,50.0,50.0,50.0,22.7,25.0,50.0,23.8,23.8,22.3,17.4,19.1,23.1,23.6,22.6,29.4,23.2,24.6,29.9,37.2,39.8,36.2,37.9,32.5,26.4,29.6,50.0,32.0,29.8,34.9,37.0,30.5,36.4,31.1,29.1,50.0,33.3,30.3,34.6,34.9,32.9,24.1,42.3,48.5,50.0,22.6,24.4,22.5,24.4,20.0,21.7,19.3,22.4,28.1,23.7,25.0,23.3,28.7,21.5,23.0,26.7,21.7,27.5,30.1,44.8,50.0,37.6,31.6,46.7,31.5,24.3,31.7,41.7,48.3,29.0,24.0,25.1,31.5,23.7,23.3,22.0,20.1,22.2,23.7,17.6,18.5,24.3,20.5,24.5,26.2,24.4,24.8,29.6,42.8,21.9,20.9,44.0,50.0,36.0,30.1,33.8,43.1,48.8,31.0,36.5,22.8,30.7,50.0,43.5,20.7,21.1,25.2,24.4,35.2,32.4,32.0,33.2,33.1,29.1,35.1,45.4,35.4,46.0,50.0,32.2,22.0,20.1,23.2,22.3,24.8,28.5,37.3,27.9,23.9,21.7,28.6,27.1,20.3,22.5,29.0,24.8,22.0,26.4,33.1,36.1,28.4,33.4,28.2,22.8,20.3,16.1,22.1,19.4,21.6,23.8,16.2,17.8,19.8,23.1,21.0,23.8,23.1,20.4,18.5,25.0,24.6,23.0,22.2,19.3,22.6,19.8,17.1,19.4,22.2,20.7,21.1,19.5,18.5,20.6,19.0,18.7,32.7,16.5,23.9,31.2,17.5,17.2,23.1,24.5,26.6,22.9,24.1,18.6,30.1,18.2,20.6,17.8,21.7,22.7,22.6,25.0,19.9,20.8,16.8,21.9,27.5,21.9,23.1,50.0,50.0,50.0,50.0,50.0,13.8,13.8,15.0,13.9,13.3,13.1,10.2,10.4,10.9,11.3,12.3,8.8,7.2,10.5,7.4,10.2,11.5,15.1,23.2,9.7,13.8,12.7,13.1,12.5,8.5,5.0,6.3,5.6,7.2,12.1,8.3,8.5,5.0,11.9,27.9,17.2,27.5,15.0,17.2,17.9,16.3,7.0,7.2,7.5,10.4,8.8,8.4,16.7,14.2,20.8,13.4,11.7,8.3,10.2,10.9,11.0,9.5,14.5,14.1,16.1,14.3,11.7,13.4,9.6,8.7,8.4,12.8,10.5,17.1,18.4,15.4,10.8,11.8,14.9,12.6,14.1,13.0,13.4,15.2,16.1,17.8,14.9,14.1,12.7,13.5,14.9,20.0,16.4,17.7,19.5,20.2,21.4,19.9,19.0,19.1,19.1,20.1,19.9,19.6,23.2,29.8,13.8,13.3,16.7,12.0,14.6,21.4,23.0,23.7,25.0,21.8,20.6,21.2,19.1,20.6,15.2,7.0,8.1,13.6,20.1,21.8,24.5,23.1,19.7,18.3,21.2,17.5,16.8,22.4,20.6,23.9,22.0,11.9],\"coloraxis\":\"coloraxis\"}}],\n",
       "        {\"font\":{\"color\":\"Black\",\"family\":\"Courier New\",\"size\":14},\"template\":{\"layout\":{\"coloraxis\":{\"colorbar\":{\"ticks\":\"\",\"outlinewidth\":0}},\"xaxis\":{\"gridcolor\":\"white\",\"zerolinewidth\":2,\"title\":{\"standoff\":15},\"ticks\":\"\",\"zerolinecolor\":\"white\",\"automargin\":true,\"linecolor\":\"white\"},\"hovermode\":\"closest\",\"paper_bgcolor\":\"white\",\"geo\":{\"showlakes\":true,\"showland\":true,\"landcolor\":\"#E5ECF6\",\"bgcolor\":\"white\",\"subunitcolor\":\"white\",\"lakecolor\":\"white\"},\"colorscale\":{\"sequential\":[[0.0,\"#0d0887\"],[0.1111111111111111,\"#46039f\"],[0.2222222222222222,\"#7201a8\"],[0.3333333333333333,\"#9c179e\"],[0.4444444444444444,\"#bd3786\"],[0.5555555555555556,\"#d8576b\"],[0.6666666666666666,\"#ed7953\"],[0.7777777777777778,\"#fb9f3a\"],[0.8888888888888888,\"#fdca26\"],[1.0,\"#f0f921\"]],\"diverging\":[[0,\"#8e0152\"],[0.1,\"#c51b7d\"],[0.2,\"#de77ae\"],[0.3,\"#f1b6da\"],[0.4,\"#fde0ef\"],[0.5,\"#f7f7f7\"],[0.6,\"#e6f5d0\"],[0.7,\"#b8e186\"],[0.8,\"#7fbc41\"],[0.9,\"#4d9221\"],[1,\"#276419\"]],\"sequentialminus\":[[0.0,\"#0d0887\"],[0.1111111111111111,\"#46039f\"],[0.2222222222222222,\"#7201a8\"],[0.3333333333333333,\"#9c179e\"],[0.4444444444444444,\"#bd3786\"],[0.5555555555555556,\"#d8576b\"],[0.6666666666666666,\"#ed7953\"],[0.7777777777777778,\"#fb9f3a\"],[0.8888888888888888,\"#fdca26\"],[1.0,\"#f0f921\"]]},\"yaxis\":{\"gridcolor\":\"white\",\"zerolinewidth\":2,\"title\":{\"standoff\":15},\"ticks\":\"\",\"zerolinecolor\":\"white\",\"automargin\":true,\"linecolor\":\"white\"},\"shapedefaults\":{\"line\":{\"color\":\"#2a3f5f\"}},\"hoverlabel\":{\"align\":\"left\"},\"mapbox\":{\"style\":\"light\"},\"polar\":{\"angularaxis\":{\"gridcolor\":\"white\",\"ticks\":\"\",\"linecolor\":\"white\"},\"bgcolor\":\"#E5ECF6\",\"radialaxis\":{\"gridcolor\":\"white\",\"ticks\":\"\",\"linecolor\":\"white\"}},\"autotypenumbers\":\"strict\",\"font\":{\"color\":\"#2a3f5f\"},\"ternary\":{\"baxis\":{\"gridcolor\":\"white\",\"ticks\":\"\",\"linecolor\":\"white\"},\"bgcolor\":\"#E5ECF6\",\"caxis\":{\"gridcolor\":\"white\",\"ticks\":\"\",\"linecolor\":\"white\"},\"aaxis\":{\"gridcolor\":\"white\",\"ticks\":\"\",\"linecolor\":\"white\"}},\"annotationdefaults\":{\"arrowhead\":0,\"arrowwidth\":1,\"arrowcolor\":\"#2a3f5f\"},\"plot_bgcolor\":\"#E5ECF6\",\"title\":{\"x\":0.05},\"scene\":{\"xaxis\":{\"gridcolor\":\"white\",\"gridwidth\":2,\"backgroundcolor\":\"#E5ECF6\",\"ticks\":\"\",\"showbackground\":true,\"zerolinecolor\":\"white\",\"linecolor\":\"white\"},\"zaxis\":{\"gridcolor\":\"white\",\"gridwidth\":2,\"backgroundcolor\":\"#E5ECF6\",\"ticks\":\"\",\"showbackground\":true,\"zerolinecolor\":\"white\",\"linecolor\":\"white\"},\"yaxis\":{\"gridcolor\":\"white\",\"gridwidth\":2,\"backgroundcolor\":\"#E5ECF6\",\"ticks\":\"\",\"showbackground\":true,\"zerolinecolor\":\"white\",\"linecolor\":\"white\"}},\"colorway\":[\"#636efa\",\"#EF553B\",\"#00cc96\",\"#ab63fa\",\"#FFA15A\",\"#19d3f3\",\"#FF6692\",\"#B6E880\",\"#FF97FF\",\"#FECB52\"]},\"data\":{\"barpolar\":[{\"type\":\"barpolar\",\"marker\":{\"line\":{\"color\":\"#E5ECF6\",\"width\":0.5}}}],\"carpet\":[{\"aaxis\":{\"gridcolor\":\"white\",\"endlinecolor\":\"#2a3f5f\",\"minorgridcolor\":\"white\",\"startlinecolor\":\"#2a3f5f\",\"linecolor\":\"white\"},\"type\":\"carpet\",\"baxis\":{\"gridcolor\":\"white\",\"endlinecolor\":\"#2a3f5f\",\"minorgridcolor\":\"white\",\"startlinecolor\":\"#2a3f5f\",\"linecolor\":\"white\"}}],\"scatterpolar\":[{\"type\":\"scatterpolar\",\"marker\":{\"colorbar\":{\"ticks\":\"\",\"outlinewidth\":0}}}],\"parcoords\":[{\"line\":{\"colorbar\":{\"ticks\":\"\",\"outlinewidth\":0}},\"type\":\"parcoords\"}],\"scatter\":[{\"type\":\"scatter\",\"marker\":{\"colorbar\":{\"ticks\":\"\",\"outlinewidth\":0}}}],\"histogram2dcontour\":[{\"colorbar\":{\"ticks\":\"\",\"outlinewidth\":0},\"type\":\"histogram2dcontour\",\"colorscale\":[[0.0,\"#0d0887\"],[0.1111111111111111,\"#46039f\"],[0.2222222222222222,\"#7201a8\"],[0.3333333333333333,\"#9c179e\"],[0.4444444444444444,\"#bd3786\"],[0.5555555555555556,\"#d8576b\"],[0.6666666666666666,\"#ed7953\"],[0.7777777777777778,\"#fb9f3a\"],[0.8888888888888888,\"#fdca26\"],[1.0,\"#f0f921\"]]}],\"contour\":[{\"colorbar\":{\"ticks\":\"\",\"outlinewidth\":0},\"type\":\"contour\",\"colorscale\":[[0.0,\"#0d0887\"],[0.1111111111111111,\"#46039f\"],[0.2222222222222222,\"#7201a8\"],[0.3333333333333333,\"#9c179e\"],[0.4444444444444444,\"#bd3786\"],[0.5555555555555556,\"#d8576b\"],[0.6666666666666666,\"#ed7953\"],[0.7777777777777778,\"#fb9f3a\"],[0.8888888888888888,\"#fdca26\"],[1.0,\"#f0f921\"]]}],\"scattercarpet\":[{\"type\":\"scattercarpet\",\"marker\":{\"colorbar\":{\"ticks\":\"\",\"outlinewidth\":0}}}],\"mesh3d\":[{\"colorbar\":{\"ticks\":\"\",\"outlinewidth\":0},\"type\":\"mesh3d\"}],\"surface\":[{\"colorbar\":{\"ticks\":\"\",\"outlinewidth\":0},\"type\":\"surface\",\"colorscale\":[[0.0,\"#0d0887\"],[0.1111111111111111,\"#46039f\"],[0.2222222222222222,\"#7201a8\"],[0.3333333333333333,\"#9c179e\"],[0.4444444444444444,\"#bd3786\"],[0.5555555555555556,\"#d8576b\"],[0.6666666666666666,\"#ed7953\"],[0.7777777777777778,\"#fb9f3a\"],[0.8888888888888888,\"#fdca26\"],[1.0,\"#f0f921\"]]}],\"scattermapbox\":[{\"type\":\"scattermapbox\",\"marker\":{\"colorbar\":{\"ticks\":\"\",\"outlinewidth\":0}}}],\"scattergeo\":[{\"type\":\"scattergeo\",\"marker\":{\"colorbar\":{\"ticks\":\"\",\"outlinewidth\":0}}}],\"histogram\":[{\"type\":\"histogram\",\"marker\":{\"colorbar\":{\"ticks\":\"\",\"outlinewidth\":0}}}],\"pie\":[{\"type\":\"pie\",\"automargin\":true}],\"choropleth\":[{\"colorbar\":{\"ticks\":\"\",\"outlinewidth\":0},\"type\":\"choropleth\"}],\"heatmapgl\":[{\"colorbar\":{\"ticks\":\"\",\"outlinewidth\":0},\"type\":\"heatmapgl\",\"colorscale\":[[0.0,\"#0d0887\"],[0.1111111111111111,\"#46039f\"],[0.2222222222222222,\"#7201a8\"],[0.3333333333333333,\"#9c179e\"],[0.4444444444444444,\"#bd3786\"],[0.5555555555555556,\"#d8576b\"],[0.6666666666666666,\"#ed7953\"],[0.7777777777777778,\"#fb9f3a\"],[0.8888888888888888,\"#fdca26\"],[1.0,\"#f0f921\"]]}],\"bar\":[{\"type\":\"bar\",\"error_y\":{\"color\":\"#2a3f5f\"},\"error_x\":{\"color\":\"#2a3f5f\"},\"marker\":{\"line\":{\"color\":\"#E5ECF6\",\"width\":0.5}}}],\"heatmap\":[{\"colorbar\":{\"ticks\":\"\",\"outlinewidth\":0},\"type\":\"heatmap\",\"colorscale\":[[0.0,\"#0d0887\"],[0.1111111111111111,\"#46039f\"],[0.2222222222222222,\"#7201a8\"],[0.3333333333333333,\"#9c179e\"],[0.4444444444444444,\"#bd3786\"],[0.5555555555555556,\"#d8576b\"],[0.6666666666666666,\"#ed7953\"],[0.7777777777777778,\"#fb9f3a\"],[0.8888888888888888,\"#fdca26\"],[1.0,\"#f0f921\"]]}],\"contourcarpet\":[{\"colorbar\":{\"ticks\":\"\",\"outlinewidth\":0},\"type\":\"contourcarpet\"}],\"table\":[{\"type\":\"table\",\"header\":{\"line\":{\"color\":\"white\"},\"fill\":{\"color\":\"#C8D4E3\"}},\"cells\":{\"line\":{\"color\":\"white\"},\"fill\":{\"color\":\"#EBF0F8\"}}}],\"scatter3d\":[{\"line\":{\"colorbar\":{\"ticks\":\"\",\"outlinewidth\":0}},\"type\":\"scatter3d\",\"marker\":{\"colorbar\":{\"ticks\":\"\",\"outlinewidth\":0}}}],\"scattergl\":[{\"type\":\"scattergl\",\"marker\":{\"colorbar\":{\"ticks\":\"\",\"outlinewidth\":0}}}],\"histogram2d\":[{\"colorbar\":{\"ticks\":\"\",\"outlinewidth\":0},\"type\":\"histogram2d\",\"colorscale\":[[0.0,\"#0d0887\"],[0.1111111111111111,\"#46039f\"],[0.2222222222222222,\"#7201a8\"],[0.3333333333333333,\"#9c179e\"],[0.4444444444444444,\"#bd3786\"],[0.5555555555555556,\"#d8576b\"],[0.6666666666666666,\"#ed7953\"],[0.7777777777777778,\"#fb9f3a\"],[0.8888888888888888,\"#fdca26\"],[1.0,\"#f0f921\"]]}],\"scatterternary\":[{\"type\":\"scatterternary\",\"marker\":{\"colorbar\":{\"ticks\":\"\",\"outlinewidth\":0}}}],\"scatterpolargl\":[{\"type\":\"scatterpolargl\",\"marker\":{\"colorbar\":{\"ticks\":\"\",\"outlinewidth\":0}}}]}},\"legend\":{\"tracegroupgap\":0},\"margin\":{\"l\":50,\"b\":50,\"r\":50,\"t\":60},\"dragmode\":\"select\"},\n",
       "        {\"editable\":false,\"responsive\":true,\"staticPlot\":false,\"scrollZoom\":true},\n",
       "    )\n",
       "}\n",
       "\n",
       "        });\n",
       "    </script>\n",
       "</div>\n",
       "\n",
       "</body>\n",
       "</html>"
      ],
      "text/plain": [
       "data: [\n",
       "  \"splom with fields diagonal, dimensions, marker, opacity, type, xaxis, and yaxis\"\n",
       "]\n",
       "\n",
       "layout: \"layout with fields dragmode, font, legend, margin, and template\"\n",
       "\n"
      ]
     },
     "execution_count": 3,
     "metadata": {},
     "output_type": "execute_result"
    }
   ],
   "source": [
    "using PlotlyJS, MLJ\n",
    "using DataFrames: DataFrame, insertcols!\n",
    "\n",
    "PCA = @load PCA pkg=\"MultivariateStats\" verbosity=0\n",
    "\n",
    "function display_boston_subset_pca_components()\n",
    "    X, y = @load_boston\n",
    "    df = DataFrame(X)\n",
    "\n",
    "    coerce!(df, Any => Continuous)\n",
    "    \n",
    "    mach = machine(PCA(pratio=0.999), X)\n",
    "    fit!(mach)\n",
    "    \n",
    "    Xpca = DataFrame(transform(mach, X))\n",
    "    insertcols!(Xpca,:Medv => y)\n",
    "    \n",
    "    axes_pca = [:x1,:x2,:x3]\n",
    "    \n",
    "    layout = Layout(font=attr(family=\"Courier New\", size=14, color=\"Black\"))\n",
    "    Plot(Xpca, layout; dimensions=axes_pca, kind=\"splom\", opacity=0.65, \n",
    "                       marker=attr(color=:Medv, coloraxis=\"coloraxis\"))\n",
    "end\n",
    "\n",
    "display_boston_subset_pca_components()"
   ]
  },
  {
   "cell_type": "markdown",
   "id": "3a60b0f3",
   "metadata": {},
   "source": [
    "# 2D PCA Scatter Plot\n",
    "Here, we use the `maxoutdim` to limit the max number of projected dimensions.\n",
    "The data visualized is the iris dataset."
   ]
  },
  {
   "cell_type": "code",
   "execution_count": 4,
   "id": "f046dbb4",
   "metadata": {},
   "outputs": [
    {
     "name": "stderr",
     "output_type": "stream",
     "text": [
      "┌ Info: Training Machine{PCA,…}.\n",
      "└ @ MLJBase /home/markus/.julia/packages/MLJBase/HZmTU/src/machines.jl:403\n"
     ]
    },
    {
     "data": {
      "application/vnd.plotly.v1+json": {
       "config": {
        "editable": false,
        "responsive": true,
        "scrollZoom": true,
        "showLink": false,
        "staticPlot": false
       },
       "data": [
        {
         "legendgroup": "setosa",
         "marker": {
          "color": "#636efa"
         },
         "mode": "markers",
         "name": "setosa",
         "opacity": 0.65,
         "showlegend": true,
         "type": "scatter",
         "x": [
          2.6842071251039514,
          2.7153906156341336,
          2.8898195396179194,
          2.7464371973087376,
          2.728592981831318,
          2.2798973610096,
          2.820890682180633,
          2.6264819933238224,
          2.887958565335637,
          2.6738446867191237,
          2.5065267893389063,
          2.613142718271059,
          2.7874339759971,
          3.2252004462749833,
          2.6435432169411492,
          2.383869323799378,
          2.6225262031258114,
          2.6483227324791296,
          2.199077961430765,
          2.587346188917741,
          2.310531701313136,
          2.5432349073036984,
          3.2158576949001088,
          2.3031285376638846,
          2.3561710866839007,
          2.507917226837883,
          2.469055997545126,
          2.5623909468367536,
          2.639821268376585,
          2.6328479080307607,
          2.5884620513033942,
          2.410077337121599,
          2.6476366733969035,
          2.5971594770759214,
          2.6738446867191237,
          2.8669998469325373,
          2.6252284646804243,
          2.6738446867191237,
          2.9818426648539114,
          2.5903230255856773,
          2.7701389107463275,
          2.852211081566395,
          2.998296442832354,
          2.4055141012847043,
          2.2088329541767084,
          2.715665190747457,
          2.5375733710135098,
          2.8403212968270117,
          2.542685757077052,
          2.7039123148636532
         ],
         "xaxis": "x",
         "y": [
          0.3266073147643875,
          -0.16955684755602707,
          -0.13734560960502812,
          -0.311124315751992,
          0.33392456356845457,
          0.7477827132251331,
          -0.08210451102468086,
          0.17040534896028953,
          -0.5707980263315919,
          -0.1066917037527392,
          0.6519350136725713,
          0.02152063196025794,
          -0.22774018887110709,
          -0.5032799094854262,
          1.1861948994134481,
          1.344754344559862,
          0.8180896745965945,
          0.31913666775088406,
          0.8792440880917356,
          0.5204736388059679,
          0.39786782158889106,
          0.4400317546598151,
          0.14161557162558353,
          0.10552267842998153,
          -0.031209589068337984,
          -0.13905633991317495,
          0.13788731459041736,
          0.3746845627501055,
          0.31929006596032095,
          -0.19007583063362415,
          -0.19739307943769133,
          0.418080008247615,
          0.8199826325595072,
          1.1000219280072683,
          -0.1066917037527392,
          0.07719309572358606,
          0.606800008421585,
          -0.1066917037527392,
          -0.48025004885607675,
          0.2360593372888723,
          0.2710594197651666,
          -0.9328653674695462,
          -0.33430757459077703,
          0.19591725769606044,
          0.44269603042100325,
          -0.24268148289811386,
          0.5103675454766059,
          -0.22057633827647682,
          0.586281025343988,
          0.115010852170505
         ],
         "yaxis": "y"
        },
        {
         "legendgroup": "versicolor",
         "marker": {
          "color": "#EF553B"
         },
         "mode": "markers",
         "name": "versicolor",
         "opacity": 0.65,
         "showlegend": true,
         "type": "scatter",
         "x": [
          -1.2847945878450686,
          -0.9324107529829146,
          -1.4640613227790722,
          -0.1809672063476957,
          -1.087134487206998,
          -0.6404367495231422,
          -1.0952237099384752,
          0.75146714064823,
          -1.0432977807062782,
          0.010190070727856364,
          0.5110861958950936,
          -0.5110980606834744,
          -0.2623357561531773,
          -0.9840445451694279,
          0.17486400196569918,
          -0.9275729420326968,
          -0.6595927890561973,
          -0.23454058625983248,
          -0.9423617073988391,
          -0.04324640032870165,
          -1.1162407237538126,
          -0.35678656783045826,
          -1.2964688502855308,
          -0.9205026489090061,
          -0.7140082136428302,
          -0.8996408632837732,
          -1.3310414188547168,
          -1.557396272070699,
          -0.8124555489979989,
          0.3073347556634073,
          0.07034288894927461,
          0.19188449210314867,
          -0.1349949504513703,
          -1.3787369827755798,
          -0.5872748535799076,
          -0.8072054966767133,
          -1.2204289662446766,
          -0.8128677903690669,
          -0.24519516169034286,
          -0.16451342836925278,
          -0.463030988871421,
          -0.8901604456511533,
          -0.2288790499696446,
          0.7070812839208636,
          -0.3555330391870604,
          -0.33112694733271963,
          -0.37523822894676273,
          -0.6416902781665401,
          0.9084633331234981,
          -0.29780790740693097
         ],
         "xaxis": "x",
         "y": [
          0.685439186132919,
          0.31919808983364845,
          0.5041898329724522,
          -0.8256039435761139,
          0.07539038928876651,
          -0.4173234829700254,
          0.28389121093848046,
          -1.0011075129743943,
          0.22895690877700597,
          -0.7205748667019014,
          -1.2624919538621413,
          -0.1022841050459704,
          -0.5478932980253381,
          -0.12436042022227793,
          -0.25181557108017094,
          0.4682362050431162,
          -0.35197629106031586,
          -0.3319218293621206,
          -0.5418222581500156,
          -0.5814894466123592,
          -0.08421401387837275,
          -0.06682382794136704,
          -0.32756151979494497,
          -0.182390363327921,
          0.15037915314843636,
          0.32961097958188296,
          0.24466952060228814,
          0.26739258481276423,
          -0.16233157487863342,
          -0.3650866127661613,
          -0.7025379317307265,
          -0.6774905443743579,
          -0.31170964270339674,
          -0.4212051382146281,
          -0.4832842677174814,
          0.19505396377111212,
          0.40803533700101685,
          -0.3706789983189113,
          -0.26672803566184766,
          -0.6796614693108141,
          -0.6695265465361222,
          -0.033812442746762664,
          -0.402257620178912,
          -1.0084247617784614,
          -0.5032184874026624,
          -0.21118014066262636,
          -0.2916220248087796,
          0.0190711764912702,
          -0.7515687251694863,
          -0.347016521598564
         ],
         "yaxis": "y"
        },
        {
         "legendgroup": "virginica",
         "marker": {
          "color": "#00cc96"
         },
         "mode": "markers",
         "name": "virginica",
         "opacity": 0.65,
         "showlegend": true,
         "type": "scatter",
         "x": [
          -2.5317269804395552,
          -1.4140722251737545,
          -2.6164846082840407,
          -1.9708149459064788,
          -2.3497579839509397,
          -3.396879920678135,
          -0.519383245084933,
          -2.9320050969912983,
          -2.3196727938740502,
          -2.918134233644248,
          -1.6619349470194835,
          -1.80234045266073,
          -2.1653788629533945,
          -1.3445942175098216,
          -1.5852672993086407,
          -1.904743578213909,
          -1.9492487818644948,
          -3.4887653796563827,
          -3.7946868612099673,
          -1.2983298245678128,
          -2.428167259020846,
          -1.1980973722749595,
          -3.499265484298954,
          -1.3876682501815527,
          -2.2758536493056916,
          -2.6141938306983312,
          -1.2576251829251333,
          -1.2906696477375983,
          -2.12285398050831,
          -2.387564402369025,
          -2.8409609252853807,
          -3.2323428982958715,
          -2.1587383731331315,
          -1.4431026043759716,
          -1.7796401068985668,
          -3.076521621020659,
          -2.1449868567093007,
          -1.9048629251371285,
          -1.1688534694704003,
          -2.107653731173266,
          -2.3143033946295457,
          -1.9224508848357498,
          -1.4140722251737545,
          -2.563322712340806,
          -2.419391219804978,
          -1.9440170488777344,
          -1.5256636313138694,
          -1.76404593552698,
          -1.9016290752882294,
          -1.3896661333194136
         ],
         "xaxis": "x",
         "y": [
          -0.01184223664029932,
          -0.5749250559123045,
          0.34193528698729425,
          -0.18112569470491324,
          -0.041882549654841575,
          0.547168046230152,
          -1.1913516890506521,
          0.35237700618085954,
          -0.2455481706069107,
          0.7803806293720323,
          0.24203840103752233,
          -0.21615460662653674,
          0.21528028337300675,
          -0.776415425176825,
          -0.5393070538471718,
          0.11881899098269864,
          0.04073025942776802,
          1.1715445442635648,
          0.2532655709725335,
          -0.7610139365215085,
          0.3767819712541524,
          -0.6055789617645939,
          0.45677346696407367,
          -0.20403098657015545,
          0.33338652575664257,
          0.5583669502788222,
          -0.17913699742322325,
          -0.11642525182937234,
          -0.21085488454948992,
          0.46251925072626004,
          0.37274259104902036,
          1.370524035976334,
          -0.21832553156299328,
          -0.14380128908272632,
          -0.501464794706015,
          0.6857644422460553,
          0.13890660887731537,
          0.0480475082318351,
          -0.1645024998150897,
          0.37148224917710526,
          0.18260885079369846,
          0.40927117617869463,
          -0.5749250559123045,
          0.27597450223983827,
          0.303503937702629,
          0.18741522204601319,
          -0.37502084819182385,
          0.07851918642935717,
          0.11587674824796651,
          -0.28288670917226844
         ],
         "yaxis": "y"
        }
       ],
       "frames": [],
       "layout": {
        "font": {
         "color": "Black",
         "family": "Courier New",
         "size": 14
        },
        "legend": {
         "title": {
          "text": "species"
         },
         "tracegroupgap": 0
        },
        "margin": {
         "b": 50,
         "l": 50,
         "r": 50,
         "t": 60
        },
        "template": {
         "data": {
          "bar": [
           {
            "error_x": {
             "color": "#2a3f5f"
            },
            "error_y": {
             "color": "#2a3f5f"
            },
            "marker": {
             "line": {
              "color": "#E5ECF6",
              "width": 0.5
             }
            },
            "type": "bar"
           }
          ],
          "barpolar": [
           {
            "marker": {
             "line": {
              "color": "#E5ECF6",
              "width": 0.5
             }
            },
            "type": "barpolar"
           }
          ],
          "carpet": [
           {
            "aaxis": {
             "endlinecolor": "#2a3f5f",
             "gridcolor": "white",
             "linecolor": "white",
             "minorgridcolor": "white",
             "startlinecolor": "#2a3f5f"
            },
            "baxis": {
             "endlinecolor": "#2a3f5f",
             "gridcolor": "white",
             "linecolor": "white",
             "minorgridcolor": "white",
             "startlinecolor": "#2a3f5f"
            },
            "type": "carpet"
           }
          ],
          "choropleth": [
           {
            "colorbar": {
             "outlinewidth": 0,
             "ticks": ""
            },
            "type": "choropleth"
           }
          ],
          "contour": [
           {
            "colorbar": {
             "outlinewidth": 0,
             "ticks": ""
            },
            "colorscale": [
             [
              0,
              "#0d0887"
             ],
             [
              0.1111111111111111,
              "#46039f"
             ],
             [
              0.2222222222222222,
              "#7201a8"
             ],
             [
              0.3333333333333333,
              "#9c179e"
             ],
             [
              0.4444444444444444,
              "#bd3786"
             ],
             [
              0.5555555555555556,
              "#d8576b"
             ],
             [
              0.6666666666666666,
              "#ed7953"
             ],
             [
              0.7777777777777778,
              "#fb9f3a"
             ],
             [
              0.8888888888888888,
              "#fdca26"
             ],
             [
              1,
              "#f0f921"
             ]
            ],
            "type": "contour"
           }
          ],
          "contourcarpet": [
           {
            "colorbar": {
             "outlinewidth": 0,
             "ticks": ""
            },
            "type": "contourcarpet"
           }
          ],
          "heatmap": [
           {
            "colorbar": {
             "outlinewidth": 0,
             "ticks": ""
            },
            "colorscale": [
             [
              0,
              "#0d0887"
             ],
             [
              0.1111111111111111,
              "#46039f"
             ],
             [
              0.2222222222222222,
              "#7201a8"
             ],
             [
              0.3333333333333333,
              "#9c179e"
             ],
             [
              0.4444444444444444,
              "#bd3786"
             ],
             [
              0.5555555555555556,
              "#d8576b"
             ],
             [
              0.6666666666666666,
              "#ed7953"
             ],
             [
              0.7777777777777778,
              "#fb9f3a"
             ],
             [
              0.8888888888888888,
              "#fdca26"
             ],
             [
              1,
              "#f0f921"
             ]
            ],
            "type": "heatmap"
           }
          ],
          "heatmapgl": [
           {
            "colorbar": {
             "outlinewidth": 0,
             "ticks": ""
            },
            "colorscale": [
             [
              0,
              "#0d0887"
             ],
             [
              0.1111111111111111,
              "#46039f"
             ],
             [
              0.2222222222222222,
              "#7201a8"
             ],
             [
              0.3333333333333333,
              "#9c179e"
             ],
             [
              0.4444444444444444,
              "#bd3786"
             ],
             [
              0.5555555555555556,
              "#d8576b"
             ],
             [
              0.6666666666666666,
              "#ed7953"
             ],
             [
              0.7777777777777778,
              "#fb9f3a"
             ],
             [
              0.8888888888888888,
              "#fdca26"
             ],
             [
              1,
              "#f0f921"
             ]
            ],
            "type": "heatmapgl"
           }
          ],
          "histogram": [
           {
            "marker": {
             "colorbar": {
              "outlinewidth": 0,
              "ticks": ""
             }
            },
            "type": "histogram"
           }
          ],
          "histogram2d": [
           {
            "colorbar": {
             "outlinewidth": 0,
             "ticks": ""
            },
            "colorscale": [
             [
              0,
              "#0d0887"
             ],
             [
              0.1111111111111111,
              "#46039f"
             ],
             [
              0.2222222222222222,
              "#7201a8"
             ],
             [
              0.3333333333333333,
              "#9c179e"
             ],
             [
              0.4444444444444444,
              "#bd3786"
             ],
             [
              0.5555555555555556,
              "#d8576b"
             ],
             [
              0.6666666666666666,
              "#ed7953"
             ],
             [
              0.7777777777777778,
              "#fb9f3a"
             ],
             [
              0.8888888888888888,
              "#fdca26"
             ],
             [
              1,
              "#f0f921"
             ]
            ],
            "type": "histogram2d"
           }
          ],
          "histogram2dcontour": [
           {
            "colorbar": {
             "outlinewidth": 0,
             "ticks": ""
            },
            "colorscale": [
             [
              0,
              "#0d0887"
             ],
             [
              0.1111111111111111,
              "#46039f"
             ],
             [
              0.2222222222222222,
              "#7201a8"
             ],
             [
              0.3333333333333333,
              "#9c179e"
             ],
             [
              0.4444444444444444,
              "#bd3786"
             ],
             [
              0.5555555555555556,
              "#d8576b"
             ],
             [
              0.6666666666666666,
              "#ed7953"
             ],
             [
              0.7777777777777778,
              "#fb9f3a"
             ],
             [
              0.8888888888888888,
              "#fdca26"
             ],
             [
              1,
              "#f0f921"
             ]
            ],
            "type": "histogram2dcontour"
           }
          ],
          "mesh3d": [
           {
            "colorbar": {
             "outlinewidth": 0,
             "ticks": ""
            },
            "type": "mesh3d"
           }
          ],
          "parcoords": [
           {
            "line": {
             "colorbar": {
              "outlinewidth": 0,
              "ticks": ""
             }
            },
            "type": "parcoords"
           }
          ],
          "pie": [
           {
            "automargin": true,
            "type": "pie"
           }
          ],
          "scatter": [
           {
            "marker": {
             "colorbar": {
              "outlinewidth": 0,
              "ticks": ""
             }
            },
            "type": "scatter"
           }
          ],
          "scatter3d": [
           {
            "line": {
             "colorbar": {
              "outlinewidth": 0,
              "ticks": ""
             }
            },
            "marker": {
             "colorbar": {
              "outlinewidth": 0,
              "ticks": ""
             }
            },
            "type": "scatter3d"
           }
          ],
          "scattercarpet": [
           {
            "marker": {
             "colorbar": {
              "outlinewidth": 0,
              "ticks": ""
             }
            },
            "type": "scattercarpet"
           }
          ],
          "scattergeo": [
           {
            "marker": {
             "colorbar": {
              "outlinewidth": 0,
              "ticks": ""
             }
            },
            "type": "scattergeo"
           }
          ],
          "scattergl": [
           {
            "marker": {
             "colorbar": {
              "outlinewidth": 0,
              "ticks": ""
             }
            },
            "type": "scattergl"
           }
          ],
          "scattermapbox": [
           {
            "marker": {
             "colorbar": {
              "outlinewidth": 0,
              "ticks": ""
             }
            },
            "type": "scattermapbox"
           }
          ],
          "scatterpolar": [
           {
            "marker": {
             "colorbar": {
              "outlinewidth": 0,
              "ticks": ""
             }
            },
            "type": "scatterpolar"
           }
          ],
          "scatterpolargl": [
           {
            "marker": {
             "colorbar": {
              "outlinewidth": 0,
              "ticks": ""
             }
            },
            "type": "scatterpolargl"
           }
          ],
          "scatterternary": [
           {
            "marker": {
             "colorbar": {
              "outlinewidth": 0,
              "ticks": ""
             }
            },
            "type": "scatterternary"
           }
          ],
          "surface": [
           {
            "colorbar": {
             "outlinewidth": 0,
             "ticks": ""
            },
            "colorscale": [
             [
              0,
              "#0d0887"
             ],
             [
              0.1111111111111111,
              "#46039f"
             ],
             [
              0.2222222222222222,
              "#7201a8"
             ],
             [
              0.3333333333333333,
              "#9c179e"
             ],
             [
              0.4444444444444444,
              "#bd3786"
             ],
             [
              0.5555555555555556,
              "#d8576b"
             ],
             [
              0.6666666666666666,
              "#ed7953"
             ],
             [
              0.7777777777777778,
              "#fb9f3a"
             ],
             [
              0.8888888888888888,
              "#fdca26"
             ],
             [
              1,
              "#f0f921"
             ]
            ],
            "type": "surface"
           }
          ],
          "table": [
           {
            "cells": {
             "fill": {
              "color": "#EBF0F8"
             },
             "line": {
              "color": "white"
             }
            },
            "header": {
             "fill": {
              "color": "#C8D4E3"
             },
             "line": {
              "color": "white"
             }
            },
            "type": "table"
           }
          ]
         },
         "layout": {
          "annotationdefaults": {
           "arrowcolor": "#2a3f5f",
           "arrowhead": 0,
           "arrowwidth": 1
          },
          "autotypenumbers": "strict",
          "coloraxis": {
           "colorbar": {
            "outlinewidth": 0,
            "ticks": ""
           }
          },
          "colorscale": {
           "diverging": [
            [
             0,
             "#8e0152"
            ],
            [
             0.1,
             "#c51b7d"
            ],
            [
             0.2,
             "#de77ae"
            ],
            [
             0.3,
             "#f1b6da"
            ],
            [
             0.4,
             "#fde0ef"
            ],
            [
             0.5,
             "#f7f7f7"
            ],
            [
             0.6,
             "#e6f5d0"
            ],
            [
             0.7,
             "#b8e186"
            ],
            [
             0.8,
             "#7fbc41"
            ],
            [
             0.9,
             "#4d9221"
            ],
            [
             1,
             "#276419"
            ]
           ],
           "sequential": [
            [
             0,
             "#0d0887"
            ],
            [
             0.1111111111111111,
             "#46039f"
            ],
            [
             0.2222222222222222,
             "#7201a8"
            ],
            [
             0.3333333333333333,
             "#9c179e"
            ],
            [
             0.4444444444444444,
             "#bd3786"
            ],
            [
             0.5555555555555556,
             "#d8576b"
            ],
            [
             0.6666666666666666,
             "#ed7953"
            ],
            [
             0.7777777777777778,
             "#fb9f3a"
            ],
            [
             0.8888888888888888,
             "#fdca26"
            ],
            [
             1,
             "#f0f921"
            ]
           ],
           "sequentialminus": [
            [
             0,
             "#0d0887"
            ],
            [
             0.1111111111111111,
             "#46039f"
            ],
            [
             0.2222222222222222,
             "#7201a8"
            ],
            [
             0.3333333333333333,
             "#9c179e"
            ],
            [
             0.4444444444444444,
             "#bd3786"
            ],
            [
             0.5555555555555556,
             "#d8576b"
            ],
            [
             0.6666666666666666,
             "#ed7953"
            ],
            [
             0.7777777777777778,
             "#fb9f3a"
            ],
            [
             0.8888888888888888,
             "#fdca26"
            ],
            [
             1,
             "#f0f921"
            ]
           ]
          },
          "colorway": [
           "#636efa",
           "#EF553B",
           "#00cc96",
           "#ab63fa",
           "#FFA15A",
           "#19d3f3",
           "#FF6692",
           "#B6E880",
           "#FF97FF",
           "#FECB52"
          ],
          "font": {
           "color": "#2a3f5f"
          },
          "geo": {
           "bgcolor": "white",
           "lakecolor": "white",
           "landcolor": "#E5ECF6",
           "showlakes": true,
           "showland": true,
           "subunitcolor": "white"
          },
          "hoverlabel": {
           "align": "left"
          },
          "hovermode": "closest",
          "mapbox": {
           "style": "light"
          },
          "paper_bgcolor": "white",
          "plot_bgcolor": "#E5ECF6",
          "polar": {
           "angularaxis": {
            "gridcolor": "white",
            "linecolor": "white",
            "ticks": ""
           },
           "bgcolor": "#E5ECF6",
           "radialaxis": {
            "gridcolor": "white",
            "linecolor": "white",
            "ticks": ""
           }
          },
          "scene": {
           "xaxis": {
            "backgroundcolor": "#E5ECF6",
            "gridcolor": "white",
            "gridwidth": 2,
            "linecolor": "white",
            "showbackground": true,
            "ticks": "",
            "zerolinecolor": "white"
           },
           "yaxis": {
            "backgroundcolor": "#E5ECF6",
            "gridcolor": "white",
            "gridwidth": 2,
            "linecolor": "white",
            "showbackground": true,
            "ticks": "",
            "zerolinecolor": "white"
           },
           "zaxis": {
            "backgroundcolor": "#E5ECF6",
            "gridcolor": "white",
            "gridwidth": 2,
            "linecolor": "white",
            "showbackground": true,
            "ticks": "",
            "zerolinecolor": "white"
           }
          },
          "shapedefaults": {
           "line": {
            "color": "#2a3f5f"
           }
          },
          "ternary": {
           "aaxis": {
            "gridcolor": "white",
            "linecolor": "white",
            "ticks": ""
           },
           "baxis": {
            "gridcolor": "white",
            "linecolor": "white",
            "ticks": ""
           },
           "bgcolor": "#E5ECF6",
           "caxis": {
            "gridcolor": "white",
            "linecolor": "white",
            "ticks": ""
           }
          },
          "title": {
           "x": 0.05
          },
          "xaxis": {
           "automargin": true,
           "gridcolor": "white",
           "linecolor": "white",
           "ticks": "",
           "title": {
            "standoff": 15
           },
           "zerolinecolor": "white",
           "zerolinewidth": 2
          },
          "yaxis": {
           "automargin": true,
           "gridcolor": "white",
           "linecolor": "white",
           "ticks": "",
           "title": {
            "standoff": 15
           },
           "zerolinecolor": "white",
           "zerolinewidth": 2
          }
         }
        },
        "xaxis": {
         "title": {
          "text": "x1"
         }
        },
        "yaxis": {
         "title": {
          "text": "x2"
         }
        }
       }
      },
      "text/html": [
       "<html>\n",
       "<head><meta chartset=\"utf-8\" /></head>\n",
       "<body>\n",
       "<div>\n",
       "    <script src=\"https://cdnjs.cloudflare.com/ajax/libs/mathjax/2.7.5/MathJax.js?config=TeX-AMS-MML_SVG\"></script>\n",
       "    <script type=\"text/javascript\">\n",
       "window.PlotlyConfig = {MathJaxConfig: 'local'};\n",
       "</script>\n",
       "<script type=\"text/javascript\">\n",
       "if (window.MathJax) {MathJax.Hub.Config({SVG: {font: \"STIX-Web\"}});}\n",
       "</script>\n",
       "<script type=\"text/javascript\">\n",
       "    if (typeof require !== 'undefined') {\n",
       "        require.undef(\"plotly\");\n",
       "        requirejs.config({\n",
       "            paths: {\n",
       "                'plotly': ['https://cdn.plot.ly/plotly-2.3.0.min']\n",
       "            }\n",
       "        });\n",
       "        require(['plotly'], function(Plotly) {\n",
       "            window._Plotly = Plotly;\n",
       "        });\n",
       "    }\n",
       "</script>\n",
       "\n",
       "    <div\n",
       "        id=ddf44fbf-a122-43b5-bb90-d7d098d46b00\n",
       "        class=\"plotly-graph-div\"\n",
       "        style=\"height:100%; width:100%;\">\n",
       "    </div>\n",
       "    <script type=\"text/javascript\">\n",
       "        require([\"plotly\"], function(Plotly) {\n",
       "        window.PLOTLYENV = window.PLOTLYENV || {}\n",
       "        \n",
       "        if (document.getElementById('ddf44fbf-a122-43b5-bb90-d7d098d46b00')) {\n",
       "    Plotly.newPlot(\n",
       "        'ddf44fbf-a122-43b5-bb90-d7d098d46b00',\n",
       "        [{\"showlegend\":true,\"mode\":\"markers\",\"xaxis\":\"x\",\"name\":\"setosa\",\"opacity\":0.65,\"yaxis\":\"y\",\"legendgroup\":\"setosa\",\"marker\":{\"color\":\"#636efa\"},\"y\":[0.3266073147643875,-0.16955684755602707,-0.13734560960502812,-0.311124315751992,0.33392456356845457,0.7477827132251331,-0.08210451102468086,0.17040534896028953,-0.5707980263315919,-0.1066917037527392,0.6519350136725713,0.02152063196025794,-0.22774018887110709,-0.5032799094854262,1.1861948994134481,1.344754344559862,0.8180896745965945,0.31913666775088406,0.8792440880917356,0.5204736388059679,0.39786782158889106,0.4400317546598151,0.14161557162558353,0.10552267842998153,-0.031209589068337984,-0.13905633991317495,0.13788731459041736,0.3746845627501055,0.31929006596032095,-0.19007583063362415,-0.19739307943769133,0.418080008247615,0.8199826325595072,1.1000219280072683,-0.1066917037527392,0.07719309572358606,0.606800008421585,-0.1066917037527392,-0.48025004885607675,0.2360593372888723,0.2710594197651666,-0.9328653674695462,-0.33430757459077703,0.19591725769606044,0.44269603042100325,-0.24268148289811386,0.5103675454766059,-0.22057633827647682,0.586281025343988,0.115010852170505],\"type\":\"scatter\",\"x\":[2.6842071251039514,2.7153906156341336,2.8898195396179194,2.7464371973087376,2.728592981831318,2.2798973610096,2.820890682180633,2.6264819933238224,2.887958565335637,2.6738446867191237,2.5065267893389063,2.613142718271059,2.7874339759971,3.2252004462749833,2.6435432169411492,2.383869323799378,2.6225262031258114,2.6483227324791296,2.199077961430765,2.587346188917741,2.310531701313136,2.5432349073036984,3.2158576949001088,2.3031285376638846,2.3561710866839007,2.507917226837883,2.469055997545126,2.5623909468367536,2.639821268376585,2.6328479080307607,2.5884620513033942,2.410077337121599,2.6476366733969035,2.5971594770759214,2.6738446867191237,2.8669998469325373,2.6252284646804243,2.6738446867191237,2.9818426648539114,2.5903230255856773,2.7701389107463275,2.852211081566395,2.998296442832354,2.4055141012847043,2.2088329541767084,2.715665190747457,2.5375733710135098,2.8403212968270117,2.542685757077052,2.7039123148636532]},{\"showlegend\":true,\"mode\":\"markers\",\"xaxis\":\"x\",\"name\":\"versicolor\",\"opacity\":0.65,\"yaxis\":\"y\",\"legendgroup\":\"versicolor\",\"marker\":{\"color\":\"#EF553B\"},\"y\":[0.685439186132919,0.31919808983364845,0.5041898329724522,-0.8256039435761139,0.07539038928876651,-0.4173234829700254,0.28389121093848046,-1.0011075129743943,0.22895690877700597,-0.7205748667019014,-1.2624919538621413,-0.1022841050459704,-0.5478932980253381,-0.12436042022227793,-0.25181557108017094,0.4682362050431162,-0.35197629106031586,-0.3319218293621206,-0.5418222581500156,-0.5814894466123592,-0.08421401387837275,-0.06682382794136704,-0.32756151979494497,-0.182390363327921,0.15037915314843636,0.32961097958188296,0.24466952060228814,0.26739258481276423,-0.16233157487863342,-0.3650866127661613,-0.7025379317307265,-0.6774905443743579,-0.31170964270339674,-0.4212051382146281,-0.4832842677174814,0.19505396377111212,0.40803533700101685,-0.3706789983189113,-0.26672803566184766,-0.6796614693108141,-0.6695265465361222,-0.033812442746762664,-0.402257620178912,-1.0084247617784614,-0.5032184874026624,-0.21118014066262636,-0.2916220248087796,0.0190711764912702,-0.7515687251694863,-0.347016521598564],\"type\":\"scatter\",\"x\":[-1.2847945878450686,-0.9324107529829146,-1.4640613227790722,-0.1809672063476957,-1.087134487206998,-0.6404367495231422,-1.0952237099384752,0.75146714064823,-1.0432977807062782,0.010190070727856364,0.5110861958950936,-0.5110980606834744,-0.2623357561531773,-0.9840445451694279,0.17486400196569918,-0.9275729420326968,-0.6595927890561973,-0.23454058625983248,-0.9423617073988391,-0.04324640032870165,-1.1162407237538126,-0.35678656783045826,-1.2964688502855308,-0.9205026489090061,-0.7140082136428302,-0.8996408632837732,-1.3310414188547168,-1.557396272070699,-0.8124555489979989,0.3073347556634073,0.07034288894927461,0.19188449210314867,-0.1349949504513703,-1.3787369827755798,-0.5872748535799076,-0.8072054966767133,-1.2204289662446766,-0.8128677903690669,-0.24519516169034286,-0.16451342836925278,-0.463030988871421,-0.8901604456511533,-0.2288790499696446,0.7070812839208636,-0.3555330391870604,-0.33112694733271963,-0.37523822894676273,-0.6416902781665401,0.9084633331234981,-0.29780790740693097]},{\"showlegend\":true,\"mode\":\"markers\",\"xaxis\":\"x\",\"name\":\"virginica\",\"opacity\":0.65,\"yaxis\":\"y\",\"legendgroup\":\"virginica\",\"marker\":{\"color\":\"#00cc96\"},\"y\":[-0.01184223664029932,-0.5749250559123045,0.34193528698729425,-0.18112569470491324,-0.041882549654841575,0.547168046230152,-1.1913516890506521,0.35237700618085954,-0.2455481706069107,0.7803806293720323,0.24203840103752233,-0.21615460662653674,0.21528028337300675,-0.776415425176825,-0.5393070538471718,0.11881899098269864,0.04073025942776802,1.1715445442635648,0.2532655709725335,-0.7610139365215085,0.3767819712541524,-0.6055789617645939,0.45677346696407367,-0.20403098657015545,0.33338652575664257,0.5583669502788222,-0.17913699742322325,-0.11642525182937234,-0.21085488454948992,0.46251925072626004,0.37274259104902036,1.370524035976334,-0.21832553156299328,-0.14380128908272632,-0.501464794706015,0.6857644422460553,0.13890660887731537,0.0480475082318351,-0.1645024998150897,0.37148224917710526,0.18260885079369846,0.40927117617869463,-0.5749250559123045,0.27597450223983827,0.303503937702629,0.18741522204601319,-0.37502084819182385,0.07851918642935717,0.11587674824796651,-0.28288670917226844],\"type\":\"scatter\",\"x\":[-2.5317269804395552,-1.4140722251737545,-2.6164846082840407,-1.9708149459064788,-2.3497579839509397,-3.396879920678135,-0.519383245084933,-2.9320050969912983,-2.3196727938740502,-2.918134233644248,-1.6619349470194835,-1.80234045266073,-2.1653788629533945,-1.3445942175098216,-1.5852672993086407,-1.904743578213909,-1.9492487818644948,-3.4887653796563827,-3.7946868612099673,-1.2983298245678128,-2.428167259020846,-1.1980973722749595,-3.499265484298954,-1.3876682501815527,-2.2758536493056916,-2.6141938306983312,-1.2576251829251333,-1.2906696477375983,-2.12285398050831,-2.387564402369025,-2.8409609252853807,-3.2323428982958715,-2.1587383731331315,-1.4431026043759716,-1.7796401068985668,-3.076521621020659,-2.1449868567093007,-1.9048629251371285,-1.1688534694704003,-2.107653731173266,-2.3143033946295457,-1.9224508848357498,-1.4140722251737545,-2.563322712340806,-2.419391219804978,-1.9440170488777344,-1.5256636313138694,-1.76404593552698,-1.9016290752882294,-1.3896661333194136]}],\n",
       "        {\"xaxis\":{\"title\":{\"text\":\"x1\"}},\"font\":{\"color\":\"Black\",\"family\":\"Courier New\",\"size\":14},\"template\":{\"layout\":{\"coloraxis\":{\"colorbar\":{\"ticks\":\"\",\"outlinewidth\":0}},\"xaxis\":{\"gridcolor\":\"white\",\"zerolinewidth\":2,\"title\":{\"standoff\":15},\"ticks\":\"\",\"zerolinecolor\":\"white\",\"automargin\":true,\"linecolor\":\"white\"},\"hovermode\":\"closest\",\"paper_bgcolor\":\"white\",\"geo\":{\"showlakes\":true,\"showland\":true,\"landcolor\":\"#E5ECF6\",\"bgcolor\":\"white\",\"subunitcolor\":\"white\",\"lakecolor\":\"white\"},\"colorscale\":{\"sequential\":[[0.0,\"#0d0887\"],[0.1111111111111111,\"#46039f\"],[0.2222222222222222,\"#7201a8\"],[0.3333333333333333,\"#9c179e\"],[0.4444444444444444,\"#bd3786\"],[0.5555555555555556,\"#d8576b\"],[0.6666666666666666,\"#ed7953\"],[0.7777777777777778,\"#fb9f3a\"],[0.8888888888888888,\"#fdca26\"],[1.0,\"#f0f921\"]],\"diverging\":[[0,\"#8e0152\"],[0.1,\"#c51b7d\"],[0.2,\"#de77ae\"],[0.3,\"#f1b6da\"],[0.4,\"#fde0ef\"],[0.5,\"#f7f7f7\"],[0.6,\"#e6f5d0\"],[0.7,\"#b8e186\"],[0.8,\"#7fbc41\"],[0.9,\"#4d9221\"],[1,\"#276419\"]],\"sequentialminus\":[[0.0,\"#0d0887\"],[0.1111111111111111,\"#46039f\"],[0.2222222222222222,\"#7201a8\"],[0.3333333333333333,\"#9c179e\"],[0.4444444444444444,\"#bd3786\"],[0.5555555555555556,\"#d8576b\"],[0.6666666666666666,\"#ed7953\"],[0.7777777777777778,\"#fb9f3a\"],[0.8888888888888888,\"#fdca26\"],[1.0,\"#f0f921\"]]},\"yaxis\":{\"gridcolor\":\"white\",\"zerolinewidth\":2,\"title\":{\"standoff\":15},\"ticks\":\"\",\"zerolinecolor\":\"white\",\"automargin\":true,\"linecolor\":\"white\"},\"shapedefaults\":{\"line\":{\"color\":\"#2a3f5f\"}},\"hoverlabel\":{\"align\":\"left\"},\"mapbox\":{\"style\":\"light\"},\"polar\":{\"angularaxis\":{\"gridcolor\":\"white\",\"ticks\":\"\",\"linecolor\":\"white\"},\"bgcolor\":\"#E5ECF6\",\"radialaxis\":{\"gridcolor\":\"white\",\"ticks\":\"\",\"linecolor\":\"white\"}},\"autotypenumbers\":\"strict\",\"font\":{\"color\":\"#2a3f5f\"},\"ternary\":{\"baxis\":{\"gridcolor\":\"white\",\"ticks\":\"\",\"linecolor\":\"white\"},\"bgcolor\":\"#E5ECF6\",\"caxis\":{\"gridcolor\":\"white\",\"ticks\":\"\",\"linecolor\":\"white\"},\"aaxis\":{\"gridcolor\":\"white\",\"ticks\":\"\",\"linecolor\":\"white\"}},\"annotationdefaults\":{\"arrowhead\":0,\"arrowwidth\":1,\"arrowcolor\":\"#2a3f5f\"},\"plot_bgcolor\":\"#E5ECF6\",\"title\":{\"x\":0.05},\"scene\":{\"xaxis\":{\"gridcolor\":\"white\",\"gridwidth\":2,\"backgroundcolor\":\"#E5ECF6\",\"ticks\":\"\",\"showbackground\":true,\"zerolinecolor\":\"white\",\"linecolor\":\"white\"},\"zaxis\":{\"gridcolor\":\"white\",\"gridwidth\":2,\"backgroundcolor\":\"#E5ECF6\",\"ticks\":\"\",\"showbackground\":true,\"zerolinecolor\":\"white\",\"linecolor\":\"white\"},\"yaxis\":{\"gridcolor\":\"white\",\"gridwidth\":2,\"backgroundcolor\":\"#E5ECF6\",\"ticks\":\"\",\"showbackground\":true,\"zerolinecolor\":\"white\",\"linecolor\":\"white\"}},\"colorway\":[\"#636efa\",\"#EF553B\",\"#00cc96\",\"#ab63fa\",\"#FFA15A\",\"#19d3f3\",\"#FF6692\",\"#B6E880\",\"#FF97FF\",\"#FECB52\"]},\"data\":{\"barpolar\":[{\"type\":\"barpolar\",\"marker\":{\"line\":{\"color\":\"#E5ECF6\",\"width\":0.5}}}],\"carpet\":[{\"aaxis\":{\"gridcolor\":\"white\",\"endlinecolor\":\"#2a3f5f\",\"minorgridcolor\":\"white\",\"startlinecolor\":\"#2a3f5f\",\"linecolor\":\"white\"},\"type\":\"carpet\",\"baxis\":{\"gridcolor\":\"white\",\"endlinecolor\":\"#2a3f5f\",\"minorgridcolor\":\"white\",\"startlinecolor\":\"#2a3f5f\",\"linecolor\":\"white\"}}],\"scatterpolar\":[{\"type\":\"scatterpolar\",\"marker\":{\"colorbar\":{\"ticks\":\"\",\"outlinewidth\":0}}}],\"parcoords\":[{\"line\":{\"colorbar\":{\"ticks\":\"\",\"outlinewidth\":0}},\"type\":\"parcoords\"}],\"scatter\":[{\"type\":\"scatter\",\"marker\":{\"colorbar\":{\"ticks\":\"\",\"outlinewidth\":0}}}],\"histogram2dcontour\":[{\"colorbar\":{\"ticks\":\"\",\"outlinewidth\":0},\"type\":\"histogram2dcontour\",\"colorscale\":[[0.0,\"#0d0887\"],[0.1111111111111111,\"#46039f\"],[0.2222222222222222,\"#7201a8\"],[0.3333333333333333,\"#9c179e\"],[0.4444444444444444,\"#bd3786\"],[0.5555555555555556,\"#d8576b\"],[0.6666666666666666,\"#ed7953\"],[0.7777777777777778,\"#fb9f3a\"],[0.8888888888888888,\"#fdca26\"],[1.0,\"#f0f921\"]]}],\"contour\":[{\"colorbar\":{\"ticks\":\"\",\"outlinewidth\":0},\"type\":\"contour\",\"colorscale\":[[0.0,\"#0d0887\"],[0.1111111111111111,\"#46039f\"],[0.2222222222222222,\"#7201a8\"],[0.3333333333333333,\"#9c179e\"],[0.4444444444444444,\"#bd3786\"],[0.5555555555555556,\"#d8576b\"],[0.6666666666666666,\"#ed7953\"],[0.7777777777777778,\"#fb9f3a\"],[0.8888888888888888,\"#fdca26\"],[1.0,\"#f0f921\"]]}],\"scattercarpet\":[{\"type\":\"scattercarpet\",\"marker\":{\"colorbar\":{\"ticks\":\"\",\"outlinewidth\":0}}}],\"mesh3d\":[{\"colorbar\":{\"ticks\":\"\",\"outlinewidth\":0},\"type\":\"mesh3d\"}],\"surface\":[{\"colorbar\":{\"ticks\":\"\",\"outlinewidth\":0},\"type\":\"surface\",\"colorscale\":[[0.0,\"#0d0887\"],[0.1111111111111111,\"#46039f\"],[0.2222222222222222,\"#7201a8\"],[0.3333333333333333,\"#9c179e\"],[0.4444444444444444,\"#bd3786\"],[0.5555555555555556,\"#d8576b\"],[0.6666666666666666,\"#ed7953\"],[0.7777777777777778,\"#fb9f3a\"],[0.8888888888888888,\"#fdca26\"],[1.0,\"#f0f921\"]]}],\"scattermapbox\":[{\"type\":\"scattermapbox\",\"marker\":{\"colorbar\":{\"ticks\":\"\",\"outlinewidth\":0}}}],\"scattergeo\":[{\"type\":\"scattergeo\",\"marker\":{\"colorbar\":{\"ticks\":\"\",\"outlinewidth\":0}}}],\"histogram\":[{\"type\":\"histogram\",\"marker\":{\"colorbar\":{\"ticks\":\"\",\"outlinewidth\":0}}}],\"pie\":[{\"type\":\"pie\",\"automargin\":true}],\"choropleth\":[{\"colorbar\":{\"ticks\":\"\",\"outlinewidth\":0},\"type\":\"choropleth\"}],\"heatmapgl\":[{\"colorbar\":{\"ticks\":\"\",\"outlinewidth\":0},\"type\":\"heatmapgl\",\"colorscale\":[[0.0,\"#0d0887\"],[0.1111111111111111,\"#46039f\"],[0.2222222222222222,\"#7201a8\"],[0.3333333333333333,\"#9c179e\"],[0.4444444444444444,\"#bd3786\"],[0.5555555555555556,\"#d8576b\"],[0.6666666666666666,\"#ed7953\"],[0.7777777777777778,\"#fb9f3a\"],[0.8888888888888888,\"#fdca26\"],[1.0,\"#f0f921\"]]}],\"bar\":[{\"type\":\"bar\",\"error_y\":{\"color\":\"#2a3f5f\"},\"error_x\":{\"color\":\"#2a3f5f\"},\"marker\":{\"line\":{\"color\":\"#E5ECF6\",\"width\":0.5}}}],\"heatmap\":[{\"colorbar\":{\"ticks\":\"\",\"outlinewidth\":0},\"type\":\"heatmap\",\"colorscale\":[[0.0,\"#0d0887\"],[0.1111111111111111,\"#46039f\"],[0.2222222222222222,\"#7201a8\"],[0.3333333333333333,\"#9c179e\"],[0.4444444444444444,\"#bd3786\"],[0.5555555555555556,\"#d8576b\"],[0.6666666666666666,\"#ed7953\"],[0.7777777777777778,\"#fb9f3a\"],[0.8888888888888888,\"#fdca26\"],[1.0,\"#f0f921\"]]}],\"contourcarpet\":[{\"colorbar\":{\"ticks\":\"\",\"outlinewidth\":0},\"type\":\"contourcarpet\"}],\"table\":[{\"type\":\"table\",\"header\":{\"line\":{\"color\":\"white\"},\"fill\":{\"color\":\"#C8D4E3\"}},\"cells\":{\"line\":{\"color\":\"white\"},\"fill\":{\"color\":\"#EBF0F8\"}}}],\"scatter3d\":[{\"line\":{\"colorbar\":{\"ticks\":\"\",\"outlinewidth\":0}},\"type\":\"scatter3d\",\"marker\":{\"colorbar\":{\"ticks\":\"\",\"outlinewidth\":0}}}],\"scattergl\":[{\"type\":\"scattergl\",\"marker\":{\"colorbar\":{\"ticks\":\"\",\"outlinewidth\":0}}}],\"histogram2d\":[{\"colorbar\":{\"ticks\":\"\",\"outlinewidth\":0},\"type\":\"histogram2d\",\"colorscale\":[[0.0,\"#0d0887\"],[0.1111111111111111,\"#46039f\"],[0.2222222222222222,\"#7201a8\"],[0.3333333333333333,\"#9c179e\"],[0.4444444444444444,\"#bd3786\"],[0.5555555555555556,\"#d8576b\"],[0.6666666666666666,\"#ed7953\"],[0.7777777777777778,\"#fb9f3a\"],[0.8888888888888888,\"#fdca26\"],[1.0,\"#f0f921\"]]}],\"scatterternary\":[{\"type\":\"scatterternary\",\"marker\":{\"colorbar\":{\"ticks\":\"\",\"outlinewidth\":0}}}],\"scatterpolargl\":[{\"type\":\"scatterpolargl\",\"marker\":{\"colorbar\":{\"ticks\":\"\",\"outlinewidth\":0}}}]}},\"legend\":{\"tracegroupgap\":0,\"title\":{\"text\":\"species\"}},\"margin\":{\"l\":50,\"b\":50,\"r\":50,\"t\":60},\"yaxis\":{\"title\":{\"text\":\"x2\"}}},\n",
       "        {\"editable\":false,\"responsive\":true,\"staticPlot\":false,\"scrollZoom\":true},\n",
       "    )\n",
       "}\n",
       "\n",
       "        });\n",
       "    </script>\n",
       "</div>\n",
       "\n",
       "</body>\n",
       "</html>"
      ],
      "text/plain": [
       "data: [\n",
       "  \"scatter with fields legendgroup, marker, mode, name, opacity, showlegend, type, x, xaxis, y, and yaxis\",\n",
       "  \"scatter with fields legendgroup, marker, mode, name, opacity, showlegend, type, x, xaxis, y, and yaxis\",\n",
       "  \"scatter with fields legendgroup, marker, mode, name, opacity, showlegend, type, x, xaxis, y, and yaxis\"\n",
       "]\n",
       "\n",
       "layout: \"layout with fields font, legend, margin, template, xaxis, and yaxis\"\n",
       "\n"
      ]
     },
     "execution_count": 4,
     "metadata": {},
     "output_type": "execute_result"
    }
   ],
   "source": [
    "using PlotlyJS, MLJ\n",
    "using DataFrames: DataFrame, insertcols!\n",
    "\n",
    "PCA = @load PCA pkg=\"MultivariateStats\" verbosity=0\n",
    "\n",
    "function display_iris_2D_pca()\n",
    "    df = DataFrame(dataset(\"iris\"))\n",
    "    axes = [:petal_length, :petal_width, :sepal_length, :sepal_width]\n",
    "    X, = unpack(df, ∈(axes))\n",
    "    coerce!(X, Any => Continuous)\n",
    "    \n",
    "    mach = machine(PCA(pratio=0.999,maxoutdim=2), X)\n",
    "    fit!(mach)\n",
    "    \n",
    "    Xpca = transform(mach, X)\n",
    "    insertcols!(Xpca, :species=>df[!,:species])\n",
    "    \n",
    "    axes_pca = Symbol.(filter!(∋('x'), names(Xpca)))\n",
    "    \n",
    "    layout = Layout(font=attr(family=\"Courier New\", size=14, color=\"Black\"))\n",
    "    Plot(Xpca, layout; x=:x1, y=:x2, mode=\"markers\", color=:species, kind=\"scatter\", opacity=0.65)\n",
    "end\n",
    "\n",
    "display_iris_2D_pca()"
   ]
  },
  {
   "cell_type": "markdown",
   "id": "02f08dd2",
   "metadata": {},
   "source": [
    "# Visualize PCA with scatter3d\n",
    "We repeat the same visualization as be for but for three dimensions."
   ]
  },
  {
   "cell_type": "code",
   "execution_count": 5,
   "id": "ee58ac05",
   "metadata": {},
   "outputs": [
    {
     "name": "stderr",
     "output_type": "stream",
     "text": [
      "┌ Info: Training Machine{PCA,…}.\n",
      "└ @ MLJBase /home/markus/.julia/packages/MLJBase/HZmTU/src/machines.jl:403\n"
     ]
    },
    {
     "data": {
      "application/vnd.plotly.v1+json": {
       "config": {
        "editable": false,
        "responsive": true,
        "scrollZoom": true,
        "showLink": false,
        "staticPlot": false
       },
       "data": [
        {
         "legendgroup": "setosa",
         "marker": {
          "color": "#636efa"
         },
         "mode": "markers",
         "name": "setosa",
         "opacity": 0.65,
         "showlegend": true,
         "type": "scatter3d",
         "x": [
          2.6842071251039514,
          2.7153906156341336,
          2.8898195396179194,
          2.7464371973087376,
          2.728592981831318,
          2.2798973610096,
          2.820890682180633,
          2.6264819933238224,
          2.887958565335637,
          2.6738446867191237,
          2.5065267893389063,
          2.613142718271059,
          2.7874339759971,
          3.2252004462749833,
          2.6435432169411492,
          2.383869323799378,
          2.6225262031258114,
          2.6483227324791296,
          2.199077961430765,
          2.587346188917741,
          2.310531701313136,
          2.5432349073036984,
          3.2158576949001088,
          2.3031285376638846,
          2.3561710866839007,
          2.507917226837883,
          2.469055997545126,
          2.5623909468367536,
          2.639821268376585,
          2.6328479080307607,
          2.5884620513033942,
          2.410077337121599,
          2.6476366733969035,
          2.5971594770759214,
          2.6738446867191237,
          2.8669998469325373,
          2.6252284646804243,
          2.6738446867191237,
          2.9818426648539114,
          2.5903230255856773,
          2.7701389107463275,
          2.852211081566395,
          2.998296442832354,
          2.4055141012847043,
          2.2088329541767084,
          2.715665190747457,
          2.5375733710135098,
          2.8403212968270117,
          2.542685757077052,
          2.7039123148636532
         ],
         "xaxis": "x",
         "y": [
          0.3266073147643875,
          -0.16955684755602707,
          -0.13734560960502812,
          -0.311124315751992,
          0.33392456356845457,
          0.7477827132251331,
          -0.08210451102468086,
          0.17040534896028953,
          -0.5707980263315919,
          -0.1066917037527392,
          0.6519350136725713,
          0.02152063196025794,
          -0.22774018887110709,
          -0.5032799094854262,
          1.1861948994134481,
          1.344754344559862,
          0.8180896745965945,
          0.31913666775088406,
          0.8792440880917356,
          0.5204736388059679,
          0.39786782158889106,
          0.4400317546598151,
          0.14161557162558353,
          0.10552267842998153,
          -0.031209589068337984,
          -0.13905633991317495,
          0.13788731459041736,
          0.3746845627501055,
          0.31929006596032095,
          -0.19007583063362415,
          -0.19739307943769133,
          0.418080008247615,
          0.8199826325595072,
          1.1000219280072683,
          -0.1066917037527392,
          0.07719309572358606,
          0.606800008421585,
          -0.1066917037527392,
          -0.48025004885607675,
          0.2360593372888723,
          0.2710594197651666,
          -0.9328653674695462,
          -0.33430757459077703,
          0.19591725769606044,
          0.44269603042100325,
          -0.24268148289811386,
          0.5103675454766059,
          -0.22057633827647682,
          0.586281025343988,
          0.115010852170505
         ],
         "yaxis": "y",
         "z": [
          0.021511837001963685,
          0.20352142500549025,
          -0.024709240998956897,
          -0.037671975285300724,
          -0.09622969977460755,
          -0.1743256190164007,
          -0.26425108519069557,
          0.01580151026431631,
          -0.027335406114507688,
          0.1915332997356455,
          0.06927499581393304,
          -0.10765035324990285,
          0.20032778809538948,
          -0.06841362917233078,
          0.14450570400963725,
          -0.28373066393977386,
          -0.14531598882161706,
          -0.033394254070697627,
          0.11452146479835507,
          -0.2195720880008229,
          0.233695607097971,
          -0.21483637027967445,
          -0.2996189815108705,
          -0.04568004127448777,
          -0.12940757589599045,
          0.24711633789085974,
          -0.10126307942970203,
          0.07235915743602961,
          0.13925337377853547,
          -0.04646646364504471,
          0.07127507313152662,
          0.13838824005004036,
          -0.23058560425416819,
          -0.16358191262365895,
          0.1915332997356455,
          0.15684235049802359,
          0.26116315648170607,
          0.1915332997356455,
          -0.07972480735962166,
          0.07390123824707767,
          -0.08424157450476305,
          0.3409614911071476,
          -0.19900842494724147,
          -0.2707170703688342,
          -0.3034878092682676,
          0.0905156059500671,
          -0.17191840447685763,
          -0.0900613765304147,
          0.011175267831171176,
          0.08269572660682217
         ]
        },
        {
         "legendgroup": "versicolor",
         "marker": {
          "color": "#EF553B"
         },
         "mode": "markers",
         "name": "versicolor",
         "opacity": 0.65,
         "showlegend": true,
         "type": "scatter3d",
         "x": [
          -1.2847945878450686,
          -0.9324107529829146,
          -1.4640613227790722,
          -0.1809672063476957,
          -1.087134487206998,
          -0.6404367495231422,
          -1.0952237099384752,
          0.75146714064823,
          -1.0432977807062782,
          0.010190070727856364,
          0.5110861958950936,
          -0.5110980606834744,
          -0.2623357561531773,
          -0.9840445451694279,
          0.17486400196569918,
          -0.9275729420326968,
          -0.6595927890561973,
          -0.23454058625983248,
          -0.9423617073988391,
          -0.04324640032870165,
          -1.1162407237538126,
          -0.35678656783045826,
          -1.2964688502855308,
          -0.9205026489090061,
          -0.7140082136428302,
          -0.8996408632837732,
          -1.3310414188547168,
          -1.557396272070699,
          -0.8124555489979989,
          0.3073347556634073,
          0.07034288894927461,
          0.19188449210314867,
          -0.1349949504513703,
          -1.3787369827755798,
          -0.5872748535799076,
          -0.8072054966767133,
          -1.2204289662446766,
          -0.8128677903690669,
          -0.24519516169034286,
          -0.16451342836925278,
          -0.463030988871421,
          -0.8901604456511533,
          -0.2288790499696446,
          0.7070812839208636,
          -0.3555330391870604,
          -0.33112694733271963,
          -0.37523822894676273,
          -0.6416902781665401,
          0.9084633331234981,
          -0.29780790740693097
         ],
         "xaxis": "x",
         "y": [
          0.685439186132919,
          0.31919808983364845,
          0.5041898329724522,
          -0.8256039435761139,
          0.07539038928876651,
          -0.4173234829700254,
          0.28389121093848046,
          -1.0011075129743943,
          0.22895690877700597,
          -0.7205748667019014,
          -1.2624919538621413,
          -0.1022841050459704,
          -0.5478932980253381,
          -0.12436042022227793,
          -0.25181557108017094,
          0.4682362050431162,
          -0.35197629106031586,
          -0.3319218293621206,
          -0.5418222581500156,
          -0.5814894466123592,
          -0.08421401387837275,
          -0.06682382794136704,
          -0.32756151979494497,
          -0.182390363327921,
          0.15037915314843636,
          0.32961097958188296,
          0.24466952060228814,
          0.26739258481276423,
          -0.16233157487863342,
          -0.3650866127661613,
          -0.7025379317307265,
          -0.6774905443743579,
          -0.31170964270339674,
          -0.4212051382146281,
          -0.4832842677174814,
          0.19505396377111212,
          0.40803533700101685,
          -0.3706789983189113,
          -0.26672803566184766,
          -0.6796614693108141,
          -0.6695265465361222,
          -0.033812442746762664,
          -0.402257620178912,
          -1.0084247617784614,
          -0.5032184874026624,
          -0.21118014066262636,
          -0.2916220248087796,
          0.0190711764912702,
          -0.7515687251694863,
          -0.347016521598564
         ],
         "yaxis": "y",
         "z": [
          0.40612955307696463,
          0.017129909205126095,
          0.33826072771796023,
          0.17708285639336252,
          0.30654446481443126,
          -0.04118876935364299,
          -0.1700225337414984,
          -0.015672194238161852,
          0.414814566148705,
          -0.2834372462541269,
          0.26648995382244717,
          -0.13232789047497423,
          0.6919415783189635,
          0.06215742761354015,
          -0.0936586381919518,
          0.3132294005685776,
          -0.32838429706934696,
          0.2702806708356951,
          0.49734854117770144,
          0.23296355648252223,
          -0.4598442265727529,
          0.2274721803208824,
          0.3475132125842497,
          0.2316114185526724,
          0.3203723328292699,
          0.3147714813796257,
          0.5212449247379852,
          0.1646384908522287,
          -0.03634357634449062,
          0.315337196938919,
          0.2417580448422667,
          0.3039165434636238,
          0.17497330378776454,
          -0.015480495121707571,
          -0.4445837530348697,
          -0.38945871138620114,
          0.2365660868498288,
          0.6128710500606713,
          -0.18956248472924114,
          0.05779923880574267,
          0.024053890889810442,
          0.009768026368426178,
          0.2273627050328786,
          0.10206934253840949,
          -0.017889465896507556,
          -0.08380907322251395,
          -0.07907335550136527,
          0.2041728768637467,
          0.007736584506977451,
          -0.012179139158859431
         ]
        },
        {
         "legendgroup": "virginica",
         "marker": {
          "color": "#00cc96"
         },
         "mode": "markers",
         "name": "virginica",
         "opacity": 0.65,
         "showlegend": true,
         "type": "scatter3d",
         "x": [
          -2.5317269804395552,
          -1.4140722251737545,
          -2.6164846082840407,
          -1.9708149459064788,
          -2.3497579839509397,
          -3.396879920678135,
          -0.519383245084933,
          -2.9320050969912983,
          -2.3196727938740502,
          -2.918134233644248,
          -1.6619349470194835,
          -1.80234045266073,
          -2.1653788629533945,
          -1.3445942175098216,
          -1.5852672993086407,
          -1.904743578213909,
          -1.9492487818644948,
          -3.4887653796563827,
          -3.7946868612099673,
          -1.2983298245678128,
          -2.428167259020846,
          -1.1980973722749595,
          -3.499265484298954,
          -1.3876682501815527,
          -2.2758536493056916,
          -2.6141938306983312,
          -1.2576251829251333,
          -1.2906696477375983,
          -2.12285398050831,
          -2.387564402369025,
          -2.8409609252853807,
          -3.2323428982958715,
          -2.1587383731331315,
          -1.4431026043759716,
          -1.7796401068985668,
          -3.076521621020659,
          -2.1449868567093007,
          -1.9048629251371285,
          -1.1688534694704003,
          -2.107653731173266,
          -2.3143033946295457,
          -1.9224508848357498,
          -1.4140722251737545,
          -2.563322712340806,
          -2.419391219804978,
          -1.9440170488777344,
          -1.5256636313138694,
          -1.76404593552698,
          -1.9016290752882294,
          -1.3896661333194136
         ],
         "xaxis": "x",
         "y": [
          -0.01184223664029932,
          -0.5749250559123045,
          0.34193528698729425,
          -0.18112569470491324,
          -0.041882549654841575,
          0.547168046230152,
          -1.1913516890506521,
          0.35237700618085954,
          -0.2455481706069107,
          0.7803806293720323,
          0.24203840103752233,
          -0.21615460662653674,
          0.21528028337300675,
          -0.776415425176825,
          -0.5393070538471718,
          0.11881899098269864,
          0.04073025942776802,
          1.1715445442635648,
          0.2532655709725335,
          -0.7610139365215085,
          0.3767819712541524,
          -0.6055789617645939,
          0.45677346696407367,
          -0.20403098657015545,
          0.33338652575664257,
          0.5583669502788222,
          -0.17913699742322325,
          -0.11642525182937234,
          -0.21085488454948992,
          0.46251925072626004,
          0.37274259104902036,
          1.370524035976334,
          -0.21832553156299328,
          -0.14380128908272632,
          -0.501464794706015,
          0.6857644422460553,
          0.13890660887731537,
          0.0480475082318351,
          -0.1645024998150897,
          0.37148224917710526,
          0.18260885079369846,
          0.40927117617869463,
          -0.5749250559123045,
          0.27597450223983827,
          0.303503937702629,
          0.18741522204601319,
          -0.37502084819182385,
          0.07851918642935717,
          0.11587674824796651,
          -0.28288670917226844
         ],
         "yaxis": "y",
         "z": [
          -0.7584586515284953,
          -0.2963982243052143,
          0.11214137055436697,
          -0.10653914864984432,
          -0.2841106808661675,
          0.3518731576273035,
          -0.5466855311249507,
          0.4236912783369,
          0.34992218335904973,
          -0.4217389336137668,
          -0.24281526346759363,
          0.037695328493963676,
          -0.03314818319913408,
          -0.28286801822432117,
          -0.6305704884623295,
          -0.48013807976573025,
          -0.04272909392943518,
          -0.12932008336177042,
          0.516970715993895,
          0.3448870474686988,
          -0.21864907004670597,
          -0.5126407650398166,
          0.5769101867216506,
          0.06351132177864638,
          -0.28467815266071667,
          0.20842334661879663,
          -0.04697780744922869,
          -0.23161356056830634,
          -0.15351588509125602,
          0.45202396144913054,
          0.5010315391382025,
          0.11844877739516274,
          -0.20842197616391722,
          0.15408297110542857,
          0.17581118605670668,
          0.33642274120822274,
          -0.7341847390548604,
          -0.16047063070600645,
          -0.28246088100237177,
          -0.027437856461486193,
          -0.32286040074238453,
          -0.11549281596072067,
          -0.2963982243052143,
          -0.2912536131268596,
          -0.5043025169513613,
          -0.17930287068112993,
          0.12063644074490926,
          -0.13078405342866978,
          -0.7228735608675689,
          -0.3623178316312208
         ]
        }
       ],
       "frames": [],
       "layout": {
        "font": {
         "color": "Black",
         "family": "Courier New",
         "size": 14
        },
        "legend": {
         "title": {
          "text": "species"
         },
         "tracegroupgap": 0
        },
        "margin": {
         "b": 50,
         "l": 50,
         "r": 50,
         "t": 60
        },
        "template": {
         "data": {
          "bar": [
           {
            "error_x": {
             "color": "#2a3f5f"
            },
            "error_y": {
             "color": "#2a3f5f"
            },
            "marker": {
             "line": {
              "color": "#E5ECF6",
              "width": 0.5
             }
            },
            "type": "bar"
           }
          ],
          "barpolar": [
           {
            "marker": {
             "line": {
              "color": "#E5ECF6",
              "width": 0.5
             }
            },
            "type": "barpolar"
           }
          ],
          "carpet": [
           {
            "aaxis": {
             "endlinecolor": "#2a3f5f",
             "gridcolor": "white",
             "linecolor": "white",
             "minorgridcolor": "white",
             "startlinecolor": "#2a3f5f"
            },
            "baxis": {
             "endlinecolor": "#2a3f5f",
             "gridcolor": "white",
             "linecolor": "white",
             "minorgridcolor": "white",
             "startlinecolor": "#2a3f5f"
            },
            "type": "carpet"
           }
          ],
          "choropleth": [
           {
            "colorbar": {
             "outlinewidth": 0,
             "ticks": ""
            },
            "type": "choropleth"
           }
          ],
          "contour": [
           {
            "colorbar": {
             "outlinewidth": 0,
             "ticks": ""
            },
            "colorscale": [
             [
              0,
              "#0d0887"
             ],
             [
              0.1111111111111111,
              "#46039f"
             ],
             [
              0.2222222222222222,
              "#7201a8"
             ],
             [
              0.3333333333333333,
              "#9c179e"
             ],
             [
              0.4444444444444444,
              "#bd3786"
             ],
             [
              0.5555555555555556,
              "#d8576b"
             ],
             [
              0.6666666666666666,
              "#ed7953"
             ],
             [
              0.7777777777777778,
              "#fb9f3a"
             ],
             [
              0.8888888888888888,
              "#fdca26"
             ],
             [
              1,
              "#f0f921"
             ]
            ],
            "type": "contour"
           }
          ],
          "contourcarpet": [
           {
            "colorbar": {
             "outlinewidth": 0,
             "ticks": ""
            },
            "type": "contourcarpet"
           }
          ],
          "heatmap": [
           {
            "colorbar": {
             "outlinewidth": 0,
             "ticks": ""
            },
            "colorscale": [
             [
              0,
              "#0d0887"
             ],
             [
              0.1111111111111111,
              "#46039f"
             ],
             [
              0.2222222222222222,
              "#7201a8"
             ],
             [
              0.3333333333333333,
              "#9c179e"
             ],
             [
              0.4444444444444444,
              "#bd3786"
             ],
             [
              0.5555555555555556,
              "#d8576b"
             ],
             [
              0.6666666666666666,
              "#ed7953"
             ],
             [
              0.7777777777777778,
              "#fb9f3a"
             ],
             [
              0.8888888888888888,
              "#fdca26"
             ],
             [
              1,
              "#f0f921"
             ]
            ],
            "type": "heatmap"
           }
          ],
          "heatmapgl": [
           {
            "colorbar": {
             "outlinewidth": 0,
             "ticks": ""
            },
            "colorscale": [
             [
              0,
              "#0d0887"
             ],
             [
              0.1111111111111111,
              "#46039f"
             ],
             [
              0.2222222222222222,
              "#7201a8"
             ],
             [
              0.3333333333333333,
              "#9c179e"
             ],
             [
              0.4444444444444444,
              "#bd3786"
             ],
             [
              0.5555555555555556,
              "#d8576b"
             ],
             [
              0.6666666666666666,
              "#ed7953"
             ],
             [
              0.7777777777777778,
              "#fb9f3a"
             ],
             [
              0.8888888888888888,
              "#fdca26"
             ],
             [
              1,
              "#f0f921"
             ]
            ],
            "type": "heatmapgl"
           }
          ],
          "histogram": [
           {
            "marker": {
             "colorbar": {
              "outlinewidth": 0,
              "ticks": ""
             }
            },
            "type": "histogram"
           }
          ],
          "histogram2d": [
           {
            "colorbar": {
             "outlinewidth": 0,
             "ticks": ""
            },
            "colorscale": [
             [
              0,
              "#0d0887"
             ],
             [
              0.1111111111111111,
              "#46039f"
             ],
             [
              0.2222222222222222,
              "#7201a8"
             ],
             [
              0.3333333333333333,
              "#9c179e"
             ],
             [
              0.4444444444444444,
              "#bd3786"
             ],
             [
              0.5555555555555556,
              "#d8576b"
             ],
             [
              0.6666666666666666,
              "#ed7953"
             ],
             [
              0.7777777777777778,
              "#fb9f3a"
             ],
             [
              0.8888888888888888,
              "#fdca26"
             ],
             [
              1,
              "#f0f921"
             ]
            ],
            "type": "histogram2d"
           }
          ],
          "histogram2dcontour": [
           {
            "colorbar": {
             "outlinewidth": 0,
             "ticks": ""
            },
            "colorscale": [
             [
              0,
              "#0d0887"
             ],
             [
              0.1111111111111111,
              "#46039f"
             ],
             [
              0.2222222222222222,
              "#7201a8"
             ],
             [
              0.3333333333333333,
              "#9c179e"
             ],
             [
              0.4444444444444444,
              "#bd3786"
             ],
             [
              0.5555555555555556,
              "#d8576b"
             ],
             [
              0.6666666666666666,
              "#ed7953"
             ],
             [
              0.7777777777777778,
              "#fb9f3a"
             ],
             [
              0.8888888888888888,
              "#fdca26"
             ],
             [
              1,
              "#f0f921"
             ]
            ],
            "type": "histogram2dcontour"
           }
          ],
          "mesh3d": [
           {
            "colorbar": {
             "outlinewidth": 0,
             "ticks": ""
            },
            "type": "mesh3d"
           }
          ],
          "parcoords": [
           {
            "line": {
             "colorbar": {
              "outlinewidth": 0,
              "ticks": ""
             }
            },
            "type": "parcoords"
           }
          ],
          "pie": [
           {
            "automargin": true,
            "type": "pie"
           }
          ],
          "scatter": [
           {
            "marker": {
             "colorbar": {
              "outlinewidth": 0,
              "ticks": ""
             }
            },
            "type": "scatter"
           }
          ],
          "scatter3d": [
           {
            "line": {
             "colorbar": {
              "outlinewidth": 0,
              "ticks": ""
             }
            },
            "marker": {
             "colorbar": {
              "outlinewidth": 0,
              "ticks": ""
             }
            },
            "type": "scatter3d"
           }
          ],
          "scattercarpet": [
           {
            "marker": {
             "colorbar": {
              "outlinewidth": 0,
              "ticks": ""
             }
            },
            "type": "scattercarpet"
           }
          ],
          "scattergeo": [
           {
            "marker": {
             "colorbar": {
              "outlinewidth": 0,
              "ticks": ""
             }
            },
            "type": "scattergeo"
           }
          ],
          "scattergl": [
           {
            "marker": {
             "colorbar": {
              "outlinewidth": 0,
              "ticks": ""
             }
            },
            "type": "scattergl"
           }
          ],
          "scattermapbox": [
           {
            "marker": {
             "colorbar": {
              "outlinewidth": 0,
              "ticks": ""
             }
            },
            "type": "scattermapbox"
           }
          ],
          "scatterpolar": [
           {
            "marker": {
             "colorbar": {
              "outlinewidth": 0,
              "ticks": ""
             }
            },
            "type": "scatterpolar"
           }
          ],
          "scatterpolargl": [
           {
            "marker": {
             "colorbar": {
              "outlinewidth": 0,
              "ticks": ""
             }
            },
            "type": "scatterpolargl"
           }
          ],
          "scatterternary": [
           {
            "marker": {
             "colorbar": {
              "outlinewidth": 0,
              "ticks": ""
             }
            },
            "type": "scatterternary"
           }
          ],
          "surface": [
           {
            "colorbar": {
             "outlinewidth": 0,
             "ticks": ""
            },
            "colorscale": [
             [
              0,
              "#0d0887"
             ],
             [
              0.1111111111111111,
              "#46039f"
             ],
             [
              0.2222222222222222,
              "#7201a8"
             ],
             [
              0.3333333333333333,
              "#9c179e"
             ],
             [
              0.4444444444444444,
              "#bd3786"
             ],
             [
              0.5555555555555556,
              "#d8576b"
             ],
             [
              0.6666666666666666,
              "#ed7953"
             ],
             [
              0.7777777777777778,
              "#fb9f3a"
             ],
             [
              0.8888888888888888,
              "#fdca26"
             ],
             [
              1,
              "#f0f921"
             ]
            ],
            "type": "surface"
           }
          ],
          "table": [
           {
            "cells": {
             "fill": {
              "color": "#EBF0F8"
             },
             "line": {
              "color": "white"
             }
            },
            "header": {
             "fill": {
              "color": "#C8D4E3"
             },
             "line": {
              "color": "white"
             }
            },
            "type": "table"
           }
          ]
         },
         "layout": {
          "annotationdefaults": {
           "arrowcolor": "#2a3f5f",
           "arrowhead": 0,
           "arrowwidth": 1
          },
          "autotypenumbers": "strict",
          "coloraxis": {
           "colorbar": {
            "outlinewidth": 0,
            "ticks": ""
           }
          },
          "colorscale": {
           "diverging": [
            [
             0,
             "#8e0152"
            ],
            [
             0.1,
             "#c51b7d"
            ],
            [
             0.2,
             "#de77ae"
            ],
            [
             0.3,
             "#f1b6da"
            ],
            [
             0.4,
             "#fde0ef"
            ],
            [
             0.5,
             "#f7f7f7"
            ],
            [
             0.6,
             "#e6f5d0"
            ],
            [
             0.7,
             "#b8e186"
            ],
            [
             0.8,
             "#7fbc41"
            ],
            [
             0.9,
             "#4d9221"
            ],
            [
             1,
             "#276419"
            ]
           ],
           "sequential": [
            [
             0,
             "#0d0887"
            ],
            [
             0.1111111111111111,
             "#46039f"
            ],
            [
             0.2222222222222222,
             "#7201a8"
            ],
            [
             0.3333333333333333,
             "#9c179e"
            ],
            [
             0.4444444444444444,
             "#bd3786"
            ],
            [
             0.5555555555555556,
             "#d8576b"
            ],
            [
             0.6666666666666666,
             "#ed7953"
            ],
            [
             0.7777777777777778,
             "#fb9f3a"
            ],
            [
             0.8888888888888888,
             "#fdca26"
            ],
            [
             1,
             "#f0f921"
            ]
           ],
           "sequentialminus": [
            [
             0,
             "#0d0887"
            ],
            [
             0.1111111111111111,
             "#46039f"
            ],
            [
             0.2222222222222222,
             "#7201a8"
            ],
            [
             0.3333333333333333,
             "#9c179e"
            ],
            [
             0.4444444444444444,
             "#bd3786"
            ],
            [
             0.5555555555555556,
             "#d8576b"
            ],
            [
             0.6666666666666666,
             "#ed7953"
            ],
            [
             0.7777777777777778,
             "#fb9f3a"
            ],
            [
             0.8888888888888888,
             "#fdca26"
            ],
            [
             1,
             "#f0f921"
            ]
           ]
          },
          "colorway": [
           "#636efa",
           "#EF553B",
           "#00cc96",
           "#ab63fa",
           "#FFA15A",
           "#19d3f3",
           "#FF6692",
           "#B6E880",
           "#FF97FF",
           "#FECB52"
          ],
          "font": {
           "color": "#2a3f5f"
          },
          "geo": {
           "bgcolor": "white",
           "lakecolor": "white",
           "landcolor": "#E5ECF6",
           "showlakes": true,
           "showland": true,
           "subunitcolor": "white"
          },
          "hoverlabel": {
           "align": "left"
          },
          "hovermode": "closest",
          "mapbox": {
           "style": "light"
          },
          "paper_bgcolor": "white",
          "plot_bgcolor": "#E5ECF6",
          "polar": {
           "angularaxis": {
            "gridcolor": "white",
            "linecolor": "white",
            "ticks": ""
           },
           "bgcolor": "#E5ECF6",
           "radialaxis": {
            "gridcolor": "white",
            "linecolor": "white",
            "ticks": ""
           }
          },
          "scene": {
           "xaxis": {
            "backgroundcolor": "#E5ECF6",
            "gridcolor": "white",
            "gridwidth": 2,
            "linecolor": "white",
            "showbackground": true,
            "ticks": "",
            "zerolinecolor": "white"
           },
           "yaxis": {
            "backgroundcolor": "#E5ECF6",
            "gridcolor": "white",
            "gridwidth": 2,
            "linecolor": "white",
            "showbackground": true,
            "ticks": "",
            "zerolinecolor": "white"
           },
           "zaxis": {
            "backgroundcolor": "#E5ECF6",
            "gridcolor": "white",
            "gridwidth": 2,
            "linecolor": "white",
            "showbackground": true,
            "ticks": "",
            "zerolinecolor": "white"
           }
          },
          "shapedefaults": {
           "line": {
            "color": "#2a3f5f"
           }
          },
          "ternary": {
           "aaxis": {
            "gridcolor": "white",
            "linecolor": "white",
            "ticks": ""
           },
           "baxis": {
            "gridcolor": "white",
            "linecolor": "white",
            "ticks": ""
           },
           "bgcolor": "#E5ECF6",
           "caxis": {
            "gridcolor": "white",
            "linecolor": "white",
            "ticks": ""
           }
          },
          "title": {
           "x": 0.05
          },
          "xaxis": {
           "automargin": true,
           "gridcolor": "white",
           "linecolor": "white",
           "ticks": "",
           "title": {
            "standoff": 15
           },
           "zerolinecolor": "white",
           "zerolinewidth": 2
          },
          "yaxis": {
           "automargin": true,
           "gridcolor": "white",
           "linecolor": "white",
           "ticks": "",
           "title": {
            "standoff": 15
           },
           "zerolinecolor": "white",
           "zerolinewidth": 2
          }
         }
        },
        "xaxis": {
         "title": {
          "text": "x1"
         }
        },
        "yaxis": {
         "title": {
          "text": "x2"
         }
        }
       }
      },
      "text/html": [
       "<html>\n",
       "<head><meta chartset=\"utf-8\" /></head>\n",
       "<body>\n",
       "<div>\n",
       "    <script src=\"https://cdnjs.cloudflare.com/ajax/libs/mathjax/2.7.5/MathJax.js?config=TeX-AMS-MML_SVG\"></script>\n",
       "    <script type=\"text/javascript\">\n",
       "window.PlotlyConfig = {MathJaxConfig: 'local'};\n",
       "</script>\n",
       "<script type=\"text/javascript\">\n",
       "if (window.MathJax) {MathJax.Hub.Config({SVG: {font: \"STIX-Web\"}});}\n",
       "</script>\n",
       "<script type=\"text/javascript\">\n",
       "    if (typeof require !== 'undefined') {\n",
       "        require.undef(\"plotly\");\n",
       "        requirejs.config({\n",
       "            paths: {\n",
       "                'plotly': ['https://cdn.plot.ly/plotly-2.3.0.min']\n",
       "            }\n",
       "        });\n",
       "        require(['plotly'], function(Plotly) {\n",
       "            window._Plotly = Plotly;\n",
       "        });\n",
       "    }\n",
       "</script>\n",
       "\n",
       "    <div\n",
       "        id=c1bd69fe-2844-4551-a125-a9d4a2cc0e90\n",
       "        class=\"plotly-graph-div\"\n",
       "        style=\"height:100%; width:100%;\">\n",
       "    </div>\n",
       "    <script type=\"text/javascript\">\n",
       "        require([\"plotly\"], function(Plotly) {\n",
       "        window.PLOTLYENV = window.PLOTLYENV || {}\n",
       "        \n",
       "        if (document.getElementById('c1bd69fe-2844-4551-a125-a9d4a2cc0e90')) {\n",
       "    Plotly.newPlot(\n",
       "        'c1bd69fe-2844-4551-a125-a9d4a2cc0e90',\n",
       "        [{\"showlegend\":true,\"mode\":\"markers\",\"xaxis\":\"x\",\"name\":\"setosa\",\"opacity\":0.65,\"yaxis\":\"y\",\"z\":[0.021511837001963685,0.20352142500549025,-0.024709240998956897,-0.037671975285300724,-0.09622969977460755,-0.1743256190164007,-0.26425108519069557,0.01580151026431631,-0.027335406114507688,0.1915332997356455,0.06927499581393304,-0.10765035324990285,0.20032778809538948,-0.06841362917233078,0.14450570400963725,-0.28373066393977386,-0.14531598882161706,-0.033394254070697627,0.11452146479835507,-0.2195720880008229,0.233695607097971,-0.21483637027967445,-0.2996189815108705,-0.04568004127448777,-0.12940757589599045,0.24711633789085974,-0.10126307942970203,0.07235915743602961,0.13925337377853547,-0.04646646364504471,0.07127507313152662,0.13838824005004036,-0.23058560425416819,-0.16358191262365895,0.1915332997356455,0.15684235049802359,0.26116315648170607,0.1915332997356455,-0.07972480735962166,0.07390123824707767,-0.08424157450476305,0.3409614911071476,-0.19900842494724147,-0.2707170703688342,-0.3034878092682676,0.0905156059500671,-0.17191840447685763,-0.0900613765304147,0.011175267831171176,0.08269572660682217],\"legendgroup\":\"setosa\",\"marker\":{\"color\":\"#636efa\"},\"y\":[0.3266073147643875,-0.16955684755602707,-0.13734560960502812,-0.311124315751992,0.33392456356845457,0.7477827132251331,-0.08210451102468086,0.17040534896028953,-0.5707980263315919,-0.1066917037527392,0.6519350136725713,0.02152063196025794,-0.22774018887110709,-0.5032799094854262,1.1861948994134481,1.344754344559862,0.8180896745965945,0.31913666775088406,0.8792440880917356,0.5204736388059679,0.39786782158889106,0.4400317546598151,0.14161557162558353,0.10552267842998153,-0.031209589068337984,-0.13905633991317495,0.13788731459041736,0.3746845627501055,0.31929006596032095,-0.19007583063362415,-0.19739307943769133,0.418080008247615,0.8199826325595072,1.1000219280072683,-0.1066917037527392,0.07719309572358606,0.606800008421585,-0.1066917037527392,-0.48025004885607675,0.2360593372888723,0.2710594197651666,-0.9328653674695462,-0.33430757459077703,0.19591725769606044,0.44269603042100325,-0.24268148289811386,0.5103675454766059,-0.22057633827647682,0.586281025343988,0.115010852170505],\"type\":\"scatter3d\",\"x\":[2.6842071251039514,2.7153906156341336,2.8898195396179194,2.7464371973087376,2.728592981831318,2.2798973610096,2.820890682180633,2.6264819933238224,2.887958565335637,2.6738446867191237,2.5065267893389063,2.613142718271059,2.7874339759971,3.2252004462749833,2.6435432169411492,2.383869323799378,2.6225262031258114,2.6483227324791296,2.199077961430765,2.587346188917741,2.310531701313136,2.5432349073036984,3.2158576949001088,2.3031285376638846,2.3561710866839007,2.507917226837883,2.469055997545126,2.5623909468367536,2.639821268376585,2.6328479080307607,2.5884620513033942,2.410077337121599,2.6476366733969035,2.5971594770759214,2.6738446867191237,2.8669998469325373,2.6252284646804243,2.6738446867191237,2.9818426648539114,2.5903230255856773,2.7701389107463275,2.852211081566395,2.998296442832354,2.4055141012847043,2.2088329541767084,2.715665190747457,2.5375733710135098,2.8403212968270117,2.542685757077052,2.7039123148636532]},{\"showlegend\":true,\"mode\":\"markers\",\"xaxis\":\"x\",\"name\":\"versicolor\",\"opacity\":0.65,\"yaxis\":\"y\",\"z\":[0.40612955307696463,0.017129909205126095,0.33826072771796023,0.17708285639336252,0.30654446481443126,-0.04118876935364299,-0.1700225337414984,-0.015672194238161852,0.414814566148705,-0.2834372462541269,0.26648995382244717,-0.13232789047497423,0.6919415783189635,0.06215742761354015,-0.0936586381919518,0.3132294005685776,-0.32838429706934696,0.2702806708356951,0.49734854117770144,0.23296355648252223,-0.4598442265727529,0.2274721803208824,0.3475132125842497,0.2316114185526724,0.3203723328292699,0.3147714813796257,0.5212449247379852,0.1646384908522287,-0.03634357634449062,0.315337196938919,0.2417580448422667,0.3039165434636238,0.17497330378776454,-0.015480495121707571,-0.4445837530348697,-0.38945871138620114,0.2365660868498288,0.6128710500606713,-0.18956248472924114,0.05779923880574267,0.024053890889810442,0.009768026368426178,0.2273627050328786,0.10206934253840949,-0.017889465896507556,-0.08380907322251395,-0.07907335550136527,0.2041728768637467,0.007736584506977451,-0.012179139158859431],\"legendgroup\":\"versicolor\",\"marker\":{\"color\":\"#EF553B\"},\"y\":[0.685439186132919,0.31919808983364845,0.5041898329724522,-0.8256039435761139,0.07539038928876651,-0.4173234829700254,0.28389121093848046,-1.0011075129743943,0.22895690877700597,-0.7205748667019014,-1.2624919538621413,-0.1022841050459704,-0.5478932980253381,-0.12436042022227793,-0.25181557108017094,0.4682362050431162,-0.35197629106031586,-0.3319218293621206,-0.5418222581500156,-0.5814894466123592,-0.08421401387837275,-0.06682382794136704,-0.32756151979494497,-0.182390363327921,0.15037915314843636,0.32961097958188296,0.24466952060228814,0.26739258481276423,-0.16233157487863342,-0.3650866127661613,-0.7025379317307265,-0.6774905443743579,-0.31170964270339674,-0.4212051382146281,-0.4832842677174814,0.19505396377111212,0.40803533700101685,-0.3706789983189113,-0.26672803566184766,-0.6796614693108141,-0.6695265465361222,-0.033812442746762664,-0.402257620178912,-1.0084247617784614,-0.5032184874026624,-0.21118014066262636,-0.2916220248087796,0.0190711764912702,-0.7515687251694863,-0.347016521598564],\"type\":\"scatter3d\",\"x\":[-1.2847945878450686,-0.9324107529829146,-1.4640613227790722,-0.1809672063476957,-1.087134487206998,-0.6404367495231422,-1.0952237099384752,0.75146714064823,-1.0432977807062782,0.010190070727856364,0.5110861958950936,-0.5110980606834744,-0.2623357561531773,-0.9840445451694279,0.17486400196569918,-0.9275729420326968,-0.6595927890561973,-0.23454058625983248,-0.9423617073988391,-0.04324640032870165,-1.1162407237538126,-0.35678656783045826,-1.2964688502855308,-0.9205026489090061,-0.7140082136428302,-0.8996408632837732,-1.3310414188547168,-1.557396272070699,-0.8124555489979989,0.3073347556634073,0.07034288894927461,0.19188449210314867,-0.1349949504513703,-1.3787369827755798,-0.5872748535799076,-0.8072054966767133,-1.2204289662446766,-0.8128677903690669,-0.24519516169034286,-0.16451342836925278,-0.463030988871421,-0.8901604456511533,-0.2288790499696446,0.7070812839208636,-0.3555330391870604,-0.33112694733271963,-0.37523822894676273,-0.6416902781665401,0.9084633331234981,-0.29780790740693097]},{\"showlegend\":true,\"mode\":\"markers\",\"xaxis\":\"x\",\"name\":\"virginica\",\"opacity\":0.65,\"yaxis\":\"y\",\"z\":[-0.7584586515284953,-0.2963982243052143,0.11214137055436697,-0.10653914864984432,-0.2841106808661675,0.3518731576273035,-0.5466855311249507,0.4236912783369,0.34992218335904973,-0.4217389336137668,-0.24281526346759363,0.037695328493963676,-0.03314818319913408,-0.28286801822432117,-0.6305704884623295,-0.48013807976573025,-0.04272909392943518,-0.12932008336177042,0.516970715993895,0.3448870474686988,-0.21864907004670597,-0.5126407650398166,0.5769101867216506,0.06351132177864638,-0.28467815266071667,0.20842334661879663,-0.04697780744922869,-0.23161356056830634,-0.15351588509125602,0.45202396144913054,0.5010315391382025,0.11844877739516274,-0.20842197616391722,0.15408297110542857,0.17581118605670668,0.33642274120822274,-0.7341847390548604,-0.16047063070600645,-0.28246088100237177,-0.027437856461486193,-0.32286040074238453,-0.11549281596072067,-0.2963982243052143,-0.2912536131268596,-0.5043025169513613,-0.17930287068112993,0.12063644074490926,-0.13078405342866978,-0.7228735608675689,-0.3623178316312208],\"legendgroup\":\"virginica\",\"marker\":{\"color\":\"#00cc96\"},\"y\":[-0.01184223664029932,-0.5749250559123045,0.34193528698729425,-0.18112569470491324,-0.041882549654841575,0.547168046230152,-1.1913516890506521,0.35237700618085954,-0.2455481706069107,0.7803806293720323,0.24203840103752233,-0.21615460662653674,0.21528028337300675,-0.776415425176825,-0.5393070538471718,0.11881899098269864,0.04073025942776802,1.1715445442635648,0.2532655709725335,-0.7610139365215085,0.3767819712541524,-0.6055789617645939,0.45677346696407367,-0.20403098657015545,0.33338652575664257,0.5583669502788222,-0.17913699742322325,-0.11642525182937234,-0.21085488454948992,0.46251925072626004,0.37274259104902036,1.370524035976334,-0.21832553156299328,-0.14380128908272632,-0.501464794706015,0.6857644422460553,0.13890660887731537,0.0480475082318351,-0.1645024998150897,0.37148224917710526,0.18260885079369846,0.40927117617869463,-0.5749250559123045,0.27597450223983827,0.303503937702629,0.18741522204601319,-0.37502084819182385,0.07851918642935717,0.11587674824796651,-0.28288670917226844],\"type\":\"scatter3d\",\"x\":[-2.5317269804395552,-1.4140722251737545,-2.6164846082840407,-1.9708149459064788,-2.3497579839509397,-3.396879920678135,-0.519383245084933,-2.9320050969912983,-2.3196727938740502,-2.918134233644248,-1.6619349470194835,-1.80234045266073,-2.1653788629533945,-1.3445942175098216,-1.5852672993086407,-1.904743578213909,-1.9492487818644948,-3.4887653796563827,-3.7946868612099673,-1.2983298245678128,-2.428167259020846,-1.1980973722749595,-3.499265484298954,-1.3876682501815527,-2.2758536493056916,-2.6141938306983312,-1.2576251829251333,-1.2906696477375983,-2.12285398050831,-2.387564402369025,-2.8409609252853807,-3.2323428982958715,-2.1587383731331315,-1.4431026043759716,-1.7796401068985668,-3.076521621020659,-2.1449868567093007,-1.9048629251371285,-1.1688534694704003,-2.107653731173266,-2.3143033946295457,-1.9224508848357498,-1.4140722251737545,-2.563322712340806,-2.419391219804978,-1.9440170488777344,-1.5256636313138694,-1.76404593552698,-1.9016290752882294,-1.3896661333194136]}],\n",
       "        {\"xaxis\":{\"title\":{\"text\":\"x1\"}},\"font\":{\"color\":\"Black\",\"family\":\"Courier New\",\"size\":14},\"template\":{\"layout\":{\"coloraxis\":{\"colorbar\":{\"ticks\":\"\",\"outlinewidth\":0}},\"xaxis\":{\"gridcolor\":\"white\",\"zerolinewidth\":2,\"title\":{\"standoff\":15},\"ticks\":\"\",\"zerolinecolor\":\"white\",\"automargin\":true,\"linecolor\":\"white\"},\"hovermode\":\"closest\",\"paper_bgcolor\":\"white\",\"geo\":{\"showlakes\":true,\"showland\":true,\"landcolor\":\"#E5ECF6\",\"bgcolor\":\"white\",\"subunitcolor\":\"white\",\"lakecolor\":\"white\"},\"colorscale\":{\"sequential\":[[0.0,\"#0d0887\"],[0.1111111111111111,\"#46039f\"],[0.2222222222222222,\"#7201a8\"],[0.3333333333333333,\"#9c179e\"],[0.4444444444444444,\"#bd3786\"],[0.5555555555555556,\"#d8576b\"],[0.6666666666666666,\"#ed7953\"],[0.7777777777777778,\"#fb9f3a\"],[0.8888888888888888,\"#fdca26\"],[1.0,\"#f0f921\"]],\"diverging\":[[0,\"#8e0152\"],[0.1,\"#c51b7d\"],[0.2,\"#de77ae\"],[0.3,\"#f1b6da\"],[0.4,\"#fde0ef\"],[0.5,\"#f7f7f7\"],[0.6,\"#e6f5d0\"],[0.7,\"#b8e186\"],[0.8,\"#7fbc41\"],[0.9,\"#4d9221\"],[1,\"#276419\"]],\"sequentialminus\":[[0.0,\"#0d0887\"],[0.1111111111111111,\"#46039f\"],[0.2222222222222222,\"#7201a8\"],[0.3333333333333333,\"#9c179e\"],[0.4444444444444444,\"#bd3786\"],[0.5555555555555556,\"#d8576b\"],[0.6666666666666666,\"#ed7953\"],[0.7777777777777778,\"#fb9f3a\"],[0.8888888888888888,\"#fdca26\"],[1.0,\"#f0f921\"]]},\"yaxis\":{\"gridcolor\":\"white\",\"zerolinewidth\":2,\"title\":{\"standoff\":15},\"ticks\":\"\",\"zerolinecolor\":\"white\",\"automargin\":true,\"linecolor\":\"white\"},\"shapedefaults\":{\"line\":{\"color\":\"#2a3f5f\"}},\"hoverlabel\":{\"align\":\"left\"},\"mapbox\":{\"style\":\"light\"},\"polar\":{\"angularaxis\":{\"gridcolor\":\"white\",\"ticks\":\"\",\"linecolor\":\"white\"},\"bgcolor\":\"#E5ECF6\",\"radialaxis\":{\"gridcolor\":\"white\",\"ticks\":\"\",\"linecolor\":\"white\"}},\"autotypenumbers\":\"strict\",\"font\":{\"color\":\"#2a3f5f\"},\"ternary\":{\"baxis\":{\"gridcolor\":\"white\",\"ticks\":\"\",\"linecolor\":\"white\"},\"bgcolor\":\"#E5ECF6\",\"caxis\":{\"gridcolor\":\"white\",\"ticks\":\"\",\"linecolor\":\"white\"},\"aaxis\":{\"gridcolor\":\"white\",\"ticks\":\"\",\"linecolor\":\"white\"}},\"annotationdefaults\":{\"arrowhead\":0,\"arrowwidth\":1,\"arrowcolor\":\"#2a3f5f\"},\"plot_bgcolor\":\"#E5ECF6\",\"title\":{\"x\":0.05},\"scene\":{\"xaxis\":{\"gridcolor\":\"white\",\"gridwidth\":2,\"backgroundcolor\":\"#E5ECF6\",\"ticks\":\"\",\"showbackground\":true,\"zerolinecolor\":\"white\",\"linecolor\":\"white\"},\"zaxis\":{\"gridcolor\":\"white\",\"gridwidth\":2,\"backgroundcolor\":\"#E5ECF6\",\"ticks\":\"\",\"showbackground\":true,\"zerolinecolor\":\"white\",\"linecolor\":\"white\"},\"yaxis\":{\"gridcolor\":\"white\",\"gridwidth\":2,\"backgroundcolor\":\"#E5ECF6\",\"ticks\":\"\",\"showbackground\":true,\"zerolinecolor\":\"white\",\"linecolor\":\"white\"}},\"colorway\":[\"#636efa\",\"#EF553B\",\"#00cc96\",\"#ab63fa\",\"#FFA15A\",\"#19d3f3\",\"#FF6692\",\"#B6E880\",\"#FF97FF\",\"#FECB52\"]},\"data\":{\"barpolar\":[{\"type\":\"barpolar\",\"marker\":{\"line\":{\"color\":\"#E5ECF6\",\"width\":0.5}}}],\"carpet\":[{\"aaxis\":{\"gridcolor\":\"white\",\"endlinecolor\":\"#2a3f5f\",\"minorgridcolor\":\"white\",\"startlinecolor\":\"#2a3f5f\",\"linecolor\":\"white\"},\"type\":\"carpet\",\"baxis\":{\"gridcolor\":\"white\",\"endlinecolor\":\"#2a3f5f\",\"minorgridcolor\":\"white\",\"startlinecolor\":\"#2a3f5f\",\"linecolor\":\"white\"}}],\"scatterpolar\":[{\"type\":\"scatterpolar\",\"marker\":{\"colorbar\":{\"ticks\":\"\",\"outlinewidth\":0}}}],\"parcoords\":[{\"line\":{\"colorbar\":{\"ticks\":\"\",\"outlinewidth\":0}},\"type\":\"parcoords\"}],\"scatter\":[{\"type\":\"scatter\",\"marker\":{\"colorbar\":{\"ticks\":\"\",\"outlinewidth\":0}}}],\"histogram2dcontour\":[{\"colorbar\":{\"ticks\":\"\",\"outlinewidth\":0},\"type\":\"histogram2dcontour\",\"colorscale\":[[0.0,\"#0d0887\"],[0.1111111111111111,\"#46039f\"],[0.2222222222222222,\"#7201a8\"],[0.3333333333333333,\"#9c179e\"],[0.4444444444444444,\"#bd3786\"],[0.5555555555555556,\"#d8576b\"],[0.6666666666666666,\"#ed7953\"],[0.7777777777777778,\"#fb9f3a\"],[0.8888888888888888,\"#fdca26\"],[1.0,\"#f0f921\"]]}],\"contour\":[{\"colorbar\":{\"ticks\":\"\",\"outlinewidth\":0},\"type\":\"contour\",\"colorscale\":[[0.0,\"#0d0887\"],[0.1111111111111111,\"#46039f\"],[0.2222222222222222,\"#7201a8\"],[0.3333333333333333,\"#9c179e\"],[0.4444444444444444,\"#bd3786\"],[0.5555555555555556,\"#d8576b\"],[0.6666666666666666,\"#ed7953\"],[0.7777777777777778,\"#fb9f3a\"],[0.8888888888888888,\"#fdca26\"],[1.0,\"#f0f921\"]]}],\"scattercarpet\":[{\"type\":\"scattercarpet\",\"marker\":{\"colorbar\":{\"ticks\":\"\",\"outlinewidth\":0}}}],\"mesh3d\":[{\"colorbar\":{\"ticks\":\"\",\"outlinewidth\":0},\"type\":\"mesh3d\"}],\"surface\":[{\"colorbar\":{\"ticks\":\"\",\"outlinewidth\":0},\"type\":\"surface\",\"colorscale\":[[0.0,\"#0d0887\"],[0.1111111111111111,\"#46039f\"],[0.2222222222222222,\"#7201a8\"],[0.3333333333333333,\"#9c179e\"],[0.4444444444444444,\"#bd3786\"],[0.5555555555555556,\"#d8576b\"],[0.6666666666666666,\"#ed7953\"],[0.7777777777777778,\"#fb9f3a\"],[0.8888888888888888,\"#fdca26\"],[1.0,\"#f0f921\"]]}],\"scattermapbox\":[{\"type\":\"scattermapbox\",\"marker\":{\"colorbar\":{\"ticks\":\"\",\"outlinewidth\":0}}}],\"scattergeo\":[{\"type\":\"scattergeo\",\"marker\":{\"colorbar\":{\"ticks\":\"\",\"outlinewidth\":0}}}],\"histogram\":[{\"type\":\"histogram\",\"marker\":{\"colorbar\":{\"ticks\":\"\",\"outlinewidth\":0}}}],\"pie\":[{\"type\":\"pie\",\"automargin\":true}],\"choropleth\":[{\"colorbar\":{\"ticks\":\"\",\"outlinewidth\":0},\"type\":\"choropleth\"}],\"heatmapgl\":[{\"colorbar\":{\"ticks\":\"\",\"outlinewidth\":0},\"type\":\"heatmapgl\",\"colorscale\":[[0.0,\"#0d0887\"],[0.1111111111111111,\"#46039f\"],[0.2222222222222222,\"#7201a8\"],[0.3333333333333333,\"#9c179e\"],[0.4444444444444444,\"#bd3786\"],[0.5555555555555556,\"#d8576b\"],[0.6666666666666666,\"#ed7953\"],[0.7777777777777778,\"#fb9f3a\"],[0.8888888888888888,\"#fdca26\"],[1.0,\"#f0f921\"]]}],\"bar\":[{\"type\":\"bar\",\"error_y\":{\"color\":\"#2a3f5f\"},\"error_x\":{\"color\":\"#2a3f5f\"},\"marker\":{\"line\":{\"color\":\"#E5ECF6\",\"width\":0.5}}}],\"heatmap\":[{\"colorbar\":{\"ticks\":\"\",\"outlinewidth\":0},\"type\":\"heatmap\",\"colorscale\":[[0.0,\"#0d0887\"],[0.1111111111111111,\"#46039f\"],[0.2222222222222222,\"#7201a8\"],[0.3333333333333333,\"#9c179e\"],[0.4444444444444444,\"#bd3786\"],[0.5555555555555556,\"#d8576b\"],[0.6666666666666666,\"#ed7953\"],[0.7777777777777778,\"#fb9f3a\"],[0.8888888888888888,\"#fdca26\"],[1.0,\"#f0f921\"]]}],\"contourcarpet\":[{\"colorbar\":{\"ticks\":\"\",\"outlinewidth\":0},\"type\":\"contourcarpet\"}],\"table\":[{\"type\":\"table\",\"header\":{\"line\":{\"color\":\"white\"},\"fill\":{\"color\":\"#C8D4E3\"}},\"cells\":{\"line\":{\"color\":\"white\"},\"fill\":{\"color\":\"#EBF0F8\"}}}],\"scatter3d\":[{\"line\":{\"colorbar\":{\"ticks\":\"\",\"outlinewidth\":0}},\"type\":\"scatter3d\",\"marker\":{\"colorbar\":{\"ticks\":\"\",\"outlinewidth\":0}}}],\"scattergl\":[{\"type\":\"scattergl\",\"marker\":{\"colorbar\":{\"ticks\":\"\",\"outlinewidth\":0}}}],\"histogram2d\":[{\"colorbar\":{\"ticks\":\"\",\"outlinewidth\":0},\"type\":\"histogram2d\",\"colorscale\":[[0.0,\"#0d0887\"],[0.1111111111111111,\"#46039f\"],[0.2222222222222222,\"#7201a8\"],[0.3333333333333333,\"#9c179e\"],[0.4444444444444444,\"#bd3786\"],[0.5555555555555556,\"#d8576b\"],[0.6666666666666666,\"#ed7953\"],[0.7777777777777778,\"#fb9f3a\"],[0.8888888888888888,\"#fdca26\"],[1.0,\"#f0f921\"]]}],\"scatterternary\":[{\"type\":\"scatterternary\",\"marker\":{\"colorbar\":{\"ticks\":\"\",\"outlinewidth\":0}}}],\"scatterpolargl\":[{\"type\":\"scatterpolargl\",\"marker\":{\"colorbar\":{\"ticks\":\"\",\"outlinewidth\":0}}}]}},\"legend\":{\"tracegroupgap\":0,\"title\":{\"text\":\"species\"}},\"margin\":{\"l\":50,\"b\":50,\"r\":50,\"t\":60},\"yaxis\":{\"title\":{\"text\":\"x2\"}}},\n",
       "        {\"editable\":false,\"responsive\":true,\"staticPlot\":false,\"scrollZoom\":true},\n",
       "    )\n",
       "}\n",
       "\n",
       "        });\n",
       "    </script>\n",
       "</div>\n",
       "\n",
       "</body>\n",
       "</html>"
      ],
      "text/plain": [
       "data: [\n",
       "  \"scatter3d with fields legendgroup, marker, mode, name, opacity, showlegend, type, x, xaxis, y, yaxis, and z\",\n",
       "  \"scatter3d with fields legendgroup, marker, mode, name, opacity, showlegend, type, x, xaxis, y, yaxis, and z\",\n",
       "  \"scatter3d with fields legendgroup, marker, mode, name, opacity, showlegend, type, x, xaxis, y, yaxis, and z\"\n",
       "]\n",
       "\n",
       "layout: \"layout with fields font, legend, margin, template, xaxis, and yaxis\"\n",
       "\n"
      ]
     },
     "execution_count": 5,
     "metadata": {},
     "output_type": "execute_result"
    }
   ],
   "source": [
    "using PlotlyJS, MLJ\n",
    "using DataFrames: DataFrame, insertcols!\n",
    "\n",
    "PCA = @load PCA pkg=\"MultivariateStats\" verbosity=0\n",
    "\n",
    "function display_iris_3D_pca()\n",
    "    df = DataFrame(dataset(\"iris\"))\n",
    "    axes = [:petal_length, :petal_width, :sepal_length, :sepal_width]\n",
    "    X, = unpack(df, ∈(axes))\n",
    "    coerce!(X, Any => Continuous)\n",
    "    \n",
    "    mach = machine(PCA(pratio=0.999,maxoutdim=3), X)\n",
    "    fit!(mach)\n",
    "    \n",
    "    Xpca = transform(mach, X)\n",
    "    insertcols!(Xpca, :species=>df[!,:species])\n",
    "    \n",
    "    axes_pca = Symbol.(filter!(∋('x'), names(Xpca)))\n",
    "    \n",
    "    layout = Layout(font=attr(family=\"Courier New\", size=14, color=\"Black\"))\n",
    "    Plot(Xpca, layout; x=:x1, y=:x2, z=:x3, mode=\"markers\", color=:species, kind=\"scatter3d\", opacity=0.65)\n",
    "end\n",
    "\n",
    "display_iris_3D_pca()"
   ]
  },
  {
   "cell_type": "markdown",
   "id": "def165e9",
   "metadata": {},
   "source": [
    "# Visualize Transformed\n",
    "It is also possible to visualize loadings using `shapes`, and use `annotations` to indicate which feature a certain loading original belong to. Here, we define loadings as:\n",
    "\n",
    "$ \\text{loadings} = \\text{eigenvectors} \\cdot \\sqrt{\\text{eigenvalues}} $"
   ]
  },
  {
   "cell_type": "code",
   "execution_count": 6,
   "id": "24164833",
   "metadata": {},
   "outputs": [
    {
     "name": "stderr",
     "output_type": "stream",
     "text": [
      "┌ Info: Training Machine{PCA,…}.\n",
      "└ @ MLJBase /home/markus/.julia/packages/MLJBase/HZmTU/src/machines.jl:403\n"
     ]
    },
    {
     "data": {
      "application/vnd.plotly.v1+json": {
       "config": {
        "editable": false,
        "responsive": true,
        "scrollZoom": true,
        "showLink": false,
        "staticPlot": false
       },
       "data": [
        {
         "mode": "markers",
         "name": "setosa",
         "type": "scatter",
         "x": [
          2.6842071251039514,
          2.7153906156341336,
          2.8898195396179194,
          2.7464371973087376,
          2.728592981831318,
          2.2798973610096,
          2.820890682180633,
          2.6264819933238224,
          2.887958565335637,
          2.6738446867191237,
          2.5065267893389063,
          2.613142718271059,
          2.7874339759971,
          3.2252004462749833,
          2.6435432169411492,
          2.383869323799378,
          2.6225262031258114,
          2.6483227324791296,
          2.199077961430765,
          2.587346188917741,
          2.310531701313136,
          2.5432349073036984,
          3.2158576949001088,
          2.3031285376638846,
          2.3561710866839007,
          2.507917226837883,
          2.469055997545126,
          2.5623909468367536,
          2.639821268376585,
          2.6328479080307607,
          2.5884620513033942,
          2.410077337121599,
          2.6476366733969035,
          2.5971594770759214,
          2.6738446867191237,
          2.8669998469325373,
          2.6252284646804243,
          2.6738446867191237,
          2.9818426648539114,
          2.5903230255856773,
          2.7701389107463275,
          2.852211081566395,
          2.998296442832354,
          2.4055141012847043,
          2.2088329541767084,
          2.715665190747457,
          2.5375733710135098,
          2.8403212968270117,
          2.542685757077052,
          2.7039123148636532
         ],
         "y": [
          0.3266073147643875,
          -0.16955684755602707,
          -0.13734560960502812,
          -0.311124315751992,
          0.33392456356845457,
          0.7477827132251331,
          -0.08210451102468086,
          0.17040534896028953,
          -0.5707980263315919,
          -0.1066917037527392,
          0.6519350136725713,
          0.02152063196025794,
          -0.22774018887110709,
          -0.5032799094854262,
          1.1861948994134481,
          1.344754344559862,
          0.8180896745965945,
          0.31913666775088406,
          0.8792440880917356,
          0.5204736388059679,
          0.39786782158889106,
          0.4400317546598151,
          0.14161557162558353,
          0.10552267842998153,
          -0.031209589068337984,
          -0.13905633991317495,
          0.13788731459041736,
          0.3746845627501055,
          0.31929006596032095,
          -0.19007583063362415,
          -0.19739307943769133,
          0.418080008247615,
          0.8199826325595072,
          1.1000219280072683,
          -0.1066917037527392,
          0.07719309572358606,
          0.606800008421585,
          -0.1066917037527392,
          -0.48025004885607675,
          0.2360593372888723,
          0.2710594197651666,
          -0.9328653674695462,
          -0.33430757459077703,
          0.19591725769606044,
          0.44269603042100325,
          -0.24268148289811386,
          0.5103675454766059,
          -0.22057633827647682,
          0.586281025343988,
          0.115010852170505
         ]
        },
        {
         "mode": "markers",
         "name": "versicolor",
         "type": "scatter",
         "x": [
          -1.2847945878450686,
          -0.9324107529829146,
          -1.4640613227790722,
          -0.1809672063476957,
          -1.087134487206998,
          -0.6404367495231422,
          -1.0952237099384752,
          0.75146714064823,
          -1.0432977807062782,
          0.010190070727856364,
          0.5110861958950936,
          -0.5110980606834744,
          -0.2623357561531773,
          -0.9840445451694279,
          0.17486400196569918,
          -0.9275729420326968,
          -0.6595927890561973,
          -0.23454058625983248,
          -0.9423617073988391,
          -0.04324640032870165,
          -1.1162407237538126,
          -0.35678656783045826,
          -1.2964688502855308,
          -0.9205026489090061,
          -0.7140082136428302,
          -0.8996408632837732,
          -1.3310414188547168,
          -1.557396272070699,
          -0.8124555489979989,
          0.3073347556634073,
          0.07034288894927461,
          0.19188449210314867,
          -0.1349949504513703,
          -1.3787369827755798,
          -0.5872748535799076,
          -0.8072054966767133,
          -1.2204289662446766,
          -0.8128677903690669,
          -0.24519516169034286,
          -0.16451342836925278,
          -0.463030988871421,
          -0.8901604456511533,
          -0.2288790499696446,
          0.7070812839208636,
          -0.3555330391870604,
          -0.33112694733271963,
          -0.37523822894676273,
          -0.6416902781665401,
          0.9084633331234981,
          -0.29780790740693097
         ],
         "y": [
          0.685439186132919,
          0.31919808983364845,
          0.5041898329724522,
          -0.8256039435761139,
          0.07539038928876651,
          -0.4173234829700254,
          0.28389121093848046,
          -1.0011075129743943,
          0.22895690877700597,
          -0.7205748667019014,
          -1.2624919538621413,
          -0.1022841050459704,
          -0.5478932980253381,
          -0.12436042022227793,
          -0.25181557108017094,
          0.4682362050431162,
          -0.35197629106031586,
          -0.3319218293621206,
          -0.5418222581500156,
          -0.5814894466123592,
          -0.08421401387837275,
          -0.06682382794136704,
          -0.32756151979494497,
          -0.182390363327921,
          0.15037915314843636,
          0.32961097958188296,
          0.24466952060228814,
          0.26739258481276423,
          -0.16233157487863342,
          -0.3650866127661613,
          -0.7025379317307265,
          -0.6774905443743579,
          -0.31170964270339674,
          -0.4212051382146281,
          -0.4832842677174814,
          0.19505396377111212,
          0.40803533700101685,
          -0.3706789983189113,
          -0.26672803566184766,
          -0.6796614693108141,
          -0.6695265465361222,
          -0.033812442746762664,
          -0.402257620178912,
          -1.0084247617784614,
          -0.5032184874026624,
          -0.21118014066262636,
          -0.2916220248087796,
          0.0190711764912702,
          -0.7515687251694863,
          -0.347016521598564
         ]
        },
        {
         "mode": "markers",
         "name": "virginica",
         "type": "scatter",
         "x": [
          -2.5317269804395552,
          -1.4140722251737545,
          -2.6164846082840407,
          -1.9708149459064788,
          -2.3497579839509397,
          -3.396879920678135,
          -0.519383245084933,
          -2.9320050969912983,
          -2.3196727938740502,
          -2.918134233644248,
          -1.6619349470194835,
          -1.80234045266073,
          -2.1653788629533945,
          -1.3445942175098216,
          -1.5852672993086407,
          -1.904743578213909,
          -1.9492487818644948,
          -3.4887653796563827,
          -3.7946868612099673,
          -1.2983298245678128,
          -2.428167259020846,
          -1.1980973722749595,
          -3.499265484298954,
          -1.3876682501815527,
          -2.2758536493056916,
          -2.6141938306983312,
          -1.2576251829251333,
          -1.2906696477375983,
          -2.12285398050831,
          -2.387564402369025,
          -2.8409609252853807,
          -3.2323428982958715,
          -2.1587383731331315,
          -1.4431026043759716,
          -1.7796401068985668,
          -3.076521621020659,
          -2.1449868567093007,
          -1.9048629251371285,
          -1.1688534694704003,
          -2.107653731173266,
          -2.3143033946295457,
          -1.9224508848357498,
          -1.4140722251737545,
          -2.563322712340806,
          -2.419391219804978,
          -1.9440170488777344,
          -1.5256636313138694,
          -1.76404593552698,
          -1.9016290752882294,
          -1.3896661333194136
         ],
         "y": [
          -0.01184223664029932,
          -0.5749250559123045,
          0.34193528698729425,
          -0.18112569470491324,
          -0.041882549654841575,
          0.547168046230152,
          -1.1913516890506521,
          0.35237700618085954,
          -0.2455481706069107,
          0.7803806293720323,
          0.24203840103752233,
          -0.21615460662653674,
          0.21528028337300675,
          -0.776415425176825,
          -0.5393070538471718,
          0.11881899098269864,
          0.04073025942776802,
          1.1715445442635648,
          0.2532655709725335,
          -0.7610139365215085,
          0.3767819712541524,
          -0.6055789617645939,
          0.45677346696407367,
          -0.20403098657015545,
          0.33338652575664257,
          0.5583669502788222,
          -0.17913699742322325,
          -0.11642525182937234,
          -0.21085488454948992,
          0.46251925072626004,
          0.37274259104902036,
          1.370524035976334,
          -0.21832553156299328,
          -0.14380128908272632,
          -0.501464794706015,
          0.6857644422460553,
          0.13890660887731537,
          0.0480475082318351,
          -0.1645024998150897,
          0.37148224917710526,
          0.18260885079369846,
          0.40927117617869463,
          -0.5749250559123045,
          0.27597450223983827,
          0.303503937702629,
          0.18741522204601319,
          -0.37502084819182385,
          0.07851918642935717,
          0.11587674824796651,
          -0.28288670917226844
         ]
        }
       ],
       "frames": [],
       "layout": {
        "annotations": [
         {
          "text": "petal_length",
          "x": -3.6188807514371955,
          "xanchor": "center",
          "y": -0.04257852358225128,
          "yanchor": "bottom"
         },
         {
          "text": "petal_width",
          "x": -1.5160584490775115,
          "xanchor": "center",
          "y": -0.018097162149194886,
          "yanchor": "bottom"
         },
         {
          "text": "sepal_length",
          "x": -1.5276588104048603,
          "xanchor": "center",
          "y": 0.15904256624307123,
          "yanchor": "bottom"
         },
         {
          "text": "sepal_width",
          "x": 0.34757295998106463,
          "xanchor": "center",
          "y": 0.17676813109091422,
          "yanchor": "bottom"
         }
        ],
        "font": {
         "color": "Black",
         "family": "Courier New",
         "size": 14
        },
        "margin": {
         "b": 50,
         "l": 50,
         "r": 50,
         "t": 60
        },
        "shapes": [
         {
          "type": "line",
          "x0": 0,
          "x1": -3.6188807514371955,
          "y0": 0,
          "y1": -0.04257852358225128
         },
         {
          "type": "line",
          "x0": 0,
          "x1": -1.5160584490775115,
          "y0": 0,
          "y1": -0.018097162149194886
         },
         {
          "type": "line",
          "x0": 0,
          "x1": -1.5276588104048603,
          "y0": 0,
          "y1": 0.15904256624307123
         },
         {
          "type": "line",
          "x0": 0,
          "x1": 0.34757295998106463,
          "y0": 0,
          "y1": 0.17676813109091422
         }
        ],
        "template": {
         "data": {
          "bar": [
           {
            "error_x": {
             "color": "#2a3f5f"
            },
            "error_y": {
             "color": "#2a3f5f"
            },
            "marker": {
             "line": {
              "color": "#E5ECF6",
              "width": 0.5
             }
            },
            "type": "bar"
           }
          ],
          "barpolar": [
           {
            "marker": {
             "line": {
              "color": "#E5ECF6",
              "width": 0.5
             }
            },
            "type": "barpolar"
           }
          ],
          "carpet": [
           {
            "aaxis": {
             "endlinecolor": "#2a3f5f",
             "gridcolor": "white",
             "linecolor": "white",
             "minorgridcolor": "white",
             "startlinecolor": "#2a3f5f"
            },
            "baxis": {
             "endlinecolor": "#2a3f5f",
             "gridcolor": "white",
             "linecolor": "white",
             "minorgridcolor": "white",
             "startlinecolor": "#2a3f5f"
            },
            "type": "carpet"
           }
          ],
          "choropleth": [
           {
            "colorbar": {
             "outlinewidth": 0,
             "ticks": ""
            },
            "type": "choropleth"
           }
          ],
          "contour": [
           {
            "colorbar": {
             "outlinewidth": 0,
             "ticks": ""
            },
            "colorscale": [
             [
              0,
              "#0d0887"
             ],
             [
              0.1111111111111111,
              "#46039f"
             ],
             [
              0.2222222222222222,
              "#7201a8"
             ],
             [
              0.3333333333333333,
              "#9c179e"
             ],
             [
              0.4444444444444444,
              "#bd3786"
             ],
             [
              0.5555555555555556,
              "#d8576b"
             ],
             [
              0.6666666666666666,
              "#ed7953"
             ],
             [
              0.7777777777777778,
              "#fb9f3a"
             ],
             [
              0.8888888888888888,
              "#fdca26"
             ],
             [
              1,
              "#f0f921"
             ]
            ],
            "type": "contour"
           }
          ],
          "contourcarpet": [
           {
            "colorbar": {
             "outlinewidth": 0,
             "ticks": ""
            },
            "type": "contourcarpet"
           }
          ],
          "heatmap": [
           {
            "colorbar": {
             "outlinewidth": 0,
             "ticks": ""
            },
            "colorscale": [
             [
              0,
              "#0d0887"
             ],
             [
              0.1111111111111111,
              "#46039f"
             ],
             [
              0.2222222222222222,
              "#7201a8"
             ],
             [
              0.3333333333333333,
              "#9c179e"
             ],
             [
              0.4444444444444444,
              "#bd3786"
             ],
             [
              0.5555555555555556,
              "#d8576b"
             ],
             [
              0.6666666666666666,
              "#ed7953"
             ],
             [
              0.7777777777777778,
              "#fb9f3a"
             ],
             [
              0.8888888888888888,
              "#fdca26"
             ],
             [
              1,
              "#f0f921"
             ]
            ],
            "type": "heatmap"
           }
          ],
          "heatmapgl": [
           {
            "colorbar": {
             "outlinewidth": 0,
             "ticks": ""
            },
            "colorscale": [
             [
              0,
              "#0d0887"
             ],
             [
              0.1111111111111111,
              "#46039f"
             ],
             [
              0.2222222222222222,
              "#7201a8"
             ],
             [
              0.3333333333333333,
              "#9c179e"
             ],
             [
              0.4444444444444444,
              "#bd3786"
             ],
             [
              0.5555555555555556,
              "#d8576b"
             ],
             [
              0.6666666666666666,
              "#ed7953"
             ],
             [
              0.7777777777777778,
              "#fb9f3a"
             ],
             [
              0.8888888888888888,
              "#fdca26"
             ],
             [
              1,
              "#f0f921"
             ]
            ],
            "type": "heatmapgl"
           }
          ],
          "histogram": [
           {
            "marker": {
             "colorbar": {
              "outlinewidth": 0,
              "ticks": ""
             }
            },
            "type": "histogram"
           }
          ],
          "histogram2d": [
           {
            "colorbar": {
             "outlinewidth": 0,
             "ticks": ""
            },
            "colorscale": [
             [
              0,
              "#0d0887"
             ],
             [
              0.1111111111111111,
              "#46039f"
             ],
             [
              0.2222222222222222,
              "#7201a8"
             ],
             [
              0.3333333333333333,
              "#9c179e"
             ],
             [
              0.4444444444444444,
              "#bd3786"
             ],
             [
              0.5555555555555556,
              "#d8576b"
             ],
             [
              0.6666666666666666,
              "#ed7953"
             ],
             [
              0.7777777777777778,
              "#fb9f3a"
             ],
             [
              0.8888888888888888,
              "#fdca26"
             ],
             [
              1,
              "#f0f921"
             ]
            ],
            "type": "histogram2d"
           }
          ],
          "histogram2dcontour": [
           {
            "colorbar": {
             "outlinewidth": 0,
             "ticks": ""
            },
            "colorscale": [
             [
              0,
              "#0d0887"
             ],
             [
              0.1111111111111111,
              "#46039f"
             ],
             [
              0.2222222222222222,
              "#7201a8"
             ],
             [
              0.3333333333333333,
              "#9c179e"
             ],
             [
              0.4444444444444444,
              "#bd3786"
             ],
             [
              0.5555555555555556,
              "#d8576b"
             ],
             [
              0.6666666666666666,
              "#ed7953"
             ],
             [
              0.7777777777777778,
              "#fb9f3a"
             ],
             [
              0.8888888888888888,
              "#fdca26"
             ],
             [
              1,
              "#f0f921"
             ]
            ],
            "type": "histogram2dcontour"
           }
          ],
          "mesh3d": [
           {
            "colorbar": {
             "outlinewidth": 0,
             "ticks": ""
            },
            "type": "mesh3d"
           }
          ],
          "parcoords": [
           {
            "line": {
             "colorbar": {
              "outlinewidth": 0,
              "ticks": ""
             }
            },
            "type": "parcoords"
           }
          ],
          "pie": [
           {
            "automargin": true,
            "type": "pie"
           }
          ],
          "scatter": [
           {
            "marker": {
             "colorbar": {
              "outlinewidth": 0,
              "ticks": ""
             }
            },
            "type": "scatter"
           }
          ],
          "scatter3d": [
           {
            "line": {
             "colorbar": {
              "outlinewidth": 0,
              "ticks": ""
             }
            },
            "marker": {
             "colorbar": {
              "outlinewidth": 0,
              "ticks": ""
             }
            },
            "type": "scatter3d"
           }
          ],
          "scattercarpet": [
           {
            "marker": {
             "colorbar": {
              "outlinewidth": 0,
              "ticks": ""
             }
            },
            "type": "scattercarpet"
           }
          ],
          "scattergeo": [
           {
            "marker": {
             "colorbar": {
              "outlinewidth": 0,
              "ticks": ""
             }
            },
            "type": "scattergeo"
           }
          ],
          "scattergl": [
           {
            "marker": {
             "colorbar": {
              "outlinewidth": 0,
              "ticks": ""
             }
            },
            "type": "scattergl"
           }
          ],
          "scattermapbox": [
           {
            "marker": {
             "colorbar": {
              "outlinewidth": 0,
              "ticks": ""
             }
            },
            "type": "scattermapbox"
           }
          ],
          "scatterpolar": [
           {
            "marker": {
             "colorbar": {
              "outlinewidth": 0,
              "ticks": ""
             }
            },
            "type": "scatterpolar"
           }
          ],
          "scatterpolargl": [
           {
            "marker": {
             "colorbar": {
              "outlinewidth": 0,
              "ticks": ""
             }
            },
            "type": "scatterpolargl"
           }
          ],
          "scatterternary": [
           {
            "marker": {
             "colorbar": {
              "outlinewidth": 0,
              "ticks": ""
             }
            },
            "type": "scatterternary"
           }
          ],
          "surface": [
           {
            "colorbar": {
             "outlinewidth": 0,
             "ticks": ""
            },
            "colorscale": [
             [
              0,
              "#0d0887"
             ],
             [
              0.1111111111111111,
              "#46039f"
             ],
             [
              0.2222222222222222,
              "#7201a8"
             ],
             [
              0.3333333333333333,
              "#9c179e"
             ],
             [
              0.4444444444444444,
              "#bd3786"
             ],
             [
              0.5555555555555556,
              "#d8576b"
             ],
             [
              0.6666666666666666,
              "#ed7953"
             ],
             [
              0.7777777777777778,
              "#fb9f3a"
             ],
             [
              0.8888888888888888,
              "#fdca26"
             ],
             [
              1,
              "#f0f921"
             ]
            ],
            "type": "surface"
           }
          ],
          "table": [
           {
            "cells": {
             "fill": {
              "color": "#EBF0F8"
             },
             "line": {
              "color": "white"
             }
            },
            "header": {
             "fill": {
              "color": "#C8D4E3"
             },
             "line": {
              "color": "white"
             }
            },
            "type": "table"
           }
          ]
         },
         "layout": {
          "annotationdefaults": {
           "arrowcolor": "#2a3f5f",
           "arrowhead": 0,
           "arrowwidth": 1
          },
          "autotypenumbers": "strict",
          "coloraxis": {
           "colorbar": {
            "outlinewidth": 0,
            "ticks": ""
           }
          },
          "colorscale": {
           "diverging": [
            [
             0,
             "#8e0152"
            ],
            [
             0.1,
             "#c51b7d"
            ],
            [
             0.2,
             "#de77ae"
            ],
            [
             0.3,
             "#f1b6da"
            ],
            [
             0.4,
             "#fde0ef"
            ],
            [
             0.5,
             "#f7f7f7"
            ],
            [
             0.6,
             "#e6f5d0"
            ],
            [
             0.7,
             "#b8e186"
            ],
            [
             0.8,
             "#7fbc41"
            ],
            [
             0.9,
             "#4d9221"
            ],
            [
             1,
             "#276419"
            ]
           ],
           "sequential": [
            [
             0,
             "#0d0887"
            ],
            [
             0.1111111111111111,
             "#46039f"
            ],
            [
             0.2222222222222222,
             "#7201a8"
            ],
            [
             0.3333333333333333,
             "#9c179e"
            ],
            [
             0.4444444444444444,
             "#bd3786"
            ],
            [
             0.5555555555555556,
             "#d8576b"
            ],
            [
             0.6666666666666666,
             "#ed7953"
            ],
            [
             0.7777777777777778,
             "#fb9f3a"
            ],
            [
             0.8888888888888888,
             "#fdca26"
            ],
            [
             1,
             "#f0f921"
            ]
           ],
           "sequentialminus": [
            [
             0,
             "#0d0887"
            ],
            [
             0.1111111111111111,
             "#46039f"
            ],
            [
             0.2222222222222222,
             "#7201a8"
            ],
            [
             0.3333333333333333,
             "#9c179e"
            ],
            [
             0.4444444444444444,
             "#bd3786"
            ],
            [
             0.5555555555555556,
             "#d8576b"
            ],
            [
             0.6666666666666666,
             "#ed7953"
            ],
            [
             0.7777777777777778,
             "#fb9f3a"
            ],
            [
             0.8888888888888888,
             "#fdca26"
            ],
            [
             1,
             "#f0f921"
            ]
           ]
          },
          "colorway": [
           "#636efa",
           "#EF553B",
           "#00cc96",
           "#ab63fa",
           "#FFA15A",
           "#19d3f3",
           "#FF6692",
           "#B6E880",
           "#FF97FF",
           "#FECB52"
          ],
          "font": {
           "color": "#2a3f5f"
          },
          "geo": {
           "bgcolor": "white",
           "lakecolor": "white",
           "landcolor": "#E5ECF6",
           "showlakes": true,
           "showland": true,
           "subunitcolor": "white"
          },
          "hoverlabel": {
           "align": "left"
          },
          "hovermode": "closest",
          "mapbox": {
           "style": "light"
          },
          "paper_bgcolor": "white",
          "plot_bgcolor": "#E5ECF6",
          "polar": {
           "angularaxis": {
            "gridcolor": "white",
            "linecolor": "white",
            "ticks": ""
           },
           "bgcolor": "#E5ECF6",
           "radialaxis": {
            "gridcolor": "white",
            "linecolor": "white",
            "ticks": ""
           }
          },
          "scene": {
           "xaxis": {
            "backgroundcolor": "#E5ECF6",
            "gridcolor": "white",
            "gridwidth": 2,
            "linecolor": "white",
            "showbackground": true,
            "ticks": "",
            "zerolinecolor": "white"
           },
           "yaxis": {
            "backgroundcolor": "#E5ECF6",
            "gridcolor": "white",
            "gridwidth": 2,
            "linecolor": "white",
            "showbackground": true,
            "ticks": "",
            "zerolinecolor": "white"
           },
           "zaxis": {
            "backgroundcolor": "#E5ECF6",
            "gridcolor": "white",
            "gridwidth": 2,
            "linecolor": "white",
            "showbackground": true,
            "ticks": "",
            "zerolinecolor": "white"
           }
          },
          "shapedefaults": {
           "line": {
            "color": "#2a3f5f"
           }
          },
          "ternary": {
           "aaxis": {
            "gridcolor": "white",
            "linecolor": "white",
            "ticks": ""
           },
           "baxis": {
            "gridcolor": "white",
            "linecolor": "white",
            "ticks": ""
           },
           "bgcolor": "#E5ECF6",
           "caxis": {
            "gridcolor": "white",
            "linecolor": "white",
            "ticks": ""
           }
          },
          "title": {
           "x": 0.05
          },
          "xaxis": {
           "automargin": true,
           "gridcolor": "white",
           "linecolor": "white",
           "ticks": "",
           "title": {
            "standoff": 15
           },
           "zerolinecolor": "white",
           "zerolinewidth": 2
          },
          "yaxis": {
           "automargin": true,
           "gridcolor": "white",
           "linecolor": "white",
           "ticks": "",
           "title": {
            "standoff": 15
           },
           "zerolinecolor": "white",
           "zerolinewidth": 2
          }
         }
        }
       }
      },
      "text/html": [
       "<html>\n",
       "<head><meta chartset=\"utf-8\" /></head>\n",
       "<body>\n",
       "<div>\n",
       "    <script src=\"https://cdnjs.cloudflare.com/ajax/libs/mathjax/2.7.5/MathJax.js?config=TeX-AMS-MML_SVG\"></script>\n",
       "    <script type=\"text/javascript\">\n",
       "window.PlotlyConfig = {MathJaxConfig: 'local'};\n",
       "</script>\n",
       "<script type=\"text/javascript\">\n",
       "if (window.MathJax) {MathJax.Hub.Config({SVG: {font: \"STIX-Web\"}});}\n",
       "</script>\n",
       "<script type=\"text/javascript\">\n",
       "    if (typeof require !== 'undefined') {\n",
       "        require.undef(\"plotly\");\n",
       "        requirejs.config({\n",
       "            paths: {\n",
       "                'plotly': ['https://cdn.plot.ly/plotly-2.3.0.min']\n",
       "            }\n",
       "        });\n",
       "        require(['plotly'], function(Plotly) {\n",
       "            window._Plotly = Plotly;\n",
       "        });\n",
       "    }\n",
       "</script>\n",
       "\n",
       "    <div\n",
       "        id=9cd92f6f-aff5-4349-9294-75455b6f25a4\n",
       "        class=\"plotly-graph-div\"\n",
       "        style=\"height:100%; width:100%;\">\n",
       "    </div>\n",
       "    <script type=\"text/javascript\">\n",
       "        require([\"plotly\"], function(Plotly) {\n",
       "        window.PLOTLYENV = window.PLOTLYENV || {}\n",
       "        \n",
       "        if (document.getElementById('9cd92f6f-aff5-4349-9294-75455b6f25a4')) {\n",
       "    Plotly.newPlot(\n",
       "        '9cd92f6f-aff5-4349-9294-75455b6f25a4',\n",
       "        [{\"mode\":\"markers\",\"y\":[0.3266073147643875,-0.16955684755602707,-0.13734560960502812,-0.311124315751992,0.33392456356845457,0.7477827132251331,-0.08210451102468086,0.17040534896028953,-0.5707980263315919,-0.1066917037527392,0.6519350136725713,0.02152063196025794,-0.22774018887110709,-0.5032799094854262,1.1861948994134481,1.344754344559862,0.8180896745965945,0.31913666775088406,0.8792440880917356,0.5204736388059679,0.39786782158889106,0.4400317546598151,0.14161557162558353,0.10552267842998153,-0.031209589068337984,-0.13905633991317495,0.13788731459041736,0.3746845627501055,0.31929006596032095,-0.19007583063362415,-0.19739307943769133,0.418080008247615,0.8199826325595072,1.1000219280072683,-0.1066917037527392,0.07719309572358606,0.606800008421585,-0.1066917037527392,-0.48025004885607675,0.2360593372888723,0.2710594197651666,-0.9328653674695462,-0.33430757459077703,0.19591725769606044,0.44269603042100325,-0.24268148289811386,0.5103675454766059,-0.22057633827647682,0.586281025343988,0.115010852170505],\"type\":\"scatter\",\"name\":\"setosa\",\"x\":[2.6842071251039514,2.7153906156341336,2.8898195396179194,2.7464371973087376,2.728592981831318,2.2798973610096,2.820890682180633,2.6264819933238224,2.887958565335637,2.6738446867191237,2.5065267893389063,2.613142718271059,2.7874339759971,3.2252004462749833,2.6435432169411492,2.383869323799378,2.6225262031258114,2.6483227324791296,2.199077961430765,2.587346188917741,2.310531701313136,2.5432349073036984,3.2158576949001088,2.3031285376638846,2.3561710866839007,2.507917226837883,2.469055997545126,2.5623909468367536,2.639821268376585,2.6328479080307607,2.5884620513033942,2.410077337121599,2.6476366733969035,2.5971594770759214,2.6738446867191237,2.8669998469325373,2.6252284646804243,2.6738446867191237,2.9818426648539114,2.5903230255856773,2.7701389107463275,2.852211081566395,2.998296442832354,2.4055141012847043,2.2088329541767084,2.715665190747457,2.5375733710135098,2.8403212968270117,2.542685757077052,2.7039123148636532]},{\"mode\":\"markers\",\"y\":[0.685439186132919,0.31919808983364845,0.5041898329724522,-0.8256039435761139,0.07539038928876651,-0.4173234829700254,0.28389121093848046,-1.0011075129743943,0.22895690877700597,-0.7205748667019014,-1.2624919538621413,-0.1022841050459704,-0.5478932980253381,-0.12436042022227793,-0.25181557108017094,0.4682362050431162,-0.35197629106031586,-0.3319218293621206,-0.5418222581500156,-0.5814894466123592,-0.08421401387837275,-0.06682382794136704,-0.32756151979494497,-0.182390363327921,0.15037915314843636,0.32961097958188296,0.24466952060228814,0.26739258481276423,-0.16233157487863342,-0.3650866127661613,-0.7025379317307265,-0.6774905443743579,-0.31170964270339674,-0.4212051382146281,-0.4832842677174814,0.19505396377111212,0.40803533700101685,-0.3706789983189113,-0.26672803566184766,-0.6796614693108141,-0.6695265465361222,-0.033812442746762664,-0.402257620178912,-1.0084247617784614,-0.5032184874026624,-0.21118014066262636,-0.2916220248087796,0.0190711764912702,-0.7515687251694863,-0.347016521598564],\"type\":\"scatter\",\"name\":\"versicolor\",\"x\":[-1.2847945878450686,-0.9324107529829146,-1.4640613227790722,-0.1809672063476957,-1.087134487206998,-0.6404367495231422,-1.0952237099384752,0.75146714064823,-1.0432977807062782,0.010190070727856364,0.5110861958950936,-0.5110980606834744,-0.2623357561531773,-0.9840445451694279,0.17486400196569918,-0.9275729420326968,-0.6595927890561973,-0.23454058625983248,-0.9423617073988391,-0.04324640032870165,-1.1162407237538126,-0.35678656783045826,-1.2964688502855308,-0.9205026489090061,-0.7140082136428302,-0.8996408632837732,-1.3310414188547168,-1.557396272070699,-0.8124555489979989,0.3073347556634073,0.07034288894927461,0.19188449210314867,-0.1349949504513703,-1.3787369827755798,-0.5872748535799076,-0.8072054966767133,-1.2204289662446766,-0.8128677903690669,-0.24519516169034286,-0.16451342836925278,-0.463030988871421,-0.8901604456511533,-0.2288790499696446,0.7070812839208636,-0.3555330391870604,-0.33112694733271963,-0.37523822894676273,-0.6416902781665401,0.9084633331234981,-0.29780790740693097]},{\"mode\":\"markers\",\"y\":[-0.01184223664029932,-0.5749250559123045,0.34193528698729425,-0.18112569470491324,-0.041882549654841575,0.547168046230152,-1.1913516890506521,0.35237700618085954,-0.2455481706069107,0.7803806293720323,0.24203840103752233,-0.21615460662653674,0.21528028337300675,-0.776415425176825,-0.5393070538471718,0.11881899098269864,0.04073025942776802,1.1715445442635648,0.2532655709725335,-0.7610139365215085,0.3767819712541524,-0.6055789617645939,0.45677346696407367,-0.20403098657015545,0.33338652575664257,0.5583669502788222,-0.17913699742322325,-0.11642525182937234,-0.21085488454948992,0.46251925072626004,0.37274259104902036,1.370524035976334,-0.21832553156299328,-0.14380128908272632,-0.501464794706015,0.6857644422460553,0.13890660887731537,0.0480475082318351,-0.1645024998150897,0.37148224917710526,0.18260885079369846,0.40927117617869463,-0.5749250559123045,0.27597450223983827,0.303503937702629,0.18741522204601319,-0.37502084819182385,0.07851918642935717,0.11587674824796651,-0.28288670917226844],\"type\":\"scatter\",\"name\":\"virginica\",\"x\":[-2.5317269804395552,-1.4140722251737545,-2.6164846082840407,-1.9708149459064788,-2.3497579839509397,-3.396879920678135,-0.519383245084933,-2.9320050969912983,-2.3196727938740502,-2.918134233644248,-1.6619349470194835,-1.80234045266073,-2.1653788629533945,-1.3445942175098216,-1.5852672993086407,-1.904743578213909,-1.9492487818644948,-3.4887653796563827,-3.7946868612099673,-1.2983298245678128,-2.428167259020846,-1.1980973722749595,-3.499265484298954,-1.3876682501815527,-2.2758536493056916,-2.6141938306983312,-1.2576251829251333,-1.2906696477375983,-2.12285398050831,-2.387564402369025,-2.8409609252853807,-3.2323428982958715,-2.1587383731331315,-1.4431026043759716,-1.7796401068985668,-3.076521621020659,-2.1449868567093007,-1.9048629251371285,-1.1688534694704003,-2.107653731173266,-2.3143033946295457,-1.9224508848357498,-1.4140722251737545,-2.563322712340806,-2.419391219804978,-1.9440170488777344,-1.5256636313138694,-1.76404593552698,-1.9016290752882294,-1.3896661333194136]}],\n",
       "        {\"shapes\":[{\"x0\":0,\"type\":\"line\",\"y0\":0,\"y1\":-0.04257852358225128,\"x1\":-3.6188807514371955},{\"x0\":0,\"type\":\"line\",\"y0\":0,\"y1\":-0.018097162149194886,\"x1\":-1.5160584490775115},{\"x0\":0,\"type\":\"line\",\"y0\":0,\"y1\":0.15904256624307123,\"x1\":-1.5276588104048603},{\"x0\":0,\"type\":\"line\",\"y0\":0,\"y1\":0.17676813109091422,\"x1\":0.34757295998106463}],\"font\":{\"color\":\"Black\",\"family\":\"Courier New\",\"size\":14},\"template\":{\"layout\":{\"coloraxis\":{\"colorbar\":{\"ticks\":\"\",\"outlinewidth\":0}},\"xaxis\":{\"gridcolor\":\"white\",\"zerolinewidth\":2,\"title\":{\"standoff\":15},\"ticks\":\"\",\"zerolinecolor\":\"white\",\"automargin\":true,\"linecolor\":\"white\"},\"hovermode\":\"closest\",\"paper_bgcolor\":\"white\",\"geo\":{\"showlakes\":true,\"showland\":true,\"landcolor\":\"#E5ECF6\",\"bgcolor\":\"white\",\"subunitcolor\":\"white\",\"lakecolor\":\"white\"},\"colorscale\":{\"sequential\":[[0.0,\"#0d0887\"],[0.1111111111111111,\"#46039f\"],[0.2222222222222222,\"#7201a8\"],[0.3333333333333333,\"#9c179e\"],[0.4444444444444444,\"#bd3786\"],[0.5555555555555556,\"#d8576b\"],[0.6666666666666666,\"#ed7953\"],[0.7777777777777778,\"#fb9f3a\"],[0.8888888888888888,\"#fdca26\"],[1.0,\"#f0f921\"]],\"diverging\":[[0,\"#8e0152\"],[0.1,\"#c51b7d\"],[0.2,\"#de77ae\"],[0.3,\"#f1b6da\"],[0.4,\"#fde0ef\"],[0.5,\"#f7f7f7\"],[0.6,\"#e6f5d0\"],[0.7,\"#b8e186\"],[0.8,\"#7fbc41\"],[0.9,\"#4d9221\"],[1,\"#276419\"]],\"sequentialminus\":[[0.0,\"#0d0887\"],[0.1111111111111111,\"#46039f\"],[0.2222222222222222,\"#7201a8\"],[0.3333333333333333,\"#9c179e\"],[0.4444444444444444,\"#bd3786\"],[0.5555555555555556,\"#d8576b\"],[0.6666666666666666,\"#ed7953\"],[0.7777777777777778,\"#fb9f3a\"],[0.8888888888888888,\"#fdca26\"],[1.0,\"#f0f921\"]]},\"yaxis\":{\"gridcolor\":\"white\",\"zerolinewidth\":2,\"title\":{\"standoff\":15},\"ticks\":\"\",\"zerolinecolor\":\"white\",\"automargin\":true,\"linecolor\":\"white\"},\"shapedefaults\":{\"line\":{\"color\":\"#2a3f5f\"}},\"hoverlabel\":{\"align\":\"left\"},\"mapbox\":{\"style\":\"light\"},\"polar\":{\"angularaxis\":{\"gridcolor\":\"white\",\"ticks\":\"\",\"linecolor\":\"white\"},\"bgcolor\":\"#E5ECF6\",\"radialaxis\":{\"gridcolor\":\"white\",\"ticks\":\"\",\"linecolor\":\"white\"}},\"autotypenumbers\":\"strict\",\"font\":{\"color\":\"#2a3f5f\"},\"ternary\":{\"baxis\":{\"gridcolor\":\"white\",\"ticks\":\"\",\"linecolor\":\"white\"},\"bgcolor\":\"#E5ECF6\",\"caxis\":{\"gridcolor\":\"white\",\"ticks\":\"\",\"linecolor\":\"white\"},\"aaxis\":{\"gridcolor\":\"white\",\"ticks\":\"\",\"linecolor\":\"white\"}},\"annotationdefaults\":{\"arrowhead\":0,\"arrowwidth\":1,\"arrowcolor\":\"#2a3f5f\"},\"plot_bgcolor\":\"#E5ECF6\",\"title\":{\"x\":0.05},\"scene\":{\"xaxis\":{\"gridcolor\":\"white\",\"gridwidth\":2,\"backgroundcolor\":\"#E5ECF6\",\"ticks\":\"\",\"showbackground\":true,\"zerolinecolor\":\"white\",\"linecolor\":\"white\"},\"zaxis\":{\"gridcolor\":\"white\",\"gridwidth\":2,\"backgroundcolor\":\"#E5ECF6\",\"ticks\":\"\",\"showbackground\":true,\"zerolinecolor\":\"white\",\"linecolor\":\"white\"},\"yaxis\":{\"gridcolor\":\"white\",\"gridwidth\":2,\"backgroundcolor\":\"#E5ECF6\",\"ticks\":\"\",\"showbackground\":true,\"zerolinecolor\":\"white\",\"linecolor\":\"white\"}},\"colorway\":[\"#636efa\",\"#EF553B\",\"#00cc96\",\"#ab63fa\",\"#FFA15A\",\"#19d3f3\",\"#FF6692\",\"#B6E880\",\"#FF97FF\",\"#FECB52\"]},\"data\":{\"barpolar\":[{\"type\":\"barpolar\",\"marker\":{\"line\":{\"color\":\"#E5ECF6\",\"width\":0.5}}}],\"carpet\":[{\"aaxis\":{\"gridcolor\":\"white\",\"endlinecolor\":\"#2a3f5f\",\"minorgridcolor\":\"white\",\"startlinecolor\":\"#2a3f5f\",\"linecolor\":\"white\"},\"type\":\"carpet\",\"baxis\":{\"gridcolor\":\"white\",\"endlinecolor\":\"#2a3f5f\",\"minorgridcolor\":\"white\",\"startlinecolor\":\"#2a3f5f\",\"linecolor\":\"white\"}}],\"scatterpolar\":[{\"type\":\"scatterpolar\",\"marker\":{\"colorbar\":{\"ticks\":\"\",\"outlinewidth\":0}}}],\"parcoords\":[{\"line\":{\"colorbar\":{\"ticks\":\"\",\"outlinewidth\":0}},\"type\":\"parcoords\"}],\"scatter\":[{\"type\":\"scatter\",\"marker\":{\"colorbar\":{\"ticks\":\"\",\"outlinewidth\":0}}}],\"histogram2dcontour\":[{\"colorbar\":{\"ticks\":\"\",\"outlinewidth\":0},\"type\":\"histogram2dcontour\",\"colorscale\":[[0.0,\"#0d0887\"],[0.1111111111111111,\"#46039f\"],[0.2222222222222222,\"#7201a8\"],[0.3333333333333333,\"#9c179e\"],[0.4444444444444444,\"#bd3786\"],[0.5555555555555556,\"#d8576b\"],[0.6666666666666666,\"#ed7953\"],[0.7777777777777778,\"#fb9f3a\"],[0.8888888888888888,\"#fdca26\"],[1.0,\"#f0f921\"]]}],\"contour\":[{\"colorbar\":{\"ticks\":\"\",\"outlinewidth\":0},\"type\":\"contour\",\"colorscale\":[[0.0,\"#0d0887\"],[0.1111111111111111,\"#46039f\"],[0.2222222222222222,\"#7201a8\"],[0.3333333333333333,\"#9c179e\"],[0.4444444444444444,\"#bd3786\"],[0.5555555555555556,\"#d8576b\"],[0.6666666666666666,\"#ed7953\"],[0.7777777777777778,\"#fb9f3a\"],[0.8888888888888888,\"#fdca26\"],[1.0,\"#f0f921\"]]}],\"scattercarpet\":[{\"type\":\"scattercarpet\",\"marker\":{\"colorbar\":{\"ticks\":\"\",\"outlinewidth\":0}}}],\"mesh3d\":[{\"colorbar\":{\"ticks\":\"\",\"outlinewidth\":0},\"type\":\"mesh3d\"}],\"surface\":[{\"colorbar\":{\"ticks\":\"\",\"outlinewidth\":0},\"type\":\"surface\",\"colorscale\":[[0.0,\"#0d0887\"],[0.1111111111111111,\"#46039f\"],[0.2222222222222222,\"#7201a8\"],[0.3333333333333333,\"#9c179e\"],[0.4444444444444444,\"#bd3786\"],[0.5555555555555556,\"#d8576b\"],[0.6666666666666666,\"#ed7953\"],[0.7777777777777778,\"#fb9f3a\"],[0.8888888888888888,\"#fdca26\"],[1.0,\"#f0f921\"]]}],\"scattermapbox\":[{\"type\":\"scattermapbox\",\"marker\":{\"colorbar\":{\"ticks\":\"\",\"outlinewidth\":0}}}],\"scattergeo\":[{\"type\":\"scattergeo\",\"marker\":{\"colorbar\":{\"ticks\":\"\",\"outlinewidth\":0}}}],\"histogram\":[{\"type\":\"histogram\",\"marker\":{\"colorbar\":{\"ticks\":\"\",\"outlinewidth\":0}}}],\"pie\":[{\"type\":\"pie\",\"automargin\":true}],\"choropleth\":[{\"colorbar\":{\"ticks\":\"\",\"outlinewidth\":0},\"type\":\"choropleth\"}],\"heatmapgl\":[{\"colorbar\":{\"ticks\":\"\",\"outlinewidth\":0},\"type\":\"heatmapgl\",\"colorscale\":[[0.0,\"#0d0887\"],[0.1111111111111111,\"#46039f\"],[0.2222222222222222,\"#7201a8\"],[0.3333333333333333,\"#9c179e\"],[0.4444444444444444,\"#bd3786\"],[0.5555555555555556,\"#d8576b\"],[0.6666666666666666,\"#ed7953\"],[0.7777777777777778,\"#fb9f3a\"],[0.8888888888888888,\"#fdca26\"],[1.0,\"#f0f921\"]]}],\"bar\":[{\"type\":\"bar\",\"error_y\":{\"color\":\"#2a3f5f\"},\"error_x\":{\"color\":\"#2a3f5f\"},\"marker\":{\"line\":{\"color\":\"#E5ECF6\",\"width\":0.5}}}],\"heatmap\":[{\"colorbar\":{\"ticks\":\"\",\"outlinewidth\":0},\"type\":\"heatmap\",\"colorscale\":[[0.0,\"#0d0887\"],[0.1111111111111111,\"#46039f\"],[0.2222222222222222,\"#7201a8\"],[0.3333333333333333,\"#9c179e\"],[0.4444444444444444,\"#bd3786\"],[0.5555555555555556,\"#d8576b\"],[0.6666666666666666,\"#ed7953\"],[0.7777777777777778,\"#fb9f3a\"],[0.8888888888888888,\"#fdca26\"],[1.0,\"#f0f921\"]]}],\"contourcarpet\":[{\"colorbar\":{\"ticks\":\"\",\"outlinewidth\":0},\"type\":\"contourcarpet\"}],\"table\":[{\"type\":\"table\",\"header\":{\"line\":{\"color\":\"white\"},\"fill\":{\"color\":\"#C8D4E3\"}},\"cells\":{\"line\":{\"color\":\"white\"},\"fill\":{\"color\":\"#EBF0F8\"}}}],\"scatter3d\":[{\"line\":{\"colorbar\":{\"ticks\":\"\",\"outlinewidth\":0}},\"type\":\"scatter3d\",\"marker\":{\"colorbar\":{\"ticks\":\"\",\"outlinewidth\":0}}}],\"scattergl\":[{\"type\":\"scattergl\",\"marker\":{\"colorbar\":{\"ticks\":\"\",\"outlinewidth\":0}}}],\"histogram2d\":[{\"colorbar\":{\"ticks\":\"\",\"outlinewidth\":0},\"type\":\"histogram2d\",\"colorscale\":[[0.0,\"#0d0887\"],[0.1111111111111111,\"#46039f\"],[0.2222222222222222,\"#7201a8\"],[0.3333333333333333,\"#9c179e\"],[0.4444444444444444,\"#bd3786\"],[0.5555555555555556,\"#d8576b\"],[0.6666666666666666,\"#ed7953\"],[0.7777777777777778,\"#fb9f3a\"],[0.8888888888888888,\"#fdca26\"],[1.0,\"#f0f921\"]]}],\"scatterternary\":[{\"type\":\"scatterternary\",\"marker\":{\"colorbar\":{\"ticks\":\"\",\"outlinewidth\":0}}}],\"scatterpolargl\":[{\"type\":\"scatterpolargl\",\"marker\":{\"colorbar\":{\"ticks\":\"\",\"outlinewidth\":0}}}]}},\"annotations\":[{\"yanchor\":\"bottom\",\"xanchor\":\"center\",\"y\":-0.04257852358225128,\"text\":\"petal_length\",\"x\":-3.6188807514371955},{\"yanchor\":\"bottom\",\"xanchor\":\"center\",\"y\":-0.018097162149194886,\"text\":\"petal_width\",\"x\":-1.5160584490775115},{\"yanchor\":\"bottom\",\"xanchor\":\"center\",\"y\":0.15904256624307123,\"text\":\"sepal_length\",\"x\":-1.5276588104048603},{\"yanchor\":\"bottom\",\"xanchor\":\"center\",\"y\":0.17676813109091422,\"text\":\"sepal_width\",\"x\":0.34757295998106463}],\"margin\":{\"l\":50,\"b\":50,\"r\":50,\"t\":60}},\n",
       "        {\"editable\":false,\"responsive\":true,\"staticPlot\":false,\"scrollZoom\":true},\n",
       "    )\n",
       "}\n",
       "\n",
       "        });\n",
       "    </script>\n",
       "</div>\n",
       "\n",
       "</body>\n",
       "</html>"
      ],
      "text/plain": [
       "data: [\n",
       "  \"scatter with fields mode, name, type, x, and y\",\n",
       "  \"scatter with fields mode, name, type, x, and y\",\n",
       "  \"scatter with fields mode, name, type, x, and y\"\n",
       "]\n",
       "\n",
       "layout: \"layout with fields annotations, font, margin, shapes, and template\"\n",
       "\n"
      ]
     },
     "execution_count": 6,
     "metadata": {},
     "output_type": "execute_result"
    }
   ],
   "source": [
    "using PlotlyJS, MLJ\n",
    "using DataFrames: DataFrame, insertcols!, filter\n",
    "using Tables: rowtable\n",
    "\n",
    "PCA = @load PCA pkg=\"MultivariateStats\" verbosity=0\n",
    "\n",
    "function display_iris_2D_pca_before_after()\n",
    "    df = DataFrame(dataset(\"iris\"))\n",
    "    axes = [:petal_length, :petal_width, :sepal_length, :sepal_width]\n",
    "    X, = unpack(df, ∈(axes))\n",
    "    coerce!(X, Any => Continuous)\n",
    "    \n",
    "    mach = machine(PCA(pratio=0.999,maxoutdim=2), X)\n",
    "    fit!(mach)\n",
    "    \n",
    "    Xpca = transform(mach, X)\n",
    "    insertcols!(Xpca, :species=>df[!,:species])\n",
    "    \n",
    "    projection = fitted_params(mach).projection\n",
    "    loadings = projection' .* report(mach).principalvars\n",
    "    \n",
    "    axes_pca = Symbol.(filter!(∋('x'), names(Xpca)))\n",
    "    scatter_pca_traces = [\n",
    "                      scatter(\n",
    "                       filter(:species=>==(sps),Xpca); x=:x1, y=:x2, mode=\"markers\", name=sps) \n",
    "                     for sps in unique(df[!,:species])]\n",
    "    \n",
    "    annotations=[attr(x=loadings[1, i], y=loadings[2, i], text=axes[i], xanchor=\"center\", yanchor=\"bottom\") \n",
    "                 for i in 1:length(axes)]\n",
    "    shapes=[line(x0=0, y0=0, x1=loadings[1, i], y1=loadings[2, i]) for i in 1:length(axes)]\n",
    "    \n",
    "    layout = Layout(font=attr(family=\"Courier New\", size=14, color=\"Black\"), \n",
    "                    shapes=shapes, annotations=annotations)\n",
    "    Plot([scatter_pca_traces...], layout)\n",
    "end\n",
    "\n",
    "display_iris_2D_pca_before_after()"
   ]
  },
  {
   "cell_type": "markdown",
   "id": "e319bf92",
   "metadata": {},
   "source": [
    "# Further Reading\n",
    "\n",
    "- [PlotlyJS Julia Documentation](http://juliaplots.org/PlotlyJS.jl/stable/)\n",
    "    - [PlotlyJS Julia scatter](https://plotly.com/julia/line-and-scatter/)\n",
    "    - [PlotlyJS Julia splom](https://plotly.com/julia/reference/splom/#splom)\n",
    "    - [PlotlyJS Julia scatter3d](https://plotly.com/julia/3d-scatter-plots/)\n",
    "    - [PlotlyJS Julia shapes](https://plotly.com/julia/shapes/)\n",
    "    - [PlotlyJS Julia annotations](https://plotly.com/julia/text-and-annotations/)\n",
    "- [Julia Docs](https://docs.julialang.org/en/v1/)\n",
    "- [Julia MLJ](https://alan-turing-institute.github.io/MLJ.jl/dev/)\n",
    "- [Julia MultivariateStats](https://juliastats.org/MultivariateStats.jl/dev/)\n",
    "- [Julia Tables (Closely Related to DataFrames)](https://tables.juliadata.org/stable/)\n",
    "- [Julia Dataframes](https://dataframes.juliadata.org/stable/)\n",
    "- [linear algebra behind eigenvectors and loadings Q&A](https://stats.stackexchange.com/questions/143905/loadings-vs-eigenvectors-in-pca-when-to-use-one-or-another)"
   ]
  }
 ],
 "metadata": {
  "@webio": {
   "lastCommId": "421e7d273c5b4749a8209b9e477f51f2",
   "lastKernelId": "443f4432-67c8-4b20-bbbc-0fcba7052fd1"
  },
  "kernelspec": {
   "display_name": "Julia 1.6.0",
   "language": "julia",
   "name": "julia-1.6"
  },
  "language_info": {
   "file_extension": ".jl",
   "mimetype": "application/julia",
   "name": "julia",
   "version": "1.6.3"
  }
 },
 "nbformat": 4,
 "nbformat_minor": 5
}
