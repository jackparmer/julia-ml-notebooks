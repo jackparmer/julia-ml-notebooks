{
 "cells": [
  {
   "cell_type": "markdown",
   "id": "e5b6c9a1",
   "metadata": {},
   "source": [
    "# ML Regression in Julia\n",
    "\n",
    "Plotly in Julia interfaces nicely with the **DataFrames** and **Tables** objects. \n",
    "Julia also supports Scikit-learn, so one can transfer knowledge from such a widespread package. \n",
    "This page will present several ways to plot some basic plots of regression. \n",
    "The **GLM** (pure Julia) and **Scikit-learn** (python library) will be used to fit the models. \n",
    "Also, this page includes a basic Dash app.\n",
    "\n",
    "**Packages Used:** CSV, *Downloads*, DataFrames, PlotlyJS, GLM, SciKitLearn, *Printf*, *Random*, Dash\n",
    "\n",
    "*Italic packages* are Julia Standard Library Packages as of **v1.6**.\n",
    "\n",
    "**Note:** The examples below are encapsulated in functions since it is best practice in Julia."
   ]
  },
  {
   "cell_type": "markdown",
   "id": "3e64aa69",
   "metadata": {},
   "source": [
    "# Basic Linear Regression Plots"
   ]
  },
  {
   "cell_type": "markdown",
   "id": "bf487d6a",
   "metadata": {},
   "source": [
    "These sections will show a linear regression model. This section will present several ways to plot basic linear regressor, using **GLM.jl** and **Scikit-learn.jl**."
   ]
  },
  {
   "cell_type": "markdown",
   "id": "35b8895b",
   "metadata": {},
   "source": [
    "## Ordinary Least Square with GLM.jl (Generalized Linear Models) "
   ]
  },
  {
   "cell_type": "markdown",
   "id": "16d6a5ad",
   "metadata": {},
   "source": [
    "This section will plot a trend line with scatter and GLM. \n",
    "We will pull data from the **R** language dataset repository with **CSV.jl**, **Downloads.jl**, and **DataFrames.jl**.\n",
    "In **PlotlyJS** the plots are made up of building blocks, traces. A `scatter_trace` and `regression_trace` are defined with the **PlotlyJS** `scatter` method. \n",
    "Note that the `x` and `y` are set to `Symbol` variables which are two feature names of the data set, `tips`.\n",
    "\n",
    "The linear regression model is made with **GLM**'s `lm` method and its macro, `@formula`. \n",
    "The resulting model can be used to construct a line plot.\n",
    "To finish, one can define a layout with **PlotlyJS**'s `Layout` struct. **DataFrames**'s `insertcols!` is used to add the linear regression predicted values.\n",
    "\n",
    "The plot is plotted with **PlotlyJS**'s `plot` method."
   ]
  },
  {
   "cell_type": "code",
   "execution_count": 7,
   "id": "f478a9ad",
   "metadata": {},
   "outputs": [
    {
     "data": {
      "application/vnd.plotly.v1+json": {
       "config": {
        "editable": false,
        "responsive": true,
        "scrollZoom": true,
        "showLink": false,
        "staticPlot": false
       },
       "data": [
        {
         "mode": "markers",
         "name": "Tips",
         "opacity": 0.65,
         "type": "scatter",
         "x": [
          17.99,
          26.05,
          79.49,
          32.69,
          29.97,
          23.91,
          18.18,
          41.23,
          25.19,
          19.22,
          20.6,
          30.15,
          31.03,
          124.44,
          69.4,
          23.45,
          19.75,
          39.88,
          21.19,
          17.83,
          91.43,
          78.18,
          53.04,
          26.75,
          15.23,
          28.05,
          10.99,
          71.47,
          24.71,
          66.48,
          53.39,
          38.88,
          60.17,
          124.9,
          24.82,
          35.71,
          75.12,
          8.31,
          14.57,
          20.07,
          64.25,
          22.38,
          30.21,
          23.27,
          22.36,
          18.65,
          32.33,
          34.35,
          23.78,
          19.68,
          20.82,
          96.11,
          15.14,
          36.77,
          59.97,
          27.33,
          30.99,
          35.12,
          117.15,
          144.18,
          21.37,
          32.45,
          25.05,
          42.51,
          10.91,
          33.72,
          25.21,
          19.08,
          141.76,
          93.37,
          101.26,
          42.81,
          4.98,
          28.17,
          5.55,
          60.47,
          24.67,
          17.77,
          13.67,
          23.25,
          31.38,
          42.55,
          39.13,
          38.77,
          10,
          72.84,
          29.07,
          14.83,
          18.31,
          64.93,
          25.04,
          76.27,
          24.21,
          34.05,
          115.39
         ],
         "y": [
          2,
          4,
          14.3082,
          5.5,
          6,
          7.5,
          3.06,
          8.5,
          8.5,
          3,
          5,
          3.5,
          3,
          22.3992,
          18,
          8.5,
          2.5,
          7.5,
          5,
          2.25,
          16.4574,
          14.0724,
          7.57,
          0,
          2.81,
          3,
          2,
          12.8646,
          3,
          16,
          7,
          2.9,
          7,
          22.482,
          6,
          6,
          13.5216,
          1.5,
          7,
          3,
          5.5,
          3.25,
          6,
          2,
          3.5,
          6,
          3.5,
          7.32,
          9.5,
          3,
          3.5,
          17.2998,
          2.5,
          4,
          9,
          4,
          3.25,
          6,
          21.087,
          25.9524,
          6,
          5.5,
          4,
          6.5,
          3,
          7.75,
          6,
          4,
          25.5168,
          16.8066,
          18.2268,
          5,
          0.5,
          7.5,
          0.75,
          15,
          6,
          0.75,
          3.5,
          7,
          8,
          6,
          6,
          4,
          3.5,
          11.5,
          7,
          1.5,
          1,
          7,
          6,
          13,
          3.75,
          8.5,
          20.7702
         ]
        },
        {
         "line": {
          "color": "darkblue"
         },
         "mode": "lines",
         "name": "Linear Regression",
         "type": "scatter",
         "x": [
          17.99,
          26.05,
          79.49,
          32.69,
          29.97,
          23.91,
          18.18,
          41.23,
          25.19,
          19.22,
          20.6,
          30.15,
          31.03,
          124.44,
          69.4,
          23.45,
          19.75,
          39.88,
          21.19,
          17.83,
          91.43,
          78.18,
          53.04,
          26.75,
          15.23,
          28.05,
          10.99,
          71.47,
          24.71,
          66.48,
          53.39,
          38.88,
          60.17,
          124.9,
          24.82,
          35.71,
          75.12,
          8.31,
          14.57,
          20.07,
          64.25,
          22.38,
          30.21,
          23.27,
          22.36,
          18.65,
          32.33,
          34.35,
          23.78,
          19.68,
          20.82,
          96.11,
          15.14,
          36.77,
          59.97,
          27.33,
          30.99,
          35.12,
          117.15,
          144.18,
          21.37,
          32.45,
          25.05,
          42.51,
          10.91,
          33.72,
          25.21,
          19.08,
          141.76,
          93.37,
          101.26,
          42.81,
          4.98,
          28.17,
          5.55,
          60.47,
          24.67,
          17.77,
          13.67,
          23.25,
          31.38,
          42.55,
          39.13,
          38.77,
          10,
          72.84,
          29.07,
          14.83,
          18.31,
          64.93,
          25.04,
          76.27,
          24.21,
          34.05,
          115.39
         ],
         "y": [
          3.2799834333949383,
          4.6897122540116305,
          14.036599124204677,
          5.85107693997873,
          5.375337189100641,
          4.315417008835486,
          3.3132152542283344,
          7.34475983427979,
          4.53929453866047,
          3.495115747211133,
          3.7364837090536938,
          5.40681996673228,
          5.560735768486955,
          21.898548316105458,
          12.27181453363118,
          4.234961021554633,
          3.5878150369042907,
          7.108639002042504,
          3.839677257957397,
          3.2519987421668155,
          16.124956707103355,
          13.807474464774424,
          9.410379855555611,
          4.812145278134667,
          2.797247509709819,
          5.039520894363166,
          2.0556531921645615,
          12.633866476395019,
          4.455340464976101,
          11.761093918717936,
          9.471596367617131,
          6.933734681866736,
          10.657447658408838,
          21.97900430338631,
          4.474579940195436,
          6.37928798690955,
          13.272267245036574,
          1.586909614093503,
          2.6818106583938115,
          3.6437844193605367,
          11.371057284725973,
          4.047813398966561,
          5.4173142259428255,
          4.203478243922994,
          4.044315312563045,
          3.3954202847109456,
          5.788111384715454,
          6.1414181114705055,
          4.292679447212636,
          3.575571734491987,
          3.7749626594923624,
          16.943508925525947,
          2.7815061208939995,
          6.564686566295865,
          10.622466794373684,
          4.9135897838366125,
          5.553739595679924,
          6.276094438005846,
          20.623495822024108,
          25.351159596375123,
          3.8711600355890354,
          5.809099903136547,
          4.514807933835862,
          7.568637364104774,
          2.0416608465505,
          6.031228389759772,
          4.542792625063985,
          3.470629142386526,
          24.92789114154976,
          16.46427108824434,
          17.84426617443115,
          7.621108660157504,
          1.004478227908195,
          5.060509412784259,
          1.1041736904083828,
          10.70991895446157,
          4.44834429216907,
          3.2415044829562696,
          2.5243967702356205,
          4.199980157519479,
          5.6219522805484745,
          7.575633536911804,
          6.977460761910677,
          6.914495206647401,
          1.8824979151905512,
          12.873485395035821,
          5.2179233009424495,
          2.7272857816395115,
          3.335952815851184,
          11.489992222445496,
          4.513058890634104,
          13.473407213238705,
          4.367888304888217,
          6.088946815417775,
          20.315664218514755
         ]
        }
       ],
       "frames": [],
       "layout": {
        "font": {
         "color": "Black",
         "family": "Times New Roman",
         "size": 14
        },
        "margin": {
         "b": 50,
         "l": 50,
         "r": 50,
         "t": 60
        },
        "template": {
         "data": {
          "bar": [
           {
            "error_x": {
             "color": "#2a3f5f"
            },
            "error_y": {
             "color": "#2a3f5f"
            },
            "marker": {
             "line": {
              "color": "#E5ECF6",
              "width": 0.5
             }
            },
            "type": "bar"
           }
          ],
          "barpolar": [
           {
            "marker": {
             "line": {
              "color": "#E5ECF6",
              "width": 0.5
             }
            },
            "type": "barpolar"
           }
          ],
          "carpet": [
           {
            "aaxis": {
             "endlinecolor": "#2a3f5f",
             "gridcolor": "white",
             "linecolor": "white",
             "minorgridcolor": "white",
             "startlinecolor": "#2a3f5f"
            },
            "baxis": {
             "endlinecolor": "#2a3f5f",
             "gridcolor": "white",
             "linecolor": "white",
             "minorgridcolor": "white",
             "startlinecolor": "#2a3f5f"
            },
            "type": "carpet"
           }
          ],
          "choropleth": [
           {
            "colorbar": {
             "outlinewidth": 0,
             "ticks": ""
            },
            "type": "choropleth"
           }
          ],
          "contour": [
           {
            "colorbar": {
             "outlinewidth": 0,
             "ticks": ""
            },
            "colorscale": [
             [
              0,
              "#0d0887"
             ],
             [
              0.1111111111111111,
              "#46039f"
             ],
             [
              0.2222222222222222,
              "#7201a8"
             ],
             [
              0.3333333333333333,
              "#9c179e"
             ],
             [
              0.4444444444444444,
              "#bd3786"
             ],
             [
              0.5555555555555556,
              "#d8576b"
             ],
             [
              0.6666666666666666,
              "#ed7953"
             ],
             [
              0.7777777777777778,
              "#fb9f3a"
             ],
             [
              0.8888888888888888,
              "#fdca26"
             ],
             [
              1,
              "#f0f921"
             ]
            ],
            "type": "contour"
           }
          ],
          "contourcarpet": [
           {
            "colorbar": {
             "outlinewidth": 0,
             "ticks": ""
            },
            "type": "contourcarpet"
           }
          ],
          "heatmap": [
           {
            "colorbar": {
             "outlinewidth": 0,
             "ticks": ""
            },
            "colorscale": [
             [
              0,
              "#0d0887"
             ],
             [
              0.1111111111111111,
              "#46039f"
             ],
             [
              0.2222222222222222,
              "#7201a8"
             ],
             [
              0.3333333333333333,
              "#9c179e"
             ],
             [
              0.4444444444444444,
              "#bd3786"
             ],
             [
              0.5555555555555556,
              "#d8576b"
             ],
             [
              0.6666666666666666,
              "#ed7953"
             ],
             [
              0.7777777777777778,
              "#fb9f3a"
             ],
             [
              0.8888888888888888,
              "#fdca26"
             ],
             [
              1,
              "#f0f921"
             ]
            ],
            "type": "heatmap"
           }
          ],
          "heatmapgl": [
           {
            "colorbar": {
             "outlinewidth": 0,
             "ticks": ""
            },
            "colorscale": [
             [
              0,
              "#0d0887"
             ],
             [
              0.1111111111111111,
              "#46039f"
             ],
             [
              0.2222222222222222,
              "#7201a8"
             ],
             [
              0.3333333333333333,
              "#9c179e"
             ],
             [
              0.4444444444444444,
              "#bd3786"
             ],
             [
              0.5555555555555556,
              "#d8576b"
             ],
             [
              0.6666666666666666,
              "#ed7953"
             ],
             [
              0.7777777777777778,
              "#fb9f3a"
             ],
             [
              0.8888888888888888,
              "#fdca26"
             ],
             [
              1,
              "#f0f921"
             ]
            ],
            "type": "heatmapgl"
           }
          ],
          "histogram": [
           {
            "marker": {
             "colorbar": {
              "outlinewidth": 0,
              "ticks": ""
             }
            },
            "type": "histogram"
           }
          ],
          "histogram2d": [
           {
            "colorbar": {
             "outlinewidth": 0,
             "ticks": ""
            },
            "colorscale": [
             [
              0,
              "#0d0887"
             ],
             [
              0.1111111111111111,
              "#46039f"
             ],
             [
              0.2222222222222222,
              "#7201a8"
             ],
             [
              0.3333333333333333,
              "#9c179e"
             ],
             [
              0.4444444444444444,
              "#bd3786"
             ],
             [
              0.5555555555555556,
              "#d8576b"
             ],
             [
              0.6666666666666666,
              "#ed7953"
             ],
             [
              0.7777777777777778,
              "#fb9f3a"
             ],
             [
              0.8888888888888888,
              "#fdca26"
             ],
             [
              1,
              "#f0f921"
             ]
            ],
            "type": "histogram2d"
           }
          ],
          "histogram2dcontour": [
           {
            "colorbar": {
             "outlinewidth": 0,
             "ticks": ""
            },
            "colorscale": [
             [
              0,
              "#0d0887"
             ],
             [
              0.1111111111111111,
              "#46039f"
             ],
             [
              0.2222222222222222,
              "#7201a8"
             ],
             [
              0.3333333333333333,
              "#9c179e"
             ],
             [
              0.4444444444444444,
              "#bd3786"
             ],
             [
              0.5555555555555556,
              "#d8576b"
             ],
             [
              0.6666666666666666,
              "#ed7953"
             ],
             [
              0.7777777777777778,
              "#fb9f3a"
             ],
             [
              0.8888888888888888,
              "#fdca26"
             ],
             [
              1,
              "#f0f921"
             ]
            ],
            "type": "histogram2dcontour"
           }
          ],
          "mesh3d": [
           {
            "colorbar": {
             "outlinewidth": 0,
             "ticks": ""
            },
            "type": "mesh3d"
           }
          ],
          "parcoords": [
           {
            "line": {
             "colorbar": {
              "outlinewidth": 0,
              "ticks": ""
             }
            },
            "type": "parcoords"
           }
          ],
          "pie": [
           {
            "automargin": true,
            "type": "pie"
           }
          ],
          "scatter": [
           {
            "marker": {
             "colorbar": {
              "outlinewidth": 0,
              "ticks": ""
             }
            },
            "type": "scatter"
           }
          ],
          "scatter3d": [
           {
            "line": {
             "colorbar": {
              "outlinewidth": 0,
              "ticks": ""
             }
            },
            "marker": {
             "colorbar": {
              "outlinewidth": 0,
              "ticks": ""
             }
            },
            "type": "scatter3d"
           }
          ],
          "scattercarpet": [
           {
            "marker": {
             "colorbar": {
              "outlinewidth": 0,
              "ticks": ""
             }
            },
            "type": "scattercarpet"
           }
          ],
          "scattergeo": [
           {
            "marker": {
             "colorbar": {
              "outlinewidth": 0,
              "ticks": ""
             }
            },
            "type": "scattergeo"
           }
          ],
          "scattergl": [
           {
            "marker": {
             "colorbar": {
              "outlinewidth": 0,
              "ticks": ""
             }
            },
            "type": "scattergl"
           }
          ],
          "scattermapbox": [
           {
            "marker": {
             "colorbar": {
              "outlinewidth": 0,
              "ticks": ""
             }
            },
            "type": "scattermapbox"
           }
          ],
          "scatterpolar": [
           {
            "marker": {
             "colorbar": {
              "outlinewidth": 0,
              "ticks": ""
             }
            },
            "type": "scatterpolar"
           }
          ],
          "scatterpolargl": [
           {
            "marker": {
             "colorbar": {
              "outlinewidth": 0,
              "ticks": ""
             }
            },
            "type": "scatterpolargl"
           }
          ],
          "scatterternary": [
           {
            "marker": {
             "colorbar": {
              "outlinewidth": 0,
              "ticks": ""
             }
            },
            "type": "scatterternary"
           }
          ],
          "surface": [
           {
            "colorbar": {
             "outlinewidth": 0,
             "ticks": ""
            },
            "colorscale": [
             [
              0,
              "#0d0887"
             ],
             [
              0.1111111111111111,
              "#46039f"
             ],
             [
              0.2222222222222222,
              "#7201a8"
             ],
             [
              0.3333333333333333,
              "#9c179e"
             ],
             [
              0.4444444444444444,
              "#bd3786"
             ],
             [
              0.5555555555555556,
              "#d8576b"
             ],
             [
              0.6666666666666666,
              "#ed7953"
             ],
             [
              0.7777777777777778,
              "#fb9f3a"
             ],
             [
              0.8888888888888888,
              "#fdca26"
             ],
             [
              1,
              "#f0f921"
             ]
            ],
            "type": "surface"
           }
          ],
          "table": [
           {
            "cells": {
             "fill": {
              "color": "#EBF0F8"
             },
             "line": {
              "color": "white"
             }
            },
            "header": {
             "fill": {
              "color": "#C8D4E3"
             },
             "line": {
              "color": "white"
             }
            },
            "type": "table"
           }
          ]
         },
         "layout": {
          "annotationdefaults": {
           "arrowcolor": "#2a3f5f",
           "arrowhead": 0,
           "arrowwidth": 1
          },
          "autotypenumbers": "strict",
          "coloraxis": {
           "colorbar": {
            "outlinewidth": 0,
            "ticks": ""
           }
          },
          "colorscale": {
           "diverging": [
            [
             0,
             "#8e0152"
            ],
            [
             0.1,
             "#c51b7d"
            ],
            [
             0.2,
             "#de77ae"
            ],
            [
             0.3,
             "#f1b6da"
            ],
            [
             0.4,
             "#fde0ef"
            ],
            [
             0.5,
             "#f7f7f7"
            ],
            [
             0.6,
             "#e6f5d0"
            ],
            [
             0.7,
             "#b8e186"
            ],
            [
             0.8,
             "#7fbc41"
            ],
            [
             0.9,
             "#4d9221"
            ],
            [
             1,
             "#276419"
            ]
           ],
           "sequential": [
            [
             0,
             "#0d0887"
            ],
            [
             0.1111111111111111,
             "#46039f"
            ],
            [
             0.2222222222222222,
             "#7201a8"
            ],
            [
             0.3333333333333333,
             "#9c179e"
            ],
            [
             0.4444444444444444,
             "#bd3786"
            ],
            [
             0.5555555555555556,
             "#d8576b"
            ],
            [
             0.6666666666666666,
             "#ed7953"
            ],
            [
             0.7777777777777778,
             "#fb9f3a"
            ],
            [
             0.8888888888888888,
             "#fdca26"
            ],
            [
             1,
             "#f0f921"
            ]
           ],
           "sequentialminus": [
            [
             0,
             "#0d0887"
            ],
            [
             0.1111111111111111,
             "#46039f"
            ],
            [
             0.2222222222222222,
             "#7201a8"
            ],
            [
             0.3333333333333333,
             "#9c179e"
            ],
            [
             0.4444444444444444,
             "#bd3786"
            ],
            [
             0.5555555555555556,
             "#d8576b"
            ],
            [
             0.6666666666666666,
             "#ed7953"
            ],
            [
             0.7777777777777778,
             "#fb9f3a"
            ],
            [
             0.8888888888888888,
             "#fdca26"
            ],
            [
             1,
             "#f0f921"
            ]
           ]
          },
          "colorway": [
           "#636efa",
           "#EF553B",
           "#00cc96",
           "#ab63fa",
           "#FFA15A",
           "#19d3f3",
           "#FF6692",
           "#B6E880",
           "#FF97FF",
           "#FECB52"
          ],
          "font": {
           "color": "#2a3f5f"
          },
          "geo": {
           "bgcolor": "white",
           "lakecolor": "white",
           "landcolor": "#E5ECF6",
           "showlakes": true,
           "showland": true,
           "subunitcolor": "white"
          },
          "hoverlabel": {
           "align": "left"
          },
          "hovermode": "closest",
          "mapbox": {
           "style": "light"
          },
          "paper_bgcolor": "white",
          "plot_bgcolor": "#E5ECF6",
          "polar": {
           "angularaxis": {
            "gridcolor": "white",
            "linecolor": "white",
            "ticks": ""
           },
           "bgcolor": "#E5ECF6",
           "radialaxis": {
            "gridcolor": "white",
            "linecolor": "white",
            "ticks": ""
           }
          },
          "scene": {
           "xaxis": {
            "backgroundcolor": "#E5ECF6",
            "gridcolor": "white",
            "gridwidth": 2,
            "linecolor": "white",
            "showbackground": true,
            "ticks": "",
            "zerolinecolor": "white"
           },
           "yaxis": {
            "backgroundcolor": "#E5ECF6",
            "gridcolor": "white",
            "gridwidth": 2,
            "linecolor": "white",
            "showbackground": true,
            "ticks": "",
            "zerolinecolor": "white"
           },
           "zaxis": {
            "backgroundcolor": "#E5ECF6",
            "gridcolor": "white",
            "gridwidth": 2,
            "linecolor": "white",
            "showbackground": true,
            "ticks": "",
            "zerolinecolor": "white"
           }
          },
          "shapedefaults": {
           "line": {
            "color": "#2a3f5f"
           }
          },
          "ternary": {
           "aaxis": {
            "gridcolor": "white",
            "linecolor": "white",
            "ticks": ""
           },
           "baxis": {
            "gridcolor": "white",
            "linecolor": "white",
            "ticks": ""
           },
           "bgcolor": "#E5ECF6",
           "caxis": {
            "gridcolor": "white",
            "linecolor": "white",
            "ticks": ""
           }
          },
          "title": {
           "x": 0.05
          },
          "xaxis": {
           "automargin": true,
           "gridcolor": "white",
           "linecolor": "white",
           "ticks": "",
           "title": {
            "standoff": 15
           },
           "zerolinecolor": "white",
           "zerolinewidth": 2
          },
          "yaxis": {
           "automargin": true,
           "gridcolor": "white",
           "linecolor": "white",
           "ticks": "",
           "title": {
            "standoff": 15
           },
           "zerolinecolor": "white",
           "zerolinewidth": 2
          }
         }
        },
        "xaxis": {
         "title": {
          "text": "Total Bill"
         }
        },
        "yaxis": {
         "title": {
          "text": "Tips"
         }
        }
       }
      },
      "text/html": [
       "<div\n",
       "    class=\"webio-mountpoint\"\n",
       "    data-webio-mountpoint=\"2939964452031959139\"\n",
       ">\n",
       "    <script>\n",
       "    (function(){\n",
       "    // Some integrations (namely, IJulia/Jupyter) use an alternate render pathway than\n",
       "    // just putting the html on the page. If WebIO isn't defined, then it's pretty likely\n",
       "    // that we're in one of those situations and the integration just isn't installed\n",
       "    // correctly.\n",
       "    if (typeof window.WebIO === \"undefined\") {\n",
       "        document\n",
       "            .querySelector('[data-webio-mountpoint=\"2939964452031959139\"]')\n",
       "            .innerHTML = (\n",
       "                '<div style=\"padding: 1em; background-color: #f8d6da; border: 1px solid #f5c6cb; font-weight: bold;\">' +\n",
       "                '<p><strong>WebIO not detected.</strong></p>' +\n",
       "                '<p>Please read ' +\n",
       "                '<a href=\"https://juliagizmos.github.io/WebIO.jl/latest/troubleshooting/not-detected/\" target=\"_blank\">the troubleshooting guide</a> ' +\n",
       "                'for more information on how to resolve this issue.</p>' +\n",
       "                '<p><a href=\"https://juliagizmos.github.io/WebIO.jl/latest/troubleshooting/not-detected/\" target=\"_blank\">https://juliagizmos.github.io/WebIO.jl/latest/troubleshooting/not-detected/</a></p>' +\n",
       "                '</div>'\n",
       "            );\n",
       "        return;\n",
       "    }\n",
       "    WebIO.mount(\n",
       "        document.querySelector('[data-webio-mountpoint=\"2939964452031959139\"]'),\n",
       "        {\"props\":{},\"nodeType\":\"Scope\",\"type\":\"node\",\"instanceArgs\":{\"imports\":{\"data\":[{\"name\":\"Plotly\",\"type\":\"js\",\"url\":\"\\/assetserver\\/8c9d45313350cf65a3ec624b1245e5f2464600dc-plotly.min.js\"},{\"name\":null,\"type\":\"js\",\"url\":\"\\/assetserver\\/cae4c779f4eb480f3fffa6b4e72fc8efdacf807c-plotly_webio.bundle.js\"}],\"type\":\"async_block\"},\"id\":\"18435873533869277185\",\"handlers\":{\"_toImage\":[\"(function (options){return this.Plotly.toImage(this.plotElem,options).then((function (data){return WebIO.setval({\\\"name\\\":\\\"image\\\",\\\"scope\\\":\\\"18435873533869277185\\\",\\\"id\\\":\\\"10774674407776330352\\\",\\\"type\\\":\\\"observable\\\"},data)}))})\"],\"__get_gd_contents\":[\"(function (prop){prop==\\\"data\\\" ? (WebIO.setval({\\\"name\\\":\\\"__gd_contents\\\",\\\"scope\\\":\\\"18435873533869277185\\\",\\\"id\\\":\\\"5463607611886056688\\\",\\\"type\\\":\\\"observable\\\"},this.plotElem.data)) : undefined; return prop==\\\"layout\\\" ? (WebIO.setval({\\\"name\\\":\\\"__gd_contents\\\",\\\"scope\\\":\\\"18435873533869277185\\\",\\\"id\\\":\\\"5463607611886056688\\\",\\\"type\\\":\\\"observable\\\"},this.plotElem.layout)) : undefined})\"],\"_downloadImage\":[\"(function (options){return this.Plotly.downloadImage(this.plotElem,options)})\"],\"_commands\":[\"(function (args){var fn=args.shift(); var elem=this.plotElem; var Plotly=this.Plotly; args.unshift(elem); return Plotly[fn].apply(this,args)})\"]},\"systemjs_options\":null,\"mount_callbacks\":[\"function () {\\n    var handler = ((function (Plotly,PlotlyWebIO){PlotlyWebIO.init(WebIO); var gd=this.dom.querySelector(\\\"#plot-4e726094-97fa-46e4-874a-86f648eb1d07\\\"); this.plotElem=gd; this.Plotly=Plotly; (window.Blink!==undefined) ? (gd.style.width=\\\"100%\\\", gd.style.height=\\\"100vh\\\", gd.style.marginLeft=\\\"0%\\\", gd.style.marginTop=\\\"0vh\\\") : undefined; window.onresize=(function (){return Plotly.Plots.resize(gd)}); Plotly.newPlot(gd,[{\\\"mode\\\":\\\"markers\\\",\\\"y\\\":[2.0,4.0,14.3082,5.5,6.0,7.5,3.06,8.5,8.5,3.0,5.0,3.5,3.0,22.3992,18.0,8.5,2.5,7.5,5.0,2.25,16.4574,14.0724,7.57,0.0,2.81,3.0,2.0,12.8646,3.0,16.0,7.0,2.9,7.0,22.482,6.0,6.0,13.5216,1.5,7.0,3.0,5.5,3.25,6.0,2.0,3.5,6.0,3.5,7.32,9.5,3.0,3.5,17.2998,2.5,4.0,9.0,4.0,3.25,6.0,21.087,25.9524,6.0,5.5,4.0,6.5,3.0,7.75,6.0,4.0,25.5168,16.8066,18.2268,5.0,0.5,7.5,0.75,15.0,6.0,0.75,3.5,7.0,8.0,6.0,6.0,4.0,3.5,11.5,7.0,1.5,1.0,7.0,6.0,13.0,3.75,8.5,20.7702],\\\"type\\\":\\\"scatter\\\",\\\"name\\\":\\\"Tips\\\",\\\"opacity\\\":0.65,\\\"x\\\":[17.99,26.05,79.49,32.69,29.97,23.91,18.18,41.23,25.19,19.22,20.6,30.15,31.03,124.44,69.4,23.45,19.75,39.88,21.19,17.83,91.43,78.18,53.04,26.75,15.23,28.05,10.99,71.47,24.71,66.48,53.39,38.88,60.17,124.9,24.82,35.71,75.12,8.31,14.57,20.07,64.25,22.38,30.21,23.27,22.36,18.65,32.33,34.35,23.78,19.68,20.82,96.11,15.14,36.77,59.97,27.33,30.99,35.12,117.15,144.18,21.37,32.45,25.05,42.51,10.91,33.72,25.21,19.08,141.76,93.37,101.26,42.81,4.98,28.17,5.55,60.47,24.67,17.77,13.67,23.25,31.38,42.55,39.13,38.77,10.0,72.84,29.07,14.83,18.31,64.93,25.04,76.27,24.21,34.05,115.39]},{\\\"mode\\\":\\\"lines\\\",\\\"line\\\":{\\\"color\\\":\\\"darkblue\\\"},\\\"y\\\":[3.2799834333949383,4.6897122540116305,14.036599124204677,5.85107693997873,5.375337189100641,4.315417008835486,3.3132152542283344,7.34475983427979,4.53929453866047,3.495115747211133,3.7364837090536938,5.40681996673228,5.560735768486955,21.898548316105458,12.27181453363118,4.234961021554633,3.5878150369042907,7.108639002042504,3.839677257957397,3.2519987421668155,16.124956707103355,13.807474464774424,9.410379855555611,4.812145278134667,2.797247509709819,5.039520894363166,2.0556531921645615,12.633866476395019,4.455340464976101,11.761093918717936,9.471596367617131,6.933734681866736,10.657447658408838,21.97900430338631,4.474579940195436,6.37928798690955,13.272267245036574,1.586909614093503,2.6818106583938115,3.6437844193605367,11.371057284725973,4.047813398966561,5.4173142259428255,4.203478243922994,4.044315312563045,3.3954202847109456,5.788111384715454,6.1414181114705055,4.292679447212636,3.575571734491987,3.7749626594923624,16.943508925525947,2.7815061208939995,6.564686566295865,10.622466794373684,4.9135897838366125,5.553739595679924,6.276094438005846,20.623495822024108,25.351159596375123,3.8711600355890354,5.809099903136547,4.514807933835862,7.568637364104774,2.0416608465505,6.031228389759772,4.542792625063985,3.470629142386526,24.92789114154976,16.46427108824434,17.84426617443115,7.621108660157504,1.004478227908195,5.060509412784259,1.1041736904083828,10.70991895446157,4.44834429216907,3.2415044829562696,2.5243967702356205,4.199980157519479,5.6219522805484745,7.575633536911804,6.977460761910677,6.914495206647401,1.8824979151905512,12.873485395035821,5.2179233009424495,2.7272857816395115,3.335952815851184,11.489992222445496,4.513058890634104,13.473407213238705,4.367888304888217,6.088946815417775,20.315664218514755],\\\"type\\\":\\\"scatter\\\",\\\"name\\\":\\\"Linear Regression\\\",\\\"x\\\":[17.99,26.05,79.49,32.69,29.97,23.91,18.18,41.23,25.19,19.22,20.6,30.15,31.03,124.44,69.4,23.45,19.75,39.88,21.19,17.83,91.43,78.18,53.04,26.75,15.23,28.05,10.99,71.47,24.71,66.48,53.39,38.88,60.17,124.9,24.82,35.71,75.12,8.31,14.57,20.07,64.25,22.38,30.21,23.27,22.36,18.65,32.33,34.35,23.78,19.68,20.82,96.11,15.14,36.77,59.97,27.33,30.99,35.12,117.15,144.18,21.37,32.45,25.05,42.51,10.91,33.72,25.21,19.08,141.76,93.37,101.26,42.81,4.98,28.17,5.55,60.47,24.67,17.77,13.67,23.25,31.38,42.55,39.13,38.77,10.0,72.84,29.07,14.83,18.31,64.93,25.04,76.27,24.21,34.05,115.39]}],{\\\"xaxis\\\":{\\\"title\\\":{\\\"text\\\":\\\"Total Bill\\\"}},\\\"font\\\":{\\\"color\\\":\\\"Black\\\",\\\"family\\\":\\\"Times New Roman\\\",\\\"size\\\":14},\\\"template\\\":{\\\"layout\\\":{\\\"coloraxis\\\":{\\\"colorbar\\\":{\\\"ticks\\\":\\\"\\\",\\\"outlinewidth\\\":0}},\\\"xaxis\\\":{\\\"gridcolor\\\":\\\"white\\\",\\\"zerolinewidth\\\":2,\\\"title\\\":{\\\"standoff\\\":15},\\\"ticks\\\":\\\"\\\",\\\"zerolinecolor\\\":\\\"white\\\",\\\"automargin\\\":true,\\\"linecolor\\\":\\\"white\\\"},\\\"hovermode\\\":\\\"closest\\\",\\\"paper_bgcolor\\\":\\\"white\\\",\\\"geo\\\":{\\\"showlakes\\\":true,\\\"showland\\\":true,\\\"landcolor\\\":\\\"#E5ECF6\\\",\\\"bgcolor\\\":\\\"white\\\",\\\"subunitcolor\\\":\\\"white\\\",\\\"lakecolor\\\":\\\"white\\\"},\\\"colorscale\\\":{\\\"sequential\\\":[[0.0,\\\"#0d0887\\\"],[0.1111111111111111,\\\"#46039f\\\"],[0.2222222222222222,\\\"#7201a8\\\"],[0.3333333333333333,\\\"#9c179e\\\"],[0.4444444444444444,\\\"#bd3786\\\"],[0.5555555555555556,\\\"#d8576b\\\"],[0.6666666666666666,\\\"#ed7953\\\"],[0.7777777777777778,\\\"#fb9f3a\\\"],[0.8888888888888888,\\\"#fdca26\\\"],[1.0,\\\"#f0f921\\\"]],\\\"diverging\\\":[[0,\\\"#8e0152\\\"],[0.1,\\\"#c51b7d\\\"],[0.2,\\\"#de77ae\\\"],[0.3,\\\"#f1b6da\\\"],[0.4,\\\"#fde0ef\\\"],[0.5,\\\"#f7f7f7\\\"],[0.6,\\\"#e6f5d0\\\"],[0.7,\\\"#b8e186\\\"],[0.8,\\\"#7fbc41\\\"],[0.9,\\\"#4d9221\\\"],[1,\\\"#276419\\\"]],\\\"sequentialminus\\\":[[0.0,\\\"#0d0887\\\"],[0.1111111111111111,\\\"#46039f\\\"],[0.2222222222222222,\\\"#7201a8\\\"],[0.3333333333333333,\\\"#9c179e\\\"],[0.4444444444444444,\\\"#bd3786\\\"],[0.5555555555555556,\\\"#d8576b\\\"],[0.6666666666666666,\\\"#ed7953\\\"],[0.7777777777777778,\\\"#fb9f3a\\\"],[0.8888888888888888,\\\"#fdca26\\\"],[1.0,\\\"#f0f921\\\"]]},\\\"yaxis\\\":{\\\"gridcolor\\\":\\\"white\\\",\\\"zerolinewidth\\\":2,\\\"title\\\":{\\\"standoff\\\":15},\\\"ticks\\\":\\\"\\\",\\\"zerolinecolor\\\":\\\"white\\\",\\\"automargin\\\":true,\\\"linecolor\\\":\\\"white\\\"},\\\"shapedefaults\\\":{\\\"line\\\":{\\\"color\\\":\\\"#2a3f5f\\\"}},\\\"hoverlabel\\\":{\\\"align\\\":\\\"left\\\"},\\\"mapbox\\\":{\\\"style\\\":\\\"light\\\"},\\\"polar\\\":{\\\"angularaxis\\\":{\\\"gridcolor\\\":\\\"white\\\",\\\"ticks\\\":\\\"\\\",\\\"linecolor\\\":\\\"white\\\"},\\\"bgcolor\\\":\\\"#E5ECF6\\\",\\\"radialaxis\\\":{\\\"gridcolor\\\":\\\"white\\\",\\\"ticks\\\":\\\"\\\",\\\"linecolor\\\":\\\"white\\\"}},\\\"autotypenumbers\\\":\\\"strict\\\",\\\"font\\\":{\\\"color\\\":\\\"#2a3f5f\\\"},\\\"ternary\\\":{\\\"baxis\\\":{\\\"gridcolor\\\":\\\"white\\\",\\\"ticks\\\":\\\"\\\",\\\"linecolor\\\":\\\"white\\\"},\\\"bgcolor\\\":\\\"#E5ECF6\\\",\\\"caxis\\\":{\\\"gridcolor\\\":\\\"white\\\",\\\"ticks\\\":\\\"\\\",\\\"linecolor\\\":\\\"white\\\"},\\\"aaxis\\\":{\\\"gridcolor\\\":\\\"white\\\",\\\"ticks\\\":\\\"\\\",\\\"linecolor\\\":\\\"white\\\"}},\\\"annotationdefaults\\\":{\\\"arrowhead\\\":0,\\\"arrowwidth\\\":1,\\\"arrowcolor\\\":\\\"#2a3f5f\\\"},\\\"plot_bgcolor\\\":\\\"#E5ECF6\\\",\\\"title\\\":{\\\"x\\\":0.05},\\\"scene\\\":{\\\"xaxis\\\":{\\\"gridcolor\\\":\\\"white\\\",\\\"gridwidth\\\":2,\\\"backgroundcolor\\\":\\\"#E5ECF6\\\",\\\"ticks\\\":\\\"\\\",\\\"showbackground\\\":true,\\\"zerolinecolor\\\":\\\"white\\\",\\\"linecolor\\\":\\\"white\\\"},\\\"zaxis\\\":{\\\"gridcolor\\\":\\\"white\\\",\\\"gridwidth\\\":2,\\\"backgroundcolor\\\":\\\"#E5ECF6\\\",\\\"ticks\\\":\\\"\\\",\\\"showbackground\\\":true,\\\"zerolinecolor\\\":\\\"white\\\",\\\"linecolor\\\":\\\"white\\\"},\\\"yaxis\\\":{\\\"gridcolor\\\":\\\"white\\\",\\\"gridwidth\\\":2,\\\"backgroundcolor\\\":\\\"#E5ECF6\\\",\\\"ticks\\\":\\\"\\\",\\\"showbackground\\\":true,\\\"zerolinecolor\\\":\\\"white\\\",\\\"linecolor\\\":\\\"white\\\"}},\\\"colorway\\\":[\\\"#636efa\\\",\\\"#EF553B\\\",\\\"#00cc96\\\",\\\"#ab63fa\\\",\\\"#FFA15A\\\",\\\"#19d3f3\\\",\\\"#FF6692\\\",\\\"#B6E880\\\",\\\"#FF97FF\\\",\\\"#FECB52\\\"]},\\\"data\\\":{\\\"barpolar\\\":[{\\\"type\\\":\\\"barpolar\\\",\\\"marker\\\":{\\\"line\\\":{\\\"color\\\":\\\"#E5ECF6\\\",\\\"width\\\":0.5}}}],\\\"carpet\\\":[{\\\"aaxis\\\":{\\\"gridcolor\\\":\\\"white\\\",\\\"endlinecolor\\\":\\\"#2a3f5f\\\",\\\"minorgridcolor\\\":\\\"white\\\",\\\"startlinecolor\\\":\\\"#2a3f5f\\\",\\\"linecolor\\\":\\\"white\\\"},\\\"type\\\":\\\"carpet\\\",\\\"baxis\\\":{\\\"gridcolor\\\":\\\"white\\\",\\\"endlinecolor\\\":\\\"#2a3f5f\\\",\\\"minorgridcolor\\\":\\\"white\\\",\\\"startlinecolor\\\":\\\"#2a3f5f\\\",\\\"linecolor\\\":\\\"white\\\"}}],\\\"scatterpolar\\\":[{\\\"type\\\":\\\"scatterpolar\\\",\\\"marker\\\":{\\\"colorbar\\\":{\\\"ticks\\\":\\\"\\\",\\\"outlinewidth\\\":0}}}],\\\"parcoords\\\":[{\\\"line\\\":{\\\"colorbar\\\":{\\\"ticks\\\":\\\"\\\",\\\"outlinewidth\\\":0}},\\\"type\\\":\\\"parcoords\\\"}],\\\"scatter\\\":[{\\\"type\\\":\\\"scatter\\\",\\\"marker\\\":{\\\"colorbar\\\":{\\\"ticks\\\":\\\"\\\",\\\"outlinewidth\\\":0}}}],\\\"histogram2dcontour\\\":[{\\\"colorbar\\\":{\\\"ticks\\\":\\\"\\\",\\\"outlinewidth\\\":0},\\\"type\\\":\\\"histogram2dcontour\\\",\\\"colorscale\\\":[[0.0,\\\"#0d0887\\\"],[0.1111111111111111,\\\"#46039f\\\"],[0.2222222222222222,\\\"#7201a8\\\"],[0.3333333333333333,\\\"#9c179e\\\"],[0.4444444444444444,\\\"#bd3786\\\"],[0.5555555555555556,\\\"#d8576b\\\"],[0.6666666666666666,\\\"#ed7953\\\"],[0.7777777777777778,\\\"#fb9f3a\\\"],[0.8888888888888888,\\\"#fdca26\\\"],[1.0,\\\"#f0f921\\\"]]}],\\\"contour\\\":[{\\\"colorbar\\\":{\\\"ticks\\\":\\\"\\\",\\\"outlinewidth\\\":0},\\\"type\\\":\\\"contour\\\",\\\"colorscale\\\":[[0.0,\\\"#0d0887\\\"],[0.1111111111111111,\\\"#46039f\\\"],[0.2222222222222222,\\\"#7201a8\\\"],[0.3333333333333333,\\\"#9c179e\\\"],[0.4444444444444444,\\\"#bd3786\\\"],[0.5555555555555556,\\\"#d8576b\\\"],[0.6666666666666666,\\\"#ed7953\\\"],[0.7777777777777778,\\\"#fb9f3a\\\"],[0.8888888888888888,\\\"#fdca26\\\"],[1.0,\\\"#f0f921\\\"]]}],\\\"scattercarpet\\\":[{\\\"type\\\":\\\"scattercarpet\\\",\\\"marker\\\":{\\\"colorbar\\\":{\\\"ticks\\\":\\\"\\\",\\\"outlinewidth\\\":0}}}],\\\"mesh3d\\\":[{\\\"colorbar\\\":{\\\"ticks\\\":\\\"\\\",\\\"outlinewidth\\\":0},\\\"type\\\":\\\"mesh3d\\\"}],\\\"surface\\\":[{\\\"colorbar\\\":{\\\"ticks\\\":\\\"\\\",\\\"outlinewidth\\\":0},\\\"type\\\":\\\"surface\\\",\\\"colorscale\\\":[[0.0,\\\"#0d0887\\\"],[0.1111111111111111,\\\"#46039f\\\"],[0.2222222222222222,\\\"#7201a8\\\"],[0.3333333333333333,\\\"#9c179e\\\"],[0.4444444444444444,\\\"#bd3786\\\"],[0.5555555555555556,\\\"#d8576b\\\"],[0.6666666666666666,\\\"#ed7953\\\"],[0.7777777777777778,\\\"#fb9f3a\\\"],[0.8888888888888888,\\\"#fdca26\\\"],[1.0,\\\"#f0f921\\\"]]}],\\\"scattermapbox\\\":[{\\\"type\\\":\\\"scattermapbox\\\",\\\"marker\\\":{\\\"colorbar\\\":{\\\"ticks\\\":\\\"\\\",\\\"outlinewidth\\\":0}}}],\\\"scattergeo\\\":[{\\\"type\\\":\\\"scattergeo\\\",\\\"marker\\\":{\\\"colorbar\\\":{\\\"ticks\\\":\\\"\\\",\\\"outlinewidth\\\":0}}}],\\\"histogram\\\":[{\\\"type\\\":\\\"histogram\\\",\\\"marker\\\":{\\\"colorbar\\\":{\\\"ticks\\\":\\\"\\\",\\\"outlinewidth\\\":0}}}],\\\"pie\\\":[{\\\"type\\\":\\\"pie\\\",\\\"automargin\\\":true}],\\\"choropleth\\\":[{\\\"colorbar\\\":{\\\"ticks\\\":\\\"\\\",\\\"outlinewidth\\\":0},\\\"type\\\":\\\"choropleth\\\"}],\\\"heatmapgl\\\":[{\\\"colorbar\\\":{\\\"ticks\\\":\\\"\\\",\\\"outlinewidth\\\":0},\\\"type\\\":\\\"heatmapgl\\\",\\\"colorscale\\\":[[0.0,\\\"#0d0887\\\"],[0.1111111111111111,\\\"#46039f\\\"],[0.2222222222222222,\\\"#7201a8\\\"],[0.3333333333333333,\\\"#9c179e\\\"],[0.4444444444444444,\\\"#bd3786\\\"],[0.5555555555555556,\\\"#d8576b\\\"],[0.6666666666666666,\\\"#ed7953\\\"],[0.7777777777777778,\\\"#fb9f3a\\\"],[0.8888888888888888,\\\"#fdca26\\\"],[1.0,\\\"#f0f921\\\"]]}],\\\"bar\\\":[{\\\"type\\\":\\\"bar\\\",\\\"error_y\\\":{\\\"color\\\":\\\"#2a3f5f\\\"},\\\"error_x\\\":{\\\"color\\\":\\\"#2a3f5f\\\"},\\\"marker\\\":{\\\"line\\\":{\\\"color\\\":\\\"#E5ECF6\\\",\\\"width\\\":0.5}}}],\\\"heatmap\\\":[{\\\"colorbar\\\":{\\\"ticks\\\":\\\"\\\",\\\"outlinewidth\\\":0},\\\"type\\\":\\\"heatmap\\\",\\\"colorscale\\\":[[0.0,\\\"#0d0887\\\"],[0.1111111111111111,\\\"#46039f\\\"],[0.2222222222222222,\\\"#7201a8\\\"],[0.3333333333333333,\\\"#9c179e\\\"],[0.4444444444444444,\\\"#bd3786\\\"],[0.5555555555555556,\\\"#d8576b\\\"],[0.6666666666666666,\\\"#ed7953\\\"],[0.7777777777777778,\\\"#fb9f3a\\\"],[0.8888888888888888,\\\"#fdca26\\\"],[1.0,\\\"#f0f921\\\"]]}],\\\"contourcarpet\\\":[{\\\"colorbar\\\":{\\\"ticks\\\":\\\"\\\",\\\"outlinewidth\\\":0},\\\"type\\\":\\\"contourcarpet\\\"}],\\\"table\\\":[{\\\"type\\\":\\\"table\\\",\\\"header\\\":{\\\"line\\\":{\\\"color\\\":\\\"white\\\"},\\\"fill\\\":{\\\"color\\\":\\\"#C8D4E3\\\"}},\\\"cells\\\":{\\\"line\\\":{\\\"color\\\":\\\"white\\\"},\\\"fill\\\":{\\\"color\\\":\\\"#EBF0F8\\\"}}}],\\\"scatter3d\\\":[{\\\"line\\\":{\\\"colorbar\\\":{\\\"ticks\\\":\\\"\\\",\\\"outlinewidth\\\":0}},\\\"type\\\":\\\"scatter3d\\\",\\\"marker\\\":{\\\"colorbar\\\":{\\\"ticks\\\":\\\"\\\",\\\"outlinewidth\\\":0}}}],\\\"scattergl\\\":[{\\\"type\\\":\\\"scattergl\\\",\\\"marker\\\":{\\\"colorbar\\\":{\\\"ticks\\\":\\\"\\\",\\\"outlinewidth\\\":0}}}],\\\"histogram2d\\\":[{\\\"colorbar\\\":{\\\"ticks\\\":\\\"\\\",\\\"outlinewidth\\\":0},\\\"type\\\":\\\"histogram2d\\\",\\\"colorscale\\\":[[0.0,\\\"#0d0887\\\"],[0.1111111111111111,\\\"#46039f\\\"],[0.2222222222222222,\\\"#7201a8\\\"],[0.3333333333333333,\\\"#9c179e\\\"],[0.4444444444444444,\\\"#bd3786\\\"],[0.5555555555555556,\\\"#d8576b\\\"],[0.6666666666666666,\\\"#ed7953\\\"],[0.7777777777777778,\\\"#fb9f3a\\\"],[0.8888888888888888,\\\"#fdca26\\\"],[1.0,\\\"#f0f921\\\"]]}],\\\"scatterternary\\\":[{\\\"type\\\":\\\"scatterternary\\\",\\\"marker\\\":{\\\"colorbar\\\":{\\\"ticks\\\":\\\"\\\",\\\"outlinewidth\\\":0}}}],\\\"scatterpolargl\\\":[{\\\"type\\\":\\\"scatterpolargl\\\",\\\"marker\\\":{\\\"colorbar\\\":{\\\"ticks\\\":\\\"\\\",\\\"outlinewidth\\\":0}}}]}},\\\"margin\\\":{\\\"l\\\":50,\\\"b\\\":50,\\\"r\\\":50,\\\"t\\\":60},\\\"yaxis\\\":{\\\"title\\\":{\\\"text\\\":\\\"Tips\\\"}}},{\\\"showLink\\\":false,\\\"editable\\\":false,\\\"responsive\\\":true,\\\"staticPlot\\\":false,\\\"scrollZoom\\\":true}); gd.on(\\\"plotly_hover\\\",(function (data){var filtered_data=WebIO.PlotlyCommands.filterEventData(gd,data,\\\"hover\\\"); return !(filtered_data.isnil) ? (WebIO.setval({\\\"name\\\":\\\"hover\\\",\\\"scope\\\":\\\"18435873533869277185\\\",\\\"id\\\":\\\"5252330787448654746\\\",\\\"type\\\":\\\"observable\\\"},filtered_data.out)) : undefined})); gd.on(\\\"plotly_unhover\\\",(function (){return WebIO.setval({\\\"name\\\":\\\"hover\\\",\\\"scope\\\":\\\"18435873533869277185\\\",\\\"id\\\":\\\"5252330787448654746\\\",\\\"type\\\":\\\"observable\\\"},{})})); gd.on(\\\"plotly_selected\\\",(function (data){var filtered_data=WebIO.PlotlyCommands.filterEventData(gd,data,\\\"selected\\\"); return !(filtered_data.isnil) ? (WebIO.setval({\\\"name\\\":\\\"selected\\\",\\\"scope\\\":\\\"18435873533869277185\\\",\\\"id\\\":\\\"14443687289808095417\\\",\\\"type\\\":\\\"observable\\\"},filtered_data.out)) : undefined})); gd.on(\\\"plotly_deselect\\\",(function (){return WebIO.setval({\\\"name\\\":\\\"selected\\\",\\\"scope\\\":\\\"18435873533869277185\\\",\\\"id\\\":\\\"14443687289808095417\\\",\\\"type\\\":\\\"observable\\\"},{})})); gd.on(\\\"plotly_relayout\\\",(function (data){var filtered_data=WebIO.PlotlyCommands.filterEventData(gd,data,\\\"relayout\\\"); return !(filtered_data.isnil) ? (WebIO.setval({\\\"name\\\":\\\"relayout\\\",\\\"scope\\\":\\\"18435873533869277185\\\",\\\"id\\\":\\\"3092651512233970691\\\",\\\"type\\\":\\\"observable\\\"},filtered_data.out)) : undefined})); return gd.on(\\\"plotly_click\\\",(function (data){var filtered_data=WebIO.PlotlyCommands.filterEventData(gd,data,\\\"click\\\"); return !(filtered_data.isnil) ? (WebIO.setval({\\\"name\\\":\\\"click\\\",\\\"scope\\\":\\\"18435873533869277185\\\",\\\"id\\\":\\\"12349888919556895473\\\",\\\"type\\\":\\\"observable\\\"},filtered_data.out)) : undefined}))}));\\n    (WebIO.importBlock({\\\"data\\\":[{\\\"name\\\":\\\"Plotly\\\",\\\"type\\\":\\\"js\\\",\\\"url\\\":\\\"\\/assetserver\\/8c9d45313350cf65a3ec624b1245e5f2464600dc-plotly.min.js\\\"},{\\\"name\\\":null,\\\"type\\\":\\\"js\\\",\\\"url\\\":\\\"\\/assetserver\\/cae4c779f4eb480f3fffa6b4e72fc8efdacf807c-plotly_webio.bundle.js\\\"}],\\\"type\\\":\\\"async_block\\\"})).then((imports) => handler.apply(this, imports));\\n}\\n\"],\"observables\":{\"_toImage\":{\"sync\":false,\"id\":\"18354454883087790660\",\"value\":{}},\"hover\":{\"sync\":false,\"id\":\"5252330787448654746\",\"value\":{}},\"selected\":{\"sync\":false,\"id\":\"14443687289808095417\",\"value\":{}},\"__gd_contents\":{\"sync\":false,\"id\":\"5463607611886056688\",\"value\":{}},\"click\":{\"sync\":false,\"id\":\"12349888919556895473\",\"value\":{}},\"image\":{\"sync\":true,\"id\":\"10774674407776330352\",\"value\":\"\"},\"__get_gd_contents\":{\"sync\":false,\"id\":\"9877838319878647453\",\"value\":\"\"},\"_downloadImage\":{\"sync\":false,\"id\":\"9124737027755250876\",\"value\":{}},\"relayout\":{\"sync\":false,\"id\":\"3092651512233970691\",\"value\":{}},\"_commands\":{\"sync\":false,\"id\":\"10104810853198490123\",\"value\":[]}}},\"children\":[{\"props\":{\"id\":\"plot-4e726094-97fa-46e4-874a-86f648eb1d07\"},\"nodeType\":\"DOM\",\"type\":\"node\",\"instanceArgs\":{\"namespace\":\"html\",\"tag\":\"div\"},\"children\":[]}]},\n",
       "        window,\n",
       "    );\n",
       "    })()\n",
       "    </script>\n",
       "</div>\n"
      ],
      "text/plain": [
       "data: [\n",
       "  \"scatter with fields mode, name, opacity, type, x, and y\",\n",
       "  \"scatter with fields line, mode, name, type, x, and y\"\n",
       "]\n",
       "\n",
       "layout: \"layout with fields font, margin, template, xaxis, and yaxis\"\n",
       "\n"
      ]
     },
     "execution_count": 7,
     "metadata": {},
     "output_type": "execute_result"
    }
   ],
   "source": [
    "# Import Packages:\n",
    "using CSV, Downloads, DataFrames, PlotlyJS, GLM\n",
    "\n",
    "function plot_linear_regression_glm_tips()\n",
    "    tips = DataFrame(CSV.File(Downloads.download(\"https://git.io/J6x4j\")))\n",
    "    \n",
    "    scatter_trace = scatter(tips; x=:bill, y=:tip, mode=\"markers\", opacity=0.65, name=\"Tips\")    \n",
    "    \n",
    "    linear_model = lm(@formula(tip ~ bill), tips)\n",
    "    insertcols!(tips, :lr_tips => GLM.predict(linear_model, tips))\n",
    "\n",
    "    regression_trace = scatter(tips; x=:bill, y=:lr_tips, \n",
    "                               mode = \"lines\", line_color = \"darkblue\", name=\"Linear Regression\")\n",
    "    \n",
    "    layout = Layout(xaxis_title=\"Total Bill\", yaxis_title=\"Tips\",\n",
    "                    font=attr(family=\"Times New Roman\", size=14,color=\"Black\"))\n",
    "    \n",
    "    plot([scatter_trace,regression_trace], layout)\n",
    "end\n",
    "\n",
    "plot_linear_regression_glm_tips()"
   ]
  },
  {
   "cell_type": "markdown",
   "id": "4eecb053",
   "metadata": {},
   "source": [
    "## Ordinary Least Square with ScikitLearn.jl"
   ]
  },
  {
   "cell_type": "markdown",
   "id": "d1cf2015",
   "metadata": {},
   "source": [
    "Julia offers an interface to the Scikit-learn library from Python as **ScikitLearn.jl**. \n",
    "With some minor changes, one can follow the previous section, but using **ScikitLearn.jl**."
   ]
  },
  {
   "cell_type": "code",
   "execution_count": 8,
   "id": "0b3500d6",
   "metadata": {},
   "outputs": [
    {
     "data": {
      "application/vnd.plotly.v1+json": {
       "config": {
        "editable": false,
        "responsive": true,
        "scrollZoom": true,
        "showLink": false,
        "staticPlot": false
       },
       "data": [
        {
         "mode": "markers",
         "name": "Tips",
         "opacity": 0.65,
         "type": "scatter",
         "x": [
          17.99,
          26.05,
          79.49,
          32.69,
          29.97,
          23.91,
          18.18,
          41.23,
          25.19,
          19.22,
          20.6,
          30.15,
          31.03,
          124.44,
          69.4,
          23.45,
          19.75,
          39.88,
          21.19,
          17.83,
          91.43,
          78.18,
          53.04,
          26.75,
          15.23,
          28.05,
          10.99,
          71.47,
          24.71,
          66.48,
          53.39,
          38.88,
          60.17,
          124.9,
          24.82,
          35.71,
          75.12,
          8.31,
          14.57,
          20.07,
          64.25,
          22.38,
          30.21,
          23.27,
          22.36,
          18.65,
          32.33,
          34.35,
          23.78,
          19.68,
          20.82,
          96.11,
          15.14,
          36.77,
          59.97,
          27.33,
          30.99,
          35.12,
          117.15,
          144.18,
          21.37,
          32.45,
          25.05,
          42.51,
          10.91,
          33.72,
          25.21,
          19.08,
          141.76,
          93.37,
          101.26,
          42.81,
          4.98,
          28.17,
          5.55,
          60.47,
          24.67,
          17.77,
          13.67,
          23.25,
          31.38,
          42.55,
          39.13,
          38.77,
          10,
          72.84,
          29.07,
          14.83,
          18.31,
          64.93,
          25.04,
          76.27,
          24.21,
          34.05,
          115.39
         ],
         "y": [
          2,
          4,
          14.3082,
          5.5,
          6,
          7.5,
          3.06,
          8.5,
          8.5,
          3,
          5,
          3.5,
          3,
          22.3992,
          18,
          8.5,
          2.5,
          7.5,
          5,
          2.25,
          16.4574,
          14.0724,
          7.57,
          0,
          2.81,
          3,
          2,
          12.8646,
          3,
          16,
          7,
          2.9,
          7,
          22.482,
          6,
          6,
          13.5216,
          1.5,
          7,
          3,
          5.5,
          3.25,
          6,
          2,
          3.5,
          6,
          3.5,
          7.32,
          9.5,
          3,
          3.5,
          17.2998,
          2.5,
          4,
          9,
          4,
          3.25,
          6,
          21.087,
          25.9524,
          6,
          5.5,
          4,
          6.5,
          3,
          7.75,
          6,
          4,
          25.5168,
          16.8066,
          18.2268,
          5,
          0.5,
          7.5,
          0.75,
          15,
          6,
          0.75,
          3.5,
          7,
          8,
          6,
          6,
          4,
          3.5,
          11.5,
          7,
          1.5,
          1,
          7,
          6,
          13,
          3.75,
          8.5,
          20.7702
         ]
        },
        {
         "line": {
          "color": "darkblue"
         },
         "mode": "lines",
         "name": "Linear Regression",
         "type": "scatter",
         "x": [
          17.99,
          26.05,
          79.49,
          32.69,
          29.97,
          23.91,
          18.18,
          41.23,
          25.19,
          19.22,
          20.6,
          30.15,
          31.03,
          124.44,
          69.4,
          23.45,
          19.75,
          39.88,
          21.19,
          17.83,
          91.43,
          78.18,
          53.04,
          26.75,
          15.23,
          28.05,
          10.99,
          71.47,
          24.71,
          66.48,
          53.39,
          38.88,
          60.17,
          124.9,
          24.82,
          35.71,
          75.12,
          8.31,
          14.57,
          20.07,
          64.25,
          22.38,
          30.21,
          23.27,
          22.36,
          18.65,
          32.33,
          34.35,
          23.78,
          19.68,
          20.82,
          96.11,
          15.14,
          36.77,
          59.97,
          27.33,
          30.99,
          35.12,
          117.15,
          144.18,
          21.37,
          32.45,
          25.05,
          42.51,
          10.91,
          33.72,
          25.21,
          19.08,
          141.76,
          93.37,
          101.26,
          42.81,
          4.98,
          28.17,
          5.55,
          60.47,
          24.67,
          17.77,
          13.67,
          23.25,
          31.38,
          42.55,
          39.13,
          38.77,
          10,
          72.84,
          29.07,
          14.83,
          18.31,
          64.93,
          25.04,
          76.27,
          24.21,
          34.05,
          115.39
         ],
         "y": [
          3.279983433394942,
          4.689712254011632,
          14.036599124204669,
          5.851076939978731,
          5.375337189100643,
          4.315417008835489,
          3.313215254228338,
          7.344759834279789,
          4.539294538660472,
          3.4951157472111367,
          3.736483709053697,
          5.4068199667322805,
          5.560735768486957,
          21.898548316105437,
          12.271814533631172,
          4.234961021554636,
          3.587815036904294,
          7.108639002042503,
          3.8396772579574,
          3.251998742166819,
          16.12495670710334,
          13.807474464774415,
          9.41037985555561,
          4.81214527813467,
          2.797247509709823,
          5.039520894363168,
          2.055653192164567,
          12.633866476395012,
          4.4553404649761035,
          11.76109391871793,
          9.471596367617128,
          6.933734681866735,
          10.657447658408834,
          21.97900430338629,
          4.474579940195437,
          6.37928798690955,
          13.272267245036565,
          1.5869096140935088,
          2.681810658393816,
          3.6437844193605398,
          11.371057284725968,
          4.0478133989665634,
          5.417314225942827,
          4.203478243922997,
          4.044315312563048,
          3.3954202847109487,
          5.788111384715455,
          6.141418111470506,
          4.292679447212639,
          3.57557173449199,
          3.7749626594923655,
          16.943508925525933,
          2.781506120894004,
          6.564686566295865,
          10.62246679437368,
          4.913589783836615,
          5.553739595679925,
          6.276094438005847,
          20.62349582202409,
          25.351159596375098,
          3.871160035589038,
          5.809099903136548,
          4.514807933835864,
          7.568637364104772,
          2.0416608465505055,
          6.031228389759772,
          4.542792625063988,
          3.470629142386529,
          24.927891141549736,
          16.464271088244328,
          17.844266174431137,
          7.621108660157503,
          1.0044782279082016,
          5.060509412784261,
          1.1041736904083892,
          10.709918954461564,
          4.448344292169073,
          3.241504482956273,
          2.524396770235625,
          4.199980157519482,
          5.621952280548475,
          7.575633536911803,
          6.977460761910677,
          6.914495206647401,
          1.8824979151905565,
          12.873485395035814,
          5.217923300942451,
          2.7272857816395155,
          3.3359528158511877,
          11.48999222244549,
          4.513058890634106,
          13.473407213238698,
          4.367888304888219,
          6.088946815417775,
          20.315664218514737
         ]
        }
       ],
       "frames": [],
       "layout": {
        "font": {
         "color": "Black",
         "family": "Times New Roman",
         "size": 14
        },
        "margin": {
         "b": 50,
         "l": 50,
         "r": 50,
         "t": 60
        },
        "template": {
         "data": {
          "bar": [
           {
            "error_x": {
             "color": "#2a3f5f"
            },
            "error_y": {
             "color": "#2a3f5f"
            },
            "marker": {
             "line": {
              "color": "#E5ECF6",
              "width": 0.5
             }
            },
            "type": "bar"
           }
          ],
          "barpolar": [
           {
            "marker": {
             "line": {
              "color": "#E5ECF6",
              "width": 0.5
             }
            },
            "type": "barpolar"
           }
          ],
          "carpet": [
           {
            "aaxis": {
             "endlinecolor": "#2a3f5f",
             "gridcolor": "white",
             "linecolor": "white",
             "minorgridcolor": "white",
             "startlinecolor": "#2a3f5f"
            },
            "baxis": {
             "endlinecolor": "#2a3f5f",
             "gridcolor": "white",
             "linecolor": "white",
             "minorgridcolor": "white",
             "startlinecolor": "#2a3f5f"
            },
            "type": "carpet"
           }
          ],
          "choropleth": [
           {
            "colorbar": {
             "outlinewidth": 0,
             "ticks": ""
            },
            "type": "choropleth"
           }
          ],
          "contour": [
           {
            "colorbar": {
             "outlinewidth": 0,
             "ticks": ""
            },
            "colorscale": [
             [
              0,
              "#0d0887"
             ],
             [
              0.1111111111111111,
              "#46039f"
             ],
             [
              0.2222222222222222,
              "#7201a8"
             ],
             [
              0.3333333333333333,
              "#9c179e"
             ],
             [
              0.4444444444444444,
              "#bd3786"
             ],
             [
              0.5555555555555556,
              "#d8576b"
             ],
             [
              0.6666666666666666,
              "#ed7953"
             ],
             [
              0.7777777777777778,
              "#fb9f3a"
             ],
             [
              0.8888888888888888,
              "#fdca26"
             ],
             [
              1,
              "#f0f921"
             ]
            ],
            "type": "contour"
           }
          ],
          "contourcarpet": [
           {
            "colorbar": {
             "outlinewidth": 0,
             "ticks": ""
            },
            "type": "contourcarpet"
           }
          ],
          "heatmap": [
           {
            "colorbar": {
             "outlinewidth": 0,
             "ticks": ""
            },
            "colorscale": [
             [
              0,
              "#0d0887"
             ],
             [
              0.1111111111111111,
              "#46039f"
             ],
             [
              0.2222222222222222,
              "#7201a8"
             ],
             [
              0.3333333333333333,
              "#9c179e"
             ],
             [
              0.4444444444444444,
              "#bd3786"
             ],
             [
              0.5555555555555556,
              "#d8576b"
             ],
             [
              0.6666666666666666,
              "#ed7953"
             ],
             [
              0.7777777777777778,
              "#fb9f3a"
             ],
             [
              0.8888888888888888,
              "#fdca26"
             ],
             [
              1,
              "#f0f921"
             ]
            ],
            "type": "heatmap"
           }
          ],
          "heatmapgl": [
           {
            "colorbar": {
             "outlinewidth": 0,
             "ticks": ""
            },
            "colorscale": [
             [
              0,
              "#0d0887"
             ],
             [
              0.1111111111111111,
              "#46039f"
             ],
             [
              0.2222222222222222,
              "#7201a8"
             ],
             [
              0.3333333333333333,
              "#9c179e"
             ],
             [
              0.4444444444444444,
              "#bd3786"
             ],
             [
              0.5555555555555556,
              "#d8576b"
             ],
             [
              0.6666666666666666,
              "#ed7953"
             ],
             [
              0.7777777777777778,
              "#fb9f3a"
             ],
             [
              0.8888888888888888,
              "#fdca26"
             ],
             [
              1,
              "#f0f921"
             ]
            ],
            "type": "heatmapgl"
           }
          ],
          "histogram": [
           {
            "marker": {
             "colorbar": {
              "outlinewidth": 0,
              "ticks": ""
             }
            },
            "type": "histogram"
           }
          ],
          "histogram2d": [
           {
            "colorbar": {
             "outlinewidth": 0,
             "ticks": ""
            },
            "colorscale": [
             [
              0,
              "#0d0887"
             ],
             [
              0.1111111111111111,
              "#46039f"
             ],
             [
              0.2222222222222222,
              "#7201a8"
             ],
             [
              0.3333333333333333,
              "#9c179e"
             ],
             [
              0.4444444444444444,
              "#bd3786"
             ],
             [
              0.5555555555555556,
              "#d8576b"
             ],
             [
              0.6666666666666666,
              "#ed7953"
             ],
             [
              0.7777777777777778,
              "#fb9f3a"
             ],
             [
              0.8888888888888888,
              "#fdca26"
             ],
             [
              1,
              "#f0f921"
             ]
            ],
            "type": "histogram2d"
           }
          ],
          "histogram2dcontour": [
           {
            "colorbar": {
             "outlinewidth": 0,
             "ticks": ""
            },
            "colorscale": [
             [
              0,
              "#0d0887"
             ],
             [
              0.1111111111111111,
              "#46039f"
             ],
             [
              0.2222222222222222,
              "#7201a8"
             ],
             [
              0.3333333333333333,
              "#9c179e"
             ],
             [
              0.4444444444444444,
              "#bd3786"
             ],
             [
              0.5555555555555556,
              "#d8576b"
             ],
             [
              0.6666666666666666,
              "#ed7953"
             ],
             [
              0.7777777777777778,
              "#fb9f3a"
             ],
             [
              0.8888888888888888,
              "#fdca26"
             ],
             [
              1,
              "#f0f921"
             ]
            ],
            "type": "histogram2dcontour"
           }
          ],
          "mesh3d": [
           {
            "colorbar": {
             "outlinewidth": 0,
             "ticks": ""
            },
            "type": "mesh3d"
           }
          ],
          "parcoords": [
           {
            "line": {
             "colorbar": {
              "outlinewidth": 0,
              "ticks": ""
             }
            },
            "type": "parcoords"
           }
          ],
          "pie": [
           {
            "automargin": true,
            "type": "pie"
           }
          ],
          "scatter": [
           {
            "marker": {
             "colorbar": {
              "outlinewidth": 0,
              "ticks": ""
             }
            },
            "type": "scatter"
           }
          ],
          "scatter3d": [
           {
            "line": {
             "colorbar": {
              "outlinewidth": 0,
              "ticks": ""
             }
            },
            "marker": {
             "colorbar": {
              "outlinewidth": 0,
              "ticks": ""
             }
            },
            "type": "scatter3d"
           }
          ],
          "scattercarpet": [
           {
            "marker": {
             "colorbar": {
              "outlinewidth": 0,
              "ticks": ""
             }
            },
            "type": "scattercarpet"
           }
          ],
          "scattergeo": [
           {
            "marker": {
             "colorbar": {
              "outlinewidth": 0,
              "ticks": ""
             }
            },
            "type": "scattergeo"
           }
          ],
          "scattergl": [
           {
            "marker": {
             "colorbar": {
              "outlinewidth": 0,
              "ticks": ""
             }
            },
            "type": "scattergl"
           }
          ],
          "scattermapbox": [
           {
            "marker": {
             "colorbar": {
              "outlinewidth": 0,
              "ticks": ""
             }
            },
            "type": "scattermapbox"
           }
          ],
          "scatterpolar": [
           {
            "marker": {
             "colorbar": {
              "outlinewidth": 0,
              "ticks": ""
             }
            },
            "type": "scatterpolar"
           }
          ],
          "scatterpolargl": [
           {
            "marker": {
             "colorbar": {
              "outlinewidth": 0,
              "ticks": ""
             }
            },
            "type": "scatterpolargl"
           }
          ],
          "scatterternary": [
           {
            "marker": {
             "colorbar": {
              "outlinewidth": 0,
              "ticks": ""
             }
            },
            "type": "scatterternary"
           }
          ],
          "surface": [
           {
            "colorbar": {
             "outlinewidth": 0,
             "ticks": ""
            },
            "colorscale": [
             [
              0,
              "#0d0887"
             ],
             [
              0.1111111111111111,
              "#46039f"
             ],
             [
              0.2222222222222222,
              "#7201a8"
             ],
             [
              0.3333333333333333,
              "#9c179e"
             ],
             [
              0.4444444444444444,
              "#bd3786"
             ],
             [
              0.5555555555555556,
              "#d8576b"
             ],
             [
              0.6666666666666666,
              "#ed7953"
             ],
             [
              0.7777777777777778,
              "#fb9f3a"
             ],
             [
              0.8888888888888888,
              "#fdca26"
             ],
             [
              1,
              "#f0f921"
             ]
            ],
            "type": "surface"
           }
          ],
          "table": [
           {
            "cells": {
             "fill": {
              "color": "#EBF0F8"
             },
             "line": {
              "color": "white"
             }
            },
            "header": {
             "fill": {
              "color": "#C8D4E3"
             },
             "line": {
              "color": "white"
             }
            },
            "type": "table"
           }
          ]
         },
         "layout": {
          "annotationdefaults": {
           "arrowcolor": "#2a3f5f",
           "arrowhead": 0,
           "arrowwidth": 1
          },
          "autotypenumbers": "strict",
          "coloraxis": {
           "colorbar": {
            "outlinewidth": 0,
            "ticks": ""
           }
          },
          "colorscale": {
           "diverging": [
            [
             0,
             "#8e0152"
            ],
            [
             0.1,
             "#c51b7d"
            ],
            [
             0.2,
             "#de77ae"
            ],
            [
             0.3,
             "#f1b6da"
            ],
            [
             0.4,
             "#fde0ef"
            ],
            [
             0.5,
             "#f7f7f7"
            ],
            [
             0.6,
             "#e6f5d0"
            ],
            [
             0.7,
             "#b8e186"
            ],
            [
             0.8,
             "#7fbc41"
            ],
            [
             0.9,
             "#4d9221"
            ],
            [
             1,
             "#276419"
            ]
           ],
           "sequential": [
            [
             0,
             "#0d0887"
            ],
            [
             0.1111111111111111,
             "#46039f"
            ],
            [
             0.2222222222222222,
             "#7201a8"
            ],
            [
             0.3333333333333333,
             "#9c179e"
            ],
            [
             0.4444444444444444,
             "#bd3786"
            ],
            [
             0.5555555555555556,
             "#d8576b"
            ],
            [
             0.6666666666666666,
             "#ed7953"
            ],
            [
             0.7777777777777778,
             "#fb9f3a"
            ],
            [
             0.8888888888888888,
             "#fdca26"
            ],
            [
             1,
             "#f0f921"
            ]
           ],
           "sequentialminus": [
            [
             0,
             "#0d0887"
            ],
            [
             0.1111111111111111,
             "#46039f"
            ],
            [
             0.2222222222222222,
             "#7201a8"
            ],
            [
             0.3333333333333333,
             "#9c179e"
            ],
            [
             0.4444444444444444,
             "#bd3786"
            ],
            [
             0.5555555555555556,
             "#d8576b"
            ],
            [
             0.6666666666666666,
             "#ed7953"
            ],
            [
             0.7777777777777778,
             "#fb9f3a"
            ],
            [
             0.8888888888888888,
             "#fdca26"
            ],
            [
             1,
             "#f0f921"
            ]
           ]
          },
          "colorway": [
           "#636efa",
           "#EF553B",
           "#00cc96",
           "#ab63fa",
           "#FFA15A",
           "#19d3f3",
           "#FF6692",
           "#B6E880",
           "#FF97FF",
           "#FECB52"
          ],
          "font": {
           "color": "#2a3f5f"
          },
          "geo": {
           "bgcolor": "white",
           "lakecolor": "white",
           "landcolor": "#E5ECF6",
           "showlakes": true,
           "showland": true,
           "subunitcolor": "white"
          },
          "hoverlabel": {
           "align": "left"
          },
          "hovermode": "closest",
          "mapbox": {
           "style": "light"
          },
          "paper_bgcolor": "white",
          "plot_bgcolor": "#E5ECF6",
          "polar": {
           "angularaxis": {
            "gridcolor": "white",
            "linecolor": "white",
            "ticks": ""
           },
           "bgcolor": "#E5ECF6",
           "radialaxis": {
            "gridcolor": "white",
            "linecolor": "white",
            "ticks": ""
           }
          },
          "scene": {
           "xaxis": {
            "backgroundcolor": "#E5ECF6",
            "gridcolor": "white",
            "gridwidth": 2,
            "linecolor": "white",
            "showbackground": true,
            "ticks": "",
            "zerolinecolor": "white"
           },
           "yaxis": {
            "backgroundcolor": "#E5ECF6",
            "gridcolor": "white",
            "gridwidth": 2,
            "linecolor": "white",
            "showbackground": true,
            "ticks": "",
            "zerolinecolor": "white"
           },
           "zaxis": {
            "backgroundcolor": "#E5ECF6",
            "gridcolor": "white",
            "gridwidth": 2,
            "linecolor": "white",
            "showbackground": true,
            "ticks": "",
            "zerolinecolor": "white"
           }
          },
          "shapedefaults": {
           "line": {
            "color": "#2a3f5f"
           }
          },
          "ternary": {
           "aaxis": {
            "gridcolor": "white",
            "linecolor": "white",
            "ticks": ""
           },
           "baxis": {
            "gridcolor": "white",
            "linecolor": "white",
            "ticks": ""
           },
           "bgcolor": "#E5ECF6",
           "caxis": {
            "gridcolor": "white",
            "linecolor": "white",
            "ticks": ""
           }
          },
          "title": {
           "x": 0.05
          },
          "xaxis": {
           "automargin": true,
           "gridcolor": "white",
           "linecolor": "white",
           "ticks": "",
           "title": {
            "standoff": 15
           },
           "zerolinecolor": "white",
           "zerolinewidth": 2
          },
          "yaxis": {
           "automargin": true,
           "gridcolor": "white",
           "linecolor": "white",
           "ticks": "",
           "title": {
            "standoff": 15
           },
           "zerolinecolor": "white",
           "zerolinewidth": 2
          }
         }
        },
        "xaxis": {
         "title": {
          "text": "Total Bill"
         }
        },
        "yaxis": {
         "title": {
          "text": "Tips"
         }
        }
       }
      },
      "text/html": [
       "<div\n",
       "    class=\"webio-mountpoint\"\n",
       "    data-webio-mountpoint=\"2572939647251358540\"\n",
       ">\n",
       "    <script>\n",
       "    (function(){\n",
       "    // Some integrations (namely, IJulia/Jupyter) use an alternate render pathway than\n",
       "    // just putting the html on the page. If WebIO isn't defined, then it's pretty likely\n",
       "    // that we're in one of those situations and the integration just isn't installed\n",
       "    // correctly.\n",
       "    if (typeof window.WebIO === \"undefined\") {\n",
       "        document\n",
       "            .querySelector('[data-webio-mountpoint=\"2572939647251358540\"]')\n",
       "            .innerHTML = (\n",
       "                '<div style=\"padding: 1em; background-color: #f8d6da; border: 1px solid #f5c6cb; font-weight: bold;\">' +\n",
       "                '<p><strong>WebIO not detected.</strong></p>' +\n",
       "                '<p>Please read ' +\n",
       "                '<a href=\"https://juliagizmos.github.io/WebIO.jl/latest/troubleshooting/not-detected/\" target=\"_blank\">the troubleshooting guide</a> ' +\n",
       "                'for more information on how to resolve this issue.</p>' +\n",
       "                '<p><a href=\"https://juliagizmos.github.io/WebIO.jl/latest/troubleshooting/not-detected/\" target=\"_blank\">https://juliagizmos.github.io/WebIO.jl/latest/troubleshooting/not-detected/</a></p>' +\n",
       "                '</div>'\n",
       "            );\n",
       "        return;\n",
       "    }\n",
       "    WebIO.mount(\n",
       "        document.querySelector('[data-webio-mountpoint=\"2572939647251358540\"]'),\n",
       "        {\"props\":{},\"nodeType\":\"Scope\",\"type\":\"node\",\"instanceArgs\":{\"imports\":{\"data\":[{\"name\":\"Plotly\",\"type\":\"js\",\"url\":\"\\/assetserver\\/8c9d45313350cf65a3ec624b1245e5f2464600dc-plotly.min.js\"},{\"name\":null,\"type\":\"js\",\"url\":\"\\/assetserver\\/cae4c779f4eb480f3fffa6b4e72fc8efdacf807c-plotly_webio.bundle.js\"}],\"type\":\"async_block\"},\"id\":\"12146692323831478212\",\"handlers\":{\"_toImage\":[\"(function (options){return this.Plotly.toImage(this.plotElem,options).then((function (data){return WebIO.setval({\\\"name\\\":\\\"image\\\",\\\"scope\\\":\\\"12146692323831478212\\\",\\\"id\\\":\\\"2091833969893045063\\\",\\\"type\\\":\\\"observable\\\"},data)}))})\"],\"__get_gd_contents\":[\"(function (prop){prop==\\\"data\\\" ? (WebIO.setval({\\\"name\\\":\\\"__gd_contents\\\",\\\"scope\\\":\\\"12146692323831478212\\\",\\\"id\\\":\\\"13672881582183164512\\\",\\\"type\\\":\\\"observable\\\"},this.plotElem.data)) : undefined; return prop==\\\"layout\\\" ? (WebIO.setval({\\\"name\\\":\\\"__gd_contents\\\",\\\"scope\\\":\\\"12146692323831478212\\\",\\\"id\\\":\\\"13672881582183164512\\\",\\\"type\\\":\\\"observable\\\"},this.plotElem.layout)) : undefined})\"],\"_downloadImage\":[\"(function (options){return this.Plotly.downloadImage(this.plotElem,options)})\"],\"_commands\":[\"(function (args){var fn=args.shift(); var elem=this.plotElem; var Plotly=this.Plotly; args.unshift(elem); return Plotly[fn].apply(this,args)})\"]},\"systemjs_options\":null,\"mount_callbacks\":[\"function () {\\n    var handler = ((function (Plotly,PlotlyWebIO){PlotlyWebIO.init(WebIO); var gd=this.dom.querySelector(\\\"#plot-7a4a029b-fe2e-47d2-8418-2ba2319a81ee\\\"); this.plotElem=gd; this.Plotly=Plotly; (window.Blink!==undefined) ? (gd.style.width=\\\"100%\\\", gd.style.height=\\\"100vh\\\", gd.style.marginLeft=\\\"0%\\\", gd.style.marginTop=\\\"0vh\\\") : undefined; window.onresize=(function (){return Plotly.Plots.resize(gd)}); Plotly.newPlot(gd,[{\\\"mode\\\":\\\"markers\\\",\\\"y\\\":[2.0,4.0,14.3082,5.5,6.0,7.5,3.06,8.5,8.5,3.0,5.0,3.5,3.0,22.3992,18.0,8.5,2.5,7.5,5.0,2.25,16.4574,14.0724,7.57,0.0,2.81,3.0,2.0,12.8646,3.0,16.0,7.0,2.9,7.0,22.482,6.0,6.0,13.5216,1.5,7.0,3.0,5.5,3.25,6.0,2.0,3.5,6.0,3.5,7.32,9.5,3.0,3.5,17.2998,2.5,4.0,9.0,4.0,3.25,6.0,21.087,25.9524,6.0,5.5,4.0,6.5,3.0,7.75,6.0,4.0,25.5168,16.8066,18.2268,5.0,0.5,7.5,0.75,15.0,6.0,0.75,3.5,7.0,8.0,6.0,6.0,4.0,3.5,11.5,7.0,1.5,1.0,7.0,6.0,13.0,3.75,8.5,20.7702],\\\"type\\\":\\\"scatter\\\",\\\"name\\\":\\\"Tips\\\",\\\"opacity\\\":0.65,\\\"x\\\":[17.99,26.05,79.49,32.69,29.97,23.91,18.18,41.23,25.19,19.22,20.6,30.15,31.03,124.44,69.4,23.45,19.75,39.88,21.19,17.83,91.43,78.18,53.04,26.75,15.23,28.05,10.99,71.47,24.71,66.48,53.39,38.88,60.17,124.9,24.82,35.71,75.12,8.31,14.57,20.07,64.25,22.38,30.21,23.27,22.36,18.65,32.33,34.35,23.78,19.68,20.82,96.11,15.14,36.77,59.97,27.33,30.99,35.12,117.15,144.18,21.37,32.45,25.05,42.51,10.91,33.72,25.21,19.08,141.76,93.37,101.26,42.81,4.98,28.17,5.55,60.47,24.67,17.77,13.67,23.25,31.38,42.55,39.13,38.77,10.0,72.84,29.07,14.83,18.31,64.93,25.04,76.27,24.21,34.05,115.39]},{\\\"mode\\\":\\\"lines\\\",\\\"line\\\":{\\\"color\\\":\\\"darkblue\\\"},\\\"y\\\":[3.279983433394942,4.689712254011632,14.036599124204669,5.851076939978731,5.375337189100643,4.315417008835489,3.313215254228338,7.344759834279789,4.539294538660472,3.4951157472111367,3.736483709053697,5.4068199667322805,5.560735768486957,21.898548316105437,12.271814533631172,4.234961021554636,3.587815036904294,7.108639002042503,3.8396772579574,3.251998742166819,16.12495670710334,13.807474464774415,9.41037985555561,4.81214527813467,2.797247509709823,5.039520894363168,2.055653192164567,12.633866476395012,4.4553404649761035,11.76109391871793,9.471596367617128,6.933734681866735,10.657447658408834,21.97900430338629,4.474579940195437,6.37928798690955,13.272267245036565,1.5869096140935088,2.681810658393816,3.6437844193605398,11.371057284725968,4.0478133989665634,5.417314225942827,4.203478243922997,4.044315312563048,3.3954202847109487,5.788111384715455,6.141418111470506,4.292679447212639,3.57557173449199,3.7749626594923655,16.943508925525933,2.781506120894004,6.564686566295865,10.62246679437368,4.913589783836615,5.553739595679925,6.276094438005847,20.62349582202409,25.351159596375098,3.871160035589038,5.809099903136548,4.514807933835864,7.568637364104772,2.0416608465505055,6.031228389759772,4.542792625063988,3.470629142386529,24.927891141549736,16.464271088244328,17.844266174431137,7.621108660157503,1.0044782279082016,5.060509412784261,1.1041736904083892,10.709918954461564,4.448344292169073,3.241504482956273,2.524396770235625,4.199980157519482,5.621952280548475,7.575633536911803,6.977460761910677,6.914495206647401,1.8824979151905565,12.873485395035814,5.217923300942451,2.7272857816395155,3.3359528158511877,11.48999222244549,4.513058890634106,13.473407213238698,4.367888304888219,6.088946815417775,20.315664218514737],\\\"type\\\":\\\"scatter\\\",\\\"name\\\":\\\"Linear Regression\\\",\\\"x\\\":[17.99,26.05,79.49,32.69,29.97,23.91,18.18,41.23,25.19,19.22,20.6,30.15,31.03,124.44,69.4,23.45,19.75,39.88,21.19,17.83,91.43,78.18,53.04,26.75,15.23,28.05,10.99,71.47,24.71,66.48,53.39,38.88,60.17,124.9,24.82,35.71,75.12,8.31,14.57,20.07,64.25,22.38,30.21,23.27,22.36,18.65,32.33,34.35,23.78,19.68,20.82,96.11,15.14,36.77,59.97,27.33,30.99,35.12,117.15,144.18,21.37,32.45,25.05,42.51,10.91,33.72,25.21,19.08,141.76,93.37,101.26,42.81,4.98,28.17,5.55,60.47,24.67,17.77,13.67,23.25,31.38,42.55,39.13,38.77,10.0,72.84,29.07,14.83,18.31,64.93,25.04,76.27,24.21,34.05,115.39]}],{\\\"xaxis\\\":{\\\"title\\\":{\\\"text\\\":\\\"Total Bill\\\"}},\\\"font\\\":{\\\"color\\\":\\\"Black\\\",\\\"family\\\":\\\"Times New Roman\\\",\\\"size\\\":14},\\\"template\\\":{\\\"layout\\\":{\\\"coloraxis\\\":{\\\"colorbar\\\":{\\\"ticks\\\":\\\"\\\",\\\"outlinewidth\\\":0}},\\\"xaxis\\\":{\\\"gridcolor\\\":\\\"white\\\",\\\"zerolinewidth\\\":2,\\\"title\\\":{\\\"standoff\\\":15},\\\"ticks\\\":\\\"\\\",\\\"zerolinecolor\\\":\\\"white\\\",\\\"automargin\\\":true,\\\"linecolor\\\":\\\"white\\\"},\\\"hovermode\\\":\\\"closest\\\",\\\"paper_bgcolor\\\":\\\"white\\\",\\\"geo\\\":{\\\"showlakes\\\":true,\\\"showland\\\":true,\\\"landcolor\\\":\\\"#E5ECF6\\\",\\\"bgcolor\\\":\\\"white\\\",\\\"subunitcolor\\\":\\\"white\\\",\\\"lakecolor\\\":\\\"white\\\"},\\\"colorscale\\\":{\\\"sequential\\\":[[0.0,\\\"#0d0887\\\"],[0.1111111111111111,\\\"#46039f\\\"],[0.2222222222222222,\\\"#7201a8\\\"],[0.3333333333333333,\\\"#9c179e\\\"],[0.4444444444444444,\\\"#bd3786\\\"],[0.5555555555555556,\\\"#d8576b\\\"],[0.6666666666666666,\\\"#ed7953\\\"],[0.7777777777777778,\\\"#fb9f3a\\\"],[0.8888888888888888,\\\"#fdca26\\\"],[1.0,\\\"#f0f921\\\"]],\\\"diverging\\\":[[0,\\\"#8e0152\\\"],[0.1,\\\"#c51b7d\\\"],[0.2,\\\"#de77ae\\\"],[0.3,\\\"#f1b6da\\\"],[0.4,\\\"#fde0ef\\\"],[0.5,\\\"#f7f7f7\\\"],[0.6,\\\"#e6f5d0\\\"],[0.7,\\\"#b8e186\\\"],[0.8,\\\"#7fbc41\\\"],[0.9,\\\"#4d9221\\\"],[1,\\\"#276419\\\"]],\\\"sequentialminus\\\":[[0.0,\\\"#0d0887\\\"],[0.1111111111111111,\\\"#46039f\\\"],[0.2222222222222222,\\\"#7201a8\\\"],[0.3333333333333333,\\\"#9c179e\\\"],[0.4444444444444444,\\\"#bd3786\\\"],[0.5555555555555556,\\\"#d8576b\\\"],[0.6666666666666666,\\\"#ed7953\\\"],[0.7777777777777778,\\\"#fb9f3a\\\"],[0.8888888888888888,\\\"#fdca26\\\"],[1.0,\\\"#f0f921\\\"]]},\\\"yaxis\\\":{\\\"gridcolor\\\":\\\"white\\\",\\\"zerolinewidth\\\":2,\\\"title\\\":{\\\"standoff\\\":15},\\\"ticks\\\":\\\"\\\",\\\"zerolinecolor\\\":\\\"white\\\",\\\"automargin\\\":true,\\\"linecolor\\\":\\\"white\\\"},\\\"shapedefaults\\\":{\\\"line\\\":{\\\"color\\\":\\\"#2a3f5f\\\"}},\\\"hoverlabel\\\":{\\\"align\\\":\\\"left\\\"},\\\"mapbox\\\":{\\\"style\\\":\\\"light\\\"},\\\"polar\\\":{\\\"angularaxis\\\":{\\\"gridcolor\\\":\\\"white\\\",\\\"ticks\\\":\\\"\\\",\\\"linecolor\\\":\\\"white\\\"},\\\"bgcolor\\\":\\\"#E5ECF6\\\",\\\"radialaxis\\\":{\\\"gridcolor\\\":\\\"white\\\",\\\"ticks\\\":\\\"\\\",\\\"linecolor\\\":\\\"white\\\"}},\\\"autotypenumbers\\\":\\\"strict\\\",\\\"font\\\":{\\\"color\\\":\\\"#2a3f5f\\\"},\\\"ternary\\\":{\\\"baxis\\\":{\\\"gridcolor\\\":\\\"white\\\",\\\"ticks\\\":\\\"\\\",\\\"linecolor\\\":\\\"white\\\"},\\\"bgcolor\\\":\\\"#E5ECF6\\\",\\\"caxis\\\":{\\\"gridcolor\\\":\\\"white\\\",\\\"ticks\\\":\\\"\\\",\\\"linecolor\\\":\\\"white\\\"},\\\"aaxis\\\":{\\\"gridcolor\\\":\\\"white\\\",\\\"ticks\\\":\\\"\\\",\\\"linecolor\\\":\\\"white\\\"}},\\\"annotationdefaults\\\":{\\\"arrowhead\\\":0,\\\"arrowwidth\\\":1,\\\"arrowcolor\\\":\\\"#2a3f5f\\\"},\\\"plot_bgcolor\\\":\\\"#E5ECF6\\\",\\\"title\\\":{\\\"x\\\":0.05},\\\"scene\\\":{\\\"xaxis\\\":{\\\"gridcolor\\\":\\\"white\\\",\\\"gridwidth\\\":2,\\\"backgroundcolor\\\":\\\"#E5ECF6\\\",\\\"ticks\\\":\\\"\\\",\\\"showbackground\\\":true,\\\"zerolinecolor\\\":\\\"white\\\",\\\"linecolor\\\":\\\"white\\\"},\\\"zaxis\\\":{\\\"gridcolor\\\":\\\"white\\\",\\\"gridwidth\\\":2,\\\"backgroundcolor\\\":\\\"#E5ECF6\\\",\\\"ticks\\\":\\\"\\\",\\\"showbackground\\\":true,\\\"zerolinecolor\\\":\\\"white\\\",\\\"linecolor\\\":\\\"white\\\"},\\\"yaxis\\\":{\\\"gridcolor\\\":\\\"white\\\",\\\"gridwidth\\\":2,\\\"backgroundcolor\\\":\\\"#E5ECF6\\\",\\\"ticks\\\":\\\"\\\",\\\"showbackground\\\":true,\\\"zerolinecolor\\\":\\\"white\\\",\\\"linecolor\\\":\\\"white\\\"}},\\\"colorway\\\":[\\\"#636efa\\\",\\\"#EF553B\\\",\\\"#00cc96\\\",\\\"#ab63fa\\\",\\\"#FFA15A\\\",\\\"#19d3f3\\\",\\\"#FF6692\\\",\\\"#B6E880\\\",\\\"#FF97FF\\\",\\\"#FECB52\\\"]},\\\"data\\\":{\\\"barpolar\\\":[{\\\"type\\\":\\\"barpolar\\\",\\\"marker\\\":{\\\"line\\\":{\\\"color\\\":\\\"#E5ECF6\\\",\\\"width\\\":0.5}}}],\\\"carpet\\\":[{\\\"aaxis\\\":{\\\"gridcolor\\\":\\\"white\\\",\\\"endlinecolor\\\":\\\"#2a3f5f\\\",\\\"minorgridcolor\\\":\\\"white\\\",\\\"startlinecolor\\\":\\\"#2a3f5f\\\",\\\"linecolor\\\":\\\"white\\\"},\\\"type\\\":\\\"carpet\\\",\\\"baxis\\\":{\\\"gridcolor\\\":\\\"white\\\",\\\"endlinecolor\\\":\\\"#2a3f5f\\\",\\\"minorgridcolor\\\":\\\"white\\\",\\\"startlinecolor\\\":\\\"#2a3f5f\\\",\\\"linecolor\\\":\\\"white\\\"}}],\\\"scatterpolar\\\":[{\\\"type\\\":\\\"scatterpolar\\\",\\\"marker\\\":{\\\"colorbar\\\":{\\\"ticks\\\":\\\"\\\",\\\"outlinewidth\\\":0}}}],\\\"parcoords\\\":[{\\\"line\\\":{\\\"colorbar\\\":{\\\"ticks\\\":\\\"\\\",\\\"outlinewidth\\\":0}},\\\"type\\\":\\\"parcoords\\\"}],\\\"scatter\\\":[{\\\"type\\\":\\\"scatter\\\",\\\"marker\\\":{\\\"colorbar\\\":{\\\"ticks\\\":\\\"\\\",\\\"outlinewidth\\\":0}}}],\\\"histogram2dcontour\\\":[{\\\"colorbar\\\":{\\\"ticks\\\":\\\"\\\",\\\"outlinewidth\\\":0},\\\"type\\\":\\\"histogram2dcontour\\\",\\\"colorscale\\\":[[0.0,\\\"#0d0887\\\"],[0.1111111111111111,\\\"#46039f\\\"],[0.2222222222222222,\\\"#7201a8\\\"],[0.3333333333333333,\\\"#9c179e\\\"],[0.4444444444444444,\\\"#bd3786\\\"],[0.5555555555555556,\\\"#d8576b\\\"],[0.6666666666666666,\\\"#ed7953\\\"],[0.7777777777777778,\\\"#fb9f3a\\\"],[0.8888888888888888,\\\"#fdca26\\\"],[1.0,\\\"#f0f921\\\"]]}],\\\"contour\\\":[{\\\"colorbar\\\":{\\\"ticks\\\":\\\"\\\",\\\"outlinewidth\\\":0},\\\"type\\\":\\\"contour\\\",\\\"colorscale\\\":[[0.0,\\\"#0d0887\\\"],[0.1111111111111111,\\\"#46039f\\\"],[0.2222222222222222,\\\"#7201a8\\\"],[0.3333333333333333,\\\"#9c179e\\\"],[0.4444444444444444,\\\"#bd3786\\\"],[0.5555555555555556,\\\"#d8576b\\\"],[0.6666666666666666,\\\"#ed7953\\\"],[0.7777777777777778,\\\"#fb9f3a\\\"],[0.8888888888888888,\\\"#fdca26\\\"],[1.0,\\\"#f0f921\\\"]]}],\\\"scattercarpet\\\":[{\\\"type\\\":\\\"scattercarpet\\\",\\\"marker\\\":{\\\"colorbar\\\":{\\\"ticks\\\":\\\"\\\",\\\"outlinewidth\\\":0}}}],\\\"mesh3d\\\":[{\\\"colorbar\\\":{\\\"ticks\\\":\\\"\\\",\\\"outlinewidth\\\":0},\\\"type\\\":\\\"mesh3d\\\"}],\\\"surface\\\":[{\\\"colorbar\\\":{\\\"ticks\\\":\\\"\\\",\\\"outlinewidth\\\":0},\\\"type\\\":\\\"surface\\\",\\\"colorscale\\\":[[0.0,\\\"#0d0887\\\"],[0.1111111111111111,\\\"#46039f\\\"],[0.2222222222222222,\\\"#7201a8\\\"],[0.3333333333333333,\\\"#9c179e\\\"],[0.4444444444444444,\\\"#bd3786\\\"],[0.5555555555555556,\\\"#d8576b\\\"],[0.6666666666666666,\\\"#ed7953\\\"],[0.7777777777777778,\\\"#fb9f3a\\\"],[0.8888888888888888,\\\"#fdca26\\\"],[1.0,\\\"#f0f921\\\"]]}],\\\"scattermapbox\\\":[{\\\"type\\\":\\\"scattermapbox\\\",\\\"marker\\\":{\\\"colorbar\\\":{\\\"ticks\\\":\\\"\\\",\\\"outlinewidth\\\":0}}}],\\\"scattergeo\\\":[{\\\"type\\\":\\\"scattergeo\\\",\\\"marker\\\":{\\\"colorbar\\\":{\\\"ticks\\\":\\\"\\\",\\\"outlinewidth\\\":0}}}],\\\"histogram\\\":[{\\\"type\\\":\\\"histogram\\\",\\\"marker\\\":{\\\"colorbar\\\":{\\\"ticks\\\":\\\"\\\",\\\"outlinewidth\\\":0}}}],\\\"pie\\\":[{\\\"type\\\":\\\"pie\\\",\\\"automargin\\\":true}],\\\"choropleth\\\":[{\\\"colorbar\\\":{\\\"ticks\\\":\\\"\\\",\\\"outlinewidth\\\":0},\\\"type\\\":\\\"choropleth\\\"}],\\\"heatmapgl\\\":[{\\\"colorbar\\\":{\\\"ticks\\\":\\\"\\\",\\\"outlinewidth\\\":0},\\\"type\\\":\\\"heatmapgl\\\",\\\"colorscale\\\":[[0.0,\\\"#0d0887\\\"],[0.1111111111111111,\\\"#46039f\\\"],[0.2222222222222222,\\\"#7201a8\\\"],[0.3333333333333333,\\\"#9c179e\\\"],[0.4444444444444444,\\\"#bd3786\\\"],[0.5555555555555556,\\\"#d8576b\\\"],[0.6666666666666666,\\\"#ed7953\\\"],[0.7777777777777778,\\\"#fb9f3a\\\"],[0.8888888888888888,\\\"#fdca26\\\"],[1.0,\\\"#f0f921\\\"]]}],\\\"bar\\\":[{\\\"type\\\":\\\"bar\\\",\\\"error_y\\\":{\\\"color\\\":\\\"#2a3f5f\\\"},\\\"error_x\\\":{\\\"color\\\":\\\"#2a3f5f\\\"},\\\"marker\\\":{\\\"line\\\":{\\\"color\\\":\\\"#E5ECF6\\\",\\\"width\\\":0.5}}}],\\\"heatmap\\\":[{\\\"colorbar\\\":{\\\"ticks\\\":\\\"\\\",\\\"outlinewidth\\\":0},\\\"type\\\":\\\"heatmap\\\",\\\"colorscale\\\":[[0.0,\\\"#0d0887\\\"],[0.1111111111111111,\\\"#46039f\\\"],[0.2222222222222222,\\\"#7201a8\\\"],[0.3333333333333333,\\\"#9c179e\\\"],[0.4444444444444444,\\\"#bd3786\\\"],[0.5555555555555556,\\\"#d8576b\\\"],[0.6666666666666666,\\\"#ed7953\\\"],[0.7777777777777778,\\\"#fb9f3a\\\"],[0.8888888888888888,\\\"#fdca26\\\"],[1.0,\\\"#f0f921\\\"]]}],\\\"contourcarpet\\\":[{\\\"colorbar\\\":{\\\"ticks\\\":\\\"\\\",\\\"outlinewidth\\\":0},\\\"type\\\":\\\"contourcarpet\\\"}],\\\"table\\\":[{\\\"type\\\":\\\"table\\\",\\\"header\\\":{\\\"line\\\":{\\\"color\\\":\\\"white\\\"},\\\"fill\\\":{\\\"color\\\":\\\"#C8D4E3\\\"}},\\\"cells\\\":{\\\"line\\\":{\\\"color\\\":\\\"white\\\"},\\\"fill\\\":{\\\"color\\\":\\\"#EBF0F8\\\"}}}],\\\"scatter3d\\\":[{\\\"line\\\":{\\\"colorbar\\\":{\\\"ticks\\\":\\\"\\\",\\\"outlinewidth\\\":0}},\\\"type\\\":\\\"scatter3d\\\",\\\"marker\\\":{\\\"colorbar\\\":{\\\"ticks\\\":\\\"\\\",\\\"outlinewidth\\\":0}}}],\\\"scattergl\\\":[{\\\"type\\\":\\\"scattergl\\\",\\\"marker\\\":{\\\"colorbar\\\":{\\\"ticks\\\":\\\"\\\",\\\"outlinewidth\\\":0}}}],\\\"histogram2d\\\":[{\\\"colorbar\\\":{\\\"ticks\\\":\\\"\\\",\\\"outlinewidth\\\":0},\\\"type\\\":\\\"histogram2d\\\",\\\"colorscale\\\":[[0.0,\\\"#0d0887\\\"],[0.1111111111111111,\\\"#46039f\\\"],[0.2222222222222222,\\\"#7201a8\\\"],[0.3333333333333333,\\\"#9c179e\\\"],[0.4444444444444444,\\\"#bd3786\\\"],[0.5555555555555556,\\\"#d8576b\\\"],[0.6666666666666666,\\\"#ed7953\\\"],[0.7777777777777778,\\\"#fb9f3a\\\"],[0.8888888888888888,\\\"#fdca26\\\"],[1.0,\\\"#f0f921\\\"]]}],\\\"scatterternary\\\":[{\\\"type\\\":\\\"scatterternary\\\",\\\"marker\\\":{\\\"colorbar\\\":{\\\"ticks\\\":\\\"\\\",\\\"outlinewidth\\\":0}}}],\\\"scatterpolargl\\\":[{\\\"type\\\":\\\"scatterpolargl\\\",\\\"marker\\\":{\\\"colorbar\\\":{\\\"ticks\\\":\\\"\\\",\\\"outlinewidth\\\":0}}}]}},\\\"margin\\\":{\\\"l\\\":50,\\\"b\\\":50,\\\"r\\\":50,\\\"t\\\":60},\\\"yaxis\\\":{\\\"title\\\":{\\\"text\\\":\\\"Tips\\\"}}},{\\\"showLink\\\":false,\\\"editable\\\":false,\\\"responsive\\\":true,\\\"staticPlot\\\":false,\\\"scrollZoom\\\":true}); gd.on(\\\"plotly_hover\\\",(function (data){var filtered_data=WebIO.PlotlyCommands.filterEventData(gd,data,\\\"hover\\\"); return !(filtered_data.isnil) ? (WebIO.setval({\\\"name\\\":\\\"hover\\\",\\\"scope\\\":\\\"12146692323831478212\\\",\\\"id\\\":\\\"12349920184965402269\\\",\\\"type\\\":\\\"observable\\\"},filtered_data.out)) : undefined})); gd.on(\\\"plotly_unhover\\\",(function (){return WebIO.setval({\\\"name\\\":\\\"hover\\\",\\\"scope\\\":\\\"12146692323831478212\\\",\\\"id\\\":\\\"12349920184965402269\\\",\\\"type\\\":\\\"observable\\\"},{})})); gd.on(\\\"plotly_selected\\\",(function (data){var filtered_data=WebIO.PlotlyCommands.filterEventData(gd,data,\\\"selected\\\"); return !(filtered_data.isnil) ? (WebIO.setval({\\\"name\\\":\\\"selected\\\",\\\"scope\\\":\\\"12146692323831478212\\\",\\\"id\\\":\\\"15844931043968391984\\\",\\\"type\\\":\\\"observable\\\"},filtered_data.out)) : undefined})); gd.on(\\\"plotly_deselect\\\",(function (){return WebIO.setval({\\\"name\\\":\\\"selected\\\",\\\"scope\\\":\\\"12146692323831478212\\\",\\\"id\\\":\\\"15844931043968391984\\\",\\\"type\\\":\\\"observable\\\"},{})})); gd.on(\\\"plotly_relayout\\\",(function (data){var filtered_data=WebIO.PlotlyCommands.filterEventData(gd,data,\\\"relayout\\\"); return !(filtered_data.isnil) ? (WebIO.setval({\\\"name\\\":\\\"relayout\\\",\\\"scope\\\":\\\"12146692323831478212\\\",\\\"id\\\":\\\"2068155587545905081\\\",\\\"type\\\":\\\"observable\\\"},filtered_data.out)) : undefined})); return gd.on(\\\"plotly_click\\\",(function (data){var filtered_data=WebIO.PlotlyCommands.filterEventData(gd,data,\\\"click\\\"); return !(filtered_data.isnil) ? (WebIO.setval({\\\"name\\\":\\\"click\\\",\\\"scope\\\":\\\"12146692323831478212\\\",\\\"id\\\":\\\"17925689395286656128\\\",\\\"type\\\":\\\"observable\\\"},filtered_data.out)) : undefined}))}));\\n    (WebIO.importBlock({\\\"data\\\":[{\\\"name\\\":\\\"Plotly\\\",\\\"type\\\":\\\"js\\\",\\\"url\\\":\\\"\\/assetserver\\/8c9d45313350cf65a3ec624b1245e5f2464600dc-plotly.min.js\\\"},{\\\"name\\\":null,\\\"type\\\":\\\"js\\\",\\\"url\\\":\\\"\\/assetserver\\/cae4c779f4eb480f3fffa6b4e72fc8efdacf807c-plotly_webio.bundle.js\\\"}],\\\"type\\\":\\\"async_block\\\"})).then((imports) => handler.apply(this, imports));\\n}\\n\"],\"observables\":{\"_toImage\":{\"sync\":false,\"id\":\"13316873615457690288\",\"value\":{}},\"hover\":{\"sync\":false,\"id\":\"12349920184965402269\",\"value\":{}},\"selected\":{\"sync\":false,\"id\":\"15844931043968391984\",\"value\":{}},\"__gd_contents\":{\"sync\":false,\"id\":\"13672881582183164512\",\"value\":{}},\"click\":{\"sync\":false,\"id\":\"17925689395286656128\",\"value\":{}},\"image\":{\"sync\":true,\"id\":\"2091833969893045063\",\"value\":\"\"},\"__get_gd_contents\":{\"sync\":false,\"id\":\"5098725691013671720\",\"value\":\"\"},\"_downloadImage\":{\"sync\":false,\"id\":\"8224499265822073958\",\"value\":{}},\"relayout\":{\"sync\":false,\"id\":\"2068155587545905081\",\"value\":{}},\"_commands\":{\"sync\":false,\"id\":\"10944938926834125492\",\"value\":[]}}},\"children\":[{\"props\":{\"id\":\"plot-7a4a029b-fe2e-47d2-8418-2ba2319a81ee\"},\"nodeType\":\"DOM\",\"type\":\"node\",\"instanceArgs\":{\"namespace\":\"html\",\"tag\":\"div\"},\"children\":[]}]},\n",
       "        window,\n",
       "    );\n",
       "    })()\n",
       "    </script>\n",
       "</div>\n"
      ],
      "text/plain": [
       "data: [\n",
       "  \"scatter with fields mode, name, opacity, type, x, and y\",\n",
       "  \"scatter with fields line, mode, name, type, x, and y\"\n",
       "]\n",
       "\n",
       "layout: \"layout with fields font, margin, template, xaxis, and yaxis\"\n",
       "\n"
      ]
     },
     "execution_count": 8,
     "metadata": {},
     "output_type": "execute_result"
    }
   ],
   "source": [
    "# Import Packages:\n",
    "using CSV, Downloads, DataFrames, PlotlyJS, ScikitLearn\n",
    "\n",
    "function plot_linear_regression_skl_tips()\n",
    "    tips = DataFrame(CSV.File(Downloads.download(\"https://git.io/J6x4j\")))\n",
    "    \n",
    "    scatter_trace = scatter(tips; x=:bill, y=:tip, mode=\"markers\", opacity=0.65, name=\"Tips\")\n",
    "    \n",
    "    X = tips.bill\n",
    "    y = tips.tip\n",
    "    linear_model = ScikitLearn.Models.LinearRegression()\n",
    "    ScikitLearn.fit!(linear_model, X, y)\n",
    "    \n",
    "    insertcols!(tips, :lr_tips => reshape(ScikitLearn.predict(linear_model, X),(:,)) )\n",
    "    regression_trace = scatter(tips; x=:bill, y=:lr_tips, \n",
    "                               mode = \"lines\", line_color = \"darkblue\", name=\"Linear Regression\")\n",
    "    \n",
    "    layout = Layout(xaxis_title=\"Total Bill\", yaxis_title=\"Tips\",\n",
    "                    font=attr(family=\"Times New Roman\", size=14,color=\"Black\"))\n",
    "    \n",
    "    plot([scatter_trace,regression_trace],layout)\n",
    "end\n",
    "\n",
    "plot_linear_regression_skl_tips()"
   ]
  },
  {
   "cell_type": "markdown",
   "id": "0b6896bf",
   "metadata": {},
   "source": [
    "# ML Regression in Dash\n",
    "**Dash** in Julia allows for the creation of useful dashboards. \n",
    "Starting with the previous section, one import any model from the Scikit-learn python library, using **ScikitLearn**'s `@sk_import` macro.\n",
    "With that we construct a simple Dash app to explore three different models: LinearRegression, DecisionTreeRegressor, and KNeighborsRegressor. \n",
    "To define the app one can use Julia's **do…end** syntax.\n",
    "Note that the helper function `partitionTrainTest` has been defined, but one can also use **ScikitLearn**'s, `ScikitLearn.CrossValidation.train_test_split`."
   ]
  },
  {
   "cell_type": "code",
   "execution_count": null,
   "id": "dfd8493d",
   "metadata": {},
   "outputs": [
    {
     "name": "stderr",
     "output_type": "stream",
     "text": [
      "┌ Info: Listening on: 0.0.0.0:8050\n",
      "└ @ HTTP.Servers /home/markus/.julia/packages/HTTP/qszg7/src/Servers.jl:268\n"
     ]
    }
   ],
   "source": [
    "using CSV, Downloads, DataFrames, PlotlyJS, Dash, ScikitLearn, Random\n",
    "\n",
    "@sk_import linear_model: LinearRegression\n",
    "@sk_import tree: DecisionTreeRegressor\n",
    "@sk_import neighbors: KNeighborsRegressor\n",
    "\n",
    "Random.seed!(42)\n",
    "\n",
    "function partitionTrainTest(data, at = 0.7)\n",
    "    n = nrow(data)\n",
    "    idx = shuffle(1:n)\n",
    "    train_idx = view(idx, 1:floor(Int, at*n))\n",
    "    test_idx = view(idx, (floor(Int, at*n)+1):n)\n",
    "    data[train_idx,:], data[test_idx,:]\n",
    "end\n",
    "\n",
    "function lr_dash_app()\n",
    "    \n",
    "    models = Dict(\"Regression\"=>LinearRegression, \"Decision Tree\"=> DecisionTreeRegressor, \n",
    "                  \"k-NN\"=>KNeighborsRegressor)\n",
    "    \n",
    "    app = dash()\n",
    "    \n",
    "    app.layout = html_div() do\n",
    "        html_h1(\"Model Exploration with Dash\"),\n",
    "        html_div(\"Select a model:\"),\n",
    "        dcc_dropdown(id=\"model-name\",\n",
    "                     options = [(label = \"Regression\", value = \"Regression\"),\n",
    "                                (label = \"Decision Tree\", value = \"Decision Tree\"),\n",
    "                                (label = \"k-NN\", value = \"k-NN\")],\n",
    "                     value = \"Regression\", clearable=false),\n",
    "        dcc_graph(id=\"graph\")\n",
    "    end\n",
    "    \n",
    "    tips = DataFrame(CSV.File(Downloads.download(\"https://git.io/J6x4j\")));\n",
    "    \n",
    "    tips_train, tips_test = partitionTrainTest(tips, 0.8)\n",
    "    \n",
    "    callback!(app, Output(\"graph\", \"figure\"), Input(\"model-name\", \"value\")) do model_name\n",
    "        model = models[model_name]()\n",
    "        ScikitLearn.fit!(model, reshape(tips_train.bill,(:,1)), reshape(tips_train.tip,(:,1)))\n",
    "\n",
    "        sorted_test = sort(tips_test.bill)\n",
    "        sorted_predicted = reshape(ScikitLearn.predict(model, reshape(sorted_test,(:,1)) ),(:,))\n",
    "        regression_trace = scatter(; x=sorted_test, y=sorted_predicted, \n",
    "                                   mode = \"lines\", line_color = \"darkred\", name=\"Prediction\")\n",
    "\n",
    "        scatter_train = scatter(tips_train; x=:bill, y=:tip, \n",
    "                                mode = \"markers\", opacity=0.65, name=\"Train\", color=\"blue\")\n",
    "\n",
    "        scatter_test = scatter(tips_test; x=:bill, y=:tip,\n",
    "                               mode = \"markers\", opacity=0.65, name=\"Test\", color=\"red\")\n",
    "\n",
    "        return plot([scatter_train,scatter_test, regression_trace])\n",
    "    end\n",
    "\n",
    "    run_server(app, \"0.0.0.0\")\n",
    "end\n",
    "\n",
    "lr_dash_app()"
   ]
  },
  {
   "cell_type": "markdown",
   "id": "a7478597",
   "metadata": {},
   "source": [
    "# Adding additional statistics\n",
    "Expanding upon the first plot, one can also display some statistical data of the model.\n",
    "Here, we use the **Printf** library to format the title string. \n",
    "**GLM** offers several methods to extract the coefficients of the data.\n",
    "Using the error of the slope, the standard deviation error of the y-intercept is displayed."
   ]
  },
  {
   "cell_type": "code",
   "execution_count": 9,
   "id": "38e0e44c",
   "metadata": {},
   "outputs": [
    {
     "data": {
      "application/vnd.plotly.v1+json": {
       "config": {
        "editable": false,
        "responsive": true,
        "scrollZoom": true,
        "showLink": false,
        "staticPlot": false
       },
       "data": [
        {
         "mode": "markers",
         "name": "Tips",
         "opacity": 0.65,
         "type": "scatter",
         "x": [
          17.99,
          26.05,
          79.49,
          32.69,
          29.97,
          23.91,
          18.18,
          41.23,
          25.19,
          19.22,
          20.6,
          30.15,
          31.03,
          124.44,
          69.4,
          23.45,
          19.75,
          39.88,
          21.19,
          17.83,
          91.43,
          78.18,
          53.04,
          26.75,
          15.23,
          28.05,
          10.99,
          71.47,
          24.71,
          66.48,
          53.39,
          38.88,
          60.17,
          124.9,
          24.82,
          35.71,
          75.12,
          8.31,
          14.57,
          20.07,
          64.25,
          22.38,
          30.21,
          23.27,
          22.36,
          18.65,
          32.33,
          34.35,
          23.78,
          19.68,
          20.82,
          96.11,
          15.14,
          36.77,
          59.97,
          27.33,
          30.99,
          35.12,
          117.15,
          144.18,
          21.37,
          32.45,
          25.05,
          42.51,
          10.91,
          33.72,
          25.21,
          19.08,
          141.76,
          93.37,
          101.26,
          42.81,
          4.98,
          28.17,
          5.55,
          60.47,
          24.67,
          17.77,
          13.67,
          23.25,
          31.38,
          42.55,
          39.13,
          38.77,
          10,
          72.84,
          29.07,
          14.83,
          18.31,
          64.93,
          25.04,
          76.27,
          24.21,
          34.05,
          115.39
         ],
         "y": [
          2,
          4,
          14.3082,
          5.5,
          6,
          7.5,
          3.06,
          8.5,
          8.5,
          3,
          5,
          3.5,
          3,
          22.3992,
          18,
          8.5,
          2.5,
          7.5,
          5,
          2.25,
          16.4574,
          14.0724,
          7.57,
          0,
          2.81,
          3,
          2,
          12.8646,
          3,
          16,
          7,
          2.9,
          7,
          22.482,
          6,
          6,
          13.5216,
          1.5,
          7,
          3,
          5.5,
          3.25,
          6,
          2,
          3.5,
          6,
          3.5,
          7.32,
          9.5,
          3,
          3.5,
          17.2998,
          2.5,
          4,
          9,
          4,
          3.25,
          6,
          21.087,
          25.9524,
          6,
          5.5,
          4,
          6.5,
          3,
          7.75,
          6,
          4,
          25.5168,
          16.8066,
          18.2268,
          5,
          0.5,
          7.5,
          0.75,
          15,
          6,
          0.75,
          3.5,
          7,
          8,
          6,
          6,
          4,
          3.5,
          11.5,
          7,
          1.5,
          1,
          7,
          6,
          13,
          3.75,
          8.5,
          20.7702
         ]
        },
        {
         "line": {
          "color": "darkblue"
         },
         "mode": "lines",
         "name": "Linear Regression",
         "type": "scatter",
         "x": [
          17.99,
          26.05,
          79.49,
          32.69,
          29.97,
          23.91,
          18.18,
          41.23,
          25.19,
          19.22,
          20.6,
          30.15,
          31.03,
          124.44,
          69.4,
          23.45,
          19.75,
          39.88,
          21.19,
          17.83,
          91.43,
          78.18,
          53.04,
          26.75,
          15.23,
          28.05,
          10.99,
          71.47,
          24.71,
          66.48,
          53.39,
          38.88,
          60.17,
          124.9,
          24.82,
          35.71,
          75.12,
          8.31,
          14.57,
          20.07,
          64.25,
          22.38,
          30.21,
          23.27,
          22.36,
          18.65,
          32.33,
          34.35,
          23.78,
          19.68,
          20.82,
          96.11,
          15.14,
          36.77,
          59.97,
          27.33,
          30.99,
          35.12,
          117.15,
          144.18,
          21.37,
          32.45,
          25.05,
          42.51,
          10.91,
          33.72,
          25.21,
          19.08,
          141.76,
          93.37,
          101.26,
          42.81,
          4.98,
          28.17,
          5.55,
          60.47,
          24.67,
          17.77,
          13.67,
          23.25,
          31.38,
          42.55,
          39.13,
          38.77,
          10,
          72.84,
          29.07,
          14.83,
          18.31,
          64.93,
          25.04,
          76.27,
          24.21,
          34.05,
          115.39
         ],
         "y": [
          3.2799834333949383,
          4.6897122540116305,
          14.036599124204677,
          5.85107693997873,
          5.375337189100641,
          4.315417008835486,
          3.3132152542283344,
          7.34475983427979,
          4.53929453866047,
          3.495115747211133,
          3.7364837090536938,
          5.40681996673228,
          5.560735768486955,
          21.898548316105458,
          12.27181453363118,
          4.234961021554633,
          3.5878150369042907,
          7.108639002042504,
          3.839677257957397,
          3.2519987421668155,
          16.124956707103355,
          13.807474464774424,
          9.410379855555611,
          4.812145278134667,
          2.797247509709819,
          5.039520894363166,
          2.0556531921645615,
          12.633866476395019,
          4.455340464976101,
          11.761093918717936,
          9.471596367617131,
          6.933734681866736,
          10.657447658408838,
          21.97900430338631,
          4.474579940195436,
          6.37928798690955,
          13.272267245036574,
          1.586909614093503,
          2.6818106583938115,
          3.6437844193605367,
          11.371057284725973,
          4.047813398966561,
          5.4173142259428255,
          4.203478243922994,
          4.044315312563045,
          3.3954202847109456,
          5.788111384715454,
          6.1414181114705055,
          4.292679447212636,
          3.575571734491987,
          3.7749626594923624,
          16.943508925525947,
          2.7815061208939995,
          6.564686566295865,
          10.622466794373684,
          4.9135897838366125,
          5.553739595679924,
          6.276094438005846,
          20.623495822024108,
          25.351159596375123,
          3.8711600355890354,
          5.809099903136547,
          4.514807933835862,
          7.568637364104774,
          2.0416608465505,
          6.031228389759772,
          4.542792625063985,
          3.470629142386526,
          24.92789114154976,
          16.46427108824434,
          17.84426617443115,
          7.621108660157504,
          1.004478227908195,
          5.060509412784259,
          1.1041736904083828,
          10.70991895446157,
          4.44834429216907,
          3.2415044829562696,
          2.5243967702356205,
          4.199980157519479,
          5.6219522805484745,
          7.575633536911804,
          6.977460761910677,
          6.914495206647401,
          1.8824979151905512,
          12.873485395035821,
          5.2179233009424495,
          2.7272857816395115,
          3.335952815851184,
          11.489992222445496,
          4.513058890634104,
          13.473407213238705,
          4.367888304888217,
          6.088946815417775,
          20.315664218514755
         ]
        },
        {
         "line": {
          "color": "darkred"
         },
         "mode": "lines",
         "name": "+ 1 STD",
         "opacity": 0.65,
         "type": "scatter",
         "x": [
          17.99,
          26.05,
          79.49,
          32.69,
          29.97,
          23.91,
          18.18,
          41.23,
          25.19,
          19.22,
          20.6,
          30.15,
          31.03,
          124.44,
          69.4,
          23.45,
          19.75,
          39.88,
          21.19,
          17.83,
          91.43,
          78.18,
          53.04,
          26.75,
          15.23,
          28.05,
          10.99,
          71.47,
          24.71,
          66.48,
          53.39,
          38.88,
          60.17,
          124.9,
          24.82,
          35.71,
          75.12,
          8.31,
          14.57,
          20.07,
          64.25,
          22.38,
          30.21,
          23.27,
          22.36,
          18.65,
          32.33,
          34.35,
          23.78,
          19.68,
          20.82,
          96.11,
          15.14,
          36.77,
          59.97,
          27.33,
          30.99,
          35.12,
          117.15,
          144.18,
          21.37,
          32.45,
          25.05,
          42.51,
          10.91,
          33.72,
          25.21,
          19.08,
          141.76,
          93.37,
          101.26,
          42.81,
          4.98,
          28.17,
          5.55,
          60.47,
          24.67,
          17.77,
          13.67,
          23.25,
          31.38,
          42.55,
          39.13,
          38.77,
          10,
          72.84,
          29.07,
          14.83,
          18.31,
          64.93,
          25.04,
          76.27,
          24.21,
          34.05,
          115.39
         ],
         "y": [
          3.6436278857154605,
          5.053356706332153,
          14.4002435765252,
          6.214721392299253,
          5.738981641421163,
          4.679061461156008,
          3.6768597065488566,
          7.708404286600312,
          4.902938990980992,
          3.8587601995316554,
          4.100128161374216,
          5.770464419052802,
          5.924380220807477,
          22.26219276842598,
          12.635458985951702,
          4.598605473875155,
          3.951459489224813,
          7.472283454363026,
          4.203321710277919,
          3.6156431944873377,
          16.488601159423876,
          14.171118917094947,
          9.774024307876134,
          5.17578973045519,
          3.160891962030341,
          5.403165346683688,
          2.4192976444850838,
          12.997510928715542,
          4.818984917296623,
          12.12473837103846,
          9.835240819937654,
          7.297379134187258,
          11.021092110729361,
          22.342648755706833,
          4.838224392515958,
          6.7429324392300725,
          13.635911697357097,
          1.9505540664140253,
          3.0454551107143337,
          4.007428871681059,
          11.734701737046496,
          4.411457851287083,
          5.780958678263348,
          4.5671226962435165,
          4.407959764883567,
          3.759064737031468,
          6.151755837035976,
          6.505062563791028,
          4.656323899533159,
          3.939216186812509,
          4.138607111812885,
          17.30715337784647,
          3.1451505732145217,
          6.928331018616388,
          10.986111246694207,
          5.277234236157135,
          5.9173840480004465,
          6.6397388903263685,
          20.98714027434463,
          25.714804048695644,
          4.234804487909558,
          6.172744355457069,
          4.878452386156384,
          7.932281816425296,
          2.4053052988710224,
          6.394872842080294,
          4.906437077384507,
          3.834273594707048,
          25.291535593870282,
          16.827915540564863,
          18.207910626751673,
          7.984753112478026,
          1.3681226802287172,
          5.424153865104781,
          1.467818142728905,
          11.073563406782092,
          4.811988744489592,
          3.605148935276792,
          2.8880412225561427,
          4.5636246098400015,
          5.985596732868997,
          7.939277989232326,
          7.3411052142312,
          7.278139658967923,
          2.2461423675110734,
          13.237129847356345,
          5.581567753262972,
          3.0909302339600337,
          3.6995972681717064,
          11.853636674766019,
          4.8767033429546265,
          13.837051665559228,
          4.731532757208739,
          6.452591267738297,
          20.679308670835276
         ]
        },
        {
         "line": {
          "color": "darkred"
         },
         "mode": "lines",
         "name": "- 1 STD",
         "opacity": 0.65,
         "type": "scatter",
         "x": [
          17.99,
          26.05,
          79.49,
          32.69,
          29.97,
          23.91,
          18.18,
          41.23,
          25.19,
          19.22,
          20.6,
          30.15,
          31.03,
          124.44,
          69.4,
          23.45,
          19.75,
          39.88,
          21.19,
          17.83,
          91.43,
          78.18,
          53.04,
          26.75,
          15.23,
          28.05,
          10.99,
          71.47,
          24.71,
          66.48,
          53.39,
          38.88,
          60.17,
          124.9,
          24.82,
          35.71,
          75.12,
          8.31,
          14.57,
          20.07,
          64.25,
          22.38,
          30.21,
          23.27,
          22.36,
          18.65,
          32.33,
          34.35,
          23.78,
          19.68,
          20.82,
          96.11,
          15.14,
          36.77,
          59.97,
          27.33,
          30.99,
          35.12,
          117.15,
          144.18,
          21.37,
          32.45,
          25.05,
          42.51,
          10.91,
          33.72,
          25.21,
          19.08,
          141.76,
          93.37,
          101.26,
          42.81,
          4.98,
          28.17,
          5.55,
          60.47,
          24.67,
          17.77,
          13.67,
          23.25,
          31.38,
          42.55,
          39.13,
          38.77,
          10,
          72.84,
          29.07,
          14.83,
          18.31,
          64.93,
          25.04,
          76.27,
          24.21,
          34.05,
          115.39
         ],
         "y": [
          2.916338981074416,
          4.326067801691108,
          13.672954671884154,
          5.487432487658208,
          5.011692736780119,
          3.951772556514964,
          2.949570801907812,
          6.981115381959268,
          4.175650086339948,
          3.131471294890611,
          3.3728392567331715,
          5.043175514411757,
          5.197091316166433,
          21.534903863784937,
          11.908170081310656,
          3.8713165692341107,
          3.2241705845837685,
          6.744994549721982,
          3.4760328056368746,
          2.8883542898462933,
          15.761312254782831,
          13.443830012453901,
          9.046735403235088,
          4.448500825814145,
          2.4336030573892966,
          4.675876442042644,
          1.6920087398440393,
          12.270222024074496,
          4.091696012655579,
          11.397449466397413,
          9.107951915296608,
          6.570090229546214,
          10.293803206088315,
          21.61535985106579,
          4.110935487874913,
          6.015643534589028,
          12.90862279271605,
          1.2232651617729808,
          2.3181662060732893,
          3.2801399670400144,
          11.00741283240545,
          3.6841689466460386,
          5.053669773622303,
          3.839833791602472,
          3.6806708602425227,
          3.0317758323904234,
          5.424466932394932,
          5.777773659149983,
          3.929034994892114,
          3.2119272821714646,
          3.41131820717184,
          16.579864473205426,
          2.4178616685734773,
          6.201042113975343,
          10.258822342053161,
          4.54994533151609,
          5.190095143359402,
          5.912449985685324,
          20.259851369703586,
          24.9875151440546,
          3.507515583268513,
          5.4454554508160244,
          4.15116348151534,
          7.2049929117842515,
          1.678016394229978,
          5.667583937439249,
          4.179148172743463,
          3.1069846900660036,
          24.56424668922924,
          16.10062663592382,
          17.48062172211063,
          7.257464207836982,
          0.6408337755876727,
          4.696864960463737,
          0.7405292380878605,
          10.346274502141046,
          4.084699839848548,
          2.8778600306357474,
          2.1607523179150983,
          3.836335705198957,
          5.258307828227952,
          7.2119890845912815,
          6.613816309590155,
          6.550850754326879,
          1.518853462870029,
          12.509840942715298,
          4.854278848621927,
          2.3636413293189893,
          2.972308363530662,
          11.126347770124973,
          4.149414438313582,
          13.109762760918182,
          4.004243852567694,
          5.725302363097253,
          19.952019766194233
         ]
        }
       ],
       "frames": [],
       "layout": {
        "font": {
         "color": "Black",
         "family": "Times New Roman",
         "size": 14
        },
        "margin": {
         "b": 50,
         "l": 50,
         "r": 50,
         "t": 60
        },
        "template": {
         "data": {
          "bar": [
           {
            "error_x": {
             "color": "#2a3f5f"
            },
            "error_y": {
             "color": "#2a3f5f"
            },
            "marker": {
             "line": {
              "color": "#E5ECF6",
              "width": 0.5
             }
            },
            "type": "bar"
           }
          ],
          "barpolar": [
           {
            "marker": {
             "line": {
              "color": "#E5ECF6",
              "width": 0.5
             }
            },
            "type": "barpolar"
           }
          ],
          "carpet": [
           {
            "aaxis": {
             "endlinecolor": "#2a3f5f",
             "gridcolor": "white",
             "linecolor": "white",
             "minorgridcolor": "white",
             "startlinecolor": "#2a3f5f"
            },
            "baxis": {
             "endlinecolor": "#2a3f5f",
             "gridcolor": "white",
             "linecolor": "white",
             "minorgridcolor": "white",
             "startlinecolor": "#2a3f5f"
            },
            "type": "carpet"
           }
          ],
          "choropleth": [
           {
            "colorbar": {
             "outlinewidth": 0,
             "ticks": ""
            },
            "type": "choropleth"
           }
          ],
          "contour": [
           {
            "colorbar": {
             "outlinewidth": 0,
             "ticks": ""
            },
            "colorscale": [
             [
              0,
              "#0d0887"
             ],
             [
              0.1111111111111111,
              "#46039f"
             ],
             [
              0.2222222222222222,
              "#7201a8"
             ],
             [
              0.3333333333333333,
              "#9c179e"
             ],
             [
              0.4444444444444444,
              "#bd3786"
             ],
             [
              0.5555555555555556,
              "#d8576b"
             ],
             [
              0.6666666666666666,
              "#ed7953"
             ],
             [
              0.7777777777777778,
              "#fb9f3a"
             ],
             [
              0.8888888888888888,
              "#fdca26"
             ],
             [
              1,
              "#f0f921"
             ]
            ],
            "type": "contour"
           }
          ],
          "contourcarpet": [
           {
            "colorbar": {
             "outlinewidth": 0,
             "ticks": ""
            },
            "type": "contourcarpet"
           }
          ],
          "heatmap": [
           {
            "colorbar": {
             "outlinewidth": 0,
             "ticks": ""
            },
            "colorscale": [
             [
              0,
              "#0d0887"
             ],
             [
              0.1111111111111111,
              "#46039f"
             ],
             [
              0.2222222222222222,
              "#7201a8"
             ],
             [
              0.3333333333333333,
              "#9c179e"
             ],
             [
              0.4444444444444444,
              "#bd3786"
             ],
             [
              0.5555555555555556,
              "#d8576b"
             ],
             [
              0.6666666666666666,
              "#ed7953"
             ],
             [
              0.7777777777777778,
              "#fb9f3a"
             ],
             [
              0.8888888888888888,
              "#fdca26"
             ],
             [
              1,
              "#f0f921"
             ]
            ],
            "type": "heatmap"
           }
          ],
          "heatmapgl": [
           {
            "colorbar": {
             "outlinewidth": 0,
             "ticks": ""
            },
            "colorscale": [
             [
              0,
              "#0d0887"
             ],
             [
              0.1111111111111111,
              "#46039f"
             ],
             [
              0.2222222222222222,
              "#7201a8"
             ],
             [
              0.3333333333333333,
              "#9c179e"
             ],
             [
              0.4444444444444444,
              "#bd3786"
             ],
             [
              0.5555555555555556,
              "#d8576b"
             ],
             [
              0.6666666666666666,
              "#ed7953"
             ],
             [
              0.7777777777777778,
              "#fb9f3a"
             ],
             [
              0.8888888888888888,
              "#fdca26"
             ],
             [
              1,
              "#f0f921"
             ]
            ],
            "type": "heatmapgl"
           }
          ],
          "histogram": [
           {
            "marker": {
             "colorbar": {
              "outlinewidth": 0,
              "ticks": ""
             }
            },
            "type": "histogram"
           }
          ],
          "histogram2d": [
           {
            "colorbar": {
             "outlinewidth": 0,
             "ticks": ""
            },
            "colorscale": [
             [
              0,
              "#0d0887"
             ],
             [
              0.1111111111111111,
              "#46039f"
             ],
             [
              0.2222222222222222,
              "#7201a8"
             ],
             [
              0.3333333333333333,
              "#9c179e"
             ],
             [
              0.4444444444444444,
              "#bd3786"
             ],
             [
              0.5555555555555556,
              "#d8576b"
             ],
             [
              0.6666666666666666,
              "#ed7953"
             ],
             [
              0.7777777777777778,
              "#fb9f3a"
             ],
             [
              0.8888888888888888,
              "#fdca26"
             ],
             [
              1,
              "#f0f921"
             ]
            ],
            "type": "histogram2d"
           }
          ],
          "histogram2dcontour": [
           {
            "colorbar": {
             "outlinewidth": 0,
             "ticks": ""
            },
            "colorscale": [
             [
              0,
              "#0d0887"
             ],
             [
              0.1111111111111111,
              "#46039f"
             ],
             [
              0.2222222222222222,
              "#7201a8"
             ],
             [
              0.3333333333333333,
              "#9c179e"
             ],
             [
              0.4444444444444444,
              "#bd3786"
             ],
             [
              0.5555555555555556,
              "#d8576b"
             ],
             [
              0.6666666666666666,
              "#ed7953"
             ],
             [
              0.7777777777777778,
              "#fb9f3a"
             ],
             [
              0.8888888888888888,
              "#fdca26"
             ],
             [
              1,
              "#f0f921"
             ]
            ],
            "type": "histogram2dcontour"
           }
          ],
          "mesh3d": [
           {
            "colorbar": {
             "outlinewidth": 0,
             "ticks": ""
            },
            "type": "mesh3d"
           }
          ],
          "parcoords": [
           {
            "line": {
             "colorbar": {
              "outlinewidth": 0,
              "ticks": ""
             }
            },
            "type": "parcoords"
           }
          ],
          "pie": [
           {
            "automargin": true,
            "type": "pie"
           }
          ],
          "scatter": [
           {
            "marker": {
             "colorbar": {
              "outlinewidth": 0,
              "ticks": ""
             }
            },
            "type": "scatter"
           }
          ],
          "scatter3d": [
           {
            "line": {
             "colorbar": {
              "outlinewidth": 0,
              "ticks": ""
             }
            },
            "marker": {
             "colorbar": {
              "outlinewidth": 0,
              "ticks": ""
             }
            },
            "type": "scatter3d"
           }
          ],
          "scattercarpet": [
           {
            "marker": {
             "colorbar": {
              "outlinewidth": 0,
              "ticks": ""
             }
            },
            "type": "scattercarpet"
           }
          ],
          "scattergeo": [
           {
            "marker": {
             "colorbar": {
              "outlinewidth": 0,
              "ticks": ""
             }
            },
            "type": "scattergeo"
           }
          ],
          "scattergl": [
           {
            "marker": {
             "colorbar": {
              "outlinewidth": 0,
              "ticks": ""
             }
            },
            "type": "scattergl"
           }
          ],
          "scattermapbox": [
           {
            "marker": {
             "colorbar": {
              "outlinewidth": 0,
              "ticks": ""
             }
            },
            "type": "scattermapbox"
           }
          ],
          "scatterpolar": [
           {
            "marker": {
             "colorbar": {
              "outlinewidth": 0,
              "ticks": ""
             }
            },
            "type": "scatterpolar"
           }
          ],
          "scatterpolargl": [
           {
            "marker": {
             "colorbar": {
              "outlinewidth": 0,
              "ticks": ""
             }
            },
            "type": "scatterpolargl"
           }
          ],
          "scatterternary": [
           {
            "marker": {
             "colorbar": {
              "outlinewidth": 0,
              "ticks": ""
             }
            },
            "type": "scatterternary"
           }
          ],
          "surface": [
           {
            "colorbar": {
             "outlinewidth": 0,
             "ticks": ""
            },
            "colorscale": [
             [
              0,
              "#0d0887"
             ],
             [
              0.1111111111111111,
              "#46039f"
             ],
             [
              0.2222222222222222,
              "#7201a8"
             ],
             [
              0.3333333333333333,
              "#9c179e"
             ],
             [
              0.4444444444444444,
              "#bd3786"
             ],
             [
              0.5555555555555556,
              "#d8576b"
             ],
             [
              0.6666666666666666,
              "#ed7953"
             ],
             [
              0.7777777777777778,
              "#fb9f3a"
             ],
             [
              0.8888888888888888,
              "#fdca26"
             ],
             [
              1,
              "#f0f921"
             ]
            ],
            "type": "surface"
           }
          ],
          "table": [
           {
            "cells": {
             "fill": {
              "color": "#EBF0F8"
             },
             "line": {
              "color": "white"
             }
            },
            "header": {
             "fill": {
              "color": "#C8D4E3"
             },
             "line": {
              "color": "white"
             }
            },
            "type": "table"
           }
          ]
         },
         "layout": {
          "annotationdefaults": {
           "arrowcolor": "#2a3f5f",
           "arrowhead": 0,
           "arrowwidth": 1
          },
          "autotypenumbers": "strict",
          "coloraxis": {
           "colorbar": {
            "outlinewidth": 0,
            "ticks": ""
           }
          },
          "colorscale": {
           "diverging": [
            [
             0,
             "#8e0152"
            ],
            [
             0.1,
             "#c51b7d"
            ],
            [
             0.2,
             "#de77ae"
            ],
            [
             0.3,
             "#f1b6da"
            ],
            [
             0.4,
             "#fde0ef"
            ],
            [
             0.5,
             "#f7f7f7"
            ],
            [
             0.6,
             "#e6f5d0"
            ],
            [
             0.7,
             "#b8e186"
            ],
            [
             0.8,
             "#7fbc41"
            ],
            [
             0.9,
             "#4d9221"
            ],
            [
             1,
             "#276419"
            ]
           ],
           "sequential": [
            [
             0,
             "#0d0887"
            ],
            [
             0.1111111111111111,
             "#46039f"
            ],
            [
             0.2222222222222222,
             "#7201a8"
            ],
            [
             0.3333333333333333,
             "#9c179e"
            ],
            [
             0.4444444444444444,
             "#bd3786"
            ],
            [
             0.5555555555555556,
             "#d8576b"
            ],
            [
             0.6666666666666666,
             "#ed7953"
            ],
            [
             0.7777777777777778,
             "#fb9f3a"
            ],
            [
             0.8888888888888888,
             "#fdca26"
            ],
            [
             1,
             "#f0f921"
            ]
           ],
           "sequentialminus": [
            [
             0,
             "#0d0887"
            ],
            [
             0.1111111111111111,
             "#46039f"
            ],
            [
             0.2222222222222222,
             "#7201a8"
            ],
            [
             0.3333333333333333,
             "#9c179e"
            ],
            [
             0.4444444444444444,
             "#bd3786"
            ],
            [
             0.5555555555555556,
             "#d8576b"
            ],
            [
             0.6666666666666666,
             "#ed7953"
            ],
            [
             0.7777777777777778,
             "#fb9f3a"
            ],
            [
             0.8888888888888888,
             "#fdca26"
            ],
            [
             1,
             "#f0f921"
            ]
           ]
          },
          "colorway": [
           "#636efa",
           "#EF553B",
           "#00cc96",
           "#ab63fa",
           "#FFA15A",
           "#19d3f3",
           "#FF6692",
           "#B6E880",
           "#FF97FF",
           "#FECB52"
          ],
          "font": {
           "color": "#2a3f5f"
          },
          "geo": {
           "bgcolor": "white",
           "lakecolor": "white",
           "landcolor": "#E5ECF6",
           "showlakes": true,
           "showland": true,
           "subunitcolor": "white"
          },
          "hoverlabel": {
           "align": "left"
          },
          "hovermode": "closest",
          "mapbox": {
           "style": "light"
          },
          "paper_bgcolor": "white",
          "plot_bgcolor": "#E5ECF6",
          "polar": {
           "angularaxis": {
            "gridcolor": "white",
            "linecolor": "white",
            "ticks": ""
           },
           "bgcolor": "#E5ECF6",
           "radialaxis": {
            "gridcolor": "white",
            "linecolor": "white",
            "ticks": ""
           }
          },
          "scene": {
           "xaxis": {
            "backgroundcolor": "#E5ECF6",
            "gridcolor": "white",
            "gridwidth": 2,
            "linecolor": "white",
            "showbackground": true,
            "ticks": "",
            "zerolinecolor": "white"
           },
           "yaxis": {
            "backgroundcolor": "#E5ECF6",
            "gridcolor": "white",
            "gridwidth": 2,
            "linecolor": "white",
            "showbackground": true,
            "ticks": "",
            "zerolinecolor": "white"
           },
           "zaxis": {
            "backgroundcolor": "#E5ECF6",
            "gridcolor": "white",
            "gridwidth": 2,
            "linecolor": "white",
            "showbackground": true,
            "ticks": "",
            "zerolinecolor": "white"
           }
          },
          "shapedefaults": {
           "line": {
            "color": "#2a3f5f"
           }
          },
          "ternary": {
           "aaxis": {
            "gridcolor": "white",
            "linecolor": "white",
            "ticks": ""
           },
           "baxis": {
            "gridcolor": "white",
            "linecolor": "white",
            "ticks": ""
           },
           "bgcolor": "#E5ECF6",
           "caxis": {
            "gridcolor": "white",
            "linecolor": "white",
            "ticks": ""
           }
          },
          "title": {
           "x": 0.05
          },
          "xaxis": {
           "automargin": true,
           "gridcolor": "white",
           "linecolor": "white",
           "ticks": "",
           "title": {
            "standoff": 15
           },
           "zerolinecolor": "white",
           "zerolinewidth": 2
          },
          "yaxis": {
           "automargin": true,
           "gridcolor": "white",
           "linecolor": "white",
           "ticks": "",
           "title": {
            "standoff": 15
           },
           "zerolinecolor": "white",
           "zerolinewidth": 2
          }
         }
        },
        "title": "R²=0.869, slope=0.175, y-intercept=0.133",
        "xaxis": {
         "title": {
          "text": "Total Bill"
         }
        },
        "yaxis": {
         "title": {
          "text": "Tips"
         }
        }
       }
      },
      "text/html": [
       "<div\n",
       "    class=\"webio-mountpoint\"\n",
       "    data-webio-mountpoint=\"4596370145631695850\"\n",
       ">\n",
       "    <script>\n",
       "    (function(){\n",
       "    // Some integrations (namely, IJulia/Jupyter) use an alternate render pathway than\n",
       "    // just putting the html on the page. If WebIO isn't defined, then it's pretty likely\n",
       "    // that we're in one of those situations and the integration just isn't installed\n",
       "    // correctly.\n",
       "    if (typeof window.WebIO === \"undefined\") {\n",
       "        document\n",
       "            .querySelector('[data-webio-mountpoint=\"4596370145631695850\"]')\n",
       "            .innerHTML = (\n",
       "                '<div style=\"padding: 1em; background-color: #f8d6da; border: 1px solid #f5c6cb; font-weight: bold;\">' +\n",
       "                '<p><strong>WebIO not detected.</strong></p>' +\n",
       "                '<p>Please read ' +\n",
       "                '<a href=\"https://juliagizmos.github.io/WebIO.jl/latest/troubleshooting/not-detected/\" target=\"_blank\">the troubleshooting guide</a> ' +\n",
       "                'for more information on how to resolve this issue.</p>' +\n",
       "                '<p><a href=\"https://juliagizmos.github.io/WebIO.jl/latest/troubleshooting/not-detected/\" target=\"_blank\">https://juliagizmos.github.io/WebIO.jl/latest/troubleshooting/not-detected/</a></p>' +\n",
       "                '</div>'\n",
       "            );\n",
       "        return;\n",
       "    }\n",
       "    WebIO.mount(\n",
       "        document.querySelector('[data-webio-mountpoint=\"4596370145631695850\"]'),\n",
       "        {\"props\":{},\"nodeType\":\"Scope\",\"type\":\"node\",\"instanceArgs\":{\"imports\":{\"data\":[{\"name\":\"Plotly\",\"type\":\"js\",\"url\":\"\\/assetserver\\/8c9d45313350cf65a3ec624b1245e5f2464600dc-plotly.min.js\"},{\"name\":null,\"type\":\"js\",\"url\":\"\\/assetserver\\/cae4c779f4eb480f3fffa6b4e72fc8efdacf807c-plotly_webio.bundle.js\"}],\"type\":\"async_block\"},\"id\":\"8428350150085525982\",\"handlers\":{\"_toImage\":[\"(function (options){return this.Plotly.toImage(this.plotElem,options).then((function (data){return WebIO.setval({\\\"name\\\":\\\"image\\\",\\\"scope\\\":\\\"8428350150085525982\\\",\\\"id\\\":\\\"17463937112967448278\\\",\\\"type\\\":\\\"observable\\\"},data)}))})\"],\"__get_gd_contents\":[\"(function (prop){prop==\\\"data\\\" ? (WebIO.setval({\\\"name\\\":\\\"__gd_contents\\\",\\\"scope\\\":\\\"8428350150085525982\\\",\\\"id\\\":\\\"2594580022416794909\\\",\\\"type\\\":\\\"observable\\\"},this.plotElem.data)) : undefined; return prop==\\\"layout\\\" ? (WebIO.setval({\\\"name\\\":\\\"__gd_contents\\\",\\\"scope\\\":\\\"8428350150085525982\\\",\\\"id\\\":\\\"2594580022416794909\\\",\\\"type\\\":\\\"observable\\\"},this.plotElem.layout)) : undefined})\"],\"_downloadImage\":[\"(function (options){return this.Plotly.downloadImage(this.plotElem,options)})\"],\"_commands\":[\"(function (args){var fn=args.shift(); var elem=this.plotElem; var Plotly=this.Plotly; args.unshift(elem); return Plotly[fn].apply(this,args)})\"]},\"systemjs_options\":null,\"mount_callbacks\":[\"function () {\\n    var handler = ((function (Plotly,PlotlyWebIO){PlotlyWebIO.init(WebIO); var gd=this.dom.querySelector(\\\"#plot-e7ee7ac6-7675-410d-bdcd-c10d0e596dba\\\"); this.plotElem=gd; this.Plotly=Plotly; (window.Blink!==undefined) ? (gd.style.width=\\\"100%\\\", gd.style.height=\\\"100vh\\\", gd.style.marginLeft=\\\"0%\\\", gd.style.marginTop=\\\"0vh\\\") : undefined; window.onresize=(function (){return Plotly.Plots.resize(gd)}); Plotly.newPlot(gd,[{\\\"mode\\\":\\\"markers\\\",\\\"y\\\":[2.0,4.0,14.3082,5.5,6.0,7.5,3.06,8.5,8.5,3.0,5.0,3.5,3.0,22.3992,18.0,8.5,2.5,7.5,5.0,2.25,16.4574,14.0724,7.57,0.0,2.81,3.0,2.0,12.8646,3.0,16.0,7.0,2.9,7.0,22.482,6.0,6.0,13.5216,1.5,7.0,3.0,5.5,3.25,6.0,2.0,3.5,6.0,3.5,7.32,9.5,3.0,3.5,17.2998,2.5,4.0,9.0,4.0,3.25,6.0,21.087,25.9524,6.0,5.5,4.0,6.5,3.0,7.75,6.0,4.0,25.5168,16.8066,18.2268,5.0,0.5,7.5,0.75,15.0,6.0,0.75,3.5,7.0,8.0,6.0,6.0,4.0,3.5,11.5,7.0,1.5,1.0,7.0,6.0,13.0,3.75,8.5,20.7702],\\\"type\\\":\\\"scatter\\\",\\\"name\\\":\\\"Tips\\\",\\\"opacity\\\":0.65,\\\"x\\\":[17.99,26.05,79.49,32.69,29.97,23.91,18.18,41.23,25.19,19.22,20.6,30.15,31.03,124.44,69.4,23.45,19.75,39.88,21.19,17.83,91.43,78.18,53.04,26.75,15.23,28.05,10.99,71.47,24.71,66.48,53.39,38.88,60.17,124.9,24.82,35.71,75.12,8.31,14.57,20.07,64.25,22.38,30.21,23.27,22.36,18.65,32.33,34.35,23.78,19.68,20.82,96.11,15.14,36.77,59.97,27.33,30.99,35.12,117.15,144.18,21.37,32.45,25.05,42.51,10.91,33.72,25.21,19.08,141.76,93.37,101.26,42.81,4.98,28.17,5.55,60.47,24.67,17.77,13.67,23.25,31.38,42.55,39.13,38.77,10.0,72.84,29.07,14.83,18.31,64.93,25.04,76.27,24.21,34.05,115.39]},{\\\"mode\\\":\\\"lines\\\",\\\"line\\\":{\\\"color\\\":\\\"darkblue\\\"},\\\"y\\\":[3.2799834333949383,4.6897122540116305,14.036599124204677,5.85107693997873,5.375337189100641,4.315417008835486,3.3132152542283344,7.34475983427979,4.53929453866047,3.495115747211133,3.7364837090536938,5.40681996673228,5.560735768486955,21.898548316105458,12.27181453363118,4.234961021554633,3.5878150369042907,7.108639002042504,3.839677257957397,3.2519987421668155,16.124956707103355,13.807474464774424,9.410379855555611,4.812145278134667,2.797247509709819,5.039520894363166,2.0556531921645615,12.633866476395019,4.455340464976101,11.761093918717936,9.471596367617131,6.933734681866736,10.657447658408838,21.97900430338631,4.474579940195436,6.37928798690955,13.272267245036574,1.586909614093503,2.6818106583938115,3.6437844193605367,11.371057284725973,4.047813398966561,5.4173142259428255,4.203478243922994,4.044315312563045,3.3954202847109456,5.788111384715454,6.1414181114705055,4.292679447212636,3.575571734491987,3.7749626594923624,16.943508925525947,2.7815061208939995,6.564686566295865,10.622466794373684,4.9135897838366125,5.553739595679924,6.276094438005846,20.623495822024108,25.351159596375123,3.8711600355890354,5.809099903136547,4.514807933835862,7.568637364104774,2.0416608465505,6.031228389759772,4.542792625063985,3.470629142386526,24.92789114154976,16.46427108824434,17.84426617443115,7.621108660157504,1.004478227908195,5.060509412784259,1.1041736904083828,10.70991895446157,4.44834429216907,3.2415044829562696,2.5243967702356205,4.199980157519479,5.6219522805484745,7.575633536911804,6.977460761910677,6.914495206647401,1.8824979151905512,12.873485395035821,5.2179233009424495,2.7272857816395115,3.335952815851184,11.489992222445496,4.513058890634104,13.473407213238705,4.367888304888217,6.088946815417775,20.315664218514755],\\\"type\\\":\\\"scatter\\\",\\\"name\\\":\\\"Linear Regression\\\",\\\"x\\\":[17.99,26.05,79.49,32.69,29.97,23.91,18.18,41.23,25.19,19.22,20.6,30.15,31.03,124.44,69.4,23.45,19.75,39.88,21.19,17.83,91.43,78.18,53.04,26.75,15.23,28.05,10.99,71.47,24.71,66.48,53.39,38.88,60.17,124.9,24.82,35.71,75.12,8.31,14.57,20.07,64.25,22.38,30.21,23.27,22.36,18.65,32.33,34.35,23.78,19.68,20.82,96.11,15.14,36.77,59.97,27.33,30.99,35.12,117.15,144.18,21.37,32.45,25.05,42.51,10.91,33.72,25.21,19.08,141.76,93.37,101.26,42.81,4.98,28.17,5.55,60.47,24.67,17.77,13.67,23.25,31.38,42.55,39.13,38.77,10.0,72.84,29.07,14.83,18.31,64.93,25.04,76.27,24.21,34.05,115.39]},{\\\"mode\\\":\\\"lines\\\",\\\"line\\\":{\\\"color\\\":\\\"darkred\\\"},\\\"y\\\":[3.6436278857154605,5.053356706332153,14.4002435765252,6.214721392299253,5.738981641421163,4.679061461156008,3.6768597065488566,7.708404286600312,4.902938990980992,3.8587601995316554,4.100128161374216,5.770464419052802,5.924380220807477,22.26219276842598,12.635458985951702,4.598605473875155,3.951459489224813,7.472283454363026,4.203321710277919,3.6156431944873377,16.488601159423876,14.171118917094947,9.774024307876134,5.17578973045519,3.160891962030341,5.403165346683688,2.4192976444850838,12.997510928715542,4.818984917296623,12.12473837103846,9.835240819937654,7.297379134187258,11.021092110729361,22.342648755706833,4.838224392515958,6.7429324392300725,13.635911697357097,1.9505540664140253,3.0454551107143337,4.007428871681059,11.734701737046496,4.411457851287083,5.780958678263348,4.5671226962435165,4.407959764883567,3.759064737031468,6.151755837035976,6.505062563791028,4.656323899533159,3.939216186812509,4.138607111812885,17.30715337784647,3.1451505732145217,6.928331018616388,10.986111246694207,5.277234236157135,5.9173840480004465,6.6397388903263685,20.98714027434463,25.714804048695644,4.234804487909558,6.172744355457069,4.878452386156384,7.932281816425296,2.4053052988710224,6.394872842080294,4.906437077384507,3.834273594707048,25.291535593870282,16.827915540564863,18.207910626751673,7.984753112478026,1.3681226802287172,5.424153865104781,1.467818142728905,11.073563406782092,4.811988744489592,3.605148935276792,2.8880412225561427,4.5636246098400015,5.985596732868997,7.939277989232326,7.3411052142312,7.278139658967923,2.2461423675110734,13.237129847356345,5.581567753262972,3.0909302339600337,3.6995972681717064,11.853636674766019,4.8767033429546265,13.837051665559228,4.731532757208739,6.452591267738297,20.679308670835276],\\\"type\\\":\\\"scatter\\\",\\\"name\\\":\\\"+ 1 STD\\\",\\\"opacity\\\":0.65,\\\"x\\\":[17.99,26.05,79.49,32.69,29.97,23.91,18.18,41.23,25.19,19.22,20.6,30.15,31.03,124.44,69.4,23.45,19.75,39.88,21.19,17.83,91.43,78.18,53.04,26.75,15.23,28.05,10.99,71.47,24.71,66.48,53.39,38.88,60.17,124.9,24.82,35.71,75.12,8.31,14.57,20.07,64.25,22.38,30.21,23.27,22.36,18.65,32.33,34.35,23.78,19.68,20.82,96.11,15.14,36.77,59.97,27.33,30.99,35.12,117.15,144.18,21.37,32.45,25.05,42.51,10.91,33.72,25.21,19.08,141.76,93.37,101.26,42.81,4.98,28.17,5.55,60.47,24.67,17.77,13.67,23.25,31.38,42.55,39.13,38.77,10.0,72.84,29.07,14.83,18.31,64.93,25.04,76.27,24.21,34.05,115.39]},{\\\"mode\\\":\\\"lines\\\",\\\"line\\\":{\\\"color\\\":\\\"darkred\\\"},\\\"y\\\":[2.916338981074416,4.326067801691108,13.672954671884154,5.487432487658208,5.011692736780119,3.951772556514964,2.949570801907812,6.981115381959268,4.175650086339948,3.131471294890611,3.3728392567331715,5.043175514411757,5.197091316166433,21.534903863784937,11.908170081310656,3.8713165692341107,3.2241705845837685,6.744994549721982,3.4760328056368746,2.8883542898462933,15.761312254782831,13.443830012453901,9.046735403235088,4.448500825814145,2.4336030573892966,4.675876442042644,1.6920087398440393,12.270222024074496,4.091696012655579,11.397449466397413,9.107951915296608,6.570090229546214,10.293803206088315,21.61535985106579,4.110935487874913,6.015643534589028,12.90862279271605,1.2232651617729808,2.3181662060732893,3.2801399670400144,11.00741283240545,3.6841689466460386,5.053669773622303,3.839833791602472,3.6806708602425227,3.0317758323904234,5.424466932394932,5.777773659149983,3.929034994892114,3.2119272821714646,3.41131820717184,16.579864473205426,2.4178616685734773,6.201042113975343,10.258822342053161,4.54994533151609,5.190095143359402,5.912449985685324,20.259851369703586,24.9875151440546,3.507515583268513,5.4454554508160244,4.15116348151534,7.2049929117842515,1.678016394229978,5.667583937439249,4.179148172743463,3.1069846900660036,24.56424668922924,16.10062663592382,17.48062172211063,7.257464207836982,0.6408337755876727,4.696864960463737,0.7405292380878605,10.346274502141046,4.084699839848548,2.8778600306357474,2.1607523179150983,3.836335705198957,5.258307828227952,7.2119890845912815,6.613816309590155,6.550850754326879,1.518853462870029,12.509840942715298,4.854278848621927,2.3636413293189893,2.972308363530662,11.126347770124973,4.149414438313582,13.109762760918182,4.004243852567694,5.725302363097253,19.952019766194233],\\\"type\\\":\\\"scatter\\\",\\\"name\\\":\\\"- 1 STD\\\",\\\"opacity\\\":0.65,\\\"x\\\":[17.99,26.05,79.49,32.69,29.97,23.91,18.18,41.23,25.19,19.22,20.6,30.15,31.03,124.44,69.4,23.45,19.75,39.88,21.19,17.83,91.43,78.18,53.04,26.75,15.23,28.05,10.99,71.47,24.71,66.48,53.39,38.88,60.17,124.9,24.82,35.71,75.12,8.31,14.57,20.07,64.25,22.38,30.21,23.27,22.36,18.65,32.33,34.35,23.78,19.68,20.82,96.11,15.14,36.77,59.97,27.33,30.99,35.12,117.15,144.18,21.37,32.45,25.05,42.51,10.91,33.72,25.21,19.08,141.76,93.37,101.26,42.81,4.98,28.17,5.55,60.47,24.67,17.77,13.67,23.25,31.38,42.55,39.13,38.77,10.0,72.84,29.07,14.83,18.31,64.93,25.04,76.27,24.21,34.05,115.39]}],{\\\"xaxis\\\":{\\\"title\\\":{\\\"text\\\":\\\"Total Bill\\\"}},\\\"font\\\":{\\\"color\\\":\\\"Black\\\",\\\"family\\\":\\\"Times New Roman\\\",\\\"size\\\":14},\\\"template\\\":{\\\"layout\\\":{\\\"coloraxis\\\":{\\\"colorbar\\\":{\\\"ticks\\\":\\\"\\\",\\\"outlinewidth\\\":0}},\\\"xaxis\\\":{\\\"gridcolor\\\":\\\"white\\\",\\\"zerolinewidth\\\":2,\\\"title\\\":{\\\"standoff\\\":15},\\\"ticks\\\":\\\"\\\",\\\"zerolinecolor\\\":\\\"white\\\",\\\"automargin\\\":true,\\\"linecolor\\\":\\\"white\\\"},\\\"hovermode\\\":\\\"closest\\\",\\\"paper_bgcolor\\\":\\\"white\\\",\\\"geo\\\":{\\\"showlakes\\\":true,\\\"showland\\\":true,\\\"landcolor\\\":\\\"#E5ECF6\\\",\\\"bgcolor\\\":\\\"white\\\",\\\"subunitcolor\\\":\\\"white\\\",\\\"lakecolor\\\":\\\"white\\\"},\\\"colorscale\\\":{\\\"sequential\\\":[[0.0,\\\"#0d0887\\\"],[0.1111111111111111,\\\"#46039f\\\"],[0.2222222222222222,\\\"#7201a8\\\"],[0.3333333333333333,\\\"#9c179e\\\"],[0.4444444444444444,\\\"#bd3786\\\"],[0.5555555555555556,\\\"#d8576b\\\"],[0.6666666666666666,\\\"#ed7953\\\"],[0.7777777777777778,\\\"#fb9f3a\\\"],[0.8888888888888888,\\\"#fdca26\\\"],[1.0,\\\"#f0f921\\\"]],\\\"diverging\\\":[[0,\\\"#8e0152\\\"],[0.1,\\\"#c51b7d\\\"],[0.2,\\\"#de77ae\\\"],[0.3,\\\"#f1b6da\\\"],[0.4,\\\"#fde0ef\\\"],[0.5,\\\"#f7f7f7\\\"],[0.6,\\\"#e6f5d0\\\"],[0.7,\\\"#b8e186\\\"],[0.8,\\\"#7fbc41\\\"],[0.9,\\\"#4d9221\\\"],[1,\\\"#276419\\\"]],\\\"sequentialminus\\\":[[0.0,\\\"#0d0887\\\"],[0.1111111111111111,\\\"#46039f\\\"],[0.2222222222222222,\\\"#7201a8\\\"],[0.3333333333333333,\\\"#9c179e\\\"],[0.4444444444444444,\\\"#bd3786\\\"],[0.5555555555555556,\\\"#d8576b\\\"],[0.6666666666666666,\\\"#ed7953\\\"],[0.7777777777777778,\\\"#fb9f3a\\\"],[0.8888888888888888,\\\"#fdca26\\\"],[1.0,\\\"#f0f921\\\"]]},\\\"yaxis\\\":{\\\"gridcolor\\\":\\\"white\\\",\\\"zerolinewidth\\\":2,\\\"title\\\":{\\\"standoff\\\":15},\\\"ticks\\\":\\\"\\\",\\\"zerolinecolor\\\":\\\"white\\\",\\\"automargin\\\":true,\\\"linecolor\\\":\\\"white\\\"},\\\"shapedefaults\\\":{\\\"line\\\":{\\\"color\\\":\\\"#2a3f5f\\\"}},\\\"hoverlabel\\\":{\\\"align\\\":\\\"left\\\"},\\\"mapbox\\\":{\\\"style\\\":\\\"light\\\"},\\\"polar\\\":{\\\"angularaxis\\\":{\\\"gridcolor\\\":\\\"white\\\",\\\"ticks\\\":\\\"\\\",\\\"linecolor\\\":\\\"white\\\"},\\\"bgcolor\\\":\\\"#E5ECF6\\\",\\\"radialaxis\\\":{\\\"gridcolor\\\":\\\"white\\\",\\\"ticks\\\":\\\"\\\",\\\"linecolor\\\":\\\"white\\\"}},\\\"autotypenumbers\\\":\\\"strict\\\",\\\"font\\\":{\\\"color\\\":\\\"#2a3f5f\\\"},\\\"ternary\\\":{\\\"baxis\\\":{\\\"gridcolor\\\":\\\"white\\\",\\\"ticks\\\":\\\"\\\",\\\"linecolor\\\":\\\"white\\\"},\\\"bgcolor\\\":\\\"#E5ECF6\\\",\\\"caxis\\\":{\\\"gridcolor\\\":\\\"white\\\",\\\"ticks\\\":\\\"\\\",\\\"linecolor\\\":\\\"white\\\"},\\\"aaxis\\\":{\\\"gridcolor\\\":\\\"white\\\",\\\"ticks\\\":\\\"\\\",\\\"linecolor\\\":\\\"white\\\"}},\\\"annotationdefaults\\\":{\\\"arrowhead\\\":0,\\\"arrowwidth\\\":1,\\\"arrowcolor\\\":\\\"#2a3f5f\\\"},\\\"plot_bgcolor\\\":\\\"#E5ECF6\\\",\\\"title\\\":{\\\"x\\\":0.05},\\\"scene\\\":{\\\"xaxis\\\":{\\\"gridcolor\\\":\\\"white\\\",\\\"gridwidth\\\":2,\\\"backgroundcolor\\\":\\\"#E5ECF6\\\",\\\"ticks\\\":\\\"\\\",\\\"showbackground\\\":true,\\\"zerolinecolor\\\":\\\"white\\\",\\\"linecolor\\\":\\\"white\\\"},\\\"zaxis\\\":{\\\"gridcolor\\\":\\\"white\\\",\\\"gridwidth\\\":2,\\\"backgroundcolor\\\":\\\"#E5ECF6\\\",\\\"ticks\\\":\\\"\\\",\\\"showbackground\\\":true,\\\"zerolinecolor\\\":\\\"white\\\",\\\"linecolor\\\":\\\"white\\\"},\\\"yaxis\\\":{\\\"gridcolor\\\":\\\"white\\\",\\\"gridwidth\\\":2,\\\"backgroundcolor\\\":\\\"#E5ECF6\\\",\\\"ticks\\\":\\\"\\\",\\\"showbackground\\\":true,\\\"zerolinecolor\\\":\\\"white\\\",\\\"linecolor\\\":\\\"white\\\"}},\\\"colorway\\\":[\\\"#636efa\\\",\\\"#EF553B\\\",\\\"#00cc96\\\",\\\"#ab63fa\\\",\\\"#FFA15A\\\",\\\"#19d3f3\\\",\\\"#FF6692\\\",\\\"#B6E880\\\",\\\"#FF97FF\\\",\\\"#FECB52\\\"]},\\\"data\\\":{\\\"barpolar\\\":[{\\\"type\\\":\\\"barpolar\\\",\\\"marker\\\":{\\\"line\\\":{\\\"color\\\":\\\"#E5ECF6\\\",\\\"width\\\":0.5}}}],\\\"carpet\\\":[{\\\"aaxis\\\":{\\\"gridcolor\\\":\\\"white\\\",\\\"endlinecolor\\\":\\\"#2a3f5f\\\",\\\"minorgridcolor\\\":\\\"white\\\",\\\"startlinecolor\\\":\\\"#2a3f5f\\\",\\\"linecolor\\\":\\\"white\\\"},\\\"type\\\":\\\"carpet\\\",\\\"baxis\\\":{\\\"gridcolor\\\":\\\"white\\\",\\\"endlinecolor\\\":\\\"#2a3f5f\\\",\\\"minorgridcolor\\\":\\\"white\\\",\\\"startlinecolor\\\":\\\"#2a3f5f\\\",\\\"linecolor\\\":\\\"white\\\"}}],\\\"scatterpolar\\\":[{\\\"type\\\":\\\"scatterpolar\\\",\\\"marker\\\":{\\\"colorbar\\\":{\\\"ticks\\\":\\\"\\\",\\\"outlinewidth\\\":0}}}],\\\"parcoords\\\":[{\\\"line\\\":{\\\"colorbar\\\":{\\\"ticks\\\":\\\"\\\",\\\"outlinewidth\\\":0}},\\\"type\\\":\\\"parcoords\\\"}],\\\"scatter\\\":[{\\\"type\\\":\\\"scatter\\\",\\\"marker\\\":{\\\"colorbar\\\":{\\\"ticks\\\":\\\"\\\",\\\"outlinewidth\\\":0}}}],\\\"histogram2dcontour\\\":[{\\\"colorbar\\\":{\\\"ticks\\\":\\\"\\\",\\\"outlinewidth\\\":0},\\\"type\\\":\\\"histogram2dcontour\\\",\\\"colorscale\\\":[[0.0,\\\"#0d0887\\\"],[0.1111111111111111,\\\"#46039f\\\"],[0.2222222222222222,\\\"#7201a8\\\"],[0.3333333333333333,\\\"#9c179e\\\"],[0.4444444444444444,\\\"#bd3786\\\"],[0.5555555555555556,\\\"#d8576b\\\"],[0.6666666666666666,\\\"#ed7953\\\"],[0.7777777777777778,\\\"#fb9f3a\\\"],[0.8888888888888888,\\\"#fdca26\\\"],[1.0,\\\"#f0f921\\\"]]}],\\\"contour\\\":[{\\\"colorbar\\\":{\\\"ticks\\\":\\\"\\\",\\\"outlinewidth\\\":0},\\\"type\\\":\\\"contour\\\",\\\"colorscale\\\":[[0.0,\\\"#0d0887\\\"],[0.1111111111111111,\\\"#46039f\\\"],[0.2222222222222222,\\\"#7201a8\\\"],[0.3333333333333333,\\\"#9c179e\\\"],[0.4444444444444444,\\\"#bd3786\\\"],[0.5555555555555556,\\\"#d8576b\\\"],[0.6666666666666666,\\\"#ed7953\\\"],[0.7777777777777778,\\\"#fb9f3a\\\"],[0.8888888888888888,\\\"#fdca26\\\"],[1.0,\\\"#f0f921\\\"]]}],\\\"scattercarpet\\\":[{\\\"type\\\":\\\"scattercarpet\\\",\\\"marker\\\":{\\\"colorbar\\\":{\\\"ticks\\\":\\\"\\\",\\\"outlinewidth\\\":0}}}],\\\"mesh3d\\\":[{\\\"colorbar\\\":{\\\"ticks\\\":\\\"\\\",\\\"outlinewidth\\\":0},\\\"type\\\":\\\"mesh3d\\\"}],\\\"surface\\\":[{\\\"colorbar\\\":{\\\"ticks\\\":\\\"\\\",\\\"outlinewidth\\\":0},\\\"type\\\":\\\"surface\\\",\\\"colorscale\\\":[[0.0,\\\"#0d0887\\\"],[0.1111111111111111,\\\"#46039f\\\"],[0.2222222222222222,\\\"#7201a8\\\"],[0.3333333333333333,\\\"#9c179e\\\"],[0.4444444444444444,\\\"#bd3786\\\"],[0.5555555555555556,\\\"#d8576b\\\"],[0.6666666666666666,\\\"#ed7953\\\"],[0.7777777777777778,\\\"#fb9f3a\\\"],[0.8888888888888888,\\\"#fdca26\\\"],[1.0,\\\"#f0f921\\\"]]}],\\\"scattermapbox\\\":[{\\\"type\\\":\\\"scattermapbox\\\",\\\"marker\\\":{\\\"colorbar\\\":{\\\"ticks\\\":\\\"\\\",\\\"outlinewidth\\\":0}}}],\\\"scattergeo\\\":[{\\\"type\\\":\\\"scattergeo\\\",\\\"marker\\\":{\\\"colorbar\\\":{\\\"ticks\\\":\\\"\\\",\\\"outlinewidth\\\":0}}}],\\\"histogram\\\":[{\\\"type\\\":\\\"histogram\\\",\\\"marker\\\":{\\\"colorbar\\\":{\\\"ticks\\\":\\\"\\\",\\\"outlinewidth\\\":0}}}],\\\"pie\\\":[{\\\"type\\\":\\\"pie\\\",\\\"automargin\\\":true}],\\\"choropleth\\\":[{\\\"colorbar\\\":{\\\"ticks\\\":\\\"\\\",\\\"outlinewidth\\\":0},\\\"type\\\":\\\"choropleth\\\"}],\\\"heatmapgl\\\":[{\\\"colorbar\\\":{\\\"ticks\\\":\\\"\\\",\\\"outlinewidth\\\":0},\\\"type\\\":\\\"heatmapgl\\\",\\\"colorscale\\\":[[0.0,\\\"#0d0887\\\"],[0.1111111111111111,\\\"#46039f\\\"],[0.2222222222222222,\\\"#7201a8\\\"],[0.3333333333333333,\\\"#9c179e\\\"],[0.4444444444444444,\\\"#bd3786\\\"],[0.5555555555555556,\\\"#d8576b\\\"],[0.6666666666666666,\\\"#ed7953\\\"],[0.7777777777777778,\\\"#fb9f3a\\\"],[0.8888888888888888,\\\"#fdca26\\\"],[1.0,\\\"#f0f921\\\"]]}],\\\"bar\\\":[{\\\"type\\\":\\\"bar\\\",\\\"error_y\\\":{\\\"color\\\":\\\"#2a3f5f\\\"},\\\"error_x\\\":{\\\"color\\\":\\\"#2a3f5f\\\"},\\\"marker\\\":{\\\"line\\\":{\\\"color\\\":\\\"#E5ECF6\\\",\\\"width\\\":0.5}}}],\\\"heatmap\\\":[{\\\"colorbar\\\":{\\\"ticks\\\":\\\"\\\",\\\"outlinewidth\\\":0},\\\"type\\\":\\\"heatmap\\\",\\\"colorscale\\\":[[0.0,\\\"#0d0887\\\"],[0.1111111111111111,\\\"#46039f\\\"],[0.2222222222222222,\\\"#7201a8\\\"],[0.3333333333333333,\\\"#9c179e\\\"],[0.4444444444444444,\\\"#bd3786\\\"],[0.5555555555555556,\\\"#d8576b\\\"],[0.6666666666666666,\\\"#ed7953\\\"],[0.7777777777777778,\\\"#fb9f3a\\\"],[0.8888888888888888,\\\"#fdca26\\\"],[1.0,\\\"#f0f921\\\"]]}],\\\"contourcarpet\\\":[{\\\"colorbar\\\":{\\\"ticks\\\":\\\"\\\",\\\"outlinewidth\\\":0},\\\"type\\\":\\\"contourcarpet\\\"}],\\\"table\\\":[{\\\"type\\\":\\\"table\\\",\\\"header\\\":{\\\"line\\\":{\\\"color\\\":\\\"white\\\"},\\\"fill\\\":{\\\"color\\\":\\\"#C8D4E3\\\"}},\\\"cells\\\":{\\\"line\\\":{\\\"color\\\":\\\"white\\\"},\\\"fill\\\":{\\\"color\\\":\\\"#EBF0F8\\\"}}}],\\\"scatter3d\\\":[{\\\"line\\\":{\\\"colorbar\\\":{\\\"ticks\\\":\\\"\\\",\\\"outlinewidth\\\":0}},\\\"type\\\":\\\"scatter3d\\\",\\\"marker\\\":{\\\"colorbar\\\":{\\\"ticks\\\":\\\"\\\",\\\"outlinewidth\\\":0}}}],\\\"scattergl\\\":[{\\\"type\\\":\\\"scattergl\\\",\\\"marker\\\":{\\\"colorbar\\\":{\\\"ticks\\\":\\\"\\\",\\\"outlinewidth\\\":0}}}],\\\"histogram2d\\\":[{\\\"colorbar\\\":{\\\"ticks\\\":\\\"\\\",\\\"outlinewidth\\\":0},\\\"type\\\":\\\"histogram2d\\\",\\\"colorscale\\\":[[0.0,\\\"#0d0887\\\"],[0.1111111111111111,\\\"#46039f\\\"],[0.2222222222222222,\\\"#7201a8\\\"],[0.3333333333333333,\\\"#9c179e\\\"],[0.4444444444444444,\\\"#bd3786\\\"],[0.5555555555555556,\\\"#d8576b\\\"],[0.6666666666666666,\\\"#ed7953\\\"],[0.7777777777777778,\\\"#fb9f3a\\\"],[0.8888888888888888,\\\"#fdca26\\\"],[1.0,\\\"#f0f921\\\"]]}],\\\"scatterternary\\\":[{\\\"type\\\":\\\"scatterternary\\\",\\\"marker\\\":{\\\"colorbar\\\":{\\\"ticks\\\":\\\"\\\",\\\"outlinewidth\\\":0}}}],\\\"scatterpolargl\\\":[{\\\"type\\\":\\\"scatterpolargl\\\",\\\"marker\\\":{\\\"colorbar\\\":{\\\"ticks\\\":\\\"\\\",\\\"outlinewidth\\\":0}}}]}},\\\"margin\\\":{\\\"l\\\":50,\\\"b\\\":50,\\\"r\\\":50,\\\"t\\\":60},\\\"yaxis\\\":{\\\"title\\\":{\\\"text\\\":\\\"Tips\\\"}},\\\"title\\\":\\\"R²=0.869, slope=0.175, y-intercept=0.133\\\"},{\\\"showLink\\\":false,\\\"editable\\\":false,\\\"responsive\\\":true,\\\"staticPlot\\\":false,\\\"scrollZoom\\\":true}); gd.on(\\\"plotly_hover\\\",(function (data){var filtered_data=WebIO.PlotlyCommands.filterEventData(gd,data,\\\"hover\\\"); return !(filtered_data.isnil) ? (WebIO.setval({\\\"name\\\":\\\"hover\\\",\\\"scope\\\":\\\"8428350150085525982\\\",\\\"id\\\":\\\"10517076099012168897\\\",\\\"type\\\":\\\"observable\\\"},filtered_data.out)) : undefined})); gd.on(\\\"plotly_unhover\\\",(function (){return WebIO.setval({\\\"name\\\":\\\"hover\\\",\\\"scope\\\":\\\"8428350150085525982\\\",\\\"id\\\":\\\"10517076099012168897\\\",\\\"type\\\":\\\"observable\\\"},{})})); gd.on(\\\"plotly_selected\\\",(function (data){var filtered_data=WebIO.PlotlyCommands.filterEventData(gd,data,\\\"selected\\\"); return !(filtered_data.isnil) ? (WebIO.setval({\\\"name\\\":\\\"selected\\\",\\\"scope\\\":\\\"8428350150085525982\\\",\\\"id\\\":\\\"14355181454871654133\\\",\\\"type\\\":\\\"observable\\\"},filtered_data.out)) : undefined})); gd.on(\\\"plotly_deselect\\\",(function (){return WebIO.setval({\\\"name\\\":\\\"selected\\\",\\\"scope\\\":\\\"8428350150085525982\\\",\\\"id\\\":\\\"14355181454871654133\\\",\\\"type\\\":\\\"observable\\\"},{})})); gd.on(\\\"plotly_relayout\\\",(function (data){var filtered_data=WebIO.PlotlyCommands.filterEventData(gd,data,\\\"relayout\\\"); return !(filtered_data.isnil) ? (WebIO.setval({\\\"name\\\":\\\"relayout\\\",\\\"scope\\\":\\\"8428350150085525982\\\",\\\"id\\\":\\\"16584741297576235119\\\",\\\"type\\\":\\\"observable\\\"},filtered_data.out)) : undefined})); return gd.on(\\\"plotly_click\\\",(function (data){var filtered_data=WebIO.PlotlyCommands.filterEventData(gd,data,\\\"click\\\"); return !(filtered_data.isnil) ? (WebIO.setval({\\\"name\\\":\\\"click\\\",\\\"scope\\\":\\\"8428350150085525982\\\",\\\"id\\\":\\\"5518102491945704561\\\",\\\"type\\\":\\\"observable\\\"},filtered_data.out)) : undefined}))}));\\n    (WebIO.importBlock({\\\"data\\\":[{\\\"name\\\":\\\"Plotly\\\",\\\"type\\\":\\\"js\\\",\\\"url\\\":\\\"\\/assetserver\\/8c9d45313350cf65a3ec624b1245e5f2464600dc-plotly.min.js\\\"},{\\\"name\\\":null,\\\"type\\\":\\\"js\\\",\\\"url\\\":\\\"\\/assetserver\\/cae4c779f4eb480f3fffa6b4e72fc8efdacf807c-plotly_webio.bundle.js\\\"}],\\\"type\\\":\\\"async_block\\\"})).then((imports) => handler.apply(this, imports));\\n}\\n\"],\"observables\":{\"_toImage\":{\"sync\":false,\"id\":\"16311004374336762147\",\"value\":{}},\"hover\":{\"sync\":false,\"id\":\"10517076099012168897\",\"value\":{}},\"selected\":{\"sync\":false,\"id\":\"14355181454871654133\",\"value\":{}},\"__gd_contents\":{\"sync\":false,\"id\":\"2594580022416794909\",\"value\":{}},\"click\":{\"sync\":false,\"id\":\"5518102491945704561\",\"value\":{}},\"image\":{\"sync\":true,\"id\":\"17463937112967448278\",\"value\":\"\"},\"__get_gd_contents\":{\"sync\":false,\"id\":\"4093268606472893024\",\"value\":\"\"},\"_downloadImage\":{\"sync\":false,\"id\":\"17557906640203363077\",\"value\":{}},\"relayout\":{\"sync\":false,\"id\":\"16584741297576235119\",\"value\":{}},\"_commands\":{\"sync\":false,\"id\":\"5246850001129694201\",\"value\":[]}}},\"children\":[{\"props\":{\"id\":\"plot-e7ee7ac6-7675-410d-bdcd-c10d0e596dba\"},\"nodeType\":\"DOM\",\"type\":\"node\",\"instanceArgs\":{\"namespace\":\"html\",\"tag\":\"div\"},\"children\":[]}]},\n",
       "        window,\n",
       "    );\n",
       "    })()\n",
       "    </script>\n",
       "</div>\n"
      ],
      "text/plain": [
       "data: [\n",
       "  \"scatter with fields mode, name, opacity, type, x, and y\",\n",
       "  \"scatter with fields line, mode, name, type, x, and y\",\n",
       "  \"scatter with fields line, mode, name, opacity, type, x, and y\",\n",
       "  \"scatter with fields line, mode, name, opacity, type, x, and y\"\n",
       "]\n",
       "\n",
       "layout: \"layout with fields font, margin, template, title, xaxis, and yaxis\"\n",
       "\n"
      ]
     },
     "execution_count": 9,
     "metadata": {},
     "output_type": "execute_result"
    }
   ],
   "source": [
    "using CSV, Downloads, DataFrames, PlotlyJS, GLM, Printf\n",
    "\n",
    "function plot_linear_regression_glm_tips_with_stats()\n",
    "    tips = DataFrame(CSV.File(Downloads.download(\"https://git.io/J6x4j\")))\n",
    "    \n",
    "    scatter_trace = scatter(tips; x=:bill, y=:tip, mode=\"markers\", opacity=0.65, name=\"Tips\")\n",
    "    \n",
    "    linear_model = lm(@formula(tip ~ bill), tips)\n",
    "    insertcols!(tips, :lr_tips => GLM.predict(linear_model, tips))\n",
    "\n",
    "    regression_trace = scatter(tips; x=:bill, y=:lr_tips, \n",
    "                               mode = \"lines\", line_color = \"darkblue\", name=\"Linear Regression\")\n",
    "    \n",
    "    slope_stderror = stderror(linear_model)[1]\n",
    "    regression_trace_upper = scatter(; x=tips.bill, y=tips.lr_tips .+ slope_stderror, \n",
    "                                     mode = \"lines\", line_color = \"darkred\", opacity=0.65, name=\"+ 1 STD\")\n",
    "    \n",
    "    regression_trace_lower = scatter(; x=tips.bill, y=tips.lr_tips .- slope_stderror, \n",
    "                                     mode = \"lines\", line_color = \"darkred\", opacity=0.65, name=\"- 1 STD\")\n",
    "    \n",
    "    plot_title = @sprintf \"R²=%.3f, slope=%.3f, y-intercept=%.3f\" r2(linear_model) coef(linear_model)[2] coef(linear_model)[1]\n",
    "    layout = Layout(xaxis_title=\"Total Bill\", yaxis_title=\"Tips\", title=plot_title,\n",
    "                    font=attr(family=\"Times New Roman\", size=14, color=\"Black\"))\n",
    "    \n",
    "    plot([scatter_trace,regression_trace,regression_trace_upper,regression_trace_lower], layout)\n",
    "end\n",
    "\n",
    "plot_linear_regression_glm_tips_with_stats()"
   ]
  },
  {
   "cell_type": "markdown",
   "id": "e319bf92",
   "metadata": {},
   "source": [
    "# Further Reading\n",
    "\n",
    "- [PlotlyJS Julia Documentation](http://juliaplots.org/PlotlyJS.jl/stable/)\n",
    "    - [PlotlyJS Julia scatter](https://plotly.com/julia/line-and-scatter/)\n",
    "- [GLM Documentation](https://juliastats.org/GLM.jl/stable/)\n",
    "- [Scikitlearn.jl Github](https://github.com/cstjean/ScikitLearn.jl)\n",
    "- [Dash.jl](https://dash-julia.plotly.com/)\n",
    "    - **Note:** Some code is out of date.\n",
    "    - [Dash.jl Layout](https://dash-julia.plotly.com/getting-started)\n",
    "    - [Dash.jl Callbacks](https://dash-julia.plotly.com/basic-callbacks)\n",
    "- [Julia Docs](https://docs.julialang.org/en/v1/)\n",
    "    - [Julia Downloads](https://docs.julialang.org/en/v1/stdlib/Downloads/)\n",
    "    - [Julia Printf](https://docs.julialang.org/en/v1/stdlib/Printf/)\n",
    "    - [Julia Random](https://docs.julialang.org/en/v1/stdlib/Random/)\n",
    "- [Julia CSV](https://csv.juliadata.org/stable/)\n",
    "- [Julia Dataframes](https://dataframes.juliadata.org/stable/)\n",
    "- [(R)Dataset Repo](https://vincentarelbundock.github.io/Rdatasets/articles/data.html)"
   ]
  }
 ],
 "metadata": {
  "@webio": {
   "lastCommId": "40adeedbb98c4ecca9fabab0f5c8799e",
   "lastKernelId": "6091b71e-ae0d-4da0-a30e-115e1fad28a7"
  },
  "kernelspec": {
   "display_name": "Julia 1.6.0",
   "language": "julia",
   "name": "julia-1.6"
  },
  "language_info": {
   "file_extension": ".jl",
   "mimetype": "application/julia",
   "name": "julia",
   "version": "1.6.3"
  }
 },
 "nbformat": 4,
 "nbformat_minor": 5
}
